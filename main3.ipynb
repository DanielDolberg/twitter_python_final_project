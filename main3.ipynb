{
 "cells": [
  {
   "cell_type": "code",
   "execution_count": 1,
   "id": "7c42974a",
   "metadata": {
    "scrolled": true
   },
   "outputs": [],
   "source": [
    "#!pip install geonamescache\n",
    "import tweepy\n",
    "import numpy\n",
    "import pandas as pd\n",
    "import requests\n",
    "from bs4 import BeautifulSoup\n",
    "import importlib\n",
    "import json\n",
    "from helper import *\n",
    "from selenium import webdriver\n",
    "import os\n",
    "import matplotlib.pyplot as plt\n",
    "import seaborn as sns\n",
    "from scipy.stats import chi2_contingency\n",
    "from sklearn import linear_model\n"
   ]
  },
  {
   "cell_type": "code",
   "execution_count": 2,
   "id": "6c14b4fd",
   "metadata": {},
   "outputs": [],
   "source": [
    "pd.options.display.max_columns = 200"
   ]
  },
  {
   "cell_type": "code",
   "execution_count": 139,
   "id": "9377739e",
   "metadata": {
    "scrolled": true
   },
   "outputs": [
    {
     "ename": "FileNotFoundError",
     "evalue": "[Errno 2] No such file or directory: 'out4.csv'",
     "output_type": "error",
     "traceback": [
      "\u001b[1;31m---------------------------------------------------------------------------\u001b[0m",
      "\u001b[1;31mFileNotFoundError\u001b[0m                         Traceback (most recent call last)",
      "\u001b[1;32m~\\AppData\\Local\\Temp\\ipykernel_44892\\3252890680.py\u001b[0m in \u001b[0;36m<module>\u001b[1;34m\u001b[0m\n\u001b[0;32m      1\u001b[0m \u001b[0mdf\u001b[0m\u001b[1;33m=\u001b[0m\u001b[0mpd\u001b[0m\u001b[1;33m.\u001b[0m\u001b[0mread_csv\u001b[0m\u001b[1;33m(\u001b[0m\u001b[1;34m\"out.csv\"\u001b[0m\u001b[1;33m)\u001b[0m\u001b[1;33m\u001b[0m\u001b[1;33m\u001b[0m\u001b[0m\n\u001b[1;32m----> 2\u001b[1;33m \u001b[0mdf\u001b[0m\u001b[1;33m=\u001b[0m\u001b[0mpd\u001b[0m\u001b[1;33m.\u001b[0m\u001b[0mconcat\u001b[0m\u001b[1;33m(\u001b[0m\u001b[1;33m[\u001b[0m\u001b[0mdf\u001b[0m\u001b[1;33m,\u001b[0m\u001b[0mpd\u001b[0m\u001b[1;33m.\u001b[0m\u001b[0mread_csv\u001b[0m\u001b[1;33m(\u001b[0m\u001b[1;34m\"out2.csv\"\u001b[0m\u001b[1;33m)\u001b[0m\u001b[1;33m,\u001b[0m\u001b[0mpd\u001b[0m\u001b[1;33m.\u001b[0m\u001b[0mread_csv\u001b[0m\u001b[1;33m(\u001b[0m\u001b[1;34m\"out3.csv\"\u001b[0m\u001b[1;33m)\u001b[0m\u001b[1;33m,\u001b[0m\u001b[0mpd\u001b[0m\u001b[1;33m.\u001b[0m\u001b[0mread_csv\u001b[0m\u001b[1;33m(\u001b[0m\u001b[1;34m\"out4.csv\"\u001b[0m\u001b[1;33m)\u001b[0m\u001b[1;33m,\u001b[0m\u001b[0mpd\u001b[0m\u001b[1;33m.\u001b[0m\u001b[0mread_csv\u001b[0m\u001b[1;33m(\u001b[0m\u001b[1;34m\"out5.csv\"\u001b[0m\u001b[1;33m)\u001b[0m\u001b[1;33m,\u001b[0m\u001b[0mpd\u001b[0m\u001b[1;33m.\u001b[0m\u001b[0mread_csv\u001b[0m\u001b[1;33m(\u001b[0m\u001b[1;34m\"out6.csv\"\u001b[0m\u001b[1;33m)\u001b[0m\u001b[1;33m]\u001b[0m\u001b[1;33m)\u001b[0m\u001b[1;33m\u001b[0m\u001b[1;33m\u001b[0m\u001b[0m\n\u001b[0m\u001b[0;32m      3\u001b[0m \u001b[0mdf\u001b[0m\u001b[1;33m.\u001b[0m\u001b[0mhead\u001b[0m\u001b[1;33m(\u001b[0m\u001b[1;33m)\u001b[0m\u001b[1;33m\u001b[0m\u001b[1;33m\u001b[0m\u001b[0m\n",
      "\u001b[1;32mC:\\ProgramData\\Anaconda3\\lib\\site-packages\\pandas\\util\\_decorators.py\u001b[0m in \u001b[0;36mwrapper\u001b[1;34m(*args, **kwargs)\u001b[0m\n\u001b[0;32m    309\u001b[0m                     \u001b[0mstacklevel\u001b[0m\u001b[1;33m=\u001b[0m\u001b[0mstacklevel\u001b[0m\u001b[1;33m,\u001b[0m\u001b[1;33m\u001b[0m\u001b[1;33m\u001b[0m\u001b[0m\n\u001b[0;32m    310\u001b[0m                 )\n\u001b[1;32m--> 311\u001b[1;33m             \u001b[1;32mreturn\u001b[0m \u001b[0mfunc\u001b[0m\u001b[1;33m(\u001b[0m\u001b[1;33m*\u001b[0m\u001b[0margs\u001b[0m\u001b[1;33m,\u001b[0m \u001b[1;33m**\u001b[0m\u001b[0mkwargs\u001b[0m\u001b[1;33m)\u001b[0m\u001b[1;33m\u001b[0m\u001b[1;33m\u001b[0m\u001b[0m\n\u001b[0m\u001b[0;32m    312\u001b[0m \u001b[1;33m\u001b[0m\u001b[0m\n\u001b[0;32m    313\u001b[0m         \u001b[1;32mreturn\u001b[0m \u001b[0mwrapper\u001b[0m\u001b[1;33m\u001b[0m\u001b[1;33m\u001b[0m\u001b[0m\n",
      "\u001b[1;32mC:\\ProgramData\\Anaconda3\\lib\\site-packages\\pandas\\io\\parsers\\readers.py\u001b[0m in \u001b[0;36mread_csv\u001b[1;34m(filepath_or_buffer, sep, delimiter, header, names, index_col, usecols, squeeze, prefix, mangle_dupe_cols, dtype, engine, converters, true_values, false_values, skipinitialspace, skiprows, skipfooter, nrows, na_values, keep_default_na, na_filter, verbose, skip_blank_lines, parse_dates, infer_datetime_format, keep_date_col, date_parser, dayfirst, cache_dates, iterator, chunksize, compression, thousands, decimal, lineterminator, quotechar, quoting, doublequote, escapechar, comment, encoding, encoding_errors, dialect, error_bad_lines, warn_bad_lines, on_bad_lines, delim_whitespace, low_memory, memory_map, float_precision, storage_options)\u001b[0m\n\u001b[0;32m    676\u001b[0m     \u001b[0mkwds\u001b[0m\u001b[1;33m.\u001b[0m\u001b[0mupdate\u001b[0m\u001b[1;33m(\u001b[0m\u001b[0mkwds_defaults\u001b[0m\u001b[1;33m)\u001b[0m\u001b[1;33m\u001b[0m\u001b[1;33m\u001b[0m\u001b[0m\n\u001b[0;32m    677\u001b[0m \u001b[1;33m\u001b[0m\u001b[0m\n\u001b[1;32m--> 678\u001b[1;33m     \u001b[1;32mreturn\u001b[0m \u001b[0m_read\u001b[0m\u001b[1;33m(\u001b[0m\u001b[0mfilepath_or_buffer\u001b[0m\u001b[1;33m,\u001b[0m \u001b[0mkwds\u001b[0m\u001b[1;33m)\u001b[0m\u001b[1;33m\u001b[0m\u001b[1;33m\u001b[0m\u001b[0m\n\u001b[0m\u001b[0;32m    679\u001b[0m \u001b[1;33m\u001b[0m\u001b[0m\n\u001b[0;32m    680\u001b[0m \u001b[1;33m\u001b[0m\u001b[0m\n",
      "\u001b[1;32mC:\\ProgramData\\Anaconda3\\lib\\site-packages\\pandas\\io\\parsers\\readers.py\u001b[0m in \u001b[0;36m_read\u001b[1;34m(filepath_or_buffer, kwds)\u001b[0m\n\u001b[0;32m    573\u001b[0m \u001b[1;33m\u001b[0m\u001b[0m\n\u001b[0;32m    574\u001b[0m     \u001b[1;31m# Create the parser.\u001b[0m\u001b[1;33m\u001b[0m\u001b[1;33m\u001b[0m\u001b[0m\n\u001b[1;32m--> 575\u001b[1;33m     \u001b[0mparser\u001b[0m \u001b[1;33m=\u001b[0m \u001b[0mTextFileReader\u001b[0m\u001b[1;33m(\u001b[0m\u001b[0mfilepath_or_buffer\u001b[0m\u001b[1;33m,\u001b[0m \u001b[1;33m**\u001b[0m\u001b[0mkwds\u001b[0m\u001b[1;33m)\u001b[0m\u001b[1;33m\u001b[0m\u001b[1;33m\u001b[0m\u001b[0m\n\u001b[0m\u001b[0;32m    576\u001b[0m \u001b[1;33m\u001b[0m\u001b[0m\n\u001b[0;32m    577\u001b[0m     \u001b[1;32mif\u001b[0m \u001b[0mchunksize\u001b[0m \u001b[1;32mor\u001b[0m \u001b[0miterator\u001b[0m\u001b[1;33m:\u001b[0m\u001b[1;33m\u001b[0m\u001b[1;33m\u001b[0m\u001b[0m\n",
      "\u001b[1;32mC:\\ProgramData\\Anaconda3\\lib\\site-packages\\pandas\\io\\parsers\\readers.py\u001b[0m in \u001b[0;36m__init__\u001b[1;34m(self, f, engine, **kwds)\u001b[0m\n\u001b[0;32m    930\u001b[0m \u001b[1;33m\u001b[0m\u001b[0m\n\u001b[0;32m    931\u001b[0m         \u001b[0mself\u001b[0m\u001b[1;33m.\u001b[0m\u001b[0mhandles\u001b[0m\u001b[1;33m:\u001b[0m \u001b[0mIOHandles\u001b[0m \u001b[1;33m|\u001b[0m \u001b[1;32mNone\u001b[0m \u001b[1;33m=\u001b[0m \u001b[1;32mNone\u001b[0m\u001b[1;33m\u001b[0m\u001b[1;33m\u001b[0m\u001b[0m\n\u001b[1;32m--> 932\u001b[1;33m         \u001b[0mself\u001b[0m\u001b[1;33m.\u001b[0m\u001b[0m_engine\u001b[0m \u001b[1;33m=\u001b[0m \u001b[0mself\u001b[0m\u001b[1;33m.\u001b[0m\u001b[0m_make_engine\u001b[0m\u001b[1;33m(\u001b[0m\u001b[0mf\u001b[0m\u001b[1;33m,\u001b[0m \u001b[0mself\u001b[0m\u001b[1;33m.\u001b[0m\u001b[0mengine\u001b[0m\u001b[1;33m)\u001b[0m\u001b[1;33m\u001b[0m\u001b[1;33m\u001b[0m\u001b[0m\n\u001b[0m\u001b[0;32m    933\u001b[0m \u001b[1;33m\u001b[0m\u001b[0m\n\u001b[0;32m    934\u001b[0m     \u001b[1;32mdef\u001b[0m \u001b[0mclose\u001b[0m\u001b[1;33m(\u001b[0m\u001b[0mself\u001b[0m\u001b[1;33m)\u001b[0m\u001b[1;33m:\u001b[0m\u001b[1;33m\u001b[0m\u001b[1;33m\u001b[0m\u001b[0m\n",
      "\u001b[1;32mC:\\ProgramData\\Anaconda3\\lib\\site-packages\\pandas\\io\\parsers\\readers.py\u001b[0m in \u001b[0;36m_make_engine\u001b[1;34m(self, f, engine)\u001b[0m\n\u001b[0;32m   1214\u001b[0m             \u001b[1;31m# \"Union[str, PathLike[str], ReadCsvBuffer[bytes], ReadCsvBuffer[str]]\"\u001b[0m\u001b[1;33m\u001b[0m\u001b[1;33m\u001b[0m\u001b[0m\n\u001b[0;32m   1215\u001b[0m             \u001b[1;31m# , \"str\", \"bool\", \"Any\", \"Any\", \"Any\", \"Any\", \"Any\"\u001b[0m\u001b[1;33m\u001b[0m\u001b[1;33m\u001b[0m\u001b[0m\n\u001b[1;32m-> 1216\u001b[1;33m             self.handles = get_handle(  # type: ignore[call-overload]\n\u001b[0m\u001b[0;32m   1217\u001b[0m                 \u001b[0mf\u001b[0m\u001b[1;33m,\u001b[0m\u001b[1;33m\u001b[0m\u001b[1;33m\u001b[0m\u001b[0m\n\u001b[0;32m   1218\u001b[0m                 \u001b[0mmode\u001b[0m\u001b[1;33m,\u001b[0m\u001b[1;33m\u001b[0m\u001b[1;33m\u001b[0m\u001b[0m\n",
      "\u001b[1;32mC:\\ProgramData\\Anaconda3\\lib\\site-packages\\pandas\\io\\common.py\u001b[0m in \u001b[0;36mget_handle\u001b[1;34m(path_or_buf, mode, encoding, compression, memory_map, is_text, errors, storage_options)\u001b[0m\n\u001b[0;32m    784\u001b[0m         \u001b[1;32mif\u001b[0m \u001b[0mioargs\u001b[0m\u001b[1;33m.\u001b[0m\u001b[0mencoding\u001b[0m \u001b[1;32mand\u001b[0m \u001b[1;34m\"b\"\u001b[0m \u001b[1;32mnot\u001b[0m \u001b[1;32min\u001b[0m \u001b[0mioargs\u001b[0m\u001b[1;33m.\u001b[0m\u001b[0mmode\u001b[0m\u001b[1;33m:\u001b[0m\u001b[1;33m\u001b[0m\u001b[1;33m\u001b[0m\u001b[0m\n\u001b[0;32m    785\u001b[0m             \u001b[1;31m# Encoding\u001b[0m\u001b[1;33m\u001b[0m\u001b[1;33m\u001b[0m\u001b[0m\n\u001b[1;32m--> 786\u001b[1;33m             handle = open(\n\u001b[0m\u001b[0;32m    787\u001b[0m                 \u001b[0mhandle\u001b[0m\u001b[1;33m,\u001b[0m\u001b[1;33m\u001b[0m\u001b[1;33m\u001b[0m\u001b[0m\n\u001b[0;32m    788\u001b[0m                 \u001b[0mioargs\u001b[0m\u001b[1;33m.\u001b[0m\u001b[0mmode\u001b[0m\u001b[1;33m,\u001b[0m\u001b[1;33m\u001b[0m\u001b[1;33m\u001b[0m\u001b[0m\n",
      "\u001b[1;31mFileNotFoundError\u001b[0m: [Errno 2] No such file or directory: 'out4.csv'"
     ]
    }
   ],
   "source": [
    "df=pd.read_csv(\"out.csv\")\n",
    "df=pd.concat([df,pd.read_csv(\"out2.csv\"),pd.read_csv(\"out3.csv\"),pd.read_csv(\"out4.csv\"),pd.read_csv(\"out5.csv\"),pd.read_csv(\"out6.csv\")])\n",
    "df.head()"
   ]
  },
  {
   "cell_type": "code",
   "execution_count": null,
   "id": "c09cac75",
   "metadata": {},
   "outputs": [],
   "source": []
  },
  {
   "cell_type": "code",
   "execution_count": 4,
   "id": "b17e6d9f",
   "metadata": {},
   "outputs": [
    {
     "name": "stdout",
     "output_type": "stream",
     "text": [
      "<class 'pandas.core.frame.DataFrame'>\n",
      "Int64Index: 20547 entries, 0 to 1414\n",
      "Data columns (total 25 columns):\n",
      " #   Column          Non-Null Count  Dtype  \n",
      "---  ------          --------------  -----  \n",
      " 0   Unnamed: 0      20547 non-null  int64  \n",
      " 1   name            20547 non-null  object \n",
      " 2   age             330 non-null    float64\n",
      " 3   city            20547 non-null  object \n",
      " 4   country         20547 non-null  object \n",
      " 5   gender          0 non-null      float64\n",
      " 6   acount age      20547 non-null  float64\n",
      " 7   total tweets    20547 non-null  int64  \n",
      " 8   followers       20547 non-null  int64  \n",
      " 9   following       20547 non-null  int64  \n",
      " 10  respectability  20547 non-null  float64\n",
      " 11  verified        20547 non-null  bool   \n",
      " 12  text            20547 non-null  object \n",
      " 13  views           20547 non-null  int64  \n",
      " 14  likes           20547 non-null  int64  \n",
      " 15  retweets        20547 non-null  int64  \n",
      " 16  quote retweets  20547 non-null  int64  \n",
      " 17  comments        20547 non-null  int64  \n",
      " 18  word count      20547 non-null  int64  \n",
      " 19  is quote        20547 non-null  bool   \n",
      " 20  hashtags        4694 non-null   object \n",
      " 21  hashtag count   20547 non-null  int64  \n",
      " 22  trending        20547 non-null  object \n",
      " 23  using trends?   20547 non-null  bool   \n",
      " 24  link to tweet   20547 non-null  object \n",
      "dtypes: bool(3), float64(4), int64(11), object(7)\n",
      "memory usage: 3.7+ MB\n"
     ]
    }
   ],
   "source": [
    "df.info()"
   ]
  },
  {
   "cell_type": "code",
   "execution_count": 5,
   "id": "b149cec9",
   "metadata": {},
   "outputs": [],
   "source": [
    "df=df.drop([\"age\", \"gender\",'hashtags','Unnamed: 0'], axis=1)"
   ]
  },
  {
   "cell_type": "code",
   "execution_count": 6,
   "id": "9c8e7e2e",
   "metadata": {},
   "outputs": [
    {
     "name": "stdout",
     "output_type": "stream",
     "text": [
      "<class 'pandas.core.frame.DataFrame'>\n",
      "Int64Index: 20547 entries, 0 to 1414\n",
      "Data columns (total 21 columns):\n",
      " #   Column          Non-Null Count  Dtype  \n",
      "---  ------          --------------  -----  \n",
      " 0   name            20547 non-null  object \n",
      " 1   city            20547 non-null  object \n",
      " 2   country         20547 non-null  object \n",
      " 3   acount age      20547 non-null  float64\n",
      " 4   total tweets    20547 non-null  int64  \n",
      " 5   followers       20547 non-null  int64  \n",
      " 6   following       20547 non-null  int64  \n",
      " 7   respectability  20547 non-null  float64\n",
      " 8   verified        20547 non-null  bool   \n",
      " 9   text            20547 non-null  object \n",
      " 10  views           20547 non-null  int64  \n",
      " 11  likes           20547 non-null  int64  \n",
      " 12  retweets        20547 non-null  int64  \n",
      " 13  quote retweets  20547 non-null  int64  \n",
      " 14  comments        20547 non-null  int64  \n",
      " 15  word count      20547 non-null  int64  \n",
      " 16  is quote        20547 non-null  bool   \n",
      " 17  hashtag count   20547 non-null  int64  \n",
      " 18  trending        20547 non-null  object \n",
      " 19  using trends?   20547 non-null  bool   \n",
      " 20  link to tweet   20547 non-null  object \n",
      "dtypes: bool(3), float64(2), int64(10), object(6)\n",
      "memory usage: 3.0+ MB\n"
     ]
    }
   ],
   "source": [
    "df.info()"
   ]
  },
  {
   "cell_type": "code",
   "execution_count": 7,
   "id": "880ac192",
   "metadata": {
    "scrolled": false
   },
   "outputs": [
    {
     "data": {
      "text/html": [
       "<div>\n",
       "<style scoped>\n",
       "    .dataframe tbody tr th:only-of-type {\n",
       "        vertical-align: middle;\n",
       "    }\n",
       "\n",
       "    .dataframe tbody tr th {\n",
       "        vertical-align: top;\n",
       "    }\n",
       "\n",
       "    .dataframe thead th {\n",
       "        text-align: right;\n",
       "    }\n",
       "</style>\n",
       "<table border=\"1\" class=\"dataframe\">\n",
       "  <thead>\n",
       "    <tr style=\"text-align: right;\">\n",
       "      <th></th>\n",
       "      <th>name</th>\n",
       "      <th>city</th>\n",
       "      <th>country</th>\n",
       "      <th>acount age</th>\n",
       "      <th>total tweets</th>\n",
       "      <th>followers</th>\n",
       "      <th>following</th>\n",
       "      <th>respectability</th>\n",
       "      <th>verified</th>\n",
       "      <th>text</th>\n",
       "      <th>views</th>\n",
       "      <th>likes</th>\n",
       "      <th>retweets</th>\n",
       "      <th>quote retweets</th>\n",
       "      <th>comments</th>\n",
       "      <th>word count</th>\n",
       "      <th>is quote</th>\n",
       "      <th>hashtag count</th>\n",
       "      <th>trending</th>\n",
       "      <th>using trends?</th>\n",
       "      <th>link to tweet</th>\n",
       "    </tr>\n",
       "  </thead>\n",
       "  <tbody>\n",
       "    <tr>\n",
       "      <th>count</th>\n",
       "      <td>20547</td>\n",
       "      <td>20547</td>\n",
       "      <td>20547</td>\n",
       "      <td>20547.000000</td>\n",
       "      <td>2.054700e+04</td>\n",
       "      <td>2.054700e+04</td>\n",
       "      <td>20547.000000</td>\n",
       "      <td>20547.000000</td>\n",
       "      <td>20547</td>\n",
       "      <td>20547</td>\n",
       "      <td>20547.000000</td>\n",
       "      <td>20547.000000</td>\n",
       "      <td>20547.000000</td>\n",
       "      <td>20547.000000</td>\n",
       "      <td>20547.000000</td>\n",
       "      <td>20547.000000</td>\n",
       "      <td>20547</td>\n",
       "      <td>20547.000000</td>\n",
       "      <td>20547</td>\n",
       "      <td>20547</td>\n",
       "      <td>20547</td>\n",
       "    </tr>\n",
       "    <tr>\n",
       "      <th>unique</th>\n",
       "      <td>12095</td>\n",
       "      <td>3381</td>\n",
       "      <td>5</td>\n",
       "      <td>NaN</td>\n",
       "      <td>NaN</td>\n",
       "      <td>NaN</td>\n",
       "      <td>NaN</td>\n",
       "      <td>NaN</td>\n",
       "      <td>2</td>\n",
       "      <td>18127</td>\n",
       "      <td>NaN</td>\n",
       "      <td>NaN</td>\n",
       "      <td>NaN</td>\n",
       "      <td>NaN</td>\n",
       "      <td>NaN</td>\n",
       "      <td>NaN</td>\n",
       "      <td>2</td>\n",
       "      <td>NaN</td>\n",
       "      <td>246</td>\n",
       "      <td>2</td>\n",
       "      <td>18163</td>\n",
       "    </tr>\n",
       "    <tr>\n",
       "      <th>top</th>\n",
       "      <td>Dawesfgmailcom6</td>\n",
       "      <td>Auckland</td>\n",
       "      <td>United States</td>\n",
       "      <td>NaN</td>\n",
       "      <td>NaN</td>\n",
       "      <td>NaN</td>\n",
       "      <td>NaN</td>\n",
       "      <td>NaN</td>\n",
       "      <td>False</td>\n",
       "      <td>@whosjordi's account is temporarily unavailabl...</td>\n",
       "      <td>NaN</td>\n",
       "      <td>NaN</td>\n",
       "      <td>NaN</td>\n",
       "      <td>NaN</td>\n",
       "      <td>NaN</td>\n",
       "      <td>NaN</td>\n",
       "      <td>False</td>\n",
       "      <td>NaN</td>\n",
       "      <td>['Donny', 'Trossard', 'Jennie', 'Phineas', 'Fe...</td>\n",
       "      <td>False</td>\n",
       "      <td>https://www.twitter.com/LaurieFleming/status/1...</td>\n",
       "    </tr>\n",
       "    <tr>\n",
       "      <th>freq</th>\n",
       "      <td>202</td>\n",
       "      <td>1573</td>\n",
       "      <td>5147</td>\n",
       "      <td>NaN</td>\n",
       "      <td>NaN</td>\n",
       "      <td>NaN</td>\n",
       "      <td>NaN</td>\n",
       "      <td>NaN</td>\n",
       "      <td>19981</td>\n",
       "      <td>5</td>\n",
       "      <td>NaN</td>\n",
       "      <td>NaN</td>\n",
       "      <td>NaN</td>\n",
       "      <td>NaN</td>\n",
       "      <td>NaN</td>\n",
       "      <td>NaN</td>\n",
       "      <td>15308</td>\n",
       "      <td>NaN</td>\n",
       "      <td>1536</td>\n",
       "      <td>19699</td>\n",
       "      <td>2</td>\n",
       "    </tr>\n",
       "    <tr>\n",
       "      <th>mean</th>\n",
       "      <td>NaN</td>\n",
       "      <td>NaN</td>\n",
       "      <td>NaN</td>\n",
       "      <td>10.246070</td>\n",
       "      <td>6.900196e+04</td>\n",
       "      <td>5.651450e+03</td>\n",
       "      <td>1676.641554</td>\n",
       "      <td>2.081166</td>\n",
       "      <td>NaN</td>\n",
       "      <td>NaN</td>\n",
       "      <td>1066.121186</td>\n",
       "      <td>13.599893</td>\n",
       "      <td>2.033192</td>\n",
       "      <td>0.151214</td>\n",
       "      <td>1.015720</td>\n",
       "      <td>15.951039</td>\n",
       "      <td>NaN</td>\n",
       "      <td>0.582129</td>\n",
       "      <td>NaN</td>\n",
       "      <td>NaN</td>\n",
       "      <td>NaN</td>\n",
       "    </tr>\n",
       "    <tr>\n",
       "      <th>std</th>\n",
       "      <td>NaN</td>\n",
       "      <td>NaN</td>\n",
       "      <td>NaN</td>\n",
       "      <td>4.727793</td>\n",
       "      <td>7.127004e+05</td>\n",
       "      <td>1.082666e+05</td>\n",
       "      <td>8047.448325</td>\n",
       "      <td>6.259152</td>\n",
       "      <td>NaN</td>\n",
       "      <td>NaN</td>\n",
       "      <td>11522.349999</td>\n",
       "      <td>196.329459</td>\n",
       "      <td>44.212679</td>\n",
       "      <td>2.709742</td>\n",
       "      <td>9.022906</td>\n",
       "      <td>12.494057</td>\n",
       "      <td>NaN</td>\n",
       "      <td>1.652147</td>\n",
       "      <td>NaN</td>\n",
       "      <td>NaN</td>\n",
       "      <td>NaN</td>\n",
       "    </tr>\n",
       "    <tr>\n",
       "      <th>min</th>\n",
       "      <td>NaN</td>\n",
       "      <td>NaN</td>\n",
       "      <td>NaN</td>\n",
       "      <td>0.100000</td>\n",
       "      <td>1.000000e+00</td>\n",
       "      <td>0.000000e+00</td>\n",
       "      <td>0.000000</td>\n",
       "      <td>0.000000</td>\n",
       "      <td>NaN</td>\n",
       "      <td>NaN</td>\n",
       "      <td>0.000000</td>\n",
       "      <td>0.000000</td>\n",
       "      <td>0.000000</td>\n",
       "      <td>0.000000</td>\n",
       "      <td>0.000000</td>\n",
       "      <td>1.000000</td>\n",
       "      <td>NaN</td>\n",
       "      <td>0.000000</td>\n",
       "      <td>NaN</td>\n",
       "      <td>NaN</td>\n",
       "      <td>NaN</td>\n",
       "    </tr>\n",
       "    <tr>\n",
       "      <th>25%</th>\n",
       "      <td>NaN</td>\n",
       "      <td>NaN</td>\n",
       "      <td>NaN</td>\n",
       "      <td>5.800000</td>\n",
       "      <td>2.785000e+03</td>\n",
       "      <td>2.320000e+02</td>\n",
       "      <td>256.000000</td>\n",
       "      <td>0.529945</td>\n",
       "      <td>NaN</td>\n",
       "      <td>NaN</td>\n",
       "      <td>33.000000</td>\n",
       "      <td>0.000000</td>\n",
       "      <td>0.000000</td>\n",
       "      <td>0.000000</td>\n",
       "      <td>0.000000</td>\n",
       "      <td>7.000000</td>\n",
       "      <td>NaN</td>\n",
       "      <td>0.000000</td>\n",
       "      <td>NaN</td>\n",
       "      <td>NaN</td>\n",
       "      <td>NaN</td>\n",
       "    </tr>\n",
       "    <tr>\n",
       "      <th>50%</th>\n",
       "      <td>NaN</td>\n",
       "      <td>NaN</td>\n",
       "      <td>NaN</td>\n",
       "      <td>11.500000</td>\n",
       "      <td>1.187400e+04</td>\n",
       "      <td>6.750000e+02</td>\n",
       "      <td>645.000000</td>\n",
       "      <td>1.087361</td>\n",
       "      <td>NaN</td>\n",
       "      <td>NaN</td>\n",
       "      <td>107.000000</td>\n",
       "      <td>1.000000</td>\n",
       "      <td>0.000000</td>\n",
       "      <td>0.000000</td>\n",
       "      <td>0.000000</td>\n",
       "      <td>12.000000</td>\n",
       "      <td>NaN</td>\n",
       "      <td>0.000000</td>\n",
       "      <td>NaN</td>\n",
       "      <td>NaN</td>\n",
       "      <td>NaN</td>\n",
       "    </tr>\n",
       "    <tr>\n",
       "      <th>75%</th>\n",
       "      <td>NaN</td>\n",
       "      <td>NaN</td>\n",
       "      <td>NaN</td>\n",
       "      <td>14.300000</td>\n",
       "      <td>3.792600e+04</td>\n",
       "      <td>1.848000e+03</td>\n",
       "      <td>1575.000000</td>\n",
       "      <td>2.143751</td>\n",
       "      <td>NaN</td>\n",
       "      <td>NaN</td>\n",
       "      <td>359.000000</td>\n",
       "      <td>4.000000</td>\n",
       "      <td>0.000000</td>\n",
       "      <td>0.000000</td>\n",
       "      <td>0.000000</td>\n",
       "      <td>22.000000</td>\n",
       "      <td>NaN</td>\n",
       "      <td>0.000000</td>\n",
       "      <td>NaN</td>\n",
       "      <td>NaN</td>\n",
       "      <td>NaN</td>\n",
       "    </tr>\n",
       "    <tr>\n",
       "      <th>max</th>\n",
       "      <td>NaN</td>\n",
       "      <td>NaN</td>\n",
       "      <td>NaN</td>\n",
       "      <td>19.200000</td>\n",
       "      <td>5.204026e+07</td>\n",
       "      <td>6.752298e+06</td>\n",
       "      <td>687850.000000</td>\n",
       "      <td>740.000000</td>\n",
       "      <td>NaN</td>\n",
       "      <td>NaN</td>\n",
       "      <td>976626.000000</td>\n",
       "      <td>11107.000000</td>\n",
       "      <td>4826.000000</td>\n",
       "      <td>261.000000</td>\n",
       "      <td>538.000000</td>\n",
       "      <td>85.000000</td>\n",
       "      <td>NaN</td>\n",
       "      <td>24.000000</td>\n",
       "      <td>NaN</td>\n",
       "      <td>NaN</td>\n",
       "      <td>NaN</td>\n",
       "    </tr>\n",
       "  </tbody>\n",
       "</table>\n",
       "</div>"
      ],
      "text/plain": [
       "                   name      city        country    acount age  total tweets  \\\n",
       "count             20547     20547          20547  20547.000000  2.054700e+04   \n",
       "unique            12095      3381              5           NaN           NaN   \n",
       "top     Dawesfgmailcom6  Auckland  United States           NaN           NaN   \n",
       "freq                202      1573           5147           NaN           NaN   \n",
       "mean                NaN       NaN            NaN     10.246070  6.900196e+04   \n",
       "std                 NaN       NaN            NaN      4.727793  7.127004e+05   \n",
       "min                 NaN       NaN            NaN      0.100000  1.000000e+00   \n",
       "25%                 NaN       NaN            NaN      5.800000  2.785000e+03   \n",
       "50%                 NaN       NaN            NaN     11.500000  1.187400e+04   \n",
       "75%                 NaN       NaN            NaN     14.300000  3.792600e+04   \n",
       "max                 NaN       NaN            NaN     19.200000  5.204026e+07   \n",
       "\n",
       "           followers      following  respectability verified  \\\n",
       "count   2.054700e+04   20547.000000    20547.000000    20547   \n",
       "unique           NaN            NaN             NaN        2   \n",
       "top              NaN            NaN             NaN    False   \n",
       "freq             NaN            NaN             NaN    19981   \n",
       "mean    5.651450e+03    1676.641554        2.081166      NaN   \n",
       "std     1.082666e+05    8047.448325        6.259152      NaN   \n",
       "min     0.000000e+00       0.000000        0.000000      NaN   \n",
       "25%     2.320000e+02     256.000000        0.529945      NaN   \n",
       "50%     6.750000e+02     645.000000        1.087361      NaN   \n",
       "75%     1.848000e+03    1575.000000        2.143751      NaN   \n",
       "max     6.752298e+06  687850.000000      740.000000      NaN   \n",
       "\n",
       "                                                     text          views  \\\n",
       "count                                               20547   20547.000000   \n",
       "unique                                              18127            NaN   \n",
       "top     @whosjordi's account is temporarily unavailabl...            NaN   \n",
       "freq                                                    5            NaN   \n",
       "mean                                                  NaN    1066.121186   \n",
       "std                                                   NaN   11522.349999   \n",
       "min                                                   NaN       0.000000   \n",
       "25%                                                   NaN      33.000000   \n",
       "50%                                                   NaN     107.000000   \n",
       "75%                                                   NaN     359.000000   \n",
       "max                                                   NaN  976626.000000   \n",
       "\n",
       "               likes      retweets  quote retweets      comments  \\\n",
       "count   20547.000000  20547.000000    20547.000000  20547.000000   \n",
       "unique           NaN           NaN             NaN           NaN   \n",
       "top              NaN           NaN             NaN           NaN   \n",
       "freq             NaN           NaN             NaN           NaN   \n",
       "mean       13.599893      2.033192        0.151214      1.015720   \n",
       "std       196.329459     44.212679        2.709742      9.022906   \n",
       "min         0.000000      0.000000        0.000000      0.000000   \n",
       "25%         0.000000      0.000000        0.000000      0.000000   \n",
       "50%         1.000000      0.000000        0.000000      0.000000   \n",
       "75%         4.000000      0.000000        0.000000      0.000000   \n",
       "max     11107.000000   4826.000000      261.000000    538.000000   \n",
       "\n",
       "          word count is quote  hashtag count  \\\n",
       "count   20547.000000    20547   20547.000000   \n",
       "unique           NaN        2            NaN   \n",
       "top              NaN    False            NaN   \n",
       "freq             NaN    15308            NaN   \n",
       "mean       15.951039      NaN       0.582129   \n",
       "std        12.494057      NaN       1.652147   \n",
       "min         1.000000      NaN       0.000000   \n",
       "25%         7.000000      NaN       0.000000   \n",
       "50%        12.000000      NaN       0.000000   \n",
       "75%        22.000000      NaN       0.000000   \n",
       "max        85.000000      NaN      24.000000   \n",
       "\n",
       "                                                 trending using trends?  \\\n",
       "count                                               20547         20547   \n",
       "unique                                                246             2   \n",
       "top     ['Donny', 'Trossard', 'Jennie', 'Phineas', 'Fe...         False   \n",
       "freq                                                 1536         19699   \n",
       "mean                                                  NaN           NaN   \n",
       "std                                                   NaN           NaN   \n",
       "min                                                   NaN           NaN   \n",
       "25%                                                   NaN           NaN   \n",
       "50%                                                   NaN           NaN   \n",
       "75%                                                   NaN           NaN   \n",
       "max                                                   NaN           NaN   \n",
       "\n",
       "                                            link to tweet  \n",
       "count                                               20547  \n",
       "unique                                              18163  \n",
       "top     https://www.twitter.com/LaurieFleming/status/1...  \n",
       "freq                                                    2  \n",
       "mean                                                  NaN  \n",
       "std                                                   NaN  \n",
       "min                                                   NaN  \n",
       "25%                                                   NaN  \n",
       "50%                                                   NaN  \n",
       "75%                                                   NaN  \n",
       "max                                                   NaN  "
      ]
     },
     "execution_count": 7,
     "metadata": {},
     "output_type": "execute_result"
    }
   ],
   "source": [
    "df.describe(include='all')"
   ]
  },
  {
   "cell_type": "code",
   "execution_count": 8,
   "id": "ba731fef",
   "metadata": {},
   "outputs": [
    {
     "data": {
      "text/plain": [
       "0       9358\n",
       "1       3308\n",
       "2       1681\n",
       "3        979\n",
       "4        707\n",
       "        ... \n",
       "168        1\n",
       "179        1\n",
       "302        1\n",
       "880        1\n",
       "3042       1\n",
       "Name: likes, Length: 310, dtype: int64"
      ]
     },
     "execution_count": 8,
     "metadata": {},
     "output_type": "execute_result"
    }
   ],
   "source": [
    "df['likes'].value_counts()"
   ]
  },
  {
   "cell_type": "code",
   "execution_count": 9,
   "id": "0fc97a64",
   "metadata": {},
   "outputs": [
    {
     "data": {
      "text/plain": [
       "0      16495\n",
       "1       2010\n",
       "2        637\n",
       "3        350\n",
       "4        200\n",
       "       ...  \n",
       "857        1\n",
       "175        1\n",
       "59         1\n",
       "84         1\n",
       "798        1\n",
       "Name: retweets, Length: 119, dtype: int64"
      ]
     },
     "execution_count": 9,
     "metadata": {},
     "output_type": "execute_result"
    }
   ],
   "source": [
    "df['retweets'].value_counts()"
   ]
  },
  {
   "cell_type": "code",
   "execution_count": 10,
   "id": "121a6124",
   "metadata": {},
   "outputs": [
    {
     "data": {
      "text/plain": [
       "United States     5147\n",
       "New Zealand       3921\n",
       "United Kingdom    3841\n",
       "Australia         3821\n",
       "Canada            3817\n",
       "Name: country, dtype: int64"
      ]
     },
     "execution_count": 10,
     "metadata": {},
     "output_type": "execute_result"
    }
   ],
   "source": [
    "df['country'].value_counts()\n",
    "#df['location'].vlue_counts().plot(kind='pie')\n"
   ]
  },
  {
   "cell_type": "code",
   "execution_count": 11,
   "id": "434f1b20",
   "metadata": {},
   "outputs": [
    {
     "data": {
      "text/plain": [
       "<AxesSubplot:ylabel='country'>"
      ]
     },
     "execution_count": 11,
     "metadata": {},
     "output_type": "execute_result"
    },
    {
     "data": {
      "image/png": "[encoded data removed]",
      "text/plain": [
       "<Figure size 640x480 with 1 Axes>"
      ]
     },
     "metadata": {},
     "output_type": "display_data"
    }
   ],
   "source": [
    "df['country'].value_counts().plot(kind='pie')"
   ]
  },
  {
   "cell_type": "code",
   "execution_count": 12,
   "id": "cb91aa69",
   "metadata": {},
   "outputs": [
    {
     "data": {
      "text/plain": [
       "United States     0.250499\n",
       "New Zealand       0.190831\n",
       "United Kingdom    0.186937\n",
       "Australia         0.185964\n",
       "Canada            0.185769\n",
       "Name: country, dtype: float64"
      ]
     },
     "execution_count": 12,
     "metadata": {},
     "output_type": "execute_result"
    }
   ],
   "source": [
    "\n",
    "df['country'].value_counts(normalize=True)"
   ]
  },
  {
   "cell_type": "code",
   "execution_count": 13,
   "id": "d2f619a1",
   "metadata": {},
   "outputs": [],
   "source": [
    "df.insert(df.columns.get_loc(\"respectability\")+1,'is respactable?' ,[1 if x >= .75 else 0 for x in df['respectability']])"
   ]
  },
  {
   "cell_type": "code",
   "execution_count": 14,
   "id": "3e061ea9",
   "metadata": {},
   "outputs": [
    {
     "data": {
      "text/plain": [
       "14.2    487\n",
       "3.2     484\n",
       "15.2    433\n",
       "13.2    371\n",
       "12.2    363\n",
       "       ... \n",
       "19.2      1\n",
       "0.7       1\n",
       "17.7      1\n",
       "0.1       1\n",
       "18.1      1\n",
       "Name: acount age, Length: 184, dtype: int64"
      ]
     },
     "execution_count": 14,
     "metadata": {},
     "output_type": "execute_result"
    }
   ],
   "source": [
    "df['acount age'].value_counts()\n"
   ]
  },
  {
   "cell_type": "code",
   "execution_count": 15,
   "id": "fccb6186",
   "metadata": {},
   "outputs": [
    {
     "data": {
      "text/plain": [
       "105       181\n",
       "67929     126\n",
       "67841      76\n",
       "98047      72\n",
       "37226      61\n",
       "         ... \n",
       "196553      1\n",
       "13683       1\n",
       "17916       1\n",
       "20215       1\n",
       "4141        1\n",
       "Name: total tweets, Length: 10447, dtype: int64"
      ]
     },
     "execution_count": 15,
     "metadata": {},
     "output_type": "execute_result"
    }
   ],
   "source": [
    "df['total tweets'].value_counts()"
   ]
  },
  {
   "cell_type": "code",
   "execution_count": 16,
   "id": "b7cdd341",
   "metadata": {},
   "outputs": [
    {
     "data": {
      "text/html": [
       "<div>\n",
       "<style scoped>\n",
       "    .dataframe tbody tr th:only-of-type {\n",
       "        vertical-align: middle;\n",
       "    }\n",
       "\n",
       "    .dataframe tbody tr th {\n",
       "        vertical-align: top;\n",
       "    }\n",
       "\n",
       "    .dataframe thead th {\n",
       "        text-align: right;\n",
       "    }\n",
       "</style>\n",
       "<table border=\"1\" class=\"dataframe\">\n",
       "  <thead>\n",
       "    <tr style=\"text-align: right;\">\n",
       "      <th></th>\n",
       "      <th>name</th>\n",
       "      <th>city</th>\n",
       "      <th>country</th>\n",
       "      <th>acount age</th>\n",
       "      <th>total tweets</th>\n",
       "      <th>followers</th>\n",
       "      <th>following</th>\n",
       "      <th>respectability</th>\n",
       "      <th>is respactable?</th>\n",
       "      <th>verified</th>\n",
       "      <th>text</th>\n",
       "      <th>views</th>\n",
       "      <th>likes</th>\n",
       "      <th>retweets</th>\n",
       "      <th>quote retweets</th>\n",
       "      <th>comments</th>\n",
       "      <th>word count</th>\n",
       "      <th>is quote</th>\n",
       "      <th>hashtag count</th>\n",
       "      <th>trending</th>\n",
       "      <th>using trends?</th>\n",
       "      <th>link to tweet</th>\n",
       "    </tr>\n",
       "  </thead>\n",
       "  <tbody>\n",
       "    <tr>\n",
       "      <th>0</th>\n",
       "      <td>CamuyArenas_AA</td>\n",
       "      <td>Puente</td>\n",
       "      <td>United States</td>\n",
       "      <td>3.2</td>\n",
       "      <td>228</td>\n",
       "      <td>50</td>\n",
       "      <td>22</td>\n",
       "      <td>0.440000</td>\n",
       "      <td>0</td>\n",
       "      <td>False</td>\n",
       "      <td>Just posted a photo @ Estadio Juan F.Cheo Lópe...</td>\n",
       "      <td>13</td>\n",
       "      <td>0</td>\n",
       "      <td>0</td>\n",
       "      <td>0</td>\n",
       "      <td>0</td>\n",
       "      <td>11</td>\n",
       "      <td>False</td>\n",
       "      <td>0</td>\n",
       "      <td>['Friday the 13th', 'Staley', 'Lori Harvey', '...</td>\n",
       "      <td>False</td>\n",
       "      <td>https://www.twitter.com/CamuyArenas_AA/status/...</td>\n",
       "    </tr>\n",
       "    <tr>\n",
       "      <th>1</th>\n",
       "      <td>16p11dot2ds</td>\n",
       "      <td>Georgia</td>\n",
       "      <td>United States</td>\n",
       "      <td>4.9</td>\n",
       "      <td>32312</td>\n",
       "      <td>33</td>\n",
       "      <td>481</td>\n",
       "      <td>14.575758</td>\n",
       "      <td>1</td>\n",
       "      <td>False</td>\n",
       "      <td>This is a prep free zone. https://t.co/2qqlLxy...</td>\n",
       "      <td>336</td>\n",
       "      <td>1</td>\n",
       "      <td>0</td>\n",
       "      <td>0</td>\n",
       "      <td>1</td>\n",
       "      <td>8</td>\n",
       "      <td>True</td>\n",
       "      <td>0</td>\n",
       "      <td>['Friday the 13th', 'Staley', 'Lori Harvey', '...</td>\n",
       "      <td>False</td>\n",
       "      <td>https://www.twitter.com/16p11dot2ds/status/161...</td>\n",
       "    </tr>\n",
       "    <tr>\n",
       "      <th>2</th>\n",
       "      <td>PoopScoopSF</td>\n",
       "      <td>Downtown</td>\n",
       "      <td>United States</td>\n",
       "      <td>4.7</td>\n",
       "      <td>163626</td>\n",
       "      <td>415</td>\n",
       "      <td>125</td>\n",
       "      <td>0.301205</td>\n",
       "      <td>0</td>\n",
       "      <td>False</td>\n",
       "      <td>\"Big poop front of our door.\" (Downtown, D3) h...</td>\n",
       "      <td>9</td>\n",
       "      <td>0</td>\n",
       "      <td>0</td>\n",
       "      <td>0</td>\n",
       "      <td>1</td>\n",
       "      <td>10</td>\n",
       "      <td>False</td>\n",
       "      <td>0</td>\n",
       "      <td>['Friday the 13th', 'Staley', 'Lori Harvey', '...</td>\n",
       "      <td>False</td>\n",
       "      <td>https://www.twitter.com/PoopScoopSF/status/161...</td>\n",
       "    </tr>\n",
       "    <tr>\n",
       "      <th>3</th>\n",
       "      <td>wchazz</td>\n",
       "      <td>Wesley Chapel</td>\n",
       "      <td>United States</td>\n",
       "      <td>15.4</td>\n",
       "      <td>48876</td>\n",
       "      <td>377</td>\n",
       "      <td>951</td>\n",
       "      <td>2.522546</td>\n",
       "      <td>1</td>\n",
       "      <td>False</td>\n",
       "      <td>2nd cardio, target calories 1k @ Wesley Chapel...</td>\n",
       "      <td>4</td>\n",
       "      <td>0</td>\n",
       "      <td>0</td>\n",
       "      <td>0</td>\n",
       "      <td>0</td>\n",
       "      <td>10</td>\n",
       "      <td>False</td>\n",
       "      <td>0</td>\n",
       "      <td>['Friday the 13th', 'Staley', 'Lori Harvey', '...</td>\n",
       "      <td>False</td>\n",
       "      <td>https://www.twitter.com/wchazz/status/16139885...</td>\n",
       "    </tr>\n",
       "    <tr>\n",
       "      <th>4</th>\n",
       "      <td>wyatthebson</td>\n",
       "      <td>Pier 17</td>\n",
       "      <td>United States</td>\n",
       "      <td>16.8</td>\n",
       "      <td>24061</td>\n",
       "      <td>1366</td>\n",
       "      <td>4999</td>\n",
       "      <td>3.659590</td>\n",
       "      <td>1</td>\n",
       "      <td>False</td>\n",
       "      <td>Listen to PODCAST #6 SGUZR by Core Beats on Tn...</td>\n",
       "      <td>13</td>\n",
       "      <td>0</td>\n",
       "      <td>0</td>\n",
       "      <td>0</td>\n",
       "      <td>0</td>\n",
       "      <td>11</td>\n",
       "      <td>False</td>\n",
       "      <td>0</td>\n",
       "      <td>['Friday the 13th', 'Staley', 'Lori Harvey', '...</td>\n",
       "      <td>False</td>\n",
       "      <td>https://www.twitter.com/wyatthebson/status/161...</td>\n",
       "    </tr>\n",
       "  </tbody>\n",
       "</table>\n",
       "</div>"
      ],
      "text/plain": [
       "             name           city        country  acount age  total tweets  \\\n",
       "0  CamuyArenas_AA         Puente  United States         3.2           228   \n",
       "1     16p11dot2ds        Georgia  United States         4.9         32312   \n",
       "2     PoopScoopSF       Downtown  United States         4.7        163626   \n",
       "3          wchazz  Wesley Chapel  United States        15.4         48876   \n",
       "4     wyatthebson        Pier 17  United States        16.8         24061   \n",
       "\n",
       "   followers  following  respectability  is respactable?  verified  \\\n",
       "0         50         22        0.440000                0     False   \n",
       "1         33        481       14.575758                1     False   \n",
       "2        415        125        0.301205                0     False   \n",
       "3        377        951        2.522546                1     False   \n",
       "4       1366       4999        3.659590                1     False   \n",
       "\n",
       "                                                text  views  likes  retweets  \\\n",
       "0  Just posted a photo @ Estadio Juan F.Cheo Lópe...     13      0         0   \n",
       "1  This is a prep free zone. https://t.co/2qqlLxy...    336      1         0   \n",
       "2  \"Big poop front of our door.\" (Downtown, D3) h...      9      0         0   \n",
       "3  2nd cardio, target calories 1k @ Wesley Chapel...      4      0         0   \n",
       "4  Listen to PODCAST #6 SGUZR by Core Beats on Tn...     13      0         0   \n",
       "\n",
       "   quote retweets  comments  word count  is quote  hashtag count  \\\n",
       "0               0         0          11     False              0   \n",
       "1               0         1           8      True              0   \n",
       "2               0         1          10     False              0   \n",
       "3               0         0          10     False              0   \n",
       "4               0         0          11     False              0   \n",
       "\n",
       "                                            trending  using trends?  \\\n",
       "0  ['Friday the 13th', 'Staley', 'Lori Harvey', '...          False   \n",
       "1  ['Friday the 13th', 'Staley', 'Lori Harvey', '...          False   \n",
       "2  ['Friday the 13th', 'Staley', 'Lori Harvey', '...          False   \n",
       "3  ['Friday the 13th', 'Staley', 'Lori Harvey', '...          False   \n",
       "4  ['Friday the 13th', 'Staley', 'Lori Harvey', '...          False   \n",
       "\n",
       "                                       link to tweet  \n",
       "0  https://www.twitter.com/CamuyArenas_AA/status/...  \n",
       "1  https://www.twitter.com/16p11dot2ds/status/161...  \n",
       "2  https://www.twitter.com/PoopScoopSF/status/161...  \n",
       "3  https://www.twitter.com/wchazz/status/16139885...  \n",
       "4  https://www.twitter.com/wyatthebson/status/161...  "
      ]
     },
     "execution_count": 16,
     "metadata": {},
     "output_type": "execute_result"
    }
   ],
   "source": [
    "df.head()"
   ]
  },
  {
   "cell_type": "code",
   "execution_count": 17,
   "id": "dc304103",
   "metadata": {},
   "outputs": [
    {
     "data": {
      "text/html": [
       "<div>\n",
       "<style scoped>\n",
       "    .dataframe tbody tr th:only-of-type {\n",
       "        vertical-align: middle;\n",
       "    }\n",
       "\n",
       "    .dataframe tbody tr th {\n",
       "        vertical-align: top;\n",
       "    }\n",
       "\n",
       "    .dataframe thead th {\n",
       "        text-align: right;\n",
       "    }\n",
       "</style>\n",
       "<table border=\"1\" class=\"dataframe\">\n",
       "  <thead>\n",
       "    <tr style=\"text-align: right;\">\n",
       "      <th></th>\n",
       "      <th>name</th>\n",
       "      <th>city</th>\n",
       "      <th>country</th>\n",
       "      <th>acount age</th>\n",
       "      <th>total tweets</th>\n",
       "      <th>followers</th>\n",
       "      <th>following</th>\n",
       "      <th>respectability</th>\n",
       "      <th>is respactable?</th>\n",
       "      <th>verified</th>\n",
       "      <th>text</th>\n",
       "      <th>views</th>\n",
       "      <th>likes</th>\n",
       "      <th>retweets</th>\n",
       "      <th>quote retweets</th>\n",
       "      <th>comments</th>\n",
       "      <th>word count</th>\n",
       "      <th>is quote</th>\n",
       "      <th>hashtag count</th>\n",
       "      <th>trending</th>\n",
       "      <th>using trends?</th>\n",
       "      <th>link to tweet</th>\n",
       "    </tr>\n",
       "  </thead>\n",
       "  <tbody>\n",
       "  </tbody>\n",
       "</table>\n",
       "</div>"
      ],
      "text/plain": [
       "Empty DataFrame\n",
       "Columns: [name, city, country, acount age, total tweets, followers, following, respectability, is respactable?, verified, text, views, likes, retweets, quote retweets, comments, word count, is quote, hashtag count, trending, using trends?, link to tweet]\n",
       "Index: []"
      ]
     },
     "execution_count": 17,
     "metadata": {},
     "output_type": "execute_result"
    }
   ],
   "source": [
    "df[df.duplicated()]"
   ]
  },
  {
   "cell_type": "code",
   "execution_count": 18,
   "id": "39c25234",
   "metadata": {},
   "outputs": [
    {
     "data": {
      "text/html": [
       "<div>\n",
       "<style scoped>\n",
       "    .dataframe tbody tr th:only-of-type {\n",
       "        vertical-align: middle;\n",
       "    }\n",
       "\n",
       "    .dataframe tbody tr th {\n",
       "        vertical-align: top;\n",
       "    }\n",
       "\n",
       "    .dataframe thead th {\n",
       "        text-align: right;\n",
       "    }\n",
       "</style>\n",
       "<table border=\"1\" class=\"dataframe\">\n",
       "  <thead>\n",
       "    <tr style=\"text-align: right;\">\n",
       "      <th></th>\n",
       "      <th>name</th>\n",
       "      <th>city</th>\n",
       "      <th>country</th>\n",
       "      <th>acount age</th>\n",
       "      <th>total tweets</th>\n",
       "      <th>followers</th>\n",
       "      <th>following</th>\n",
       "      <th>respectability</th>\n",
       "      <th>is respactable?</th>\n",
       "      <th>verified</th>\n",
       "      <th>text</th>\n",
       "      <th>views</th>\n",
       "      <th>likes</th>\n",
       "      <th>retweets</th>\n",
       "      <th>quote retweets</th>\n",
       "      <th>comments</th>\n",
       "      <th>word count</th>\n",
       "      <th>is quote</th>\n",
       "      <th>hashtag count</th>\n",
       "      <th>trending</th>\n",
       "      <th>using trends?</th>\n",
       "      <th>link to tweet</th>\n",
       "    </tr>\n",
       "  </thead>\n",
       "  <tbody>\n",
       "    <tr>\n",
       "      <th>497</th>\n",
       "      <td>CTDOT_District1</td>\n",
       "      <td>Meriden</td>\n",
       "      <td>United States</td>\n",
       "      <td>14.8</td>\n",
       "      <td>269088</td>\n",
       "      <td>967</td>\n",
       "      <td>0</td>\n",
       "      <td>0.000000</td>\n",
       "      <td>0</td>\n",
       "      <td>False</td>\n",
       "      <td>Delays - MERIDEN #I91 North 0.72 miles before ...</td>\n",
       "      <td>13</td>\n",
       "      <td>0</td>\n",
       "      <td>0</td>\n",
       "      <td>0</td>\n",
       "      <td>0</td>\n",
       "      <td>19</td>\n",
       "      <td>False</td>\n",
       "      <td>2</td>\n",
       "      <td>['Friday the 13th', 'Staley', 'Lori Harvey', '...</td>\n",
       "      <td>False</td>\n",
       "      <td>https://www.twitter.com/CTDOT_District1/status...</td>\n",
       "    </tr>\n",
       "    <tr>\n",
       "      <th>928</th>\n",
       "      <td>511nyLongIsland</td>\n",
       "      <td>Freeport</td>\n",
       "      <td>United States</td>\n",
       "      <td>16.1</td>\n",
       "      <td>389799</td>\n",
       "      <td>2398</td>\n",
       "      <td>0</td>\n",
       "      <td>0.000000</td>\n",
       "      <td>0</td>\n",
       "      <td>False</td>\n",
       "      <td>Cleared: Construction on #NY27 EB from Guy Lom...</td>\n",
       "      <td>28</td>\n",
       "      <td>0</td>\n",
       "      <td>0</td>\n",
       "      <td>0</td>\n",
       "      <td>0</td>\n",
       "      <td>13</td>\n",
       "      <td>False</td>\n",
       "      <td>1</td>\n",
       "      <td>['Friday the 13th', 'Staley', 'Lori Harvey', '...</td>\n",
       "      <td>False</td>\n",
       "      <td>https://www.twitter.com/511nyLongIsland/status...</td>\n",
       "    </tr>\n",
       "    <tr>\n",
       "      <th>1270</th>\n",
       "      <td>511NYC</td>\n",
       "      <td>New York</td>\n",
       "      <td>United States</td>\n",
       "      <td>16.5</td>\n",
       "      <td>1696853</td>\n",
       "      <td>2404</td>\n",
       "      <td>3</td>\n",
       "      <td>0.001248</td>\n",
       "      <td>0</td>\n",
       "      <td>False</td>\n",
       "      <td>Cleared: Construction on #ThrogsNeckBridge SB ...</td>\n",
       "      <td>10</td>\n",
       "      <td>0</td>\n",
       "      <td>0</td>\n",
       "      <td>0</td>\n",
       "      <td>0</td>\n",
       "      <td>11</td>\n",
       "      <td>False</td>\n",
       "      <td>1</td>\n",
       "      <td>['#OpenDnD', 'Friday the 13th', 'Staley', 'Lor...</td>\n",
       "      <td>False</td>\n",
       "      <td>https://www.twitter.com/511NYC/status/16139865...</td>\n",
       "    </tr>\n",
       "    <tr>\n",
       "      <th>1272</th>\n",
       "      <td>511NY</td>\n",
       "      <td>Manhattan</td>\n",
       "      <td>United States</td>\n",
       "      <td>16.1</td>\n",
       "      <td>6020386</td>\n",
       "      <td>4234</td>\n",
       "      <td>15</td>\n",
       "      <td>0.003543</td>\n",
       "      <td>0</td>\n",
       "      <td>False</td>\n",
       "      <td>Cleared: Incident on #RFKTriboroughBridge SB a...</td>\n",
       "      <td>6</td>\n",
       "      <td>0</td>\n",
       "      <td>0</td>\n",
       "      <td>0</td>\n",
       "      <td>0</td>\n",
       "      <td>8</td>\n",
       "      <td>False</td>\n",
       "      <td>1</td>\n",
       "      <td>['Friday the 13th', 'Staley', 'Lori Harvey', '...</td>\n",
       "      <td>False</td>\n",
       "      <td>https://www.twitter.com/511NY/status/161398650...</td>\n",
       "    </tr>\n",
       "    <tr>\n",
       "      <th>1274</th>\n",
       "      <td>511NYC</td>\n",
       "      <td>Queens</td>\n",
       "      <td>United States</td>\n",
       "      <td>16.5</td>\n",
       "      <td>1696853</td>\n",
       "      <td>2404</td>\n",
       "      <td>3</td>\n",
       "      <td>0.001248</td>\n",
       "      <td>0</td>\n",
       "      <td>False</td>\n",
       "      <td>Cleared: Construction on #ThrogsNeckBridge NB ...</td>\n",
       "      <td>8</td>\n",
       "      <td>0</td>\n",
       "      <td>0</td>\n",
       "      <td>0</td>\n",
       "      <td>0</td>\n",
       "      <td>11</td>\n",
       "      <td>False</td>\n",
       "      <td>1</td>\n",
       "      <td>['Friday the 13th', 'Staley', 'Lori Harvey', '...</td>\n",
       "      <td>False</td>\n",
       "      <td>https://www.twitter.com/511NYC/status/16139864...</td>\n",
       "    </tr>\n",
       "    <tr>\n",
       "      <th>...</th>\n",
       "      <td>...</td>\n",
       "      <td>...</td>\n",
       "      <td>...</td>\n",
       "      <td>...</td>\n",
       "      <td>...</td>\n",
       "      <td>...</td>\n",
       "      <td>...</td>\n",
       "      <td>...</td>\n",
       "      <td>...</td>\n",
       "      <td>...</td>\n",
       "      <td>...</td>\n",
       "      <td>...</td>\n",
       "      <td>...</td>\n",
       "      <td>...</td>\n",
       "      <td>...</td>\n",
       "      <td>...</td>\n",
       "      <td>...</td>\n",
       "      <td>...</td>\n",
       "      <td>...</td>\n",
       "      <td>...</td>\n",
       "      <td>...</td>\n",
       "      <td>...</td>\n",
       "    </tr>\n",
       "    <tr>\n",
       "      <th>503</th>\n",
       "      <td>jamesmichael_13</td>\n",
       "      <td>Plano</td>\n",
       "      <td>United States</td>\n",
       "      <td>13.5</td>\n",
       "      <td>33925</td>\n",
       "      <td>957</td>\n",
       "      <td>892</td>\n",
       "      <td>0.932079</td>\n",
       "      <td>1</td>\n",
       "      <td>False</td>\n",
       "      <td>MANCHESTER IS RED</td>\n",
       "      <td>89</td>\n",
       "      <td>0</td>\n",
       "      <td>0</td>\n",
       "      <td>0</td>\n",
       "      <td>0</td>\n",
       "      <td>3</td>\n",
       "      <td>False</td>\n",
       "      <td>0</td>\n",
       "      <td>['Rashford', '#ManchesterDerby', '#MUNMCI', 'G...</td>\n",
       "      <td>False</td>\n",
       "      <td>https://www.twitter.com/jamesmichael_13/status...</td>\n",
       "    </tr>\n",
       "    <tr>\n",
       "      <th>586</th>\n",
       "      <td>jaiye_baba</td>\n",
       "      <td>Bear</td>\n",
       "      <td>United States</td>\n",
       "      <td>14.3</td>\n",
       "      <td>107999</td>\n",
       "      <td>3361</td>\n",
       "      <td>3809</td>\n",
       "      <td>1.133294</td>\n",
       "      <td>1</td>\n",
       "      <td>False</td>\n",
       "      <td>MANCHESTER IS RED</td>\n",
       "      <td>158</td>\n",
       "      <td>1</td>\n",
       "      <td>1</td>\n",
       "      <td>0</td>\n",
       "      <td>0</td>\n",
       "      <td>3</td>\n",
       "      <td>False</td>\n",
       "      <td>0</td>\n",
       "      <td>['Rashford', '#ManchesterDerby', '#MUNMCI', 'G...</td>\n",
       "      <td>False</td>\n",
       "      <td>https://www.twitter.com/jaiye_baba/status/1614...</td>\n",
       "    </tr>\n",
       "    <tr>\n",
       "      <th>1034</th>\n",
       "      <td>511NYC</td>\n",
       "      <td>Manhattan</td>\n",
       "      <td>United States</td>\n",
       "      <td>16.5</td>\n",
       "      <td>1697245</td>\n",
       "      <td>2405</td>\n",
       "      <td>3</td>\n",
       "      <td>0.001247</td>\n",
       "      <td>0</td>\n",
       "      <td>False</td>\n",
       "      <td>Cleared: Incident on #NY9A NB at George Washin...</td>\n",
       "      <td>11</td>\n",
       "      <td>0</td>\n",
       "      <td>0</td>\n",
       "      <td>0</td>\n",
       "      <td>0</td>\n",
       "      <td>11</td>\n",
       "      <td>False</td>\n",
       "      <td>1</td>\n",
       "      <td>['Rashford', '#ManchesterDerby', '#MUNMCI', 'G...</td>\n",
       "      <td>False</td>\n",
       "      <td>https://www.twitter.com/511NYC/status/16142664...</td>\n",
       "    </tr>\n",
       "    <tr>\n",
       "      <th>1308</th>\n",
       "      <td>511NYMidHudson</td>\n",
       "      <td>New York</td>\n",
       "      <td>United States</td>\n",
       "      <td>16.1</td>\n",
       "      <td>995657</td>\n",
       "      <td>1408</td>\n",
       "      <td>0</td>\n",
       "      <td>0.000000</td>\n",
       "      <td>0</td>\n",
       "      <td>False</td>\n",
       "      <td>Cleared: Incident on #I87NYSThruway NB at Afte...</td>\n",
       "      <td>34</td>\n",
       "      <td>0</td>\n",
       "      <td>0</td>\n",
       "      <td>0</td>\n",
       "      <td>0</td>\n",
       "      <td>16</td>\n",
       "      <td>False</td>\n",
       "      <td>1</td>\n",
       "      <td>['Rashford', '#ManchesterDerby', '#MUNMCI', 'G...</td>\n",
       "      <td>False</td>\n",
       "      <td>https://www.twitter.com/511NYMidHudson/status/...</td>\n",
       "    </tr>\n",
       "    <tr>\n",
       "      <th>1310</th>\n",
       "      <td>511NYMidHudson</td>\n",
       "      <td>Harrison</td>\n",
       "      <td>United States</td>\n",
       "      <td>16.1</td>\n",
       "      <td>995657</td>\n",
       "      <td>1408</td>\n",
       "      <td>0</td>\n",
       "      <td>0.000000</td>\n",
       "      <td>0</td>\n",
       "      <td>False</td>\n",
       "      <td>Cleared: Construction on #I287CrossWestchester...</td>\n",
       "      <td>39</td>\n",
       "      <td>0</td>\n",
       "      <td>0</td>\n",
       "      <td>0</td>\n",
       "      <td>0</td>\n",
       "      <td>20</td>\n",
       "      <td>False</td>\n",
       "      <td>1</td>\n",
       "      <td>['Rashford', '#ManchesterDerby', '#MUNMCI', 'G...</td>\n",
       "      <td>False</td>\n",
       "      <td>https://www.twitter.com/511NYMidHudson/status/...</td>\n",
       "    </tr>\n",
       "  </tbody>\n",
       "</table>\n",
       "<p>2420 rows × 22 columns</p>\n",
       "</div>"
      ],
      "text/plain": [
       "                 name       city        country  acount age  total tweets  \\\n",
       "497   CTDOT_District1    Meriden  United States        14.8        269088   \n",
       "928   511nyLongIsland   Freeport  United States        16.1        389799   \n",
       "1270           511NYC   New York  United States        16.5       1696853   \n",
       "1272            511NY  Manhattan  United States        16.1       6020386   \n",
       "1274           511NYC     Queens  United States        16.5       1696853   \n",
       "...               ...        ...            ...         ...           ...   \n",
       "503   jamesmichael_13      Plano  United States        13.5         33925   \n",
       "586        jaiye_baba       Bear  United States        14.3        107999   \n",
       "1034           511NYC  Manhattan  United States        16.5       1697245   \n",
       "1308   511NYMidHudson   New York  United States        16.1        995657   \n",
       "1310   511NYMidHudson   Harrison  United States        16.1        995657   \n",
       "\n",
       "      followers  following  respectability  is respactable?  verified  \\\n",
       "497         967          0        0.000000                0     False   \n",
       "928        2398          0        0.000000                0     False   \n",
       "1270       2404          3        0.001248                0     False   \n",
       "1272       4234         15        0.003543                0     False   \n",
       "1274       2404          3        0.001248                0     False   \n",
       "...         ...        ...             ...              ...       ...   \n",
       "503         957        892        0.932079                1     False   \n",
       "586        3361       3809        1.133294                1     False   \n",
       "1034       2405          3        0.001247                0     False   \n",
       "1308       1408          0        0.000000                0     False   \n",
       "1310       1408          0        0.000000                0     False   \n",
       "\n",
       "                                                   text  views  likes  \\\n",
       "497   Delays - MERIDEN #I91 North 0.72 miles before ...     13      0   \n",
       "928   Cleared: Construction on #NY27 EB from Guy Lom...     28      0   \n",
       "1270  Cleared: Construction on #ThrogsNeckBridge SB ...     10      0   \n",
       "1272  Cleared: Incident on #RFKTriboroughBridge SB a...      6      0   \n",
       "1274  Cleared: Construction on #ThrogsNeckBridge NB ...      8      0   \n",
       "...                                                 ...    ...    ...   \n",
       "503                                   MANCHESTER IS RED     89      0   \n",
       "586                                   MANCHESTER IS RED    158      1   \n",
       "1034  Cleared: Incident on #NY9A NB at George Washin...     11      0   \n",
       "1308  Cleared: Incident on #I87NYSThruway NB at Afte...     34      0   \n",
       "1310  Cleared: Construction on #I287CrossWestchester...     39      0   \n",
       "\n",
       "      retweets  quote retweets  comments  word count  is quote  hashtag count  \\\n",
       "497          0               0         0          19     False              2   \n",
       "928          0               0         0          13     False              1   \n",
       "1270         0               0         0          11     False              1   \n",
       "1272         0               0         0           8     False              1   \n",
       "1274         0               0         0          11     False              1   \n",
       "...        ...             ...       ...         ...       ...            ...   \n",
       "503          0               0         0           3     False              0   \n",
       "586          1               0         0           3     False              0   \n",
       "1034         0               0         0          11     False              1   \n",
       "1308         0               0         0          16     False              1   \n",
       "1310         0               0         0          20     False              1   \n",
       "\n",
       "                                               trending  using trends?  \\\n",
       "497   ['Friday the 13th', 'Staley', 'Lori Harvey', '...          False   \n",
       "928   ['Friday the 13th', 'Staley', 'Lori Harvey', '...          False   \n",
       "1270  ['#OpenDnD', 'Friday the 13th', 'Staley', 'Lor...          False   \n",
       "1272  ['Friday the 13th', 'Staley', 'Lori Harvey', '...          False   \n",
       "1274  ['Friday the 13th', 'Staley', 'Lori Harvey', '...          False   \n",
       "...                                                 ...            ...   \n",
       "503   ['Rashford', '#ManchesterDerby', '#MUNMCI', 'G...          False   \n",
       "586   ['Rashford', '#ManchesterDerby', '#MUNMCI', 'G...          False   \n",
       "1034  ['Rashford', '#ManchesterDerby', '#MUNMCI', 'G...          False   \n",
       "1308  ['Rashford', '#ManchesterDerby', '#MUNMCI', 'G...          False   \n",
       "1310  ['Rashford', '#ManchesterDerby', '#MUNMCI', 'G...          False   \n",
       "\n",
       "                                          link to tweet  \n",
       "497   https://www.twitter.com/CTDOT_District1/status...  \n",
       "928   https://www.twitter.com/511nyLongIsland/status...  \n",
       "1270  https://www.twitter.com/511NYC/status/16139865...  \n",
       "1272  https://www.twitter.com/511NY/status/161398650...  \n",
       "1274  https://www.twitter.com/511NYC/status/16139864...  \n",
       "...                                                 ...  \n",
       "503   https://www.twitter.com/jamesmichael_13/status...  \n",
       "586   https://www.twitter.com/jaiye_baba/status/1614...  \n",
       "1034  https://www.twitter.com/511NYC/status/16142664...  \n",
       "1308  https://www.twitter.com/511NYMidHudson/status/...  \n",
       "1310  https://www.twitter.com/511NYMidHudson/status/...  \n",
       "\n",
       "[2420 rows x 22 columns]"
      ]
     },
     "execution_count": 18,
     "metadata": {},
     "output_type": "execute_result"
    }
   ],
   "source": [
    "df[df['text'].duplicated()]"
   ]
  },
  {
   "cell_type": "code",
   "execution_count": 19,
   "id": "5298f336",
   "metadata": {},
   "outputs": [],
   "source": [
    "df=df.drop_duplicates(subset='text',keep=False)"
   ]
  },
  {
   "cell_type": "code",
   "execution_count": 20,
   "id": "ccdd1ec7",
   "metadata": {},
   "outputs": [
    {
     "name": "stdout",
     "output_type": "stream",
     "text": [
      "<class 'pandas.core.frame.DataFrame'>\n",
      "Int64Index: 15714 entries, 0 to 1414\n",
      "Data columns (total 22 columns):\n",
      " #   Column           Non-Null Count  Dtype  \n",
      "---  ------           --------------  -----  \n",
      " 0   name             15714 non-null  object \n",
      " 1   city             15714 non-null  object \n",
      " 2   country          15714 non-null  object \n",
      " 3   acount age       15714 non-null  float64\n",
      " 4   total tweets     15714 non-null  int64  \n",
      " 5   followers        15714 non-null  int64  \n",
      " 6   following        15714 non-null  int64  \n",
      " 7   respectability   15714 non-null  float64\n",
      " 8   is respactable?  15714 non-null  int64  \n",
      " 9   verified         15714 non-null  bool   \n",
      " 10  text             15714 non-null  object \n",
      " 11  views            15714 non-null  int64  \n",
      " 12  likes            15714 non-null  int64  \n",
      " 13  retweets         15714 non-null  int64  \n",
      " 14  quote retweets   15714 non-null  int64  \n",
      " 15  comments         15714 non-null  int64  \n",
      " 16  word count       15714 non-null  int64  \n",
      " 17  is quote         15714 non-null  bool   \n",
      " 18  hashtag count    15714 non-null  int64  \n",
      " 19  trending         15714 non-null  object \n",
      " 20  using trends?    15714 non-null  bool   \n",
      " 21  link to tweet    15714 non-null  object \n",
      "dtypes: bool(3), float64(2), int64(11), object(6)\n",
      "memory usage: 2.4+ MB\n"
     ]
    }
   ],
   "source": [
    "df.info()"
   ]
  },
  {
   "cell_type": "code",
   "execution_count": 21,
   "id": "75963fb3",
   "metadata": {},
   "outputs": [
    {
     "data": {
      "text/plain": [
       "United States     0.324806\n",
       "United Kingdom    0.244432\n",
       "Canada            0.242650\n",
       "Australia         0.152730\n",
       "New Zealand       0.035382\n",
       "Name: country, dtype: float64"
      ]
     },
     "execution_count": 21,
     "metadata": {},
     "output_type": "execute_result"
    }
   ],
   "source": [
    "df['country'].value_counts(normalize=True)"
   ]
  },
  {
   "cell_type": "code",
   "execution_count": 22,
   "id": "2b84f968",
   "metadata": {},
   "outputs": [
    {
     "data": {
      "text/plain": [
       "<AxesSubplot:ylabel='country'>"
      ]
     },
     "execution_count": 22,
     "metadata": {},
     "output_type": "execute_result"
    },
    {
     "data": {
      "image/png": "[encoded data removed]",
      "text/plain": [
       "<Figure size 640x480 with 1 Axes>"
      ]
     },
     "metadata": {},
     "output_type": "display_data"
    }
   ],
   "source": [
    "df['country'].value_counts().plot(kind='pie')"
   ]
  },
  {
   "cell_type": "code",
   "execution_count": 23,
   "id": "c6fd1b73",
   "metadata": {},
   "outputs": [
    {
     "data": {
      "text/plain": [
       "False    0.969454\n",
       "True     0.030546\n",
       "Name: verified, dtype: float64"
      ]
     },
     "execution_count": 23,
     "metadata": {},
     "output_type": "execute_result"
    }
   ],
   "source": [
    "df['verified'].value_counts(normalize=True)"
   ]
  },
  {
   "cell_type": "code",
   "execution_count": 24,
   "id": "7bdd41ef",
   "metadata": {},
   "outputs": [
    {
     "data": {
      "image/png": "[encoded data removed]",
      "text/plain": [
       "<Figure size 640x480 with 1 Axes>"
      ]
     },
     "metadata": {},
     "output_type": "display_data"
    }
   ],
   "source": [
    "sns.barplot(x='verified', y='followers', data=df)\n",
    "plt.show()"
   ]
  },
  {
   "cell_type": "code",
   "execution_count": 25,
   "id": "a3ec011a",
   "metadata": {},
   "outputs": [
    {
     "data": {
      "text/plain": [
       "9     877\n",
       "8     819\n",
       "7     718\n",
       "2     712\n",
       "10    690\n",
       "     ... \n",
       "60      1\n",
       "63      1\n",
       "85      1\n",
       "64      1\n",
       "69      1\n",
       "Name: word count, Length: 67, dtype: int64"
      ]
     },
     "execution_count": 25,
     "metadata": {},
     "output_type": "execute_result"
    }
   ],
   "source": [
    "df['word count'].value_counts()"
   ]
  },
  {
   "cell_type": "code",
   "execution_count": 26,
   "id": "97b32394",
   "metadata": {},
   "outputs": [
    {
     "data": {
      "text/plain": [
       "False    11419\n",
       "True      4295\n",
       "Name: is quote, dtype: int64"
      ]
     },
     "execution_count": 26,
     "metadata": {},
     "output_type": "execute_result"
    }
   ],
   "source": [
    "df['is quote'].value_counts()"
   ]
  },
  {
   "cell_type": "code",
   "execution_count": 27,
   "id": "baebcdd1",
   "metadata": {},
   "outputs": [
    {
     "data": {
      "text/plain": [
       "<matplotlib.collections.PathCollection at 0x1cf643c1d60>"
      ]
     },
     "execution_count": 27,
     "metadata": {},
     "output_type": "execute_result"
    },
    {
     "data": {
      "image/png": "[encoded data removed]",
      "text/plain": [
       "<Figure size 640x480 with 1 Axes>"
      ]
     },
     "metadata": {},
     "output_type": "display_data"
    }
   ],
   "source": [
    "plt.scatter(df['total tweets'],df['word count'])"
   ]
  },
  {
   "cell_type": "code",
   "execution_count": 28,
   "id": "11adee92",
   "metadata": {},
   "outputs": [
    {
     "data": {
      "text/plain": [
       "<matplotlib.collections.PathCollection at 0x1cf6431ffa0>"
      ]
     },
     "execution_count": 28,
     "metadata": {},
     "output_type": "execute_result"
    },
    {
     "data": {
      "image/png": "[encoded data removed]",
      "text/plain": [
       "<Figure size 640x480 with 1 Axes>"
      ]
     },
     "metadata": {},
     "output_type": "display_data"
    }
   ],
   "source": [
    "plt.scatter(df['total tweets'],df['following'])"
   ]
  },
  {
   "cell_type": "code",
   "execution_count": 29,
   "id": "e58009d6",
   "metadata": {},
   "outputs": [
    {
     "data": {
      "text/plain": [
       "<matplotlib.collections.PathCollection at 0x1cf64280820>"
      ]
     },
     "execution_count": 29,
     "metadata": {},
     "output_type": "execute_result"
    },
    {
     "data": {
      "image/png": "[encoded data removed]",
      "text/plain": [
       "<Figure size 640x480 with 1 Axes>"
      ]
     },
     "metadata": {},
     "output_type": "display_data"
    }
   ],
   "source": [
    "plt.scatter(df['total tweets'],df['followers'])"
   ]
  },
  {
   "cell_type": "code",
   "execution_count": 30,
   "id": "8d034a0b",
   "metadata": {},
   "outputs": [
    {
     "data": {
      "image/png": "[encoded data removed]",
      "text/plain": [
       "<Figure size 640x480 with 1 Axes>"
      ]
     },
     "metadata": {},
     "output_type": "display_data"
    }
   ],
   "source": [
    "sns.barplot(x='verified', y='total tweets', data=df)\n",
    "plt.show()"
   ]
  },
  {
   "cell_type": "code",
   "execution_count": 31,
   "id": "cc27c10a",
   "metadata": {},
   "outputs": [
    {
     "data": {
      "text/plain": [
       "1    0.662467\n",
       "0    0.337533\n",
       "Name: is respactable?, dtype: float64"
      ]
     },
     "execution_count": 31,
     "metadata": {},
     "output_type": "execute_result"
    }
   ],
   "source": [
    "df['is respactable?'].value_counts(normalize=True)"
   ]
  },
  {
   "cell_type": "code",
   "execution_count": 32,
   "id": "6d22dc5e",
   "metadata": {},
   "outputs": [
    {
     "data": {
      "image/png": "[encoded data removed]",
      "text/plain": [
       "<Figure size 640x480 with 1 Axes>"
      ]
     },
     "metadata": {},
     "output_type": "display_data"
    }
   ],
   "source": [
    "sns.barplot(x='is respactable?', y='likes', data=df)\n",
    "plt.show()"
   ]
  },
  {
   "cell_type": "code",
   "execution_count": 33,
   "id": "5459787d",
   "metadata": {},
   "outputs": [
    {
     "data": {
      "text/plain": [
       "0      12509\n",
       "1       1584\n",
       "2        518\n",
       "3        275\n",
       "4        150\n",
       "       ...  \n",
       "190        1\n",
       "111        1\n",
       "175        1\n",
       "59         1\n",
       "798        1\n",
       "Name: retweets, Length: 104, dtype: int64"
      ]
     },
     "execution_count": 33,
     "metadata": {},
     "output_type": "execute_result"
    }
   ],
   "source": [
    "df['retweets'].value_counts()"
   ]
  },
  {
   "cell_type": "code",
   "execution_count": 34,
   "id": "7afd3e7d",
   "metadata": {},
   "outputs": [
    {
     "data": {
      "text/plain": [
       "(-4.826, 965.2]     15711\n",
       "(965.2, 1930.4]         1\n",
       "(1930.4, 2895.6]        1\n",
       "(3860.8, 4826.0]        1\n",
       "(2895.6, 3860.8]        0\n",
       "Name: retweets, dtype: int64"
      ]
     },
     "execution_count": 34,
     "metadata": {},
     "output_type": "execute_result"
    }
   ],
   "source": [
    "pd.cut(df['retweets'],bins=5).value_counts()"
   ]
  },
  {
   "cell_type": "code",
   "execution_count": 35,
   "id": "f9641dc3",
   "metadata": {},
   "outputs": [
    {
     "data": {
      "text/plain": [
       "(array([1.5711e+04, 1.0000e+00, 1.0000e+00, 0.0000e+00, 1.0000e+00]),\n",
       " array([   0. ,  965.2, 1930.4, 2895.6, 3860.8, 4826. ]),\n",
       " <BarContainer object of 5 artists>)"
      ]
     },
     "execution_count": 35,
     "metadata": {},
     "output_type": "execute_result"
    },
    {
     "data": {
      "image/png": "[encoded data removed]",
      "text/plain": [
       "<Figure size 640x480 with 1 Axes>"
      ]
     },
     "metadata": {},
     "output_type": "display_data"
    }
   ],
   "source": [
    "plt.hist(df['retweets'],bins=5)"
   ]
  },
  {
   "cell_type": "code",
   "execution_count": 36,
   "id": "72972670",
   "metadata": {},
   "outputs": [
    {
     "data": {
      "text/html": [
       "<div>\n",
       "<style scoped>\n",
       "    .dataframe tbody tr th:only-of-type {\n",
       "        vertical-align: middle;\n",
       "    }\n",
       "\n",
       "    .dataframe tbody tr th {\n",
       "        vertical-align: top;\n",
       "    }\n",
       "\n",
       "    .dataframe thead th {\n",
       "        text-align: right;\n",
       "    }\n",
       "</style>\n",
       "<table border=\"1\" class=\"dataframe\">\n",
       "  <thead>\n",
       "    <tr style=\"text-align: right;\">\n",
       "      <th></th>\n",
       "      <th>name</th>\n",
       "      <th>city</th>\n",
       "      <th>country</th>\n",
       "      <th>acount age</th>\n",
       "      <th>total tweets</th>\n",
       "      <th>followers</th>\n",
       "      <th>following</th>\n",
       "      <th>respectability</th>\n",
       "      <th>is respactable?</th>\n",
       "      <th>verified</th>\n",
       "      <th>text</th>\n",
       "      <th>views</th>\n",
       "      <th>likes</th>\n",
       "      <th>retweets</th>\n",
       "      <th>quote retweets</th>\n",
       "      <th>comments</th>\n",
       "      <th>word count</th>\n",
       "      <th>is quote</th>\n",
       "      <th>hashtag count</th>\n",
       "      <th>trending</th>\n",
       "      <th>using trends?</th>\n",
       "      <th>link to tweet</th>\n",
       "    </tr>\n",
       "  </thead>\n",
       "  <tbody>\n",
       "    <tr>\n",
       "      <th>0</th>\n",
       "      <td>CamuyArenas_AA</td>\n",
       "      <td>Puente</td>\n",
       "      <td>United States</td>\n",
       "      <td>3.2</td>\n",
       "      <td>228</td>\n",
       "      <td>50</td>\n",
       "      <td>22</td>\n",
       "      <td>0.440000</td>\n",
       "      <td>0</td>\n",
       "      <td>False</td>\n",
       "      <td>Just posted a photo @ Estadio Juan F.Cheo Lópe...</td>\n",
       "      <td>13</td>\n",
       "      <td>0</td>\n",
       "      <td>0</td>\n",
       "      <td>0</td>\n",
       "      <td>0</td>\n",
       "      <td>11</td>\n",
       "      <td>False</td>\n",
       "      <td>0</td>\n",
       "      <td>['Friday the 13th', 'Staley', 'Lori Harvey', '...</td>\n",
       "      <td>False</td>\n",
       "      <td>https://www.twitter.com/CamuyArenas_AA/status/...</td>\n",
       "    </tr>\n",
       "    <tr>\n",
       "      <th>1</th>\n",
       "      <td>16p11dot2ds</td>\n",
       "      <td>Georgia</td>\n",
       "      <td>United States</td>\n",
       "      <td>4.9</td>\n",
       "      <td>32312</td>\n",
       "      <td>33</td>\n",
       "      <td>481</td>\n",
       "      <td>14.575758</td>\n",
       "      <td>1</td>\n",
       "      <td>False</td>\n",
       "      <td>This is a prep free zone. https://t.co/2qqlLxy...</td>\n",
       "      <td>336</td>\n",
       "      <td>1</td>\n",
       "      <td>0</td>\n",
       "      <td>0</td>\n",
       "      <td>1</td>\n",
       "      <td>8</td>\n",
       "      <td>True</td>\n",
       "      <td>0</td>\n",
       "      <td>['Friday the 13th', 'Staley', 'Lori Harvey', '...</td>\n",
       "      <td>False</td>\n",
       "      <td>https://www.twitter.com/16p11dot2ds/status/161...</td>\n",
       "    </tr>\n",
       "    <tr>\n",
       "      <th>2</th>\n",
       "      <td>PoopScoopSF</td>\n",
       "      <td>Downtown</td>\n",
       "      <td>United States</td>\n",
       "      <td>4.7</td>\n",
       "      <td>163626</td>\n",
       "      <td>415</td>\n",
       "      <td>125</td>\n",
       "      <td>0.301205</td>\n",
       "      <td>0</td>\n",
       "      <td>False</td>\n",
       "      <td>\"Big poop front of our door.\" (Downtown, D3) h...</td>\n",
       "      <td>9</td>\n",
       "      <td>0</td>\n",
       "      <td>0</td>\n",
       "      <td>0</td>\n",
       "      <td>1</td>\n",
       "      <td>10</td>\n",
       "      <td>False</td>\n",
       "      <td>0</td>\n",
       "      <td>['Friday the 13th', 'Staley', 'Lori Harvey', '...</td>\n",
       "      <td>False</td>\n",
       "      <td>https://www.twitter.com/PoopScoopSF/status/161...</td>\n",
       "    </tr>\n",
       "    <tr>\n",
       "      <th>3</th>\n",
       "      <td>wchazz</td>\n",
       "      <td>Wesley Chapel</td>\n",
       "      <td>United States</td>\n",
       "      <td>15.4</td>\n",
       "      <td>48876</td>\n",
       "      <td>377</td>\n",
       "      <td>951</td>\n",
       "      <td>2.522546</td>\n",
       "      <td>1</td>\n",
       "      <td>False</td>\n",
       "      <td>2nd cardio, target calories 1k @ Wesley Chapel...</td>\n",
       "      <td>4</td>\n",
       "      <td>0</td>\n",
       "      <td>0</td>\n",
       "      <td>0</td>\n",
       "      <td>0</td>\n",
       "      <td>10</td>\n",
       "      <td>False</td>\n",
       "      <td>0</td>\n",
       "      <td>['Friday the 13th', 'Staley', 'Lori Harvey', '...</td>\n",
       "      <td>False</td>\n",
       "      <td>https://www.twitter.com/wchazz/status/16139885...</td>\n",
       "    </tr>\n",
       "    <tr>\n",
       "      <th>4</th>\n",
       "      <td>wyatthebson</td>\n",
       "      <td>Pier 17</td>\n",
       "      <td>United States</td>\n",
       "      <td>16.8</td>\n",
       "      <td>24061</td>\n",
       "      <td>1366</td>\n",
       "      <td>4999</td>\n",
       "      <td>3.659590</td>\n",
       "      <td>1</td>\n",
       "      <td>False</td>\n",
       "      <td>Listen to PODCAST #6 SGUZR by Core Beats on Tn...</td>\n",
       "      <td>13</td>\n",
       "      <td>0</td>\n",
       "      <td>0</td>\n",
       "      <td>0</td>\n",
       "      <td>0</td>\n",
       "      <td>11</td>\n",
       "      <td>False</td>\n",
       "      <td>0</td>\n",
       "      <td>['Friday the 13th', 'Staley', 'Lori Harvey', '...</td>\n",
       "      <td>False</td>\n",
       "      <td>https://www.twitter.com/wyatthebson/status/161...</td>\n",
       "    </tr>\n",
       "  </tbody>\n",
       "</table>\n",
       "</div>"
      ],
      "text/plain": [
       "             name           city        country  acount age  total tweets  \\\n",
       "0  CamuyArenas_AA         Puente  United States         3.2           228   \n",
       "1     16p11dot2ds        Georgia  United States         4.9         32312   \n",
       "2     PoopScoopSF       Downtown  United States         4.7        163626   \n",
       "3          wchazz  Wesley Chapel  United States        15.4         48876   \n",
       "4     wyatthebson        Pier 17  United States        16.8         24061   \n",
       "\n",
       "   followers  following  respectability  is respactable?  verified  \\\n",
       "0         50         22        0.440000                0     False   \n",
       "1         33        481       14.575758                1     False   \n",
       "2        415        125        0.301205                0     False   \n",
       "3        377        951        2.522546                1     False   \n",
       "4       1366       4999        3.659590                1     False   \n",
       "\n",
       "                                                text  views  likes  retweets  \\\n",
       "0  Just posted a photo @ Estadio Juan F.Cheo Lópe...     13      0         0   \n",
       "1  This is a prep free zone. https://t.co/2qqlLxy...    336      1         0   \n",
       "2  \"Big poop front of our door.\" (Downtown, D3) h...      9      0         0   \n",
       "3  2nd cardio, target calories 1k @ Wesley Chapel...      4      0         0   \n",
       "4  Listen to PODCAST #6 SGUZR by Core Beats on Tn...     13      0         0   \n",
       "\n",
       "   quote retweets  comments  word count  is quote  hashtag count  \\\n",
       "0               0         0          11     False              0   \n",
       "1               0         1           8      True              0   \n",
       "2               0         1          10     False              0   \n",
       "3               0         0          10     False              0   \n",
       "4               0         0          11     False              0   \n",
       "\n",
       "                                            trending  using trends?  \\\n",
       "0  ['Friday the 13th', 'Staley', 'Lori Harvey', '...          False   \n",
       "1  ['Friday the 13th', 'Staley', 'Lori Harvey', '...          False   \n",
       "2  ['Friday the 13th', 'Staley', 'Lori Harvey', '...          False   \n",
       "3  ['Friday the 13th', 'Staley', 'Lori Harvey', '...          False   \n",
       "4  ['Friday the 13th', 'Staley', 'Lori Harvey', '...          False   \n",
       "\n",
       "                                       link to tweet  \n",
       "0  https://www.twitter.com/CamuyArenas_AA/status/...  \n",
       "1  https://www.twitter.com/16p11dot2ds/status/161...  \n",
       "2  https://www.twitter.com/PoopScoopSF/status/161...  \n",
       "3  https://www.twitter.com/wchazz/status/16139885...  \n",
       "4  https://www.twitter.com/wyatthebson/status/161...  "
      ]
     },
     "execution_count": 36,
     "metadata": {},
     "output_type": "execute_result"
    }
   ],
   "source": [
    "df.head()"
   ]
  },
  {
   "cell_type": "code",
   "execution_count": 37,
   "id": "fb63f187",
   "metadata": {},
   "outputs": [
    {
     "name": "stderr",
     "output_type": "stream",
     "text": [
      "C:\\ProgramData\\Anaconda3\\lib\\site-packages\\IPython\\core\\pylabtools.py:151: UserWarning: Glyph 30343 (\\N{CJK UNIFIED IDEOGRAPH-7687}) missing from current font.\n",
      "  fig.canvas.print_figure(bytes_io, **kw)\n",
      "C:\\ProgramData\\Anaconda3\\lib\\site-packages\\IPython\\core\\pylabtools.py:151: UserWarning: Glyph 23478 (\\N{CJK UNIFIED IDEOGRAPH-5BB6}) missing from current font.\n",
      "  fig.canvas.print_figure(bytes_io, **kw)\n",
      "C:\\ProgramData\\Anaconda3\\lib\\site-packages\\IPython\\core\\pylabtools.py:151: UserWarning: Glyph 24481 (\\N{CJK UNIFIED IDEOGRAPH-5FA1}) missing from current font.\n",
      "  fig.canvas.print_figure(bytes_io, **kw)\n",
      "C:\\ProgramData\\Anaconda3\\lib\\site-packages\\IPython\\core\\pylabtools.py:151: UserWarning: Glyph 23476 (\\N{CJK UNIFIED IDEOGRAPH-5BB4}) missing from current font.\n",
      "  fig.canvas.print_figure(bytes_io, **kw)\n",
      "C:\\ProgramData\\Anaconda3\\lib\\site-packages\\IPython\\core\\pylabtools.py:151: UserWarning: Glyph 19968 (\\N{CJK UNIFIED IDEOGRAPH-4E00}) missing from current font.\n",
      "  fig.canvas.print_figure(bytes_io, **kw)\n",
      "C:\\ProgramData\\Anaconda3\\lib\\site-packages\\IPython\\core\\pylabtools.py:151: UserWarning: Glyph 40635 (\\N{CJK UNIFIED IDEOGRAPH-9EBB}) missing from current font.\n",
      "  fig.canvas.print_figure(bytes_io, **kw)\n",
      "C:\\ProgramData\\Anaconda3\\lib\\site-packages\\IPython\\core\\pylabtools.py:151: UserWarning: Glyph 36771 (\\N{CJK UNIFIED IDEOGRAPH-8FA3}) missing from current font.\n",
      "  fig.canvas.print_figure(bytes_io, **kw)\n",
      "C:\\ProgramData\\Anaconda3\\lib\\site-packages\\IPython\\core\\pylabtools.py:151: UserWarning: Glyph 24029 (\\N{CJK UNIFIED IDEOGRAPH-5DDD}) missing from current font.\n",
      "  fig.canvas.print_figure(bytes_io, **kw)\n",
      "C:\\ProgramData\\Anaconda3\\lib\\site-packages\\IPython\\core\\pylabtools.py:151: UserWarning: Glyph 29579 (\\N{CJK UNIFIED IDEOGRAPH-738B}) missing from current font.\n",
      "  fig.canvas.print_figure(bytes_io, **kw)\n",
      "C:\\ProgramData\\Anaconda3\\lib\\site-packages\\IPython\\core\\pylabtools.py:151: UserWarning: Glyph 24220 (\\N{CJK UNIFIED IDEOGRAPH-5E9C}) missing from current font.\n",
      "  fig.canvas.print_figure(bytes_io, **kw)\n",
      "C:\\ProgramData\\Anaconda3\\lib\\site-packages\\IPython\\core\\pylabtools.py:151: UserWarning: Glyph 22823 (\\N{CJK UNIFIED IDEOGRAPH-5927}) missing from current font.\n",
      "  fig.canvas.print_figure(bytes_io, **kw)\n",
      "C:\\ProgramData\\Anaconda3\\lib\\site-packages\\IPython\\core\\pylabtools.py:151: UserWarning: Glyph 32113 (\\N{CJK UNIFIED IDEOGRAPH-7D71}) missing from current font.\n",
      "  fig.canvas.print_figure(bytes_io, **kw)\n",
      "C:\\ProgramData\\Anaconda3\\lib\\site-packages\\IPython\\core\\pylabtools.py:151: UserWarning: Glyph 33775 (\\N{CJK UNIFIED IDEOGRAPH-83EF}) missing from current font.\n",
      "  fig.canvas.print_figure(bytes_io, **kw)\n",
      "C:\\ProgramData\\Anaconda3\\lib\\site-packages\\IPython\\core\\pylabtools.py:151: UserWarning: Glyph 36229 (\\N{CJK UNIFIED IDEOGRAPH-8D85}) missing from current font.\n",
      "  fig.canvas.print_figure(bytes_io, **kw)\n",
      "C:\\ProgramData\\Anaconda3\\lib\\site-packages\\IPython\\core\\pylabtools.py:151: UserWarning: Glyph 32026 (\\N{CJK UNIFIED IDEOGRAPH-7D1A}) missing from current font.\n",
      "  fig.canvas.print_figure(bytes_io, **kw)\n",
      "C:\\ProgramData\\Anaconda3\\lib\\site-packages\\IPython\\core\\pylabtools.py:151: UserWarning: Glyph 24066 (\\N{CJK UNIFIED IDEOGRAPH-5E02}) missing from current font.\n",
      "  fig.canvas.print_figure(bytes_io, **kw)\n",
      "C:\\ProgramData\\Anaconda3\\lib\\site-packages\\IPython\\core\\pylabtools.py:151: UserWarning: Glyph 22580 (\\N{CJK UNIFIED IDEOGRAPH-5834}) missing from current font.\n",
      "  fig.canvas.print_figure(bytes_io, **kw)\n"
     ]
    },
    {
     "data": {
      "image/png": "[encoded data removed]",
      "text/plain": [
       "<Figure size 640x480 with 1 Axes>"
      ]
     },
     "metadata": {},
     "output_type": "display_data"
    }
   ],
   "source": [
    "sns.barplot(x='city', y='retweets', data=df)\n",
    "plt.show()"
   ]
  },
  {
   "cell_type": "code",
   "execution_count": 38,
   "id": "da21a9d4",
   "metadata": {},
   "outputs": [
    {
     "data": {
      "image/png": "[encoded data removed]",
      "text/plain": [
       "<Figure size 640x480 with 1 Axes>"
      ]
     },
     "metadata": {},
     "output_type": "display_data"
    }
   ],
   "source": [
    "sns.barplot(x='country', y='retweets', data=df)\n",
    "plt.show()\n"
   ]
  },
  {
   "cell_type": "code",
   "execution_count": 39,
   "id": "b197814c",
   "metadata": {},
   "outputs": [
    {
     "data": {
      "image/png": "[encoded data removed]",
      "text/plain": [
       "<Figure size 640x480 with 1 Axes>"
      ]
     },
     "metadata": {},
     "output_type": "display_data"
    }
   ],
   "source": [
    "sns.barplot(x='verified', y='retweets', data=df)\n",
    "plt.show()"
   ]
  },
  {
   "cell_type": "code",
   "execution_count": 40,
   "id": "52b0d61f",
   "metadata": {},
   "outputs": [
    {
     "data": {
      "text/plain": [
       "<matplotlib.collections.PathCollection at 0x1cf644eca30>"
      ]
     },
     "execution_count": 40,
     "metadata": {},
     "output_type": "execute_result"
    },
    {
     "data": {
      "image/png": "[encoded data removed]",
      "text/plain": [
       "<Figure size 640x480 with 1 Axes>"
      ]
     },
     "metadata": {},
     "output_type": "display_data"
    }
   ],
   "source": [
    "plt.scatter(df['acount age'],df['retweets'])"
   ]
  },
  {
   "cell_type": "code",
   "execution_count": 41,
   "id": "db22cc86",
   "metadata": {},
   "outputs": [
    {
     "data": {
      "text/plain": [
       "<matplotlib.collections.PathCollection at 0x1cf6f9e0fa0>"
      ]
     },
     "execution_count": 41,
     "metadata": {},
     "output_type": "execute_result"
    },
    {
     "data": {
      "image/png": "[encoded data removed]",
      "text/plain": [
       "<Figure size 640x480 with 1 Axes>"
      ]
     },
     "metadata": {},
     "output_type": "display_data"
    }
   ],
   "source": [
    "plt.scatter(df['total tweets'],df['retweets'])"
   ]
  },
  {
   "cell_type": "code",
   "execution_count": 42,
   "id": "4a982191",
   "metadata": {},
   "outputs": [
    {
     "data": {
      "text/plain": [
       "<matplotlib.collections.PathCollection at 0x1cf6fbc5850>"
      ]
     },
     "execution_count": 42,
     "metadata": {},
     "output_type": "execute_result"
    },
    {
     "data": {
      "image/png": "[encoded data removed]",
      "text/plain": [
       "<Figure size 640x480 with 1 Axes>"
      ]
     },
     "metadata": {},
     "output_type": "display_data"
    }
   ],
   "source": [
    "plt.scatter(df['followers'],df['retweets'])"
   ]
  },
  {
   "cell_type": "code",
   "execution_count": 43,
   "id": "fc8b34ca",
   "metadata": {},
   "outputs": [
    {
     "data": {
      "text/plain": [
       "<matplotlib.collections.PathCollection at 0x1cf6f72cb20>"
      ]
     },
     "execution_count": 43,
     "metadata": {},
     "output_type": "execute_result"
    },
    {
     "data": {
      "image/png": "[encoded data removed]",
      "text/plain": [
       "<Figure size 640x480 with 1 Axes>"
      ]
     },
     "metadata": {},
     "output_type": "display_data"
    }
   ],
   "source": [
    "plt.scatter(df['following'],df['retweets'])"
   ]
  },
  {
   "cell_type": "code",
   "execution_count": 44,
   "id": "0fa1d27f",
   "metadata": {},
   "outputs": [
    {
     "data": {
      "text/plain": [
       "<matplotlib.collections.PathCollection at 0x1cf6f819e50>"
      ]
     },
     "execution_count": 44,
     "metadata": {},
     "output_type": "execute_result"
    },
    {
     "data": {
      "image/png": "[encoded data removed]",
      "text/plain": [
       "<Figure size 640x480 with 1 Axes>"
      ]
     },
     "metadata": {},
     "output_type": "display_data"
    }
   ],
   "source": [
    "plt.scatter(df['word count'],df['retweets'])"
   ]
  },
  {
   "cell_type": "code",
   "execution_count": 101,
   "id": "abc9e6bd",
   "metadata": {},
   "outputs": [
    {
     "data": {
      "text/plain": [
       "1"
      ]
     },
     "execution_count": 101,
     "metadata": {},
     "output_type": "execute_result"
    }
   ],
   "source": [
    "dups = df[df['name'].duplicated(keep = False)]['name'].value_counts()\n",
    "\n",
    "for n in dups.keys():\n",
    "    if dups[n] > 2:\n",
    "        df.drop(df[df['name'] == n].index,inplace = True)\n",
    "        \n",
    "df[df['name'].duplicated()]['name'].value_counts().max()"
   ]
  },
  {
   "cell_type": "markdown",
   "id": "b97300fd",
   "metadata": {},
   "source": [
    "מוריד את הרובוטים המסריחים הללו"
   ]
  },
  {
   "cell_type": "code",
   "execution_count": 46,
   "id": "ed80b48b",
   "metadata": {},
   "outputs": [
    {
     "data": {
      "image/png": "[encoded data removed]",
      "text/plain": [
       "<Figure size 640x480 with 1 Axes>"
      ]
     },
     "metadata": {},
     "output_type": "display_data"
    }
   ],
   "source": [
    "sns.barplot(x='is respactable?', y='retweets', data=df)\n",
    "plt.show()"
   ]
  },
  {
   "cell_type": "code",
   "execution_count": 47,
   "id": "fd089c79",
   "metadata": {},
   "outputs": [
    {
     "data": {
      "image/png": "[encoded data removed]",
      "text/plain": [
       "<Figure size 640x480 with 1 Axes>"
      ]
     },
     "metadata": {},
     "output_type": "display_data"
    }
   ],
   "source": [
    "sns.barplot(x='using trends?', y='retweets', data=df)\n",
    "plt.show()"
   ]
  },
  {
   "cell_type": "code",
   "execution_count": 48,
   "id": "aef88879",
   "metadata": {},
   "outputs": [
    {
     "data": {
      "text/plain": [
       "2286"
      ]
     },
     "execution_count": 48,
     "metadata": {},
     "output_type": "execute_result"
    }
   ],
   "source": [
    "df.retweets[df.retweets>0].count()"
   ]
  },
  {
   "cell_type": "code",
   "execution_count": 49,
   "id": "10eb561a",
   "metadata": {},
   "outputs": [
    {
     "data": {
      "text/plain": [
       "0.21231540819169686"
      ]
     },
     "execution_count": 49,
     "metadata": {},
     "output_type": "execute_result"
    }
   ],
   "source": [
    "df.retweets[df.retweets>0].count()/df.retweets.count()"
   ]
  },
  {
   "cell_type": "code",
   "execution_count": 50,
   "id": "26689fca",
   "metadata": {},
   "outputs": [
    {
     "data": {
      "text/html": [
       "<div>\n",
       "<style scoped>\n",
       "    .dataframe tbody tr th:only-of-type {\n",
       "        vertical-align: middle;\n",
       "    }\n",
       "\n",
       "    .dataframe tbody tr th {\n",
       "        vertical-align: top;\n",
       "    }\n",
       "\n",
       "    .dataframe thead th {\n",
       "        text-align: right;\n",
       "    }\n",
       "</style>\n",
       "<table border=\"1\" class=\"dataframe\">\n",
       "  <thead>\n",
       "    <tr style=\"text-align: right;\">\n",
       "      <th></th>\n",
       "      <th>name</th>\n",
       "      <th>city</th>\n",
       "      <th>country</th>\n",
       "      <th>acount age</th>\n",
       "      <th>total tweets</th>\n",
       "      <th>followers</th>\n",
       "      <th>following</th>\n",
       "      <th>respectability</th>\n",
       "      <th>is respactable?</th>\n",
       "      <th>verified</th>\n",
       "      <th>text</th>\n",
       "      <th>views</th>\n",
       "      <th>likes</th>\n",
       "      <th>retweets</th>\n",
       "      <th>quote retweets</th>\n",
       "      <th>comments</th>\n",
       "      <th>word count</th>\n",
       "      <th>is quote</th>\n",
       "      <th>hashtag count</th>\n",
       "      <th>trending</th>\n",
       "      <th>using trends?</th>\n",
       "      <th>link to tweet</th>\n",
       "    </tr>\n",
       "  </thead>\n",
       "  <tbody>\n",
       "    <tr>\n",
       "      <th>count</th>\n",
       "      <td>10767</td>\n",
       "      <td>10767</td>\n",
       "      <td>10767</td>\n",
       "      <td>10767.000000</td>\n",
       "      <td>1.076700e+04</td>\n",
       "      <td>1.076700e+04</td>\n",
       "      <td>10767.000000</td>\n",
       "      <td>10767.000000</td>\n",
       "      <td>10767.000000</td>\n",
       "      <td>10767</td>\n",
       "      <td>10767</td>\n",
       "      <td>10767.000000</td>\n",
       "      <td>10767.000000</td>\n",
       "      <td>10767.000000</td>\n",
       "      <td>10767.000000</td>\n",
       "      <td>10767.000000</td>\n",
       "      <td>10767.000000</td>\n",
       "      <td>10767</td>\n",
       "      <td>10767.000000</td>\n",
       "      <td>10767</td>\n",
       "      <td>10767</td>\n",
       "      <td>10767</td>\n",
       "    </tr>\n",
       "    <tr>\n",
       "      <th>unique</th>\n",
       "      <td>9367</td>\n",
       "      <td>2844</td>\n",
       "      <td>5</td>\n",
       "      <td>NaN</td>\n",
       "      <td>NaN</td>\n",
       "      <td>NaN</td>\n",
       "      <td>NaN</td>\n",
       "      <td>NaN</td>\n",
       "      <td>NaN</td>\n",
       "      <td>2</td>\n",
       "      <td>10767</td>\n",
       "      <td>NaN</td>\n",
       "      <td>NaN</td>\n",
       "      <td>NaN</td>\n",
       "      <td>NaN</td>\n",
       "      <td>NaN</td>\n",
       "      <td>NaN</td>\n",
       "      <td>2</td>\n",
       "      <td>NaN</td>\n",
       "      <td>241</td>\n",
       "      <td>2</td>\n",
       "      <td>10767</td>\n",
       "    </tr>\n",
       "    <tr>\n",
       "      <th>top</th>\n",
       "      <td>tmj_BC_retail</td>\n",
       "      <td>Toronto</td>\n",
       "      <td>United States</td>\n",
       "      <td>NaN</td>\n",
       "      <td>NaN</td>\n",
       "      <td>NaN</td>\n",
       "      <td>NaN</td>\n",
       "      <td>NaN</td>\n",
       "      <td>NaN</td>\n",
       "      <td>False</td>\n",
       "      <td>Just posted a photo @ Estadio Juan F.Cheo Lópe...</td>\n",
       "      <td>NaN</td>\n",
       "      <td>NaN</td>\n",
       "      <td>NaN</td>\n",
       "      <td>NaN</td>\n",
       "      <td>NaN</td>\n",
       "      <td>NaN</td>\n",
       "      <td>False</td>\n",
       "      <td>NaN</td>\n",
       "      <td>['Donny', 'Trossard', 'Jennie', 'Phineas', 'Fe...</td>\n",
       "      <td>False</td>\n",
       "      <td>https://www.twitter.com/CamuyArenas_AA/status/...</td>\n",
       "    </tr>\n",
       "    <tr>\n",
       "      <th>freq</th>\n",
       "      <td>3</td>\n",
       "      <td>402</td>\n",
       "      <td>3943</td>\n",
       "      <td>NaN</td>\n",
       "      <td>NaN</td>\n",
       "      <td>NaN</td>\n",
       "      <td>NaN</td>\n",
       "      <td>NaN</td>\n",
       "      <td>NaN</td>\n",
       "      <td>10414</td>\n",
       "      <td>1</td>\n",
       "      <td>NaN</td>\n",
       "      <td>NaN</td>\n",
       "      <td>NaN</td>\n",
       "      <td>NaN</td>\n",
       "      <td>NaN</td>\n",
       "      <td>NaN</td>\n",
       "      <td>7829</td>\n",
       "      <td>NaN</td>\n",
       "      <td>1142</td>\n",
       "      <td>10378</td>\n",
       "      <td>1</td>\n",
       "    </tr>\n",
       "    <tr>\n",
       "      <th>mean</th>\n",
       "      <td>NaN</td>\n",
       "      <td>NaN</td>\n",
       "      <td>NaN</td>\n",
       "      <td>10.636695</td>\n",
       "      <td>4.283842e+04</td>\n",
       "      <td>4.862575e+03</td>\n",
       "      <td>1478.621900</td>\n",
       "      <td>1.867945</td>\n",
       "      <td>0.662116</td>\n",
       "      <td>NaN</td>\n",
       "      <td>NaN</td>\n",
       "      <td>1093.270642</td>\n",
       "      <td>12.671682</td>\n",
       "      <td>2.323953</td>\n",
       "      <td>0.163370</td>\n",
       "      <td>1.068636</td>\n",
       "      <td>16.562924</td>\n",
       "      <td>NaN</td>\n",
       "      <td>0.640940</td>\n",
       "      <td>NaN</td>\n",
       "      <td>NaN</td>\n",
       "      <td>NaN</td>\n",
       "    </tr>\n",
       "    <tr>\n",
       "      <th>std</th>\n",
       "      <td>NaN</td>\n",
       "      <td>NaN</td>\n",
       "      <td>NaN</td>\n",
       "      <td>4.482510</td>\n",
       "      <td>8.703023e+05</td>\n",
       "      <td>7.723207e+04</td>\n",
       "      <td>5630.830716</td>\n",
       "      <td>7.654150</td>\n",
       "      <td>0.473011</td>\n",
       "      <td>NaN</td>\n",
       "      <td>NaN</td>\n",
       "      <td>7821.296873</td>\n",
       "      <td>140.667926</td>\n",
       "      <td>55.025730</td>\n",
       "      <td>2.946448</td>\n",
       "      <td>9.981193</td>\n",
       "      <td>12.612559</td>\n",
       "      <td>NaN</td>\n",
       "      <td>1.741994</td>\n",
       "      <td>NaN</td>\n",
       "      <td>NaN</td>\n",
       "      <td>NaN</td>\n",
       "    </tr>\n",
       "    <tr>\n",
       "      <th>min</th>\n",
       "      <td>NaN</td>\n",
       "      <td>NaN</td>\n",
       "      <td>NaN</td>\n",
       "      <td>0.100000</td>\n",
       "      <td>1.000000e+00</td>\n",
       "      <td>0.000000e+00</td>\n",
       "      <td>0.000000</td>\n",
       "      <td>0.000000</td>\n",
       "      <td>0.000000</td>\n",
       "      <td>NaN</td>\n",
       "      <td>NaN</td>\n",
       "      <td>0.000000</td>\n",
       "      <td>0.000000</td>\n",
       "      <td>0.000000</td>\n",
       "      <td>0.000000</td>\n",
       "      <td>0.000000</td>\n",
       "      <td>1.000000</td>\n",
       "      <td>NaN</td>\n",
       "      <td>0.000000</td>\n",
       "      <td>NaN</td>\n",
       "      <td>NaN</td>\n",
       "      <td>NaN</td>\n",
       "    </tr>\n",
       "    <tr>\n",
       "      <th>25%</th>\n",
       "      <td>NaN</td>\n",
       "      <td>NaN</td>\n",
       "      <td>NaN</td>\n",
       "      <td>6.900000</td>\n",
       "      <td>2.462500e+03</td>\n",
       "      <td>2.420000e+02</td>\n",
       "      <td>292.000000</td>\n",
       "      <td>0.553326</td>\n",
       "      <td>0.000000</td>\n",
       "      <td>NaN</td>\n",
       "      <td>NaN</td>\n",
       "      <td>44.000000</td>\n",
       "      <td>0.000000</td>\n",
       "      <td>0.000000</td>\n",
       "      <td>0.000000</td>\n",
       "      <td>0.000000</td>\n",
       "      <td>7.000000</td>\n",
       "      <td>NaN</td>\n",
       "      <td>0.000000</td>\n",
       "      <td>NaN</td>\n",
       "      <td>NaN</td>\n",
       "      <td>NaN</td>\n",
       "    </tr>\n",
       "    <tr>\n",
       "      <th>50%</th>\n",
       "      <td>NaN</td>\n",
       "      <td>NaN</td>\n",
       "      <td>NaN</td>\n",
       "      <td>11.900000</td>\n",
       "      <td>9.484000e+03</td>\n",
       "      <td>6.640000e+02</td>\n",
       "      <td>699.000000</td>\n",
       "      <td>1.086514</td>\n",
       "      <td>1.000000</td>\n",
       "      <td>NaN</td>\n",
       "      <td>NaN</td>\n",
       "      <td>130.000000</td>\n",
       "      <td>1.000000</td>\n",
       "      <td>0.000000</td>\n",
       "      <td>0.000000</td>\n",
       "      <td>0.000000</td>\n",
       "      <td>13.000000</td>\n",
       "      <td>NaN</td>\n",
       "      <td>0.000000</td>\n",
       "      <td>NaN</td>\n",
       "      <td>NaN</td>\n",
       "      <td>NaN</td>\n",
       "    </tr>\n",
       "    <tr>\n",
       "      <th>75%</th>\n",
       "      <td>NaN</td>\n",
       "      <td>NaN</td>\n",
       "      <td>NaN</td>\n",
       "      <td>14.300000</td>\n",
       "      <td>2.903150e+04</td>\n",
       "      <td>1.862000e+03</td>\n",
       "      <td>1578.500000</td>\n",
       "      <td>2.047466</td>\n",
       "      <td>1.000000</td>\n",
       "      <td>NaN</td>\n",
       "      <td>NaN</td>\n",
       "      <td>428.000000</td>\n",
       "      <td>4.000000</td>\n",
       "      <td>0.000000</td>\n",
       "      <td>0.000000</td>\n",
       "      <td>1.000000</td>\n",
       "      <td>23.000000</td>\n",
       "      <td>NaN</td>\n",
       "      <td>0.000000</td>\n",
       "      <td>NaN</td>\n",
       "      <td>NaN</td>\n",
       "      <td>NaN</td>\n",
       "    </tr>\n",
       "    <tr>\n",
       "      <th>max</th>\n",
       "      <td>NaN</td>\n",
       "      <td>NaN</td>\n",
       "      <td>NaN</td>\n",
       "      <td>19.200000</td>\n",
       "      <td>5.204026e+07</td>\n",
       "      <td>6.752268e+06</td>\n",
       "      <td>435333.000000</td>\n",
       "      <td>740.000000</td>\n",
       "      <td>1.000000</td>\n",
       "      <td>NaN</td>\n",
       "      <td>NaN</td>\n",
       "      <td>414784.000000</td>\n",
       "      <td>10007.000000</td>\n",
       "      <td>4826.000000</td>\n",
       "      <td>261.000000</td>\n",
       "      <td>538.000000</td>\n",
       "      <td>67.000000</td>\n",
       "      <td>NaN</td>\n",
       "      <td>22.000000</td>\n",
       "      <td>NaN</td>\n",
       "      <td>NaN</td>\n",
       "      <td>NaN</td>\n",
       "    </tr>\n",
       "  </tbody>\n",
       "</table>\n",
       "</div>"
      ],
      "text/plain": [
       "                 name     city        country    acount age  total tweets  \\\n",
       "count           10767    10767          10767  10767.000000  1.076700e+04   \n",
       "unique           9367     2844              5           NaN           NaN   \n",
       "top     tmj_BC_retail  Toronto  United States           NaN           NaN   \n",
       "freq                3      402           3943           NaN           NaN   \n",
       "mean              NaN      NaN            NaN     10.636695  4.283842e+04   \n",
       "std               NaN      NaN            NaN      4.482510  8.703023e+05   \n",
       "min               NaN      NaN            NaN      0.100000  1.000000e+00   \n",
       "25%               NaN      NaN            NaN      6.900000  2.462500e+03   \n",
       "50%               NaN      NaN            NaN     11.900000  9.484000e+03   \n",
       "75%               NaN      NaN            NaN     14.300000  2.903150e+04   \n",
       "max               NaN      NaN            NaN     19.200000  5.204026e+07   \n",
       "\n",
       "           followers      following  respectability  is respactable? verified  \\\n",
       "count   1.076700e+04   10767.000000    10767.000000     10767.000000    10767   \n",
       "unique           NaN            NaN             NaN              NaN        2   \n",
       "top              NaN            NaN             NaN              NaN    False   \n",
       "freq             NaN            NaN             NaN              NaN    10414   \n",
       "mean    4.862575e+03    1478.621900        1.867945         0.662116      NaN   \n",
       "std     7.723207e+04    5630.830716        7.654150         0.473011      NaN   \n",
       "min     0.000000e+00       0.000000        0.000000         0.000000      NaN   \n",
       "25%     2.420000e+02     292.000000        0.553326         0.000000      NaN   \n",
       "50%     6.640000e+02     699.000000        1.086514         1.000000      NaN   \n",
       "75%     1.862000e+03    1578.500000        2.047466         1.000000      NaN   \n",
       "max     6.752268e+06  435333.000000      740.000000         1.000000      NaN   \n",
       "\n",
       "                                                     text          views  \\\n",
       "count                                               10767   10767.000000   \n",
       "unique                                              10767            NaN   \n",
       "top     Just posted a photo @ Estadio Juan F.Cheo Lópe...            NaN   \n",
       "freq                                                    1            NaN   \n",
       "mean                                                  NaN    1093.270642   \n",
       "std                                                   NaN    7821.296873   \n",
       "min                                                   NaN       0.000000   \n",
       "25%                                                   NaN      44.000000   \n",
       "50%                                                   NaN     130.000000   \n",
       "75%                                                   NaN     428.000000   \n",
       "max                                                   NaN  414784.000000   \n",
       "\n",
       "               likes      retweets  quote retweets      comments  \\\n",
       "count   10767.000000  10767.000000    10767.000000  10767.000000   \n",
       "unique           NaN           NaN             NaN           NaN   \n",
       "top              NaN           NaN             NaN           NaN   \n",
       "freq             NaN           NaN             NaN           NaN   \n",
       "mean       12.671682      2.323953        0.163370      1.068636   \n",
       "std       140.667926     55.025730        2.946448      9.981193   \n",
       "min         0.000000      0.000000        0.000000      0.000000   \n",
       "25%         0.000000      0.000000        0.000000      0.000000   \n",
       "50%         1.000000      0.000000        0.000000      0.000000   \n",
       "75%         4.000000      0.000000        0.000000      1.000000   \n",
       "max     10007.000000   4826.000000      261.000000    538.000000   \n",
       "\n",
       "          word count is quote  hashtag count  \\\n",
       "count   10767.000000    10767   10767.000000   \n",
       "unique           NaN        2            NaN   \n",
       "top              NaN    False            NaN   \n",
       "freq             NaN     7829            NaN   \n",
       "mean       16.562924      NaN       0.640940   \n",
       "std        12.612559      NaN       1.741994   \n",
       "min         1.000000      NaN       0.000000   \n",
       "25%         7.000000      NaN       0.000000   \n",
       "50%        13.000000      NaN       0.000000   \n",
       "75%        23.000000      NaN       0.000000   \n",
       "max        67.000000      NaN      22.000000   \n",
       "\n",
       "                                                 trending using trends?  \\\n",
       "count                                               10767         10767   \n",
       "unique                                                241             2   \n",
       "top     ['Donny', 'Trossard', 'Jennie', 'Phineas', 'Fe...         False   \n",
       "freq                                                 1142         10378   \n",
       "mean                                                  NaN           NaN   \n",
       "std                                                   NaN           NaN   \n",
       "min                                                   NaN           NaN   \n",
       "25%                                                   NaN           NaN   \n",
       "50%                                                   NaN           NaN   \n",
       "75%                                                   NaN           NaN   \n",
       "max                                                   NaN           NaN   \n",
       "\n",
       "                                            link to tweet  \n",
       "count                                               10767  \n",
       "unique                                              10767  \n",
       "top     https://www.twitter.com/CamuyArenas_AA/status/...  \n",
       "freq                                                    1  \n",
       "mean                                                  NaN  \n",
       "std                                                   NaN  \n",
       "min                                                   NaN  \n",
       "25%                                                   NaN  \n",
       "50%                                                   NaN  \n",
       "75%                                                   NaN  \n",
       "max                                                   NaN  "
      ]
     },
     "execution_count": 50,
     "metadata": {},
     "output_type": "execute_result"
    }
   ],
   "source": [
    "df.describe(include='all')"
   ]
  },
  {
   "cell_type": "code",
   "execution_count": 51,
   "id": "b8d4bf99",
   "metadata": {},
   "outputs": [
    {
     "data": {
      "text/plain": [
       "2"
      ]
     },
     "execution_count": 51,
     "metadata": {},
     "output_type": "execute_result"
    }
   ],
   "source": [
    "df.retweets[df.retweets>1500].count()"
   ]
  },
  {
   "cell_type": "code",
   "execution_count": 104,
   "id": "4117996f",
   "metadata": {},
   "outputs": [
    {
     "data": {
      "text/plain": [
       "<matplotlib.collections.PathCollection at 0x1cf6c1ed790>"
      ]
     },
     "execution_count": 104,
     "metadata": {},
     "output_type": "execute_result"
    },
    {
     "data": {
      "image/png": "[encoded data removed]",
      "text/plain": [
       "<Figure size 640x480 with 1 Axes>"
      ]
     },
     "metadata": {},
     "output_type": "display_data"
    }
   ],
   "source": [
    "plt.scatter(df['word count'],df['likes'])"
   ]
  },
  {
   "cell_type": "code",
   "execution_count": 105,
   "id": "a6341e76",
   "metadata": {},
   "outputs": [
    {
     "data": {
      "text/plain": [
       "<matplotlib.collections.PathCollection at 0x1cf6d4d5340>"
      ]
     },
     "execution_count": 105,
     "metadata": {},
     "output_type": "execute_result"
    },
    {
     "data": {
      "image/png": "[encoded data removed]",
      "text/plain": [
       "<Figure size 640x480 with 1 Axes>"
      ]
     },
     "metadata": {},
     "output_type": "display_data"
    }
   ],
   "source": [
    "plt.scatter(df['word count'],df['retweets'])"
   ]
  },
  {
   "cell_type": "code",
   "execution_count": 107,
   "id": "d12aea4b",
   "metadata": {},
   "outputs": [
    {
     "data": {
      "text/plain": [
       "(array([9.591e+03, 3.000e+00]),\n",
       " array([   0. ,  516.5, 1033. ]),\n",
       " <BarContainer object of 2 artists>)"
      ]
     },
     "execution_count": 107,
     "metadata": {},
     "output_type": "execute_result"
    },
    {
     "data": {
      "image/png": "[encoded data removed]",
      "text/plain": [
       "<Figure size 640x480 with 1 Axes>"
      ]
     },
     "metadata": {},
     "output_type": "display_data"
    }
   ],
   "source": [
    "plt.hist(df['retweets'],bins=2)"
   ]
  },
  {
   "cell_type": "code",
   "execution_count": 108,
   "id": "1eb687d3",
   "metadata": {},
   "outputs": [
    {
     "data": {
      "text/plain": [
       "0      7556\n",
       "1       995\n",
       "2       318\n",
       "3       184\n",
       "4        93\n",
       "       ... \n",
       "93        1\n",
       "190       1\n",
       "111       1\n",
       "31        1\n",
       "798       1\n",
       "Name: retweets, Length: 81, dtype: int64"
      ]
     },
     "execution_count": 108,
     "metadata": {},
     "output_type": "execute_result"
    }
   ],
   "source": [
    "df['retweets'].value_counts()"
   ]
  },
  {
   "cell_type": "code",
   "execution_count": 109,
   "id": "e281c62d",
   "metadata": {},
   "outputs": [
    {
     "data": {
      "text/html": [
       "<div>\n",
       "<style scoped>\n",
       "    .dataframe tbody tr th:only-of-type {\n",
       "        vertical-align: middle;\n",
       "    }\n",
       "\n",
       "    .dataframe tbody tr th {\n",
       "        vertical-align: top;\n",
       "    }\n",
       "\n",
       "    .dataframe thead th {\n",
       "        text-align: right;\n",
       "    }\n",
       "</style>\n",
       "<table border=\"1\" class=\"dataframe\">\n",
       "  <thead>\n",
       "    <tr style=\"text-align: right;\">\n",
       "      <th>is respactable?</th>\n",
       "      <th>0</th>\n",
       "      <th>1</th>\n",
       "    </tr>\n",
       "    <tr>\n",
       "      <th>likes</th>\n",
       "      <th></th>\n",
       "      <th></th>\n",
       "    </tr>\n",
       "  </thead>\n",
       "  <tbody>\n",
       "    <tr>\n",
       "      <th>0</th>\n",
       "      <td>0.257598</td>\n",
       "      <td>0.742402</td>\n",
       "    </tr>\n",
       "    <tr>\n",
       "      <th>1</th>\n",
       "      <td>0.274448</td>\n",
       "      <td>0.725552</td>\n",
       "    </tr>\n",
       "    <tr>\n",
       "      <th>2</th>\n",
       "      <td>0.311189</td>\n",
       "      <td>0.688811</td>\n",
       "    </tr>\n",
       "    <tr>\n",
       "      <th>3</th>\n",
       "      <td>0.333333</td>\n",
       "      <td>0.666667</td>\n",
       "    </tr>\n",
       "    <tr>\n",
       "      <th>4</th>\n",
       "      <td>0.340058</td>\n",
       "      <td>0.659942</td>\n",
       "    </tr>\n",
       "    <tr>\n",
       "      <th>...</th>\n",
       "      <td>...</td>\n",
       "      <td>...</td>\n",
       "    </tr>\n",
       "    <tr>\n",
       "      <th>2760</th>\n",
       "      <td>1.000000</td>\n",
       "      <td>0.000000</td>\n",
       "    </tr>\n",
       "    <tr>\n",
       "      <th>2789</th>\n",
       "      <td>1.000000</td>\n",
       "      <td>0.000000</td>\n",
       "    </tr>\n",
       "    <tr>\n",
       "      <th>2958</th>\n",
       "      <td>1.000000</td>\n",
       "      <td>0.000000</td>\n",
       "    </tr>\n",
       "    <tr>\n",
       "      <th>3042</th>\n",
       "      <td>0.000000</td>\n",
       "      <td>1.000000</td>\n",
       "    </tr>\n",
       "    <tr>\n",
       "      <th>4255</th>\n",
       "      <td>0.000000</td>\n",
       "      <td>1.000000</td>\n",
       "    </tr>\n",
       "  </tbody>\n",
       "</table>\n",
       "<p>218 rows × 2 columns</p>\n",
       "</div>"
      ],
      "text/plain": [
       "is respactable?         0         1\n",
       "likes                              \n",
       "0                0.257598  0.742402\n",
       "1                0.274448  0.725552\n",
       "2                0.311189  0.688811\n",
       "3                0.333333  0.666667\n",
       "4                0.340058  0.659942\n",
       "...                   ...       ...\n",
       "2760             1.000000  0.000000\n",
       "2789             1.000000  0.000000\n",
       "2958             1.000000  0.000000\n",
       "3042             0.000000  1.000000\n",
       "4255             0.000000  1.000000\n",
       "\n",
       "[218 rows x 2 columns]"
      ]
     },
     "execution_count": 109,
     "metadata": {},
     "output_type": "execute_result"
    }
   ],
   "source": [
    "ct1=pd.crosstab(df['likes'],df['is respactable?'],normalize='index')\n",
    "ct1"
   ]
  },
  {
   "cell_type": "code",
   "execution_count": 110,
   "id": "415c9149",
   "metadata": {},
   "outputs": [
    {
     "data": {
      "text/plain": [
       "<AxesSubplot:xlabel='likes'>"
      ]
     },
     "execution_count": 110,
     "metadata": {},
     "output_type": "execute_result"
    },
    {
     "data": {
      "image/png": "[encoded data removed]",
      "text/plain": [
       "<Figure size 640x480 with 1 Axes>"
      ]
     },
     "metadata": {},
     "output_type": "display_data"
    }
   ],
   "source": [
    "ct1.plot(kind='bar')"
   ]
  },
  {
   "cell_type": "code",
   "execution_count": 111,
   "id": "0f2ae4e8",
   "metadata": {},
   "outputs": [
    {
     "data": {
      "text/html": [
       "<div>\n",
       "<style scoped>\n",
       "    .dataframe tbody tr th:only-of-type {\n",
       "        vertical-align: middle;\n",
       "    }\n",
       "\n",
       "    .dataframe tbody tr th {\n",
       "        vertical-align: top;\n",
       "    }\n",
       "\n",
       "    .dataframe thead th {\n",
       "        text-align: right;\n",
       "    }\n",
       "</style>\n",
       "<table border=\"1\" class=\"dataframe\">\n",
       "  <thead>\n",
       "    <tr style=\"text-align: right;\">\n",
       "      <th>is respactable?</th>\n",
       "      <th>0</th>\n",
       "      <th>1</th>\n",
       "    </tr>\n",
       "    <tr>\n",
       "      <th>verified</th>\n",
       "      <th></th>\n",
       "      <th></th>\n",
       "    </tr>\n",
       "  </thead>\n",
       "  <tbody>\n",
       "    <tr>\n",
       "      <th>False</th>\n",
       "      <td>0.313882</td>\n",
       "      <td>0.686118</td>\n",
       "    </tr>\n",
       "    <tr>\n",
       "      <th>True</th>\n",
       "      <td>0.869969</td>\n",
       "      <td>0.130031</td>\n",
       "    </tr>\n",
       "  </tbody>\n",
       "</table>\n",
       "</div>"
      ],
      "text/plain": [
       "is respactable?         0         1\n",
       "verified                           \n",
       "False            0.313882  0.686118\n",
       "True             0.869969  0.130031"
      ]
     },
     "execution_count": 111,
     "metadata": {},
     "output_type": "execute_result"
    }
   ],
   "source": [
    "ct2=pd.crosstab(df['verified'],df['is respactable?'],normalize='index')\n",
    "ct2"
   ]
  },
  {
   "cell_type": "code",
   "execution_count": 112,
   "id": "e488cf8d",
   "metadata": {},
   "outputs": [
    {
     "data": {
      "text/plain": [
       "<AxesSubplot:xlabel='verified'>"
      ]
     },
     "execution_count": 112,
     "metadata": {},
     "output_type": "execute_result"
    },
    {
     "data": {
      "image/png": "[encoded data removed]",
      "text/plain": [
       "<Figure size 640x480 with 1 Axes>"
      ]
     },
     "metadata": {},
     "output_type": "display_data"
    }
   ],
   "source": [
    "ct2.plot(kind='bar')"
   ]
  },
  {
   "cell_type": "code",
   "execution_count": 113,
   "id": "33f919bd",
   "metadata": {},
   "outputs": [
    {
     "data": {
      "text/html": [
       "<div>\n",
       "<style scoped>\n",
       "    .dataframe tbody tr th:only-of-type {\n",
       "        vertical-align: middle;\n",
       "    }\n",
       "\n",
       "    .dataframe tbody tr th {\n",
       "        vertical-align: top;\n",
       "    }\n",
       "\n",
       "    .dataframe thead th {\n",
       "        text-align: right;\n",
       "    }\n",
       "</style>\n",
       "<table border=\"1\" class=\"dataframe\">\n",
       "  <thead>\n",
       "    <tr style=\"text-align: right;\">\n",
       "      <th>is respactable?</th>\n",
       "      <th>0</th>\n",
       "      <th>1</th>\n",
       "    </tr>\n",
       "    <tr>\n",
       "      <th>country</th>\n",
       "      <th></th>\n",
       "      <th></th>\n",
       "    </tr>\n",
       "  </thead>\n",
       "  <tbody>\n",
       "    <tr>\n",
       "      <th>Australia</th>\n",
       "      <td>0.317976</td>\n",
       "      <td>0.682024</td>\n",
       "    </tr>\n",
       "    <tr>\n",
       "      <th>Canada</th>\n",
       "      <td>0.351648</td>\n",
       "      <td>0.648352</td>\n",
       "    </tr>\n",
       "    <tr>\n",
       "      <th>New Zealand</th>\n",
       "      <td>0.353414</td>\n",
       "      <td>0.646586</td>\n",
       "    </tr>\n",
       "    <tr>\n",
       "      <th>United Kingdom</th>\n",
       "      <td>0.261635</td>\n",
       "      <td>0.738365</td>\n",
       "    </tr>\n",
       "    <tr>\n",
       "      <th>United States</th>\n",
       "      <td>0.377428</td>\n",
       "      <td>0.622572</td>\n",
       "    </tr>\n",
       "  </tbody>\n",
       "</table>\n",
       "</div>"
      ],
      "text/plain": [
       "is respactable?         0         1\n",
       "country                            \n",
       "Australia        0.317976  0.682024\n",
       "Canada           0.351648  0.648352\n",
       "New Zealand      0.353414  0.646586\n",
       "United Kingdom   0.261635  0.738365\n",
       "United States    0.377428  0.622572"
      ]
     },
     "execution_count": 113,
     "metadata": {},
     "output_type": "execute_result"
    }
   ],
   "source": [
    "ct3=pd.crosstab(df['country'],df['is respactable?'],normalize='index')\n",
    "ct3"
   ]
  },
  {
   "cell_type": "code",
   "execution_count": 114,
   "id": "55584151",
   "metadata": {},
   "outputs": [
    {
     "data": {
      "text/plain": [
       "<AxesSubplot:xlabel='country'>"
      ]
     },
     "execution_count": 114,
     "metadata": {},
     "output_type": "execute_result"
    },
    {
     "data": {
      "image/png": "[encoded data removed]",
      "text/plain": [
       "<Figure size 640x480 with 1 Axes>"
      ]
     },
     "metadata": {},
     "output_type": "display_data"
    }
   ],
   "source": [
    "ct3.plot(kind='bar')"
   ]
  },
  {
   "cell_type": "code",
   "execution_count": 115,
   "id": "d89e14e6",
   "metadata": {},
   "outputs": [
    {
     "data": {
      "text/plain": [
       "(113.48975396323593,\n",
       " 0.9999999993245264,\n",
       " 217,\n",
       " array([[0.75724153, 0.24275847],\n",
       "        [0.75724153, 0.24275847],\n",
       "        [0.75724153, 0.24275847],\n",
       "        [0.75724153, 0.24275847],\n",
       "        [0.75724153, 0.24275847],\n",
       "        [0.75724153, 0.24275847],\n",
       "        [0.75724153, 0.24275847],\n",
       "        [0.75724153, 0.24275847],\n",
       "        [0.75724153, 0.24275847],\n",
       "        [0.75724153, 0.24275847],\n",
       "        [0.75724153, 0.24275847],\n",
       "        [0.75724153, 0.24275847],\n",
       "        [0.75724153, 0.24275847],\n",
       "        [0.75724153, 0.24275847],\n",
       "        [0.75724153, 0.24275847],\n",
       "        [0.75724153, 0.24275847],\n",
       "        [0.75724153, 0.24275847],\n",
       "        [0.75724153, 0.24275847],\n",
       "        [0.75724153, 0.24275847],\n",
       "        [0.75724153, 0.24275847],\n",
       "        [0.75724153, 0.24275847],\n",
       "        [0.75724153, 0.24275847],\n",
       "        [0.75724153, 0.24275847],\n",
       "        [0.75724153, 0.24275847],\n",
       "        [0.75724153, 0.24275847],\n",
       "        [0.75724153, 0.24275847],\n",
       "        [0.75724153, 0.24275847],\n",
       "        [0.75724153, 0.24275847],\n",
       "        [0.75724153, 0.24275847],\n",
       "        [0.75724153, 0.24275847],\n",
       "        [0.75724153, 0.24275847],\n",
       "        [0.75724153, 0.24275847],\n",
       "        [0.75724153, 0.24275847],\n",
       "        [0.75724153, 0.24275847],\n",
       "        [0.75724153, 0.24275847],\n",
       "        [0.75724153, 0.24275847],\n",
       "        [0.75724153, 0.24275847],\n",
       "        [0.75724153, 0.24275847],\n",
       "        [0.75724153, 0.24275847],\n",
       "        [0.75724153, 0.24275847],\n",
       "        [0.75724153, 0.24275847],\n",
       "        [0.75724153, 0.24275847],\n",
       "        [0.75724153, 0.24275847],\n",
       "        [0.75724153, 0.24275847],\n",
       "        [0.75724153, 0.24275847],\n",
       "        [0.75724153, 0.24275847],\n",
       "        [0.75724153, 0.24275847],\n",
       "        [0.75724153, 0.24275847],\n",
       "        [0.75724153, 0.24275847],\n",
       "        [0.75724153, 0.24275847],\n",
       "        [0.75724153, 0.24275847],\n",
       "        [0.75724153, 0.24275847],\n",
       "        [0.75724153, 0.24275847],\n",
       "        [0.75724153, 0.24275847],\n",
       "        [0.75724153, 0.24275847],\n",
       "        [0.75724153, 0.24275847],\n",
       "        [0.75724153, 0.24275847],\n",
       "        [0.75724153, 0.24275847],\n",
       "        [0.75724153, 0.24275847],\n",
       "        [0.75724153, 0.24275847],\n",
       "        [0.75724153, 0.24275847],\n",
       "        [0.75724153, 0.24275847],\n",
       "        [0.75724153, 0.24275847],\n",
       "        [0.75724153, 0.24275847],\n",
       "        [0.75724153, 0.24275847],\n",
       "        [0.75724153, 0.24275847],\n",
       "        [0.75724153, 0.24275847],\n",
       "        [0.75724153, 0.24275847],\n",
       "        [0.75724153, 0.24275847],\n",
       "        [0.75724153, 0.24275847],\n",
       "        [0.75724153, 0.24275847],\n",
       "        [0.75724153, 0.24275847],\n",
       "        [0.75724153, 0.24275847],\n",
       "        [0.75724153, 0.24275847],\n",
       "        [0.75724153, 0.24275847],\n",
       "        [0.75724153, 0.24275847],\n",
       "        [0.75724153, 0.24275847],\n",
       "        [0.75724153, 0.24275847],\n",
       "        [0.75724153, 0.24275847],\n",
       "        [0.75724153, 0.24275847],\n",
       "        [0.75724153, 0.24275847],\n",
       "        [0.75724153, 0.24275847],\n",
       "        [0.75724153, 0.24275847],\n",
       "        [0.75724153, 0.24275847],\n",
       "        [0.75724153, 0.24275847],\n",
       "        [0.75724153, 0.24275847],\n",
       "        [0.75724153, 0.24275847],\n",
       "        [0.75724153, 0.24275847],\n",
       "        [0.75724153, 0.24275847],\n",
       "        [0.75724153, 0.24275847],\n",
       "        [0.75724153, 0.24275847],\n",
       "        [0.75724153, 0.24275847],\n",
       "        [0.75724153, 0.24275847],\n",
       "        [0.75724153, 0.24275847],\n",
       "        [0.75724153, 0.24275847],\n",
       "        [0.75724153, 0.24275847],\n",
       "        [0.75724153, 0.24275847],\n",
       "        [0.75724153, 0.24275847],\n",
       "        [0.75724153, 0.24275847],\n",
       "        [0.75724153, 0.24275847],\n",
       "        [0.75724153, 0.24275847],\n",
       "        [0.75724153, 0.24275847],\n",
       "        [0.75724153, 0.24275847],\n",
       "        [0.75724153, 0.24275847],\n",
       "        [0.75724153, 0.24275847],\n",
       "        [0.75724153, 0.24275847],\n",
       "        [0.75724153, 0.24275847],\n",
       "        [0.75724153, 0.24275847],\n",
       "        [0.75724153, 0.24275847],\n",
       "        [0.75724153, 0.24275847],\n",
       "        [0.75724153, 0.24275847],\n",
       "        [0.75724153, 0.24275847],\n",
       "        [0.75724153, 0.24275847],\n",
       "        [0.75724153, 0.24275847],\n",
       "        [0.75724153, 0.24275847],\n",
       "        [0.75724153, 0.24275847],\n",
       "        [0.75724153, 0.24275847],\n",
       "        [0.75724153, 0.24275847],\n",
       "        [0.75724153, 0.24275847],\n",
       "        [0.75724153, 0.24275847],\n",
       "        [0.75724153, 0.24275847],\n",
       "        [0.75724153, 0.24275847],\n",
       "        [0.75724153, 0.24275847],\n",
       "        [0.75724153, 0.24275847],\n",
       "        [0.75724153, 0.24275847],\n",
       "        [0.75724153, 0.24275847],\n",
       "        [0.75724153, 0.24275847],\n",
       "        [0.75724153, 0.24275847],\n",
       "        [0.75724153, 0.24275847],\n",
       "        [0.75724153, 0.24275847],\n",
       "        [0.75724153, 0.24275847],\n",
       "        [0.75724153, 0.24275847],\n",
       "        [0.75724153, 0.24275847],\n",
       "        [0.75724153, 0.24275847],\n",
       "        [0.75724153, 0.24275847],\n",
       "        [0.75724153, 0.24275847],\n",
       "        [0.75724153, 0.24275847],\n",
       "        [0.75724153, 0.24275847],\n",
       "        [0.75724153, 0.24275847],\n",
       "        [0.75724153, 0.24275847],\n",
       "        [0.75724153, 0.24275847],\n",
       "        [0.75724153, 0.24275847],\n",
       "        [0.75724153, 0.24275847],\n",
       "        [0.75724153, 0.24275847],\n",
       "        [0.75724153, 0.24275847],\n",
       "        [0.75724153, 0.24275847],\n",
       "        [0.75724153, 0.24275847],\n",
       "        [0.75724153, 0.24275847],\n",
       "        [0.75724153, 0.24275847],\n",
       "        [0.75724153, 0.24275847],\n",
       "        [0.75724153, 0.24275847],\n",
       "        [0.75724153, 0.24275847],\n",
       "        [0.75724153, 0.24275847],\n",
       "        [0.75724153, 0.24275847],\n",
       "        [0.75724153, 0.24275847],\n",
       "        [0.75724153, 0.24275847],\n",
       "        [0.75724153, 0.24275847],\n",
       "        [0.75724153, 0.24275847],\n",
       "        [0.75724153, 0.24275847],\n",
       "        [0.75724153, 0.24275847],\n",
       "        [0.75724153, 0.24275847],\n",
       "        [0.75724153, 0.24275847],\n",
       "        [0.75724153, 0.24275847],\n",
       "        [0.75724153, 0.24275847],\n",
       "        [0.75724153, 0.24275847],\n",
       "        [0.75724153, 0.24275847],\n",
       "        [0.75724153, 0.24275847],\n",
       "        [0.75724153, 0.24275847],\n",
       "        [0.75724153, 0.24275847],\n",
       "        [0.75724153, 0.24275847],\n",
       "        [0.75724153, 0.24275847],\n",
       "        [0.75724153, 0.24275847],\n",
       "        [0.75724153, 0.24275847],\n",
       "        [0.75724153, 0.24275847],\n",
       "        [0.75724153, 0.24275847],\n",
       "        [0.75724153, 0.24275847],\n",
       "        [0.75724153, 0.24275847],\n",
       "        [0.75724153, 0.24275847],\n",
       "        [0.75724153, 0.24275847],\n",
       "        [0.75724153, 0.24275847],\n",
       "        [0.75724153, 0.24275847],\n",
       "        [0.75724153, 0.24275847],\n",
       "        [0.75724153, 0.24275847],\n",
       "        [0.75724153, 0.24275847],\n",
       "        [0.75724153, 0.24275847],\n",
       "        [0.75724153, 0.24275847],\n",
       "        [0.75724153, 0.24275847],\n",
       "        [0.75724153, 0.24275847],\n",
       "        [0.75724153, 0.24275847],\n",
       "        [0.75724153, 0.24275847],\n",
       "        [0.75724153, 0.24275847],\n",
       "        [0.75724153, 0.24275847],\n",
       "        [0.75724153, 0.24275847],\n",
       "        [0.75724153, 0.24275847],\n",
       "        [0.75724153, 0.24275847],\n",
       "        [0.75724153, 0.24275847],\n",
       "        [0.75724153, 0.24275847],\n",
       "        [0.75724153, 0.24275847],\n",
       "        [0.75724153, 0.24275847],\n",
       "        [0.75724153, 0.24275847],\n",
       "        [0.75724153, 0.24275847],\n",
       "        [0.75724153, 0.24275847],\n",
       "        [0.75724153, 0.24275847],\n",
       "        [0.75724153, 0.24275847],\n",
       "        [0.75724153, 0.24275847],\n",
       "        [0.75724153, 0.24275847],\n",
       "        [0.75724153, 0.24275847],\n",
       "        [0.75724153, 0.24275847],\n",
       "        [0.75724153, 0.24275847],\n",
       "        [0.75724153, 0.24275847],\n",
       "        [0.75724153, 0.24275847],\n",
       "        [0.75724153, 0.24275847],\n",
       "        [0.75724153, 0.24275847],\n",
       "        [0.75724153, 0.24275847],\n",
       "        [0.75724153, 0.24275847],\n",
       "        [0.75724153, 0.24275847],\n",
       "        [0.75724153, 0.24275847],\n",
       "        [0.75724153, 0.24275847]]))"
      ]
     },
     "execution_count": 115,
     "metadata": {},
     "output_type": "execute_result"
    }
   ],
   "source": [
    "chi2_contingency(ct1)#לייקים ליחס עוקבים"
   ]
  },
  {
   "cell_type": "code",
   "execution_count": 116,
   "id": "fa6fcc5c",
   "metadata": {},
   "outputs": [
    {
     "data": {
      "text/plain": [
       "(0.0,\n",
       " 1.0,\n",
       " 1,\n",
       " array([[0.59192552, 0.40807448],\n",
       "        [0.59192552, 0.40807448]]))"
      ]
     },
     "execution_count": 116,
     "metadata": {},
     "output_type": "execute_result"
    }
   ],
   "source": [
    "chi2_contingency(ct2)#מאומת ויחס עוקבים"
   ]
  },
  {
   "cell_type": "code",
   "execution_count": 118,
   "id": "7e072d6f",
   "metadata": {},
   "outputs": [
    {
     "data": {
      "text/plain": [
       "(0.03629884593693801,\n",
       " 0.999837278541223,\n",
       " 4,\n",
       " array([[0.33242002, 0.66757998],\n",
       "        [0.33242002, 0.66757998],\n",
       "        [0.33242002, 0.66757998],\n",
       "        [0.33242002, 0.66757998],\n",
       "        [0.33242002, 0.66757998]]))"
      ]
     },
     "execution_count": 118,
     "metadata": {},
     "output_type": "execute_result"
    }
   ],
   "source": [
    "chi2_contingency(ct3)#אין קשר בין מדינה לאם יחס העוקבים שלך טוב או לא "
   ]
  },
  {
   "cell_type": "code",
   "execution_count": 119,
   "id": "a5db6411",
   "metadata": {},
   "outputs": [
    {
     "data": {
      "text/plain": [
       "(350.7116717501949,\n",
       " 0.11442255848483945,\n",
       " 320,\n",
       " array([[1.04275005e+03, 1.37312904e+02, 4.38849281e+01, 2.53925370e+01,\n",
       "         1.28342714e+01, 1.17302481e+01, 7.59016052e+00, 5.79612258e+00,\n",
       "         6.21013133e+00, 3.31207004e+00, 1.93204086e+00, 2.76005837e+00,\n",
       "         2.20804670e+00, 8.28017511e-01, 1.65603502e+00, 1.38002918e+00,\n",
       "         1.10402335e+00, 4.14008755e-01, 8.28017511e-01, 1.10402335e+00,\n",
       "         6.90014592e-01, 6.90014592e-01, 8.28017511e-01, 2.76005837e-01,\n",
       "         1.38002918e-01, 1.38002918e-01, 4.14008755e-01, 5.52011674e-01,\n",
       "         1.38002918e-01, 2.76005837e-01, 2.76005837e-01, 2.76005837e-01,\n",
       "         1.38002918e-01, 5.52011674e-01, 2.76005837e-01, 2.76005837e-01,\n",
       "         1.38002918e-01, 2.76005837e-01, 1.38002918e-01, 1.38002918e-01,\n",
       "         4.14008755e-01, 2.76005837e-01, 1.38002918e-01, 1.38002918e-01,\n",
       "         1.38002918e-01, 1.38002918e-01, 1.38002918e-01, 1.38002918e-01,\n",
       "         1.38002918e-01, 1.38002918e-01, 2.76005837e-01, 1.38002918e-01,\n",
       "         1.38002918e-01, 1.38002918e-01, 1.38002918e-01, 1.38002918e-01,\n",
       "         2.76005837e-01, 1.38002918e-01, 1.38002918e-01, 1.38002918e-01,\n",
       "         1.38002918e-01, 1.38002918e-01, 1.38002918e-01, 1.38002918e-01,\n",
       "         1.38002918e-01, 1.38002918e-01, 1.38002918e-01, 1.38002918e-01,\n",
       "         1.38002918e-01, 1.38002918e-01, 1.38002918e-01, 1.38002918e-01,\n",
       "         1.38002918e-01, 1.38002918e-01, 1.38002918e-01, 1.38002918e-01,\n",
       "         1.38002918e-01, 1.38002918e-01, 1.38002918e-01, 1.38002918e-01,\n",
       "         1.38002918e-01],\n",
       "        [1.50505691e+03, 1.98191057e+02, 6.33414634e+01, 3.66504065e+01,\n",
       "         1.85243902e+01, 1.69308943e+01, 1.09552846e+01, 8.36585366e+00,\n",
       "         8.96341463e+00, 4.78048780e+00, 2.78861789e+00, 3.98373984e+00,\n",
       "         3.18699187e+00, 1.19512195e+00, 2.39024390e+00, 1.99186992e+00,\n",
       "         1.59349593e+00, 5.97560976e-01, 1.19512195e+00, 1.59349593e+00,\n",
       "         9.95934959e-01, 9.95934959e-01, 1.19512195e+00, 3.98373984e-01,\n",
       "         1.99186992e-01, 1.99186992e-01, 5.97560976e-01, 7.96747967e-01,\n",
       "         1.99186992e-01, 3.98373984e-01, 3.98373984e-01, 3.98373984e-01,\n",
       "         1.99186992e-01, 7.96747967e-01, 3.98373984e-01, 3.98373984e-01,\n",
       "         1.99186992e-01, 3.98373984e-01, 1.99186992e-01, 1.99186992e-01,\n",
       "         5.97560976e-01, 3.98373984e-01, 1.99186992e-01, 1.99186992e-01,\n",
       "         1.99186992e-01, 1.99186992e-01, 1.99186992e-01, 1.99186992e-01,\n",
       "         1.99186992e-01, 1.99186992e-01, 3.98373984e-01, 1.99186992e-01,\n",
       "         1.99186992e-01, 1.99186992e-01, 1.99186992e-01, 1.99186992e-01,\n",
       "         3.98373984e-01, 1.99186992e-01, 1.99186992e-01, 1.99186992e-01,\n",
       "         1.99186992e-01, 1.99186992e-01, 1.99186992e-01, 1.99186992e-01,\n",
       "         1.99186992e-01, 1.99186992e-01, 1.99186992e-01, 1.99186992e-01,\n",
       "         1.99186992e-01, 1.99186992e-01, 1.99186992e-01, 1.99186992e-01,\n",
       "         1.99186992e-01, 1.99186992e-01, 1.99186992e-01, 1.99186992e-01,\n",
       "         1.99186992e-01, 1.99186992e-01, 1.99186992e-01, 1.99186992e-01,\n",
       "         1.99186992e-01],\n",
       "        [1.96106316e+02, 2.58239525e+01, 8.25328330e+00, 4.77548468e+00,\n",
       "         2.41369606e+00, 2.20606629e+00, 1.42745466e+00, 1.09005629e+00,\n",
       "         1.16791745e+00, 6.22889306e-01, 3.63352095e-01, 5.19074422e-01,\n",
       "         4.15259537e-01, 1.55722326e-01, 3.11444653e-01, 2.59537211e-01,\n",
       "         2.07629769e-01, 7.78611632e-02, 1.55722326e-01, 2.07629769e-01,\n",
       "         1.29768605e-01, 1.29768605e-01, 1.55722326e-01, 5.19074422e-02,\n",
       "         2.59537211e-02, 2.59537211e-02, 7.78611632e-02, 1.03814884e-01,\n",
       "         2.59537211e-02, 5.19074422e-02, 5.19074422e-02, 5.19074422e-02,\n",
       "         2.59537211e-02, 1.03814884e-01, 5.19074422e-02, 5.19074422e-02,\n",
       "         2.59537211e-02, 5.19074422e-02, 2.59537211e-02, 2.59537211e-02,\n",
       "         7.78611632e-02, 5.19074422e-02, 2.59537211e-02, 2.59537211e-02,\n",
       "         2.59537211e-02, 2.59537211e-02, 2.59537211e-02, 2.59537211e-02,\n",
       "         2.59537211e-02, 2.59537211e-02, 5.19074422e-02, 2.59537211e-02,\n",
       "         2.59537211e-02, 2.59537211e-02, 2.59537211e-02, 2.59537211e-02,\n",
       "         5.19074422e-02, 2.59537211e-02, 2.59537211e-02, 2.59537211e-02,\n",
       "         2.59537211e-02, 2.59537211e-02, 2.59537211e-02, 2.59537211e-02,\n",
       "         2.59537211e-02, 2.59537211e-02, 2.59537211e-02, 2.59537211e-02,\n",
       "         2.59537211e-02, 2.59537211e-02, 2.59537211e-02, 2.59537211e-02,\n",
       "         2.59537211e-02, 2.59537211e-02, 2.59537211e-02, 2.59537211e-02,\n",
       "         2.59537211e-02, 2.59537211e-02, 2.59537211e-02, 2.59537211e-02,\n",
       "         2.59537211e-02],\n",
       "        [2.01383073e+03, 2.65188138e+02, 8.47535960e+01, 4.90398166e+01,\n",
       "         2.47864290e+01, 2.26542631e+01, 1.46586408e+01, 1.11938712e+01,\n",
       "         1.19934334e+01, 6.39649781e+00, 3.73129039e+00, 5.33041484e+00,\n",
       "         4.26433187e+00, 1.59912445e+00, 3.19824891e+00, 2.66520742e+00,\n",
       "         2.13216594e+00, 7.99562226e-01, 1.59912445e+00, 2.13216594e+00,\n",
       "         1.33260371e+00, 1.33260371e+00, 1.59912445e+00, 5.33041484e-01,\n",
       "         2.66520742e-01, 2.66520742e-01, 7.99562226e-01, 1.06608297e+00,\n",
       "         2.66520742e-01, 5.33041484e-01, 5.33041484e-01, 5.33041484e-01,\n",
       "         2.66520742e-01, 1.06608297e+00, 5.33041484e-01, 5.33041484e-01,\n",
       "         2.66520742e-01, 5.33041484e-01, 2.66520742e-01, 2.66520742e-01,\n",
       "         7.99562226e-01, 5.33041484e-01, 2.66520742e-01, 2.66520742e-01,\n",
       "         2.66520742e-01, 2.66520742e-01, 2.66520742e-01, 2.66520742e-01,\n",
       "         2.66520742e-01, 2.66520742e-01, 5.33041484e-01, 2.66520742e-01,\n",
       "         2.66520742e-01, 2.66520742e-01, 2.66520742e-01, 2.66520742e-01,\n",
       "         5.33041484e-01, 2.66520742e-01, 2.66520742e-01, 2.66520742e-01,\n",
       "         2.66520742e-01, 2.66520742e-01, 2.66520742e-01, 2.66520742e-01,\n",
       "         2.66520742e-01, 2.66520742e-01, 2.66520742e-01, 2.66520742e-01,\n",
       "         2.66520742e-01, 2.66520742e-01, 2.66520742e-01, 2.66520742e-01,\n",
       "         2.66520742e-01, 2.66520742e-01, 2.66520742e-01, 2.66520742e-01,\n",
       "         2.66520742e-01, 2.66520742e-01, 2.66520742e-01, 2.66520742e-01,\n",
       "         2.66520742e-01],\n",
       "        [2.79825599e+03, 3.68483948e+02, 1.17766729e+02, 6.81417553e+01,\n",
       "         3.44412133e+01, 3.14785282e+01, 2.03684595e+01, 1.55540963e+01,\n",
       "         1.66651032e+01, 8.88805503e+00, 5.18469877e+00, 7.40671253e+00,\n",
       "         5.92537002e+00, 2.22201376e+00, 4.44402752e+00, 3.70335626e+00,\n",
       "         2.96268501e+00, 1.11100688e+00, 2.22201376e+00, 2.96268501e+00,\n",
       "         1.85167813e+00, 1.85167813e+00, 2.22201376e+00, 7.40671253e-01,\n",
       "         3.70335626e-01, 3.70335626e-01, 1.11100688e+00, 1.48134251e+00,\n",
       "         3.70335626e-01, 7.40671253e-01, 7.40671253e-01, 7.40671253e-01,\n",
       "         3.70335626e-01, 1.48134251e+00, 7.40671253e-01, 7.40671253e-01,\n",
       "         3.70335626e-01, 7.40671253e-01, 3.70335626e-01, 3.70335626e-01,\n",
       "         1.11100688e+00, 7.40671253e-01, 3.70335626e-01, 3.70335626e-01,\n",
       "         3.70335626e-01, 3.70335626e-01, 3.70335626e-01, 3.70335626e-01,\n",
       "         3.70335626e-01, 3.70335626e-01, 7.40671253e-01, 3.70335626e-01,\n",
       "         3.70335626e-01, 3.70335626e-01, 3.70335626e-01, 3.70335626e-01,\n",
       "         7.40671253e-01, 3.70335626e-01, 3.70335626e-01, 3.70335626e-01,\n",
       "         3.70335626e-01, 3.70335626e-01, 3.70335626e-01, 3.70335626e-01,\n",
       "         3.70335626e-01, 3.70335626e-01, 3.70335626e-01, 3.70335626e-01,\n",
       "         3.70335626e-01, 3.70335626e-01, 3.70335626e-01, 3.70335626e-01,\n",
       "         3.70335626e-01, 3.70335626e-01, 3.70335626e-01, 3.70335626e-01,\n",
       "         3.70335626e-01, 3.70335626e-01, 3.70335626e-01, 3.70335626e-01,\n",
       "         3.70335626e-01]]))"
      ]
     },
     "execution_count": 119,
     "metadata": {},
     "output_type": "execute_result"
    }
   ],
   "source": [
    "countryvsre=pd.crosstab(df['country'],df['retweets'])\n",
    "chi2_contingency(countryvsre)\n"
   ]
  },
  {
   "cell_type": "code",
   "execution_count": 120,
   "id": "42b6cdab",
   "metadata": {},
   "outputs": [
    {
     "data": {
      "text/plain": [
       "(6897.033230389284,\n",
       " 5.184259066410568e-80,\n",
       " 4800,\n",
       " array([[1.92168439e+02, 2.53053992e+01, 8.08755472e+00, ...,\n",
       "         2.54325620e-02, 2.54325620e-02, 2.54325620e-02],\n",
       "        [3.27631436e+02, 4.31436314e+01, 1.37886179e+01, ...,\n",
       "         4.33604336e-02, 4.33604336e-02, 4.33604336e-02],\n",
       "        [2.36272670e+02, 3.11131957e+01, 9.94371482e+00, ...,\n",
       "         3.12695435e-02, 3.12695435e-02, 3.12695435e-02],\n",
       "        ...,\n",
       "        [2.36272670e+00, 3.11131957e-01, 9.94371482e-02, ...,\n",
       "         3.12695435e-04, 3.12695435e-04, 3.12695435e-04],\n",
       "        [7.87575568e-01, 1.03710652e-01, 3.31457161e-02, ...,\n",
       "         1.04231812e-04, 1.04231812e-04, 1.04231812e-04],\n",
       "        [7.87575568e-01, 1.03710652e-01, 3.31457161e-02, ...,\n",
       "         1.04231812e-04, 1.04231812e-04, 1.04231812e-04]]))"
      ]
     },
     "execution_count": 120,
     "metadata": {},
     "output_type": "execute_result"
    }
   ],
   "source": [
    "wordcountvsre=pd.crosstab(df['word count'],df['retweets'])\n",
    "chi2_contingency(wordcountvsre)"
   ]
  },
  {
   "cell_type": "code",
   "execution_count": 121,
   "id": "a893b8f6",
   "metadata": {},
   "outputs": [
    {
     "data": {
      "text/plain": [
       "<matplotlib.collections.PathCollection at 0x1cf664afaf0>"
      ]
     },
     "execution_count": 121,
     "metadata": {},
     "output_type": "execute_result"
    },
    {
     "data": {
      "image/png": "[encoded data removed]",
      "text/plain": [
       "<Figure size 640x480 with 1 Axes>"
      ]
     },
     "metadata": {},
     "output_type": "display_data"
    }
   ],
   "source": [
    "plt.scatter(df['respectability'],df['retweets'])"
   ]
  },
  {
   "cell_type": "code",
   "execution_count": 122,
   "id": "3cc14ac8",
   "metadata": {},
   "outputs": [
    {
     "data": {
      "text/plain": [
       "(706246.1769459252,\n",
       " 1.5820734853370125e-147,\n",
       " 675760,\n",
       " array([[4.80421097e+01, 6.32634980e+00, 2.02188868e+00, ...,\n",
       "         6.35814050e-03, 6.35814050e-03, 6.35814050e-03],\n",
       "        [1.57515114e+00, 2.07421305e-01, 6.62914321e-02, ...,\n",
       "         2.08463623e-04, 2.08463623e-04, 2.08463623e-04],\n",
       "        [7.87575568e-01, 1.03710652e-01, 3.31457161e-02, ...,\n",
       "         1.04231812e-04, 1.04231812e-04, 1.04231812e-04],\n",
       "        ...,\n",
       "        [7.87575568e-01, 1.03710652e-01, 3.31457161e-02, ...,\n",
       "         1.04231812e-04, 1.04231812e-04, 1.04231812e-04],\n",
       "        [7.87575568e-01, 1.03710652e-01, 3.31457161e-02, ...,\n",
       "         1.04231812e-04, 1.04231812e-04, 1.04231812e-04],\n",
       "        [7.87575568e-01, 1.03710652e-01, 3.31457161e-02, ...,\n",
       "         1.04231812e-04, 1.04231812e-04, 1.04231812e-04]]))"
      ]
     },
     "execution_count": 122,
     "metadata": {},
     "output_type": "execute_result"
    }
   ],
   "source": [
    "resvsre=pd.crosstab(df['respectability'],df['retweets'])\n",
    "chi2_contingency(resvsre)"
   ]
  },
  {
   "cell_type": "code",
   "execution_count": 123,
   "id": "a8e07d77",
   "metadata": {},
   "outputs": [
    {
     "data": {
      "text/plain": [
       "(670.7990612940432,\n",
       " 3.7903450023114293e-94,\n",
       " 80,\n",
       " array([[7.30161309e+03, 9.61501459e+02, 3.07293934e+02, 1.77805295e+02,\n",
       "         8.98689806e+01, 8.21383156e+01, 5.31483219e+01, 4.05859912e+01,\n",
       "         4.34849906e+01, 2.31919950e+01, 1.35286637e+01, 1.93266625e+01,\n",
       "         1.54613300e+01, 5.79799875e+00, 1.15959975e+01, 9.66333125e+00,\n",
       "         7.73066500e+00, 2.89899937e+00, 5.79799875e+00, 7.73066500e+00,\n",
       "         4.83166562e+00, 4.83166562e+00, 5.79799875e+00, 1.93266625e+00,\n",
       "         9.66333125e-01, 9.66333125e-01, 2.89899937e+00, 3.86533250e+00,\n",
       "         9.66333125e-01, 1.93266625e+00, 1.93266625e+00, 1.93266625e+00,\n",
       "         9.66333125e-01, 3.86533250e+00, 1.93266625e+00, 1.93266625e+00,\n",
       "         9.66333125e-01, 1.93266625e+00, 9.66333125e-01, 9.66333125e-01,\n",
       "         2.89899937e+00, 1.93266625e+00, 9.66333125e-01, 9.66333125e-01,\n",
       "         9.66333125e-01, 9.66333125e-01, 9.66333125e-01, 9.66333125e-01,\n",
       "         9.66333125e-01, 9.66333125e-01, 1.93266625e+00, 9.66333125e-01,\n",
       "         9.66333125e-01, 9.66333125e-01, 9.66333125e-01, 9.66333125e-01,\n",
       "         1.93266625e+00, 9.66333125e-01, 9.66333125e-01, 9.66333125e-01,\n",
       "         9.66333125e-01, 9.66333125e-01, 9.66333125e-01, 9.66333125e-01,\n",
       "         9.66333125e-01, 9.66333125e-01, 9.66333125e-01, 9.66333125e-01,\n",
       "         9.66333125e-01, 9.66333125e-01, 9.66333125e-01, 9.66333125e-01,\n",
       "         9.66333125e-01, 9.66333125e-01, 9.66333125e-01, 9.66333125e-01,\n",
       "         9.66333125e-01, 9.66333125e-01, 9.66333125e-01, 9.66333125e-01,\n",
       "         9.66333125e-01],\n",
       "        [2.54386908e+02, 3.34985408e+01, 1.07060663e+01, 6.19470502e+00,\n",
       "         3.13101939e+00, 2.86168439e+00, 1.85167813e+00, 1.41400876e+00,\n",
       "         1.51500938e+00, 8.08005003e-01, 4.71336252e-01, 6.73337503e-01,\n",
       "         5.38670002e-01, 2.02001251e-01, 4.04002502e-01, 3.36668751e-01,\n",
       "         2.69335001e-01, 1.01000625e-01, 2.02001251e-01, 2.69335001e-01,\n",
       "         1.68334376e-01, 1.68334376e-01, 2.02001251e-01, 6.73337503e-02,\n",
       "         3.36668751e-02, 3.36668751e-02, 1.01000625e-01, 1.34667501e-01,\n",
       "         3.36668751e-02, 6.73337503e-02, 6.73337503e-02, 6.73337503e-02,\n",
       "         3.36668751e-02, 1.34667501e-01, 6.73337503e-02, 6.73337503e-02,\n",
       "         3.36668751e-02, 6.73337503e-02, 3.36668751e-02, 3.36668751e-02,\n",
       "         1.01000625e-01, 6.73337503e-02, 3.36668751e-02, 3.36668751e-02,\n",
       "         3.36668751e-02, 3.36668751e-02, 3.36668751e-02, 3.36668751e-02,\n",
       "         3.36668751e-02, 3.36668751e-02, 6.73337503e-02, 3.36668751e-02,\n",
       "         3.36668751e-02, 3.36668751e-02, 3.36668751e-02, 3.36668751e-02,\n",
       "         6.73337503e-02, 3.36668751e-02, 3.36668751e-02, 3.36668751e-02,\n",
       "         3.36668751e-02, 3.36668751e-02, 3.36668751e-02, 3.36668751e-02,\n",
       "         3.36668751e-02, 3.36668751e-02, 3.36668751e-02, 3.36668751e-02,\n",
       "         3.36668751e-02, 3.36668751e-02, 3.36668751e-02, 3.36668751e-02,\n",
       "         3.36668751e-02, 3.36668751e-02, 3.36668751e-02, 3.36668751e-02,\n",
       "         3.36668751e-02, 3.36668751e-02, 3.36668751e-02, 3.36668751e-02,\n",
       "         3.36668751e-02]]))"
      ]
     },
     "execution_count": 123,
     "metadata": {},
     "output_type": "execute_result"
    }
   ],
   "source": [
    "verifiedvsre=pd.crosstab(df['verified'],df['retweets'])\n",
    "chi2_contingency(verifiedvsre)"
   ]
  },
  {
   "cell_type": "code",
   "execution_count": 124,
   "id": "85611fec",
   "metadata": {},
   "outputs": [
    {
     "data": {
      "text/plain": [
       "(219248.8652140414,\n",
       " 0.0,\n",
       " 4800,\n",
       " array([[5.62880258e+03, 7.41220033e+02, 2.36892433e+02, ...,\n",
       "         7.44944757e-01, 7.44944757e-01, 7.44944757e-01],\n",
       "        [1.08291641e+03, 1.42602147e+02, 4.55753596e+01, ...,\n",
       "         1.43318741e-01, 1.43318741e-01, 1.43318741e-01],\n",
       "        [3.38657494e+02, 4.45955806e+01, 1.42526579e+01, ...,\n",
       "         4.48196790e-02, 4.48196790e-02, 4.48196790e-02],\n",
       "        ...,\n",
       "        [7.87575568e-01, 1.03710652e-01, 3.31457161e-02, ...,\n",
       "         1.04231812e-04, 1.04231812e-04, 1.04231812e-04],\n",
       "        [7.87575568e-01, 1.03710652e-01, 3.31457161e-02, ...,\n",
       "         1.04231812e-04, 1.04231812e-04, 1.04231812e-04],\n",
       "        [7.87575568e-01, 1.03710652e-01, 3.31457161e-02, ...,\n",
       "         1.04231812e-04, 1.04231812e-04, 1.04231812e-04]]))"
      ]
     },
     "execution_count": 124,
     "metadata": {},
     "output_type": "execute_result"
    }
   ],
   "source": [
    "comvsre=pd.crosstab(df['comments'],df['retweets'])\n",
    "chi2_contingency(comvsre)"
   ]
  },
  {
   "cell_type": "code",
   "execution_count": 125,
   "id": "729cee2c",
   "metadata": {},
   "outputs": [
    {
     "data": {
      "text/plain": [
       "(76.0800648712129,\n",
       " 0.6033992402154829,\n",
       " 80,\n",
       " array([[5.50200292e+03, 7.24522618e+02, 2.31555972e+02, 1.33982072e+02,\n",
       "         6.77191995e+01, 6.18938920e+01, 4.00489890e+01, 3.05828643e+01,\n",
       "         3.27673546e+01, 1.74759225e+01, 1.01942881e+01, 1.45632687e+01,\n",
       "         1.16506150e+01, 4.36898061e+00, 8.73796123e+00, 7.28163435e+00,\n",
       "         5.82530748e+00, 2.18449031e+00, 4.36898061e+00, 5.82530748e+00,\n",
       "         3.64081718e+00, 3.64081718e+00, 4.36898061e+00, 1.45632687e+00,\n",
       "         7.28163435e-01, 7.28163435e-01, 2.18449031e+00, 2.91265374e+00,\n",
       "         7.28163435e-01, 1.45632687e+00, 1.45632687e+00, 1.45632687e+00,\n",
       "         7.28163435e-01, 2.91265374e+00, 1.45632687e+00, 1.45632687e+00,\n",
       "         7.28163435e-01, 1.45632687e+00, 7.28163435e-01, 7.28163435e-01,\n",
       "         2.18449031e+00, 1.45632687e+00, 7.28163435e-01, 7.28163435e-01,\n",
       "         7.28163435e-01, 7.28163435e-01, 7.28163435e-01, 7.28163435e-01,\n",
       "         7.28163435e-01, 7.28163435e-01, 1.45632687e+00, 7.28163435e-01,\n",
       "         7.28163435e-01, 7.28163435e-01, 7.28163435e-01, 7.28163435e-01,\n",
       "         1.45632687e+00, 7.28163435e-01, 7.28163435e-01, 7.28163435e-01,\n",
       "         7.28163435e-01, 7.28163435e-01, 7.28163435e-01, 7.28163435e-01,\n",
       "         7.28163435e-01, 7.28163435e-01, 7.28163435e-01, 7.28163435e-01,\n",
       "         7.28163435e-01, 7.28163435e-01, 7.28163435e-01, 7.28163435e-01,\n",
       "         7.28163435e-01, 7.28163435e-01, 7.28163435e-01, 7.28163435e-01,\n",
       "         7.28163435e-01, 7.28163435e-01, 7.28163435e-01, 7.28163435e-01,\n",
       "         7.28163435e-01],\n",
       "        [2.05399708e+03, 2.70477382e+02, 8.64440275e+01, 5.00179279e+01,\n",
       "         2.52808005e+01, 2.31061080e+01, 1.49510110e+01, 1.14171357e+01,\n",
       "         1.22326454e+01, 6.52407755e+00, 3.80571190e+00, 5.43673129e+00,\n",
       "         4.34938503e+00, 1.63101939e+00, 3.26203877e+00, 2.71836565e+00,\n",
       "         2.17469252e+00, 8.15509694e-01, 1.63101939e+00, 2.17469252e+00,\n",
       "         1.35918282e+00, 1.35918282e+00, 1.63101939e+00, 5.43673129e-01,\n",
       "         2.71836565e-01, 2.71836565e-01, 8.15509694e-01, 1.08734626e+00,\n",
       "         2.71836565e-01, 5.43673129e-01, 5.43673129e-01, 5.43673129e-01,\n",
       "         2.71836565e-01, 1.08734626e+00, 5.43673129e-01, 5.43673129e-01,\n",
       "         2.71836565e-01, 5.43673129e-01, 2.71836565e-01, 2.71836565e-01,\n",
       "         8.15509694e-01, 5.43673129e-01, 2.71836565e-01, 2.71836565e-01,\n",
       "         2.71836565e-01, 2.71836565e-01, 2.71836565e-01, 2.71836565e-01,\n",
       "         2.71836565e-01, 2.71836565e-01, 5.43673129e-01, 2.71836565e-01,\n",
       "         2.71836565e-01, 2.71836565e-01, 2.71836565e-01, 2.71836565e-01,\n",
       "         5.43673129e-01, 2.71836565e-01, 2.71836565e-01, 2.71836565e-01,\n",
       "         2.71836565e-01, 2.71836565e-01, 2.71836565e-01, 2.71836565e-01,\n",
       "         2.71836565e-01, 2.71836565e-01, 2.71836565e-01, 2.71836565e-01,\n",
       "         2.71836565e-01, 2.71836565e-01, 2.71836565e-01, 2.71836565e-01,\n",
       "         2.71836565e-01, 2.71836565e-01, 2.71836565e-01, 2.71836565e-01,\n",
       "         2.71836565e-01, 2.71836565e-01, 2.71836565e-01, 2.71836565e-01,\n",
       "         2.71836565e-01]]))"
      ]
     },
     "execution_count": 125,
     "metadata": {},
     "output_type": "execute_result"
    }
   ],
   "source": [
    "quovsre=pd.crosstab(df['is quote'],df['retweets'])\n",
    "chi2_contingency(quovsre)"
   ]
  },
  {
   "cell_type": "code",
   "execution_count": 126,
   "id": "51489f10",
   "metadata": {},
   "outputs": [
    {
     "data": {
      "text/plain": [
       "(1546.5580375027916,\n",
       " 0.3117211236549445,\n",
       " 1520,\n",
       " array([[5.69810923e+03, 7.50346571e+02, 2.39809256e+02, ...,\n",
       "         7.54117157e-01, 7.54117157e-01, 7.54117157e-01],\n",
       "        [8.53731916e+02, 1.12422347e+02, 3.59299562e+01, ...,\n",
       "         1.12987284e-01, 1.12987284e-01, 1.12987284e-01],\n",
       "        [4.33166562e+02, 5.70408589e+01, 1.82301438e+01, ...,\n",
       "         5.73274964e-02, 5.73274964e-02, 5.73274964e-02],\n",
       "        ...,\n",
       "        [3.15030227e+00, 4.14842610e-01, 1.32582864e-01, ...,\n",
       "         4.16927246e-04, 4.16927246e-04, 4.16927246e-04],\n",
       "        [1.57515114e+00, 2.07421305e-01, 6.62914321e-02, ...,\n",
       "         2.08463623e-04, 2.08463623e-04, 2.08463623e-04],\n",
       "        [7.87575568e-01, 1.03710652e-01, 3.31457161e-02, ...,\n",
       "         1.04231812e-04, 1.04231812e-04, 1.04231812e-04]]))"
      ]
     },
     "execution_count": 126,
     "metadata": {},
     "output_type": "execute_result"
    }
   ],
   "source": [
    "hashvsre=pd.crosstab(df['hashtag count'],df['retweets'])\n",
    "chi2_contingency(hashvsre)"
   ]
  },
  {
   "cell_type": "code",
   "execution_count": 127,
   "id": "3a07020f",
   "metadata": {},
   "outputs": [
    {
     "data": {
      "text/plain": [
       "(138.29945471809282,\n",
       " 5.692264278621222e-05,\n",
       " 80,\n",
       " array([[7.28034855e+03, 9.58701272e+02, 3.06398999e+02, 1.77287471e+02,\n",
       "         8.96072545e+01, 8.18991036e+01, 5.29935376e+01, 4.04677924e+01,\n",
       "         4.33583490e+01, 2.31244528e+01, 1.34892641e+01, 1.92703773e+01,\n",
       "         1.54163019e+01, 5.78111320e+00, 1.15622264e+01, 9.63518866e+00,\n",
       "         7.70815093e+00, 2.89055660e+00, 5.78111320e+00, 7.70815093e+00,\n",
       "         4.81759433e+00, 4.81759433e+00, 5.78111320e+00, 1.92703773e+00,\n",
       "         9.63518866e-01, 9.63518866e-01, 2.89055660e+00, 3.85407546e+00,\n",
       "         9.63518866e-01, 1.92703773e+00, 1.92703773e+00, 1.92703773e+00,\n",
       "         9.63518866e-01, 3.85407546e+00, 1.92703773e+00, 1.92703773e+00,\n",
       "         9.63518866e-01, 1.92703773e+00, 9.63518866e-01, 9.63518866e-01,\n",
       "         2.89055660e+00, 1.92703773e+00, 9.63518866e-01, 9.63518866e-01,\n",
       "         9.63518866e-01, 9.63518866e-01, 9.63518866e-01, 9.63518866e-01,\n",
       "         9.63518866e-01, 9.63518866e-01, 1.92703773e+00, 9.63518866e-01,\n",
       "         9.63518866e-01, 9.63518866e-01, 9.63518866e-01, 9.63518866e-01,\n",
       "         1.92703773e+00, 9.63518866e-01, 9.63518866e-01, 9.63518866e-01,\n",
       "         9.63518866e-01, 9.63518866e-01, 9.63518866e-01, 9.63518866e-01,\n",
       "         9.63518866e-01, 9.63518866e-01, 9.63518866e-01, 9.63518866e-01,\n",
       "         9.63518866e-01, 9.63518866e-01, 9.63518866e-01, 9.63518866e-01,\n",
       "         9.63518866e-01, 9.63518866e-01, 9.63518866e-01, 9.63518866e-01,\n",
       "         9.63518866e-01, 9.63518866e-01, 9.63518866e-01, 9.63518866e-01,\n",
       "         9.63518866e-01],\n",
       "        [2.75651449e+02, 3.62987284e+01, 1.16010006e+01, 6.71252866e+00,\n",
       "         3.39274547e+00, 3.10089639e+00, 2.00646237e+00, 1.53220763e+00,\n",
       "         1.64165103e+00, 8.75547217e-01, 5.10735877e-01, 7.29622681e-01,\n",
       "         5.83698145e-01, 2.18886804e-01, 4.37773609e-01, 3.64811340e-01,\n",
       "         2.91849072e-01, 1.09443402e-01, 2.18886804e-01, 2.91849072e-01,\n",
       "         1.82405670e-01, 1.82405670e-01, 2.18886804e-01, 7.29622681e-02,\n",
       "         3.64811340e-02, 3.64811340e-02, 1.09443402e-01, 1.45924536e-01,\n",
       "         3.64811340e-02, 7.29622681e-02, 7.29622681e-02, 7.29622681e-02,\n",
       "         3.64811340e-02, 1.45924536e-01, 7.29622681e-02, 7.29622681e-02,\n",
       "         3.64811340e-02, 7.29622681e-02, 3.64811340e-02, 3.64811340e-02,\n",
       "         1.09443402e-01, 7.29622681e-02, 3.64811340e-02, 3.64811340e-02,\n",
       "         3.64811340e-02, 3.64811340e-02, 3.64811340e-02, 3.64811340e-02,\n",
       "         3.64811340e-02, 3.64811340e-02, 7.29622681e-02, 3.64811340e-02,\n",
       "         3.64811340e-02, 3.64811340e-02, 3.64811340e-02, 3.64811340e-02,\n",
       "         7.29622681e-02, 3.64811340e-02, 3.64811340e-02, 3.64811340e-02,\n",
       "         3.64811340e-02, 3.64811340e-02, 3.64811340e-02, 3.64811340e-02,\n",
       "         3.64811340e-02, 3.64811340e-02, 3.64811340e-02, 3.64811340e-02,\n",
       "         3.64811340e-02, 3.64811340e-02, 3.64811340e-02, 3.64811340e-02,\n",
       "         3.64811340e-02, 3.64811340e-02, 3.64811340e-02, 3.64811340e-02,\n",
       "         3.64811340e-02, 3.64811340e-02, 3.64811340e-02, 3.64811340e-02,\n",
       "         3.64811340e-02]]))"
      ]
     },
     "execution_count": 127,
     "metadata": {},
     "output_type": "execute_result"
    }
   ],
   "source": [
    "trendvsre=pd.crosstab(df['using trends?'],df['retweets'])\n",
    "chi2_contingency(trendvsre)"
   ]
  },
  {
   "cell_type": "code",
   "execution_count": 128,
   "id": "83c508b5",
   "metadata": {},
   "outputs": [
    {
     "data": {
      "text/plain": [
       "(175004.57949660203,\n",
       " 1.0,\n",
       " 215200,\n",
       " array([[7.87575568e-01, 1.03710652e-01, 3.31457161e-02, ...,\n",
       "         1.04231812e-04, 1.04231812e-04, 1.04231812e-04],\n",
       "        [2.36272670e+00, 3.11131957e-01, 9.94371482e-02, ...,\n",
       "         3.12695435e-04, 3.12695435e-04, 3.12695435e-04],\n",
       "        [7.87575568e-01, 1.03710652e-01, 3.31457161e-02, ...,\n",
       "         1.04231812e-04, 1.04231812e-04, 1.04231812e-04],\n",
       "        ...,\n",
       "        [7.87575568e-01, 1.03710652e-01, 3.31457161e-02, ...,\n",
       "         1.04231812e-04, 1.04231812e-04, 1.04231812e-04],\n",
       "        [7.87575568e-01, 1.03710652e-01, 3.31457161e-02, ...,\n",
       "         1.04231812e-04, 1.04231812e-04, 1.04231812e-04],\n",
       "        [7.87575568e-01, 1.03710652e-01, 3.31457161e-02, ...,\n",
       "         1.04231812e-04, 1.04231812e-04, 1.04231812e-04]]))"
      ]
     },
     "execution_count": 128,
     "metadata": {},
     "output_type": "execute_result"
    }
   ],
   "source": [
    "ctvsre=pd.crosstab(df['city'],df['retweets'])\n",
    "chi2_contingency(ctvsre)"
   ]
  },
  {
   "cell_type": "code",
   "execution_count": 129,
   "id": "2b0d5100",
   "metadata": {},
   "outputs": [
    {
     "data": {
      "text/plain": [
       "(600516.4429947188,\n",
       " 0.02662095729738032,\n",
       " 598400,\n",
       " array([[5.51302898e+00, 7.25974567e-01, 2.32020013e-01, ...,\n",
       "         7.29622681e-04, 7.29622681e-04, 7.29622681e-04],\n",
       "        [7.87575568e+00, 1.03710652e+00, 3.31457161e-01, ...,\n",
       "         1.04231812e-03, 1.04231812e-03, 1.04231812e-03],\n",
       "        [1.57515114e+00, 2.07421305e-01, 6.62914321e-02, ...,\n",
       "         2.08463623e-04, 2.08463623e-04, 2.08463623e-04],\n",
       "        ...,\n",
       "        [7.87575568e-01, 1.03710652e-01, 3.31457161e-02, ...,\n",
       "         1.04231812e-04, 1.04231812e-04, 1.04231812e-04],\n",
       "        [1.57515114e+00, 2.07421305e-01, 6.62914321e-02, ...,\n",
       "         2.08463623e-04, 2.08463623e-04, 2.08463623e-04],\n",
       "        [7.87575568e-01, 1.03710652e-01, 3.31457161e-02, ...,\n",
       "         1.04231812e-04, 1.04231812e-04, 1.04231812e-04]]))"
      ]
     },
     "execution_count": 129,
     "metadata": {},
     "output_type": "execute_result"
    }
   ],
   "source": [
    "totalvsre=pd.crosstab(df['total tweets'],df['retweets'])\n",
    "chi2_contingency(totalvsre)"
   ]
  },
  {
   "cell_type": "code",
   "execution_count": 130,
   "id": "bd3ff458",
   "metadata": {},
   "outputs": [
    {
     "data": {
      "text/plain": [
       "(707722.099061461,\n",
       " 0.0,\n",
       " 159840,\n",
       " array([[3.30781739e+01, 4.35584740e+00, 1.39212008e+00, ...,\n",
       "         4.37773609e-03, 4.37773609e-03, 4.37773609e-03],\n",
       "        [5.04048364e+01, 6.63748176e+00, 2.12132583e+00, ...,\n",
       "         6.67083594e-03, 6.67083594e-03, 6.67083594e-03],\n",
       "        [5.27675631e+01, 6.94861372e+00, 2.22076298e+00, ...,\n",
       "         6.98353137e-03, 6.98353137e-03, 6.98353137e-03],\n",
       "        ...,\n",
       "        [7.87575568e-01, 1.03710652e-01, 3.31457161e-02, ...,\n",
       "         1.04231812e-04, 1.04231812e-04, 1.04231812e-04],\n",
       "        [7.87575568e-01, 1.03710652e-01, 3.31457161e-02, ...,\n",
       "         1.04231812e-04, 1.04231812e-04, 1.04231812e-04],\n",
       "        [7.87575568e-01, 1.03710652e-01, 3.31457161e-02, ...,\n",
       "         1.04231812e-04, 1.04231812e-04, 1.04231812e-04]]))"
      ]
     },
     "execution_count": 130,
     "metadata": {},
     "output_type": "execute_result"
    }
   ],
   "source": [
    "viewsvsre=pd.crosstab(df['views'],df['retweets'])\n",
    "chi2_contingency(viewsvsre)"
   ]
  },
  {
   "cell_type": "code",
   "execution_count": 131,
   "id": "0e8179b5",
   "metadata": {},
   "outputs": [
    {
     "data": {
      "text/plain": [
       "(522097.0538389021,\n",
       " 0.0,\n",
       " 17360,\n",
       " array([[3.16132833e+03, 1.24830728e+03, 6.75739837e+02, ...,\n",
       "         7.87575568e-01, 7.87575568e-01, 7.87575568e-01],\n",
       "        [4.16294559e+02, 1.64381384e+02, 8.89837398e+01, ...,\n",
       "         1.03710652e-01, 1.03710652e-01, 1.03710652e-01],\n",
       "        [1.33046904e+02, 5.25359600e+01, 2.84390244e+01, ...,\n",
       "         3.31457161e-02, 3.31457161e-02, 3.31457161e-02],\n",
       "        ...,\n",
       "        [4.18386492e-01, 1.65207421e-01, 8.94308943e-02, ...,\n",
       "         1.04231812e-04, 1.04231812e-04, 1.04231812e-04],\n",
       "        [4.18386492e-01, 1.65207421e-01, 8.94308943e-02, ...,\n",
       "         1.04231812e-04, 1.04231812e-04, 1.04231812e-04],\n",
       "        [4.18386492e-01, 1.65207421e-01, 8.94308943e-02, ...,\n",
       "         1.04231812e-04, 1.04231812e-04, 1.04231812e-04]]))"
      ]
     },
     "execution_count": 131,
     "metadata": {},
     "output_type": "execute_result"
    }
   ],
   "source": [
    "likesvsre=pd.crosstab(df['retweets'],df['likes'])\n",
    "chi2_contingency(likesvsre)\n"
   ]
  },
  {
   "cell_type": "code",
   "execution_count": 132,
   "id": "5d27e7d0",
   "metadata": {},
   "outputs": [
    {
     "data": {
      "text/plain": [
       "(149173.91515676267,\n",
       " 0.0,\n",
       " 1760,\n",
       " array([[7.12440859e+03, 9.38166562e+02, 2.99836148e+02, ...,\n",
       "         9.42880967e-01, 9.42880967e-01, 9.42880967e-01],\n",
       "        [3.13455076e+02, 4.12768397e+01, 1.31919950e+01, ...,\n",
       "         4.14842610e-02, 4.14842610e-02, 4.14842610e-02],\n",
       "        [5.11924119e+01, 6.74119241e+00, 2.15447154e+00, ...,\n",
       "         6.77506775e-03, 6.77506775e-03, 6.77506775e-03],\n",
       "        ...,\n",
       "        [7.87575568e-01, 1.03710652e-01, 3.31457161e-02, ...,\n",
       "         1.04231812e-04, 1.04231812e-04, 1.04231812e-04],\n",
       "        [7.87575568e-01, 1.03710652e-01, 3.31457161e-02, ...,\n",
       "         1.04231812e-04, 1.04231812e-04, 1.04231812e-04],\n",
       "        [7.87575568e-01, 1.03710652e-01, 3.31457161e-02, ...,\n",
       "         1.04231812e-04, 1.04231812e-04, 1.04231812e-04]]))"
      ]
     },
     "execution_count": 132,
     "metadata": {},
     "output_type": "execute_result"
    }
   ],
   "source": [
    "quotretevsre=pd.crosstab(df['quote retweets'],df['retweets'])\n",
    "chi2_contingency(quotretevsre)"
   ]
  },
  {
   "cell_type": "code",
   "execution_count": null,
   "id": "8f2b6255",
   "metadata": {},
   "outputs": [],
   "source": [
    "df=df.drop([\"link to tweet\"], axis=1)"
   ]
  },
  {
   "cell_type": "code",
   "execution_count": 83,
   "id": "07690ea8",
   "metadata": {},
   "outputs": [],
   "source": [
    "column_to_move = df.pop(\"retweets\")"
   ]
  },
  {
   "cell_type": "code",
   "execution_count": null,
   "id": "c9425dfb",
   "metadata": {
    "scrolled": true
   },
   "outputs": [],
   "source": [
    "df.insert(df.shape[1], \"retweets\", column_to_move)"
   ]
  },
  {
   "cell_type": "code",
   "execution_count": 135,
   "id": "90695e2e",
   "metadata": {},
   "outputs": [
    {
     "data": {
      "image/png": "[encoded data removed]",
      "text/plain": [
       "<Figure size 640x480 with 1 Axes>"
      ]
     },
     "metadata": {},
     "output_type": "display_data"
    }
   ],
   "source": [
    "plt.scatter(y = df['word count'],    x = df['retweets'],c = 'mediumslateblue',label = 'word count');\n",
    "plt.scatter(y = df['respectability'],x = df['retweets'],c = 'mediumturquoise',label = 'respectability');\n",
    "plt.scatter(y = df['verified'],      x = df['retweets'],c = 'black',label = 'verified');\n",
    "plt.scatter(y = df['comments'],      x = df['retweets'],c = 'dimgray',label = 'comments');\n",
    "plt.scatter(y = df['hashtag count'], x = df['retweets'],c = 'firebrick',label = 'hashtag count');\n",
    "plt.scatter(y = df['using trends?'], x = df['retweets'],c = 'fuchsia',label = 'using trends?');\n",
    "plt.scatter(y = df['views'],         x = df['retweets'],c = 'gold',label = 'views');\n",
    "plt.scatter(y = df['likes'],         x = df['retweets'],c = 'yellow',label = 'likes');\n",
    "plt.scatter(y = df['total tweets'],  x = df['retweets'],c = 'red',label = 'total tweets');\n",
    "plt.scatter(y = df['quote retweets'],x = df['retweets'],c = 'lightseagreen',label = 'quote retweets');\n",
    "\n",
    "plt.legend(numpoints = 10, loc = 0)\n",
    "plt.xlabel('retweets')\n",
    "\n",
    "plt.show()"
   ]
  },
  {
   "cell_type": "code",
   "execution_count": 136,
   "id": "3f3a66fd",
   "metadata": {},
   "outputs": [
    {
     "data": {
      "text/plain": [
       "total tweets  ret\n",
       "15            0      10\n",
       "19            0       8\n",
       "2             0       8\n",
       "16            0       6\n",
       "467           0       6\n",
       "                     ..\n",
       "6479          4       1\n",
       "6475          0       1\n",
       "6472          0       1\n",
       "6462          0       1\n",
       "1574466       0       1\n",
       "Length: 8127, dtype: int64"
      ]
     },
     "execution_count": 136,
     "metadata": {},
     "output_type": "execute_result"
    }
   ],
   "source": [
    "pd.DataFrame({'total tweets':df['total tweets'], 'ret':df['retweets']}).value_counts()"
   ]
  },
  {
   "cell_type": "code",
   "execution_count": 138,
   "id": "aca9abc8",
   "metadata": {},
   "outputs": [
    {
     "data": {
      "text/html": [
       "<div>\n",
       "<style scoped>\n",
       "    .dataframe tbody tr th:only-of-type {\n",
       "        vertical-align: middle;\n",
       "    }\n",
       "\n",
       "    .dataframe tbody tr th {\n",
       "        vertical-align: top;\n",
       "    }\n",
       "\n",
       "    .dataframe thead th {\n",
       "        text-align: right;\n",
       "    }\n",
       "</style>\n",
       "<table border=\"1\" class=\"dataframe\">\n",
       "  <thead>\n",
       "    <tr style=\"text-align: right;\">\n",
       "      <th></th>\n",
       "      <th>acount age</th>\n",
       "      <th>total tweets</th>\n",
       "      <th>followers</th>\n",
       "      <th>following</th>\n",
       "      <th>respectability</th>\n",
       "      <th>is respactable?</th>\n",
       "      <th>views</th>\n",
       "      <th>likes</th>\n",
       "      <th>quote retweets</th>\n",
       "      <th>comments</th>\n",
       "      <th>word count</th>\n",
       "      <th>hashtag count</th>\n",
       "      <th>retweets</th>\n",
       "    </tr>\n",
       "  </thead>\n",
       "  <tbody>\n",
       "    <tr>\n",
       "      <th>count</th>\n",
       "      <td>9594.000000</td>\n",
       "      <td>9.594000e+03</td>\n",
       "      <td>9.594000e+03</td>\n",
       "      <td>9594.000000</td>\n",
       "      <td>9594.000000</td>\n",
       "      <td>9594.000000</td>\n",
       "      <td>9594.000000</td>\n",
       "      <td>9594.000000</td>\n",
       "      <td>9594.00000</td>\n",
       "      <td>9594.000000</td>\n",
       "      <td>9594.000000</td>\n",
       "      <td>9594.000000</td>\n",
       "      <td>9594.000000</td>\n",
       "    </tr>\n",
       "    <tr>\n",
       "      <th>mean</th>\n",
       "      <td>10.609381</td>\n",
       "      <td>2.628971e+04</td>\n",
       "      <td>4.805804e+03</td>\n",
       "      <td>1464.772358</td>\n",
       "      <td>1.878679</td>\n",
       "      <td>0.667396</td>\n",
       "      <td>1072.711278</td>\n",
       "      <td>11.219408</td>\n",
       "      <td>0.13227</td>\n",
       "      <td>1.016573</td>\n",
       "      <td>16.670315</td>\n",
       "      <td>0.645820</td>\n",
       "      <td>1.565353</td>\n",
       "    </tr>\n",
       "    <tr>\n",
       "      <th>std</th>\n",
       "      <td>4.481777</td>\n",
       "      <td>5.892967e+04</td>\n",
       "      <td>8.111512e+04</td>\n",
       "      <td>5908.293493</td>\n",
       "      <td>8.001600</td>\n",
       "      <td>0.471170</td>\n",
       "      <td>7654.539461</td>\n",
       "      <td>94.066601</td>\n",
       "      <td>1.42344</td>\n",
       "      <td>9.565067</td>\n",
       "      <td>12.702648</td>\n",
       "      <td>1.742177</td>\n",
       "      <td>18.940495</td>\n",
       "    </tr>\n",
       "    <tr>\n",
       "      <th>min</th>\n",
       "      <td>0.100000</td>\n",
       "      <td>1.000000e+00</td>\n",
       "      <td>0.000000e+00</td>\n",
       "      <td>0.000000</td>\n",
       "      <td>0.000000</td>\n",
       "      <td>0.000000</td>\n",
       "      <td>0.000000</td>\n",
       "      <td>0.000000</td>\n",
       "      <td>0.00000</td>\n",
       "      <td>0.000000</td>\n",
       "      <td>1.000000</td>\n",
       "      <td>0.000000</td>\n",
       "      <td>0.000000</td>\n",
       "    </tr>\n",
       "    <tr>\n",
       "      <th>25%</th>\n",
       "      <td>6.900000</td>\n",
       "      <td>2.331250e+03</td>\n",
       "      <td>2.370000e+02</td>\n",
       "      <td>287.250000</td>\n",
       "      <td>0.563243</td>\n",
       "      <td>0.000000</td>\n",
       "      <td>44.000000</td>\n",
       "      <td>0.000000</td>\n",
       "      <td>0.00000</td>\n",
       "      <td>0.000000</td>\n",
       "      <td>7.000000</td>\n",
       "      <td>0.000000</td>\n",
       "      <td>0.000000</td>\n",
       "    </tr>\n",
       "    <tr>\n",
       "      <th>50%</th>\n",
       "      <td>11.900000</td>\n",
       "      <td>8.984000e+03</td>\n",
       "      <td>6.470000e+02</td>\n",
       "      <td>686.000000</td>\n",
       "      <td>1.092433</td>\n",
       "      <td>1.000000</td>\n",
       "      <td>130.000000</td>\n",
       "      <td>1.000000</td>\n",
       "      <td>0.00000</td>\n",
       "      <td>0.000000</td>\n",
       "      <td>13.000000</td>\n",
       "      <td>0.000000</td>\n",
       "      <td>0.000000</td>\n",
       "    </tr>\n",
       "    <tr>\n",
       "      <th>75%</th>\n",
       "      <td>14.300000</td>\n",
       "      <td>2.733050e+04</td>\n",
       "      <td>1.764000e+03</td>\n",
       "      <td>1537.000000</td>\n",
       "      <td>2.071834</td>\n",
       "      <td>1.000000</td>\n",
       "      <td>434.750000</td>\n",
       "      <td>4.000000</td>\n",
       "      <td>0.00000</td>\n",
       "      <td>1.000000</td>\n",
       "      <td>24.000000</td>\n",
       "      <td>0.000000</td>\n",
       "      <td>0.000000</td>\n",
       "    </tr>\n",
       "    <tr>\n",
       "      <th>max</th>\n",
       "      <td>19.200000</td>\n",
       "      <td>1.574466e+06</td>\n",
       "      <td>6.752268e+06</td>\n",
       "      <td>435333.000000</td>\n",
       "      <td>740.000000</td>\n",
       "      <td>1.000000</td>\n",
       "      <td>414784.000000</td>\n",
       "      <td>4255.000000</td>\n",
       "      <td>96.00000</td>\n",
       "      <td>538.000000</td>\n",
       "      <td>67.000000</td>\n",
       "      <td>22.000000</td>\n",
       "      <td>1033.000000</td>\n",
       "    </tr>\n",
       "  </tbody>\n",
       "</table>\n",
       "</div>"
      ],
      "text/plain": [
       "        acount age  total tweets     followers      following  respectability  \\\n",
       "count  9594.000000  9.594000e+03  9.594000e+03    9594.000000     9594.000000   \n",
       "mean     10.609381  2.628971e+04  4.805804e+03    1464.772358        1.878679   \n",
       "std       4.481777  5.892967e+04  8.111512e+04    5908.293493        8.001600   \n",
       "min       0.100000  1.000000e+00  0.000000e+00       0.000000        0.000000   \n",
       "25%       6.900000  2.331250e+03  2.370000e+02     287.250000        0.563243   \n",
       "50%      11.900000  8.984000e+03  6.470000e+02     686.000000        1.092433   \n",
       "75%      14.300000  2.733050e+04  1.764000e+03    1537.000000        2.071834   \n",
       "max      19.200000  1.574466e+06  6.752268e+06  435333.000000      740.000000   \n",
       "\n",
       "       is respactable?          views        likes  quote retweets  \\\n",
       "count      9594.000000    9594.000000  9594.000000      9594.00000   \n",
       "mean          0.667396    1072.711278    11.219408         0.13227   \n",
       "std           0.471170    7654.539461    94.066601         1.42344   \n",
       "min           0.000000       0.000000     0.000000         0.00000   \n",
       "25%           0.000000      44.000000     0.000000         0.00000   \n",
       "50%           1.000000     130.000000     1.000000         0.00000   \n",
       "75%           1.000000     434.750000     4.000000         0.00000   \n",
       "max           1.000000  414784.000000  4255.000000        96.00000   \n",
       "\n",
       "          comments   word count  hashtag count     retweets  \n",
       "count  9594.000000  9594.000000    9594.000000  9594.000000  \n",
       "mean      1.016573    16.670315       0.645820     1.565353  \n",
       "std       9.565067    12.702648       1.742177    18.940495  \n",
       "min       0.000000     1.000000       0.000000     0.000000  \n",
       "25%       0.000000     7.000000       0.000000     0.000000  \n",
       "50%       0.000000    13.000000       0.000000     0.000000  \n",
       "75%       1.000000    24.000000       0.000000     0.000000  \n",
       "max     538.000000    67.000000      22.000000  1033.000000  "
      ]
     },
     "execution_count": 138,
     "metadata": {},
     "output_type": "execute_result"
    }
   ],
   "source": [
    "df.describe()"
   ]
  },
  {
   "cell_type": "code",
   "execution_count": null,
   "id": "d4ae9664",
   "metadata": {},
   "outputs": [],
   "source": []
  }
 ],
 "metadata": {
  "kernelspec": {
   "display_name": "Python 3 (ipykernel)",
   "language": "python",
   "name": "python3"
  },
  "language_info": {
   "codemirror_mode": {
    "name": "ipython",
    "version": 3
   },
   "file_extension": ".py",
   "mimetype": "text/x-python",
   "name": "python",
   "nbconvert_exporter": "python",
   "pygments_lexer": "ipython3",
   "version": "3.9.13"
  }
 },
 "nbformat": 4,
 "nbformat_minor": 5
}
