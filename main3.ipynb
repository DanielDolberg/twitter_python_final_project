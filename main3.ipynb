{
 "cells": [
  {
   "cell_type": "code",
   "execution_count": 1,
   "id": "7c42974a",
   "metadata": {
    "scrolled": true
   },
   "outputs": [],
   "source": [
    "#!pip install geonamescache\n",
    "import tweepy\n",
    "import numpy\n",
    "import pandas as pd\n",
    "import requests\n",
    "from bs4 import BeautifulSoup\n",
    "import importlib\n",
    "import json\n",
    "from helper import *\n",
    "from selenium import webdriver\n",
    "import os\n",
    "import matplotlib.pyplot as plt\n",
    "import seaborn as sns\n",
    "from scipy.stats import chi2_contingency\n",
    "from sklearn import linear_model\n"
   ]
  },
  {
   "cell_type": "code",
   "execution_count": 2,
   "id": "6c14b4fd",
   "metadata": {},
   "outputs": [],
   "source": [
    "pd.options.display.max_columns = 200"
   ]
  },
  {
   "cell_type": "code",
   "execution_count": 3,
   "id": "9377739e",
   "metadata": {
    "scrolled": true
   },
   "outputs": [
    {
     "data": {
      "text/html": [
       "<div>\n",
       "<style scoped>\n",
       "    .dataframe tbody tr th:only-of-type {\n",
       "        vertical-align: middle;\n",
       "    }\n",
       "\n",
       "    .dataframe tbody tr th {\n",
       "        vertical-align: top;\n",
       "    }\n",
       "\n",
       "    .dataframe thead th {\n",
       "        text-align: right;\n",
       "    }\n",
       "</style>\n",
       "<table border=\"1\" class=\"dataframe\">\n",
       "  <thead>\n",
       "    <tr style=\"text-align: right;\">\n",
       "      <th></th>\n",
       "      <th>Unnamed: 0</th>\n",
       "      <th>name</th>\n",
       "      <th>age</th>\n",
       "      <th>city</th>\n",
       "      <th>country</th>\n",
       "      <th>gender</th>\n",
       "      <th>acount age</th>\n",
       "      <th>total tweets</th>\n",
       "      <th>followers</th>\n",
       "      <th>following</th>\n",
       "      <th>respectability</th>\n",
       "      <th>verified</th>\n",
       "      <th>text</th>\n",
       "      <th>views</th>\n",
       "      <th>likes</th>\n",
       "      <th>retweets</th>\n",
       "      <th>quote retweets</th>\n",
       "      <th>comments</th>\n",
       "      <th>word count</th>\n",
       "      <th>is quote</th>\n",
       "      <th>hashtags</th>\n",
       "      <th>hashtag count</th>\n",
       "      <th>trending</th>\n",
       "      <th>using trends?</th>\n",
       "      <th>link to tweet</th>\n",
       "    </tr>\n",
       "  </thead>\n",
       "  <tbody>\n",
       "    <tr>\n",
       "      <th>0</th>\n",
       "      <td>0</td>\n",
       "      <td>CamuyArenas_AA</td>\n",
       "      <td>NaN</td>\n",
       "      <td>Puente</td>\n",
       "      <td>United States</td>\n",
       "      <td>NaN</td>\n",
       "      <td>3.2</td>\n",
       "      <td>228</td>\n",
       "      <td>50</td>\n",
       "      <td>22</td>\n",
       "      <td>0.440000</td>\n",
       "      <td>False</td>\n",
       "      <td>Just posted a photo @ Estadio Juan F.Cheo Lópe...</td>\n",
       "      <td>13</td>\n",
       "      <td>0</td>\n",
       "      <td>0</td>\n",
       "      <td>0</td>\n",
       "      <td>0</td>\n",
       "      <td>11</td>\n",
       "      <td>False</td>\n",
       "      <td>NaN</td>\n",
       "      <td>0</td>\n",
       "      <td>['Friday the 13th', 'Staley', 'Lori Harvey', '...</td>\n",
       "      <td>False</td>\n",
       "      <td>https://www.twitter.com/CamuyArenas_AA/status/...</td>\n",
       "    </tr>\n",
       "    <tr>\n",
       "      <th>1</th>\n",
       "      <td>1</td>\n",
       "      <td>16p11dot2ds</td>\n",
       "      <td>NaN</td>\n",
       "      <td>Georgia</td>\n",
       "      <td>United States</td>\n",
       "      <td>NaN</td>\n",
       "      <td>4.9</td>\n",
       "      <td>32312</td>\n",
       "      <td>33</td>\n",
       "      <td>481</td>\n",
       "      <td>14.575758</td>\n",
       "      <td>False</td>\n",
       "      <td>This is a prep free zone. https://t.co/2qqlLxy...</td>\n",
       "      <td>336</td>\n",
       "      <td>1</td>\n",
       "      <td>0</td>\n",
       "      <td>0</td>\n",
       "      <td>1</td>\n",
       "      <td>8</td>\n",
       "      <td>True</td>\n",
       "      <td>NaN</td>\n",
       "      <td>0</td>\n",
       "      <td>['Friday the 13th', 'Staley', 'Lori Harvey', '...</td>\n",
       "      <td>False</td>\n",
       "      <td>https://www.twitter.com/16p11dot2ds/status/161...</td>\n",
       "    </tr>\n",
       "    <tr>\n",
       "      <th>2</th>\n",
       "      <td>2</td>\n",
       "      <td>PoopScoopSF</td>\n",
       "      <td>NaN</td>\n",
       "      <td>Downtown</td>\n",
       "      <td>United States</td>\n",
       "      <td>NaN</td>\n",
       "      <td>4.7</td>\n",
       "      <td>163626</td>\n",
       "      <td>415</td>\n",
       "      <td>125</td>\n",
       "      <td>0.301205</td>\n",
       "      <td>False</td>\n",
       "      <td>\"Big poop front of our door.\" (Downtown, D3) h...</td>\n",
       "      <td>9</td>\n",
       "      <td>0</td>\n",
       "      <td>0</td>\n",
       "      <td>0</td>\n",
       "      <td>1</td>\n",
       "      <td>10</td>\n",
       "      <td>False</td>\n",
       "      <td>NaN</td>\n",
       "      <td>0</td>\n",
       "      <td>['Friday the 13th', 'Staley', 'Lori Harvey', '...</td>\n",
       "      <td>False</td>\n",
       "      <td>https://www.twitter.com/PoopScoopSF/status/161...</td>\n",
       "    </tr>\n",
       "    <tr>\n",
       "      <th>3</th>\n",
       "      <td>3</td>\n",
       "      <td>wchazz</td>\n",
       "      <td>NaN</td>\n",
       "      <td>Wesley Chapel</td>\n",
       "      <td>United States</td>\n",
       "      <td>NaN</td>\n",
       "      <td>15.4</td>\n",
       "      <td>48876</td>\n",
       "      <td>377</td>\n",
       "      <td>951</td>\n",
       "      <td>2.522546</td>\n",
       "      <td>False</td>\n",
       "      <td>2nd cardio, target calories 1k @ Wesley Chapel...</td>\n",
       "      <td>4</td>\n",
       "      <td>0</td>\n",
       "      <td>0</td>\n",
       "      <td>0</td>\n",
       "      <td>0</td>\n",
       "      <td>10</td>\n",
       "      <td>False</td>\n",
       "      <td>NaN</td>\n",
       "      <td>0</td>\n",
       "      <td>['Friday the 13th', 'Staley', 'Lori Harvey', '...</td>\n",
       "      <td>False</td>\n",
       "      <td>https://www.twitter.com/wchazz/status/16139885...</td>\n",
       "    </tr>\n",
       "    <tr>\n",
       "      <th>4</th>\n",
       "      <td>4</td>\n",
       "      <td>wyatthebson</td>\n",
       "      <td>NaN</td>\n",
       "      <td>Pier 17</td>\n",
       "      <td>United States</td>\n",
       "      <td>NaN</td>\n",
       "      <td>16.8</td>\n",
       "      <td>24061</td>\n",
       "      <td>1366</td>\n",
       "      <td>4999</td>\n",
       "      <td>3.659590</td>\n",
       "      <td>False</td>\n",
       "      <td>Listen to PODCAST #6 SGUZR by Core Beats on Tn...</td>\n",
       "      <td>13</td>\n",
       "      <td>0</td>\n",
       "      <td>0</td>\n",
       "      <td>0</td>\n",
       "      <td>0</td>\n",
       "      <td>11</td>\n",
       "      <td>False</td>\n",
       "      <td>NaN</td>\n",
       "      <td>0</td>\n",
       "      <td>['Friday the 13th', 'Staley', 'Lori Harvey', '...</td>\n",
       "      <td>False</td>\n",
       "      <td>https://www.twitter.com/wyatthebson/status/161...</td>\n",
       "    </tr>\n",
       "  </tbody>\n",
       "</table>\n",
       "</div>"
      ],
      "text/plain": [
       "   Unnamed: 0            name  age           city        country  gender  \\\n",
       "0           0  CamuyArenas_AA  NaN         Puente  United States     NaN   \n",
       "1           1     16p11dot2ds  NaN        Georgia  United States     NaN   \n",
       "2           2     PoopScoopSF  NaN       Downtown  United States     NaN   \n",
       "3           3          wchazz  NaN  Wesley Chapel  United States     NaN   \n",
       "4           4     wyatthebson  NaN        Pier 17  United States     NaN   \n",
       "\n",
       "   acount age  total tweets  followers  following  respectability  verified  \\\n",
       "0         3.2           228         50         22        0.440000     False   \n",
       "1         4.9         32312         33        481       14.575758     False   \n",
       "2         4.7        163626        415        125        0.301205     False   \n",
       "3        15.4         48876        377        951        2.522546     False   \n",
       "4        16.8         24061       1366       4999        3.659590     False   \n",
       "\n",
       "                                                text  views  likes  retweets  \\\n",
       "0  Just posted a photo @ Estadio Juan F.Cheo Lópe...     13      0         0   \n",
       "1  This is a prep free zone. https://t.co/2qqlLxy...    336      1         0   \n",
       "2  \"Big poop front of our door.\" (Downtown, D3) h...      9      0         0   \n",
       "3  2nd cardio, target calories 1k @ Wesley Chapel...      4      0         0   \n",
       "4  Listen to PODCAST #6 SGUZR by Core Beats on Tn...     13      0         0   \n",
       "\n",
       "   quote retweets  comments  word count  is quote hashtags  hashtag count  \\\n",
       "0               0         0          11     False      NaN              0   \n",
       "1               0         1           8      True      NaN              0   \n",
       "2               0         1          10     False      NaN              0   \n",
       "3               0         0          10     False      NaN              0   \n",
       "4               0         0          11     False      NaN              0   \n",
       "\n",
       "                                            trending  using trends?  \\\n",
       "0  ['Friday the 13th', 'Staley', 'Lori Harvey', '...          False   \n",
       "1  ['Friday the 13th', 'Staley', 'Lori Harvey', '...          False   \n",
       "2  ['Friday the 13th', 'Staley', 'Lori Harvey', '...          False   \n",
       "3  ['Friday the 13th', 'Staley', 'Lori Harvey', '...          False   \n",
       "4  ['Friday the 13th', 'Staley', 'Lori Harvey', '...          False   \n",
       "\n",
       "                                       link to tweet  \n",
       "0  https://www.twitter.com/CamuyArenas_AA/status/...  \n",
       "1  https://www.twitter.com/16p11dot2ds/status/161...  \n",
       "2  https://www.twitter.com/PoopScoopSF/status/161...  \n",
       "3  https://www.twitter.com/wchazz/status/16139885...  \n",
       "4  https://www.twitter.com/wyatthebson/status/161...  "
      ]
     },
     "execution_count": 3,
     "metadata": {},
     "output_type": "execute_result"
    }
   ],
   "source": [
    "df=pd.read_csv(\"out.csv\")\n",
    "df=pd.concat([df,pd.read_csv(\"out2.csv\"),pd.read_csv(\"out3.csv\"),pd.read_csv(\"out4.csv\"),pd.read_csv(\"out5.csv\"),pd.read_csv(\"out6.csv\")][:3])\n",
    "df.head()"
   ]
  },
  {
   "cell_type": "code",
   "execution_count": null,
   "id": "c09cac75",
   "metadata": {},
   "outputs": [],
   "source": []
  },
  {
   "cell_type": "code",
   "execution_count": 4,
   "id": "b17e6d9f",
   "metadata": {},
   "outputs": [
    {
     "name": "stdout",
     "output_type": "stream",
     "text": [
      "<class 'pandas.core.frame.DataFrame'>\n",
      "Int64Index: 20547 entries, 0 to 1414\n",
      "Data columns (total 25 columns):\n",
      " #   Column          Non-Null Count  Dtype  \n",
      "---  ------          --------------  -----  \n",
      " 0   Unnamed: 0      20547 non-null  int64  \n",
      " 1   name            20547 non-null  object \n",
      " 2   age             330 non-null    float64\n",
      " 3   city            20547 non-null  object \n",
      " 4   country         20547 non-null  object \n",
      " 5   gender          0 non-null      float64\n",
      " 6   acount age      20547 non-null  float64\n",
      " 7   total tweets    20547 non-null  int64  \n",
      " 8   followers       20547 non-null  int64  \n",
      " 9   following       20547 non-null  int64  \n",
      " 10  respectability  20547 non-null  float64\n",
      " 11  verified        20547 non-null  bool   \n",
      " 12  text            20547 non-null  object \n",
      " 13  views           20547 non-null  int64  \n",
      " 14  likes           20547 non-null  int64  \n",
      " 15  retweets        20547 non-null  int64  \n",
      " 16  quote retweets  20547 non-null  int64  \n",
      " 17  comments        20547 non-null  int64  \n",
      " 18  word count      20547 non-null  int64  \n",
      " 19  is quote        20547 non-null  bool   \n",
      " 20  hashtags        4694 non-null   object \n",
      " 21  hashtag count   20547 non-null  int64  \n",
      " 22  trending        20547 non-null  object \n",
      " 23  using trends?   20547 non-null  bool   \n",
      " 24  link to tweet   20547 non-null  object \n",
      "dtypes: bool(3), float64(4), int64(11), object(7)\n",
      "memory usage: 3.7+ MB\n"
     ]
    }
   ],
   "source": [
    "df.info()"
   ]
  },
  {
   "cell_type": "code",
   "execution_count": 5,
   "id": "b149cec9",
   "metadata": {},
   "outputs": [],
   "source": [
    "df=df.drop([\"age\", \"gender\",'hashtags','Unnamed: 0'], axis=1)"
   ]
  },
  {
   "cell_type": "code",
   "execution_count": 6,
   "id": "9c8e7e2e",
   "metadata": {},
   "outputs": [
    {
     "name": "stdout",
     "output_type": "stream",
     "text": [
      "<class 'pandas.core.frame.DataFrame'>\n",
      "Int64Index: 20547 entries, 0 to 1414\n",
      "Data columns (total 21 columns):\n",
      " #   Column          Non-Null Count  Dtype  \n",
      "---  ------          --------------  -----  \n",
      " 0   name            20547 non-null  object \n",
      " 1   city            20547 non-null  object \n",
      " 2   country         20547 non-null  object \n",
      " 3   acount age      20547 non-null  float64\n",
      " 4   total tweets    20547 non-null  int64  \n",
      " 5   followers       20547 non-null  int64  \n",
      " 6   following       20547 non-null  int64  \n",
      " 7   respectability  20547 non-null  float64\n",
      " 8   verified        20547 non-null  bool   \n",
      " 9   text            20547 non-null  object \n",
      " 10  views           20547 non-null  int64  \n",
      " 11  likes           20547 non-null  int64  \n",
      " 12  retweets        20547 non-null  int64  \n",
      " 13  quote retweets  20547 non-null  int64  \n",
      " 14  comments        20547 non-null  int64  \n",
      " 15  word count      20547 non-null  int64  \n",
      " 16  is quote        20547 non-null  bool   \n",
      " 17  hashtag count   20547 non-null  int64  \n",
      " 18  trending        20547 non-null  object \n",
      " 19  using trends?   20547 non-null  bool   \n",
      " 20  link to tweet   20547 non-null  object \n",
      "dtypes: bool(3), float64(2), int64(10), object(6)\n",
      "memory usage: 3.0+ MB\n"
     ]
    }
   ],
   "source": [
    "df.info()"
   ]
  },
  {
   "cell_type": "code",
   "execution_count": 7,
   "id": "880ac192",
   "metadata": {},
   "outputs": [
    {
     "data": {
      "text/html": [
       "<div>\n",
       "<style scoped>\n",
       "    .dataframe tbody tr th:only-of-type {\n",
       "        vertical-align: middle;\n",
       "    }\n",
       "\n",
       "    .dataframe tbody tr th {\n",
       "        vertical-align: top;\n",
       "    }\n",
       "\n",
       "    .dataframe thead th {\n",
       "        text-align: right;\n",
       "    }\n",
       "</style>\n",
       "<table border=\"1\" class=\"dataframe\">\n",
       "  <thead>\n",
       "    <tr style=\"text-align: right;\">\n",
       "      <th></th>\n",
       "      <th>name</th>\n",
       "      <th>city</th>\n",
       "      <th>country</th>\n",
       "      <th>acount age</th>\n",
       "      <th>total tweets</th>\n",
       "      <th>followers</th>\n",
       "      <th>following</th>\n",
       "      <th>respectability</th>\n",
       "      <th>verified</th>\n",
       "      <th>text</th>\n",
       "      <th>views</th>\n",
       "      <th>likes</th>\n",
       "      <th>retweets</th>\n",
       "      <th>quote retweets</th>\n",
       "      <th>comments</th>\n",
       "      <th>word count</th>\n",
       "      <th>is quote</th>\n",
       "      <th>hashtag count</th>\n",
       "      <th>trending</th>\n",
       "      <th>using trends?</th>\n",
       "      <th>link to tweet</th>\n",
       "    </tr>\n",
       "  </thead>\n",
       "  <tbody>\n",
       "    <tr>\n",
       "      <th>count</th>\n",
       "      <td>20547</td>\n",
       "      <td>20547</td>\n",
       "      <td>20547</td>\n",
       "      <td>20547.000000</td>\n",
       "      <td>2.054700e+04</td>\n",
       "      <td>2.054700e+04</td>\n",
       "      <td>20547.000000</td>\n",
       "      <td>20547.000000</td>\n",
       "      <td>20547</td>\n",
       "      <td>20547</td>\n",
       "      <td>20547.000000</td>\n",
       "      <td>20547.000000</td>\n",
       "      <td>20547.000000</td>\n",
       "      <td>20547.000000</td>\n",
       "      <td>20547.000000</td>\n",
       "      <td>20547.000000</td>\n",
       "      <td>20547</td>\n",
       "      <td>20547.000000</td>\n",
       "      <td>20547</td>\n",
       "      <td>20547</td>\n",
       "      <td>20547</td>\n",
       "    </tr>\n",
       "    <tr>\n",
       "      <th>unique</th>\n",
       "      <td>12095</td>\n",
       "      <td>3381</td>\n",
       "      <td>5</td>\n",
       "      <td>NaN</td>\n",
       "      <td>NaN</td>\n",
       "      <td>NaN</td>\n",
       "      <td>NaN</td>\n",
       "      <td>NaN</td>\n",
       "      <td>2</td>\n",
       "      <td>18127</td>\n",
       "      <td>NaN</td>\n",
       "      <td>NaN</td>\n",
       "      <td>NaN</td>\n",
       "      <td>NaN</td>\n",
       "      <td>NaN</td>\n",
       "      <td>NaN</td>\n",
       "      <td>2</td>\n",
       "      <td>NaN</td>\n",
       "      <td>246</td>\n",
       "      <td>2</td>\n",
       "      <td>18163</td>\n",
       "    </tr>\n",
       "    <tr>\n",
       "      <th>top</th>\n",
       "      <td>Dawesfgmailcom6</td>\n",
       "      <td>Auckland</td>\n",
       "      <td>United States</td>\n",
       "      <td>NaN</td>\n",
       "      <td>NaN</td>\n",
       "      <td>NaN</td>\n",
       "      <td>NaN</td>\n",
       "      <td>NaN</td>\n",
       "      <td>False</td>\n",
       "      <td>@whosjordi's account is temporarily unavailabl...</td>\n",
       "      <td>NaN</td>\n",
       "      <td>NaN</td>\n",
       "      <td>NaN</td>\n",
       "      <td>NaN</td>\n",
       "      <td>NaN</td>\n",
       "      <td>NaN</td>\n",
       "      <td>False</td>\n",
       "      <td>NaN</td>\n",
       "      <td>['Donny', 'Trossard', 'Jennie', 'Phineas', 'Fe...</td>\n",
       "      <td>False</td>\n",
       "      <td>https://www.twitter.com/LaurieFleming/status/1...</td>\n",
       "    </tr>\n",
       "    <tr>\n",
       "      <th>freq</th>\n",
       "      <td>202</td>\n",
       "      <td>1573</td>\n",
       "      <td>5147</td>\n",
       "      <td>NaN</td>\n",
       "      <td>NaN</td>\n",
       "      <td>NaN</td>\n",
       "      <td>NaN</td>\n",
       "      <td>NaN</td>\n",
       "      <td>19981</td>\n",
       "      <td>5</td>\n",
       "      <td>NaN</td>\n",
       "      <td>NaN</td>\n",
       "      <td>NaN</td>\n",
       "      <td>NaN</td>\n",
       "      <td>NaN</td>\n",
       "      <td>NaN</td>\n",
       "      <td>15308</td>\n",
       "      <td>NaN</td>\n",
       "      <td>1536</td>\n",
       "      <td>19699</td>\n",
       "      <td>2</td>\n",
       "    </tr>\n",
       "    <tr>\n",
       "      <th>mean</th>\n",
       "      <td>NaN</td>\n",
       "      <td>NaN</td>\n",
       "      <td>NaN</td>\n",
       "      <td>10.246070</td>\n",
       "      <td>6.900196e+04</td>\n",
       "      <td>5.651450e+03</td>\n",
       "      <td>1676.641554</td>\n",
       "      <td>2.081166</td>\n",
       "      <td>NaN</td>\n",
       "      <td>NaN</td>\n",
       "      <td>1066.121186</td>\n",
       "      <td>13.599893</td>\n",
       "      <td>2.033192</td>\n",
       "      <td>0.151214</td>\n",
       "      <td>1.015720</td>\n",
       "      <td>15.951039</td>\n",
       "      <td>NaN</td>\n",
       "      <td>0.582129</td>\n",
       "      <td>NaN</td>\n",
       "      <td>NaN</td>\n",
       "      <td>NaN</td>\n",
       "    </tr>\n",
       "    <tr>\n",
       "      <th>std</th>\n",
       "      <td>NaN</td>\n",
       "      <td>NaN</td>\n",
       "      <td>NaN</td>\n",
       "      <td>4.727793</td>\n",
       "      <td>7.127004e+05</td>\n",
       "      <td>1.082666e+05</td>\n",
       "      <td>8047.448325</td>\n",
       "      <td>6.259152</td>\n",
       "      <td>NaN</td>\n",
       "      <td>NaN</td>\n",
       "      <td>11522.349999</td>\n",
       "      <td>196.329459</td>\n",
       "      <td>44.212679</td>\n",
       "      <td>2.709742</td>\n",
       "      <td>9.022906</td>\n",
       "      <td>12.494057</td>\n",
       "      <td>NaN</td>\n",
       "      <td>1.652147</td>\n",
       "      <td>NaN</td>\n",
       "      <td>NaN</td>\n",
       "      <td>NaN</td>\n",
       "    </tr>\n",
       "    <tr>\n",
       "      <th>min</th>\n",
       "      <td>NaN</td>\n",
       "      <td>NaN</td>\n",
       "      <td>NaN</td>\n",
       "      <td>0.100000</td>\n",
       "      <td>1.000000e+00</td>\n",
       "      <td>0.000000e+00</td>\n",
       "      <td>0.000000</td>\n",
       "      <td>0.000000</td>\n",
       "      <td>NaN</td>\n",
       "      <td>NaN</td>\n",
       "      <td>0.000000</td>\n",
       "      <td>0.000000</td>\n",
       "      <td>0.000000</td>\n",
       "      <td>0.000000</td>\n",
       "      <td>0.000000</td>\n",
       "      <td>1.000000</td>\n",
       "      <td>NaN</td>\n",
       "      <td>0.000000</td>\n",
       "      <td>NaN</td>\n",
       "      <td>NaN</td>\n",
       "      <td>NaN</td>\n",
       "    </tr>\n",
       "    <tr>\n",
       "      <th>25%</th>\n",
       "      <td>NaN</td>\n",
       "      <td>NaN</td>\n",
       "      <td>NaN</td>\n",
       "      <td>5.800000</td>\n",
       "      <td>2.785000e+03</td>\n",
       "      <td>2.320000e+02</td>\n",
       "      <td>256.000000</td>\n",
       "      <td>0.529945</td>\n",
       "      <td>NaN</td>\n",
       "      <td>NaN</td>\n",
       "      <td>33.000000</td>\n",
       "      <td>0.000000</td>\n",
       "      <td>0.000000</td>\n",
       "      <td>0.000000</td>\n",
       "      <td>0.000000</td>\n",
       "      <td>7.000000</td>\n",
       "      <td>NaN</td>\n",
       "      <td>0.000000</td>\n",
       "      <td>NaN</td>\n",
       "      <td>NaN</td>\n",
       "      <td>NaN</td>\n",
       "    </tr>\n",
       "    <tr>\n",
       "      <th>50%</th>\n",
       "      <td>NaN</td>\n",
       "      <td>NaN</td>\n",
       "      <td>NaN</td>\n",
       "      <td>11.500000</td>\n",
       "      <td>1.187400e+04</td>\n",
       "      <td>6.750000e+02</td>\n",
       "      <td>645.000000</td>\n",
       "      <td>1.087361</td>\n",
       "      <td>NaN</td>\n",
       "      <td>NaN</td>\n",
       "      <td>107.000000</td>\n",
       "      <td>1.000000</td>\n",
       "      <td>0.000000</td>\n",
       "      <td>0.000000</td>\n",
       "      <td>0.000000</td>\n",
       "      <td>12.000000</td>\n",
       "      <td>NaN</td>\n",
       "      <td>0.000000</td>\n",
       "      <td>NaN</td>\n",
       "      <td>NaN</td>\n",
       "      <td>NaN</td>\n",
       "    </tr>\n",
       "    <tr>\n",
       "      <th>75%</th>\n",
       "      <td>NaN</td>\n",
       "      <td>NaN</td>\n",
       "      <td>NaN</td>\n",
       "      <td>14.300000</td>\n",
       "      <td>3.792600e+04</td>\n",
       "      <td>1.848000e+03</td>\n",
       "      <td>1575.000000</td>\n",
       "      <td>2.143751</td>\n",
       "      <td>NaN</td>\n",
       "      <td>NaN</td>\n",
       "      <td>359.000000</td>\n",
       "      <td>4.000000</td>\n",
       "      <td>0.000000</td>\n",
       "      <td>0.000000</td>\n",
       "      <td>0.000000</td>\n",
       "      <td>22.000000</td>\n",
       "      <td>NaN</td>\n",
       "      <td>0.000000</td>\n",
       "      <td>NaN</td>\n",
       "      <td>NaN</td>\n",
       "      <td>NaN</td>\n",
       "    </tr>\n",
       "    <tr>\n",
       "      <th>max</th>\n",
       "      <td>NaN</td>\n",
       "      <td>NaN</td>\n",
       "      <td>NaN</td>\n",
       "      <td>19.200000</td>\n",
       "      <td>5.204026e+07</td>\n",
       "      <td>6.752298e+06</td>\n",
       "      <td>687850.000000</td>\n",
       "      <td>740.000000</td>\n",
       "      <td>NaN</td>\n",
       "      <td>NaN</td>\n",
       "      <td>976626.000000</td>\n",
       "      <td>11107.000000</td>\n",
       "      <td>4826.000000</td>\n",
       "      <td>261.000000</td>\n",
       "      <td>538.000000</td>\n",
       "      <td>85.000000</td>\n",
       "      <td>NaN</td>\n",
       "      <td>24.000000</td>\n",
       "      <td>NaN</td>\n",
       "      <td>NaN</td>\n",
       "      <td>NaN</td>\n",
       "    </tr>\n",
       "  </tbody>\n",
       "</table>\n",
       "</div>"
      ],
      "text/plain": [
       "                   name      city        country    acount age  total tweets  \\\n",
       "count             20547     20547          20547  20547.000000  2.054700e+04   \n",
       "unique            12095      3381              5           NaN           NaN   \n",
       "top     Dawesfgmailcom6  Auckland  United States           NaN           NaN   \n",
       "freq                202      1573           5147           NaN           NaN   \n",
       "mean                NaN       NaN            NaN     10.246070  6.900196e+04   \n",
       "std                 NaN       NaN            NaN      4.727793  7.127004e+05   \n",
       "min                 NaN       NaN            NaN      0.100000  1.000000e+00   \n",
       "25%                 NaN       NaN            NaN      5.800000  2.785000e+03   \n",
       "50%                 NaN       NaN            NaN     11.500000  1.187400e+04   \n",
       "75%                 NaN       NaN            NaN     14.300000  3.792600e+04   \n",
       "max                 NaN       NaN            NaN     19.200000  5.204026e+07   \n",
       "\n",
       "           followers      following  respectability verified  \\\n",
       "count   2.054700e+04   20547.000000    20547.000000    20547   \n",
       "unique           NaN            NaN             NaN        2   \n",
       "top              NaN            NaN             NaN    False   \n",
       "freq             NaN            NaN             NaN    19981   \n",
       "mean    5.651450e+03    1676.641554        2.081166      NaN   \n",
       "std     1.082666e+05    8047.448325        6.259152      NaN   \n",
       "min     0.000000e+00       0.000000        0.000000      NaN   \n",
       "25%     2.320000e+02     256.000000        0.529945      NaN   \n",
       "50%     6.750000e+02     645.000000        1.087361      NaN   \n",
       "75%     1.848000e+03    1575.000000        2.143751      NaN   \n",
       "max     6.752298e+06  687850.000000      740.000000      NaN   \n",
       "\n",
       "                                                     text          views  \\\n",
       "count                                               20547   20547.000000   \n",
       "unique                                              18127            NaN   \n",
       "top     @whosjordi's account is temporarily unavailabl...            NaN   \n",
       "freq                                                    5            NaN   \n",
       "mean                                                  NaN    1066.121186   \n",
       "std                                                   NaN   11522.349999   \n",
       "min                                                   NaN       0.000000   \n",
       "25%                                                   NaN      33.000000   \n",
       "50%                                                   NaN     107.000000   \n",
       "75%                                                   NaN     359.000000   \n",
       "max                                                   NaN  976626.000000   \n",
       "\n",
       "               likes      retweets  quote retweets      comments  \\\n",
       "count   20547.000000  20547.000000    20547.000000  20547.000000   \n",
       "unique           NaN           NaN             NaN           NaN   \n",
       "top              NaN           NaN             NaN           NaN   \n",
       "freq             NaN           NaN             NaN           NaN   \n",
       "mean       13.599893      2.033192        0.151214      1.015720   \n",
       "std       196.329459     44.212679        2.709742      9.022906   \n",
       "min         0.000000      0.000000        0.000000      0.000000   \n",
       "25%         0.000000      0.000000        0.000000      0.000000   \n",
       "50%         1.000000      0.000000        0.000000      0.000000   \n",
       "75%         4.000000      0.000000        0.000000      0.000000   \n",
       "max     11107.000000   4826.000000      261.000000    538.000000   \n",
       "\n",
       "          word count is quote  hashtag count  \\\n",
       "count   20547.000000    20547   20547.000000   \n",
       "unique           NaN        2            NaN   \n",
       "top              NaN    False            NaN   \n",
       "freq             NaN    15308            NaN   \n",
       "mean       15.951039      NaN       0.582129   \n",
       "std        12.494057      NaN       1.652147   \n",
       "min         1.000000      NaN       0.000000   \n",
       "25%         7.000000      NaN       0.000000   \n",
       "50%        12.000000      NaN       0.000000   \n",
       "75%        22.000000      NaN       0.000000   \n",
       "max        85.000000      NaN      24.000000   \n",
       "\n",
       "                                                 trending using trends?  \\\n",
       "count                                               20547         20547   \n",
       "unique                                                246             2   \n",
       "top     ['Donny', 'Trossard', 'Jennie', 'Phineas', 'Fe...         False   \n",
       "freq                                                 1536         19699   \n",
       "mean                                                  NaN           NaN   \n",
       "std                                                   NaN           NaN   \n",
       "min                                                   NaN           NaN   \n",
       "25%                                                   NaN           NaN   \n",
       "50%                                                   NaN           NaN   \n",
       "75%                                                   NaN           NaN   \n",
       "max                                                   NaN           NaN   \n",
       "\n",
       "                                            link to tweet  \n",
       "count                                               20547  \n",
       "unique                                              18163  \n",
       "top     https://www.twitter.com/LaurieFleming/status/1...  \n",
       "freq                                                    2  \n",
       "mean                                                  NaN  \n",
       "std                                                   NaN  \n",
       "min                                                   NaN  \n",
       "25%                                                   NaN  \n",
       "50%                                                   NaN  \n",
       "75%                                                   NaN  \n",
       "max                                                   NaN  "
      ]
     },
     "execution_count": 7,
     "metadata": {},
     "output_type": "execute_result"
    }
   ],
   "source": [
    "df.describe(include='all')"
   ]
  },
  {
   "cell_type": "code",
   "execution_count": 8,
   "id": "ba731fef",
   "metadata": {},
   "outputs": [
    {
     "data": {
      "text/plain": [
       "0       9358\n",
       "1       3308\n",
       "2       1681\n",
       "3        979\n",
       "4        707\n",
       "        ... \n",
       "168        1\n",
       "179        1\n",
       "302        1\n",
       "880        1\n",
       "3042       1\n",
       "Name: likes, Length: 310, dtype: int64"
      ]
     },
     "execution_count": 8,
     "metadata": {},
     "output_type": "execute_result"
    }
   ],
   "source": [
    "df['likes'].value_counts()"
   ]
  },
  {
   "cell_type": "code",
   "execution_count": 9,
   "id": "0fc97a64",
   "metadata": {},
   "outputs": [
    {
     "data": {
      "text/plain": [
       "0      16495\n",
       "1       2010\n",
       "2        637\n",
       "3        350\n",
       "4        200\n",
       "       ...  \n",
       "857        1\n",
       "175        1\n",
       "59         1\n",
       "84         1\n",
       "798        1\n",
       "Name: retweets, Length: 119, dtype: int64"
      ]
     },
     "execution_count": 9,
     "metadata": {},
     "output_type": "execute_result"
    }
   ],
   "source": [
    "df['retweets'].value_counts()"
   ]
  },
  {
   "cell_type": "code",
   "execution_count": 10,
   "id": "121a6124",
   "metadata": {},
   "outputs": [
    {
     "data": {
      "text/plain": [
       "United States     5147\n",
       "New Zealand       3921\n",
       "United Kingdom    3841\n",
       "Australia         3821\n",
       "Canada            3817\n",
       "Name: country, dtype: int64"
      ]
     },
     "execution_count": 10,
     "metadata": {},
     "output_type": "execute_result"
    }
   ],
   "source": [
    "df['country'].value_counts()\n",
    "#df['location'].vlue_counts().plot(kind='pie')\n"
   ]
  },
  {
   "cell_type": "code",
   "execution_count": 11,
   "id": "434f1b20",
   "metadata": {},
   "outputs": [
    {
     "data": {
      "text/plain": [
       "<AxesSubplot:ylabel='country'>"
      ]
     },
     "execution_count": 11,
     "metadata": {},
     "output_type": "execute_result"
    },
    {
     "data": {
      "image/png": "[encoded data removed]",
      "text/plain": [
       "<Figure size 640x480 with 1 Axes>"
      ]
     },
     "metadata": {},
     "output_type": "display_data"
    }
   ],
   "source": [
    "df['country'].value_counts().plot(kind='pie')"
   ]
  },
  {
   "cell_type": "code",
   "execution_count": 12,
   "id": "cb91aa69",
   "metadata": {},
   "outputs": [
    {
     "data": {
      "text/plain": [
       "United States     0.250499\n",
       "New Zealand       0.190831\n",
       "United Kingdom    0.186937\n",
       "Australia         0.185964\n",
       "Canada            0.185769\n",
       "Name: country, dtype: float64"
      ]
     },
     "execution_count": 12,
     "metadata": {},
     "output_type": "execute_result"
    }
   ],
   "source": [
    "\n",
    "df['country'].value_counts(normalize=True)"
   ]
  },
  {
   "cell_type": "code",
   "execution_count": 13,
   "id": "d2f619a1",
   "metadata": {},
   "outputs": [],
   "source": [
    "df.insert(df.columns.get_loc(\"respectability\")+1,'is respactable?' ,[1 if x >= .75 else 0 for x in df['respectability']])"
   ]
  },
  {
   "cell_type": "code",
   "execution_count": 14,
   "id": "3e061ea9",
   "metadata": {},
   "outputs": [
    {
     "data": {
      "text/plain": [
       "14.2    487\n",
       "3.2     484\n",
       "15.2    433\n",
       "13.2    371\n",
       "12.2    363\n",
       "       ... \n",
       "19.2      1\n",
       "0.7       1\n",
       "17.7      1\n",
       "0.1       1\n",
       "18.1      1\n",
       "Name: acount age, Length: 184, dtype: int64"
      ]
     },
     "execution_count": 14,
     "metadata": {},
     "output_type": "execute_result"
    }
   ],
   "source": [
    "df['acount age'].value_counts()\n"
   ]
  },
  {
   "cell_type": "code",
   "execution_count": 15,
   "id": "fccb6186",
   "metadata": {},
   "outputs": [
    {
     "data": {
      "text/plain": [
       "105       181\n",
       "67929     126\n",
       "67841      76\n",
       "98047      72\n",
       "37226      61\n",
       "         ... \n",
       "196553      1\n",
       "13683       1\n",
       "17916       1\n",
       "20215       1\n",
       "4141        1\n",
       "Name: total tweets, Length: 10447, dtype: int64"
      ]
     },
     "execution_count": 15,
     "metadata": {},
     "output_type": "execute_result"
    }
   ],
   "source": [
    "df['total tweets'].value_counts()"
   ]
  },
  {
   "cell_type": "code",
   "execution_count": 16,
   "id": "b7cdd341",
   "metadata": {},
   "outputs": [
    {
     "data": {
      "text/html": [
       "<div>\n",
       "<style scoped>\n",
       "    .dataframe tbody tr th:only-of-type {\n",
       "        vertical-align: middle;\n",
       "    }\n",
       "\n",
       "    .dataframe tbody tr th {\n",
       "        vertical-align: top;\n",
       "    }\n",
       "\n",
       "    .dataframe thead th {\n",
       "        text-align: right;\n",
       "    }\n",
       "</style>\n",
       "<table border=\"1\" class=\"dataframe\">\n",
       "  <thead>\n",
       "    <tr style=\"text-align: right;\">\n",
       "      <th></th>\n",
       "      <th>name</th>\n",
       "      <th>city</th>\n",
       "      <th>country</th>\n",
       "      <th>acount age</th>\n",
       "      <th>total tweets</th>\n",
       "      <th>followers</th>\n",
       "      <th>following</th>\n",
       "      <th>respectability</th>\n",
       "      <th>is respactable?</th>\n",
       "      <th>verified</th>\n",
       "      <th>text</th>\n",
       "      <th>views</th>\n",
       "      <th>likes</th>\n",
       "      <th>retweets</th>\n",
       "      <th>quote retweets</th>\n",
       "      <th>comments</th>\n",
       "      <th>word count</th>\n",
       "      <th>is quote</th>\n",
       "      <th>hashtag count</th>\n",
       "      <th>trending</th>\n",
       "      <th>using trends?</th>\n",
       "      <th>link to tweet</th>\n",
       "    </tr>\n",
       "  </thead>\n",
       "  <tbody>\n",
       "    <tr>\n",
       "      <th>0</th>\n",
       "      <td>CamuyArenas_AA</td>\n",
       "      <td>Puente</td>\n",
       "      <td>United States</td>\n",
       "      <td>3.2</td>\n",
       "      <td>228</td>\n",
       "      <td>50</td>\n",
       "      <td>22</td>\n",
       "      <td>0.440000</td>\n",
       "      <td>0</td>\n",
       "      <td>False</td>\n",
       "      <td>Just posted a photo @ Estadio Juan F.Cheo Lópe...</td>\n",
       "      <td>13</td>\n",
       "      <td>0</td>\n",
       "      <td>0</td>\n",
       "      <td>0</td>\n",
       "      <td>0</td>\n",
       "      <td>11</td>\n",
       "      <td>False</td>\n",
       "      <td>0</td>\n",
       "      <td>['Friday the 13th', 'Staley', 'Lori Harvey', '...</td>\n",
       "      <td>False</td>\n",
       "      <td>https://www.twitter.com/CamuyArenas_AA/status/...</td>\n",
       "    </tr>\n",
       "    <tr>\n",
       "      <th>1</th>\n",
       "      <td>16p11dot2ds</td>\n",
       "      <td>Georgia</td>\n",
       "      <td>United States</td>\n",
       "      <td>4.9</td>\n",
       "      <td>32312</td>\n",
       "      <td>33</td>\n",
       "      <td>481</td>\n",
       "      <td>14.575758</td>\n",
       "      <td>1</td>\n",
       "      <td>False</td>\n",
       "      <td>This is a prep free zone. https://t.co/2qqlLxy...</td>\n",
       "      <td>336</td>\n",
       "      <td>1</td>\n",
       "      <td>0</td>\n",
       "      <td>0</td>\n",
       "      <td>1</td>\n",
       "      <td>8</td>\n",
       "      <td>True</td>\n",
       "      <td>0</td>\n",
       "      <td>['Friday the 13th', 'Staley', 'Lori Harvey', '...</td>\n",
       "      <td>False</td>\n",
       "      <td>https://www.twitter.com/16p11dot2ds/status/161...</td>\n",
       "    </tr>\n",
       "    <tr>\n",
       "      <th>2</th>\n",
       "      <td>PoopScoopSF</td>\n",
       "      <td>Downtown</td>\n",
       "      <td>United States</td>\n",
       "      <td>4.7</td>\n",
       "      <td>163626</td>\n",
       "      <td>415</td>\n",
       "      <td>125</td>\n",
       "      <td>0.301205</td>\n",
       "      <td>0</td>\n",
       "      <td>False</td>\n",
       "      <td>\"Big poop front of our door.\" (Downtown, D3) h...</td>\n",
       "      <td>9</td>\n",
       "      <td>0</td>\n",
       "      <td>0</td>\n",
       "      <td>0</td>\n",
       "      <td>1</td>\n",
       "      <td>10</td>\n",
       "      <td>False</td>\n",
       "      <td>0</td>\n",
       "      <td>['Friday the 13th', 'Staley', 'Lori Harvey', '...</td>\n",
       "      <td>False</td>\n",
       "      <td>https://www.twitter.com/PoopScoopSF/status/161...</td>\n",
       "    </tr>\n",
       "    <tr>\n",
       "      <th>3</th>\n",
       "      <td>wchazz</td>\n",
       "      <td>Wesley Chapel</td>\n",
       "      <td>United States</td>\n",
       "      <td>15.4</td>\n",
       "      <td>48876</td>\n",
       "      <td>377</td>\n",
       "      <td>951</td>\n",
       "      <td>2.522546</td>\n",
       "      <td>1</td>\n",
       "      <td>False</td>\n",
       "      <td>2nd cardio, target calories 1k @ Wesley Chapel...</td>\n",
       "      <td>4</td>\n",
       "      <td>0</td>\n",
       "      <td>0</td>\n",
       "      <td>0</td>\n",
       "      <td>0</td>\n",
       "      <td>10</td>\n",
       "      <td>False</td>\n",
       "      <td>0</td>\n",
       "      <td>['Friday the 13th', 'Staley', 'Lori Harvey', '...</td>\n",
       "      <td>False</td>\n",
       "      <td>https://www.twitter.com/wchazz/status/16139885...</td>\n",
       "    </tr>\n",
       "    <tr>\n",
       "      <th>4</th>\n",
       "      <td>wyatthebson</td>\n",
       "      <td>Pier 17</td>\n",
       "      <td>United States</td>\n",
       "      <td>16.8</td>\n",
       "      <td>24061</td>\n",
       "      <td>1366</td>\n",
       "      <td>4999</td>\n",
       "      <td>3.659590</td>\n",
       "      <td>1</td>\n",
       "      <td>False</td>\n",
       "      <td>Listen to PODCAST #6 SGUZR by Core Beats on Tn...</td>\n",
       "      <td>13</td>\n",
       "      <td>0</td>\n",
       "      <td>0</td>\n",
       "      <td>0</td>\n",
       "      <td>0</td>\n",
       "      <td>11</td>\n",
       "      <td>False</td>\n",
       "      <td>0</td>\n",
       "      <td>['Friday the 13th', 'Staley', 'Lori Harvey', '...</td>\n",
       "      <td>False</td>\n",
       "      <td>https://www.twitter.com/wyatthebson/status/161...</td>\n",
       "    </tr>\n",
       "  </tbody>\n",
       "</table>\n",
       "</div>"
      ],
      "text/plain": [
       "             name           city        country  acount age  total tweets  \\\n",
       "0  CamuyArenas_AA         Puente  United States         3.2           228   \n",
       "1     16p11dot2ds        Georgia  United States         4.9         32312   \n",
       "2     PoopScoopSF       Downtown  United States         4.7        163626   \n",
       "3          wchazz  Wesley Chapel  United States        15.4         48876   \n",
       "4     wyatthebson        Pier 17  United States        16.8         24061   \n",
       "\n",
       "   followers  following  respectability  is respactable?  verified  \\\n",
       "0         50         22        0.440000                0     False   \n",
       "1         33        481       14.575758                1     False   \n",
       "2        415        125        0.301205                0     False   \n",
       "3        377        951        2.522546                1     False   \n",
       "4       1366       4999        3.659590                1     False   \n",
       "\n",
       "                                                text  views  likes  retweets  \\\n",
       "0  Just posted a photo @ Estadio Juan F.Cheo Lópe...     13      0         0   \n",
       "1  This is a prep free zone. https://t.co/2qqlLxy...    336      1         0   \n",
       "2  \"Big poop front of our door.\" (Downtown, D3) h...      9      0         0   \n",
       "3  2nd cardio, target calories 1k @ Wesley Chapel...      4      0         0   \n",
       "4  Listen to PODCAST #6 SGUZR by Core Beats on Tn...     13      0         0   \n",
       "\n",
       "   quote retweets  comments  word count  is quote  hashtag count  \\\n",
       "0               0         0          11     False              0   \n",
       "1               0         1           8      True              0   \n",
       "2               0         1          10     False              0   \n",
       "3               0         0          10     False              0   \n",
       "4               0         0          11     False              0   \n",
       "\n",
       "                                            trending  using trends?  \\\n",
       "0  ['Friday the 13th', 'Staley', 'Lori Harvey', '...          False   \n",
       "1  ['Friday the 13th', 'Staley', 'Lori Harvey', '...          False   \n",
       "2  ['Friday the 13th', 'Staley', 'Lori Harvey', '...          False   \n",
       "3  ['Friday the 13th', 'Staley', 'Lori Harvey', '...          False   \n",
       "4  ['Friday the 13th', 'Staley', 'Lori Harvey', '...          False   \n",
       "\n",
       "                                       link to tweet  \n",
       "0  https://www.twitter.com/CamuyArenas_AA/status/...  \n",
       "1  https://www.twitter.com/16p11dot2ds/status/161...  \n",
       "2  https://www.twitter.com/PoopScoopSF/status/161...  \n",
       "3  https://www.twitter.com/wchazz/status/16139885...  \n",
       "4  https://www.twitter.com/wyatthebson/status/161...  "
      ]
     },
     "execution_count": 16,
     "metadata": {},
     "output_type": "execute_result"
    }
   ],
   "source": [
    "df.head()"
   ]
  },
  {
   "cell_type": "code",
   "execution_count": 17,
   "id": "dc304103",
   "metadata": {},
   "outputs": [
    {
     "data": {
      "text/html": [
       "<div>\n",
       "<style scoped>\n",
       "    .dataframe tbody tr th:only-of-type {\n",
       "        vertical-align: middle;\n",
       "    }\n",
       "\n",
       "    .dataframe tbody tr th {\n",
       "        vertical-align: top;\n",
       "    }\n",
       "\n",
       "    .dataframe thead th {\n",
       "        text-align: right;\n",
       "    }\n",
       "</style>\n",
       "<table border=\"1\" class=\"dataframe\">\n",
       "  <thead>\n",
       "    <tr style=\"text-align: right;\">\n",
       "      <th></th>\n",
       "      <th>name</th>\n",
       "      <th>city</th>\n",
       "      <th>country</th>\n",
       "      <th>acount age</th>\n",
       "      <th>total tweets</th>\n",
       "      <th>followers</th>\n",
       "      <th>following</th>\n",
       "      <th>respectability</th>\n",
       "      <th>is respactable?</th>\n",
       "      <th>verified</th>\n",
       "      <th>text</th>\n",
       "      <th>views</th>\n",
       "      <th>likes</th>\n",
       "      <th>retweets</th>\n",
       "      <th>quote retweets</th>\n",
       "      <th>comments</th>\n",
       "      <th>word count</th>\n",
       "      <th>is quote</th>\n",
       "      <th>hashtag count</th>\n",
       "      <th>trending</th>\n",
       "      <th>using trends?</th>\n",
       "      <th>link to tweet</th>\n",
       "    </tr>\n",
       "  </thead>\n",
       "  <tbody>\n",
       "  </tbody>\n",
       "</table>\n",
       "</div>"
      ],
      "text/plain": [
       "Empty DataFrame\n",
       "Columns: [name, city, country, acount age, total tweets, followers, following, respectability, is respactable?, verified, text, views, likes, retweets, quote retweets, comments, word count, is quote, hashtag count, trending, using trends?, link to tweet]\n",
       "Index: []"
      ]
     },
     "execution_count": 17,
     "metadata": {},
     "output_type": "execute_result"
    }
   ],
   "source": [
    "df[df.duplicated()]"
   ]
  },
  {
   "cell_type": "code",
   "execution_count": 18,
   "id": "39c25234",
   "metadata": {},
   "outputs": [
    {
     "data": {
      "text/html": [
       "<div>\n",
       "<style scoped>\n",
       "    .dataframe tbody tr th:only-of-type {\n",
       "        vertical-align: middle;\n",
       "    }\n",
       "\n",
       "    .dataframe tbody tr th {\n",
       "        vertical-align: top;\n",
       "    }\n",
       "\n",
       "    .dataframe thead th {\n",
       "        text-align: right;\n",
       "    }\n",
       "</style>\n",
       "<table border=\"1\" class=\"dataframe\">\n",
       "  <thead>\n",
       "    <tr style=\"text-align: right;\">\n",
       "      <th></th>\n",
       "      <th>name</th>\n",
       "      <th>city</th>\n",
       "      <th>country</th>\n",
       "      <th>acount age</th>\n",
       "      <th>total tweets</th>\n",
       "      <th>followers</th>\n",
       "      <th>following</th>\n",
       "      <th>respectability</th>\n",
       "      <th>is respactable?</th>\n",
       "      <th>verified</th>\n",
       "      <th>text</th>\n",
       "      <th>views</th>\n",
       "      <th>likes</th>\n",
       "      <th>retweets</th>\n",
       "      <th>quote retweets</th>\n",
       "      <th>comments</th>\n",
       "      <th>word count</th>\n",
       "      <th>is quote</th>\n",
       "      <th>hashtag count</th>\n",
       "      <th>trending</th>\n",
       "      <th>using trends?</th>\n",
       "      <th>link to tweet</th>\n",
       "    </tr>\n",
       "  </thead>\n",
       "  <tbody>\n",
       "    <tr>\n",
       "      <th>497</th>\n",
       "      <td>CTDOT_District1</td>\n",
       "      <td>Meriden</td>\n",
       "      <td>United States</td>\n",
       "      <td>14.8</td>\n",
       "      <td>269088</td>\n",
       "      <td>967</td>\n",
       "      <td>0</td>\n",
       "      <td>0.000000</td>\n",
       "      <td>0</td>\n",
       "      <td>False</td>\n",
       "      <td>Delays - MERIDEN #I91 North 0.72 miles before ...</td>\n",
       "      <td>13</td>\n",
       "      <td>0</td>\n",
       "      <td>0</td>\n",
       "      <td>0</td>\n",
       "      <td>0</td>\n",
       "      <td>19</td>\n",
       "      <td>False</td>\n",
       "      <td>2</td>\n",
       "      <td>['Friday the 13th', 'Staley', 'Lori Harvey', '...</td>\n",
       "      <td>False</td>\n",
       "      <td>https://www.twitter.com/CTDOT_District1/status...</td>\n",
       "    </tr>\n",
       "    <tr>\n",
       "      <th>928</th>\n",
       "      <td>511nyLongIsland</td>\n",
       "      <td>Freeport</td>\n",
       "      <td>United States</td>\n",
       "      <td>16.1</td>\n",
       "      <td>389799</td>\n",
       "      <td>2398</td>\n",
       "      <td>0</td>\n",
       "      <td>0.000000</td>\n",
       "      <td>0</td>\n",
       "      <td>False</td>\n",
       "      <td>Cleared: Construction on #NY27 EB from Guy Lom...</td>\n",
       "      <td>28</td>\n",
       "      <td>0</td>\n",
       "      <td>0</td>\n",
       "      <td>0</td>\n",
       "      <td>0</td>\n",
       "      <td>13</td>\n",
       "      <td>False</td>\n",
       "      <td>1</td>\n",
       "      <td>['Friday the 13th', 'Staley', 'Lori Harvey', '...</td>\n",
       "      <td>False</td>\n",
       "      <td>https://www.twitter.com/511nyLongIsland/status...</td>\n",
       "    </tr>\n",
       "    <tr>\n",
       "      <th>1270</th>\n",
       "      <td>511NYC</td>\n",
       "      <td>New York</td>\n",
       "      <td>United States</td>\n",
       "      <td>16.5</td>\n",
       "      <td>1696853</td>\n",
       "      <td>2404</td>\n",
       "      <td>3</td>\n",
       "      <td>0.001248</td>\n",
       "      <td>0</td>\n",
       "      <td>False</td>\n",
       "      <td>Cleared: Construction on #ThrogsNeckBridge SB ...</td>\n",
       "      <td>10</td>\n",
       "      <td>0</td>\n",
       "      <td>0</td>\n",
       "      <td>0</td>\n",
       "      <td>0</td>\n",
       "      <td>11</td>\n",
       "      <td>False</td>\n",
       "      <td>1</td>\n",
       "      <td>['#OpenDnD', 'Friday the 13th', 'Staley', 'Lor...</td>\n",
       "      <td>False</td>\n",
       "      <td>https://www.twitter.com/511NYC/status/16139865...</td>\n",
       "    </tr>\n",
       "    <tr>\n",
       "      <th>1272</th>\n",
       "      <td>511NY</td>\n",
       "      <td>Manhattan</td>\n",
       "      <td>United States</td>\n",
       "      <td>16.1</td>\n",
       "      <td>6020386</td>\n",
       "      <td>4234</td>\n",
       "      <td>15</td>\n",
       "      <td>0.003543</td>\n",
       "      <td>0</td>\n",
       "      <td>False</td>\n",
       "      <td>Cleared: Incident on #RFKTriboroughBridge SB a...</td>\n",
       "      <td>6</td>\n",
       "      <td>0</td>\n",
       "      <td>0</td>\n",
       "      <td>0</td>\n",
       "      <td>0</td>\n",
       "      <td>8</td>\n",
       "      <td>False</td>\n",
       "      <td>1</td>\n",
       "      <td>['Friday the 13th', 'Staley', 'Lori Harvey', '...</td>\n",
       "      <td>False</td>\n",
       "      <td>https://www.twitter.com/511NY/status/161398650...</td>\n",
       "    </tr>\n",
       "    <tr>\n",
       "      <th>1274</th>\n",
       "      <td>511NYC</td>\n",
       "      <td>Queens</td>\n",
       "      <td>United States</td>\n",
       "      <td>16.5</td>\n",
       "      <td>1696853</td>\n",
       "      <td>2404</td>\n",
       "      <td>3</td>\n",
       "      <td>0.001248</td>\n",
       "      <td>0</td>\n",
       "      <td>False</td>\n",
       "      <td>Cleared: Construction on #ThrogsNeckBridge NB ...</td>\n",
       "      <td>8</td>\n",
       "      <td>0</td>\n",
       "      <td>0</td>\n",
       "      <td>0</td>\n",
       "      <td>0</td>\n",
       "      <td>11</td>\n",
       "      <td>False</td>\n",
       "      <td>1</td>\n",
       "      <td>['Friday the 13th', 'Staley', 'Lori Harvey', '...</td>\n",
       "      <td>False</td>\n",
       "      <td>https://www.twitter.com/511NYC/status/16139864...</td>\n",
       "    </tr>\n",
       "    <tr>\n",
       "      <th>...</th>\n",
       "      <td>...</td>\n",
       "      <td>...</td>\n",
       "      <td>...</td>\n",
       "      <td>...</td>\n",
       "      <td>...</td>\n",
       "      <td>...</td>\n",
       "      <td>...</td>\n",
       "      <td>...</td>\n",
       "      <td>...</td>\n",
       "      <td>...</td>\n",
       "      <td>...</td>\n",
       "      <td>...</td>\n",
       "      <td>...</td>\n",
       "      <td>...</td>\n",
       "      <td>...</td>\n",
       "      <td>...</td>\n",
       "      <td>...</td>\n",
       "      <td>...</td>\n",
       "      <td>...</td>\n",
       "      <td>...</td>\n",
       "      <td>...</td>\n",
       "      <td>...</td>\n",
       "    </tr>\n",
       "    <tr>\n",
       "      <th>503</th>\n",
       "      <td>jamesmichael_13</td>\n",
       "      <td>Plano</td>\n",
       "      <td>United States</td>\n",
       "      <td>13.5</td>\n",
       "      <td>33925</td>\n",
       "      <td>957</td>\n",
       "      <td>892</td>\n",
       "      <td>0.932079</td>\n",
       "      <td>1</td>\n",
       "      <td>False</td>\n",
       "      <td>MANCHESTER IS RED</td>\n",
       "      <td>89</td>\n",
       "      <td>0</td>\n",
       "      <td>0</td>\n",
       "      <td>0</td>\n",
       "      <td>0</td>\n",
       "      <td>3</td>\n",
       "      <td>False</td>\n",
       "      <td>0</td>\n",
       "      <td>['Rashford', '#ManchesterDerby', '#MUNMCI', 'G...</td>\n",
       "      <td>False</td>\n",
       "      <td>https://www.twitter.com/jamesmichael_13/status...</td>\n",
       "    </tr>\n",
       "    <tr>\n",
       "      <th>586</th>\n",
       "      <td>jaiye_baba</td>\n",
       "      <td>Bear</td>\n",
       "      <td>United States</td>\n",
       "      <td>14.3</td>\n",
       "      <td>107999</td>\n",
       "      <td>3361</td>\n",
       "      <td>3809</td>\n",
       "      <td>1.133294</td>\n",
       "      <td>1</td>\n",
       "      <td>False</td>\n",
       "      <td>MANCHESTER IS RED</td>\n",
       "      <td>158</td>\n",
       "      <td>1</td>\n",
       "      <td>1</td>\n",
       "      <td>0</td>\n",
       "      <td>0</td>\n",
       "      <td>3</td>\n",
       "      <td>False</td>\n",
       "      <td>0</td>\n",
       "      <td>['Rashford', '#ManchesterDerby', '#MUNMCI', 'G...</td>\n",
       "      <td>False</td>\n",
       "      <td>https://www.twitter.com/jaiye_baba/status/1614...</td>\n",
       "    </tr>\n",
       "    <tr>\n",
       "      <th>1034</th>\n",
       "      <td>511NYC</td>\n",
       "      <td>Manhattan</td>\n",
       "      <td>United States</td>\n",
       "      <td>16.5</td>\n",
       "      <td>1697245</td>\n",
       "      <td>2405</td>\n",
       "      <td>3</td>\n",
       "      <td>0.001247</td>\n",
       "      <td>0</td>\n",
       "      <td>False</td>\n",
       "      <td>Cleared: Incident on #NY9A NB at George Washin...</td>\n",
       "      <td>11</td>\n",
       "      <td>0</td>\n",
       "      <td>0</td>\n",
       "      <td>0</td>\n",
       "      <td>0</td>\n",
       "      <td>11</td>\n",
       "      <td>False</td>\n",
       "      <td>1</td>\n",
       "      <td>['Rashford', '#ManchesterDerby', '#MUNMCI', 'G...</td>\n",
       "      <td>False</td>\n",
       "      <td>https://www.twitter.com/511NYC/status/16142664...</td>\n",
       "    </tr>\n",
       "    <tr>\n",
       "      <th>1308</th>\n",
       "      <td>511NYMidHudson</td>\n",
       "      <td>New York</td>\n",
       "      <td>United States</td>\n",
       "      <td>16.1</td>\n",
       "      <td>995657</td>\n",
       "      <td>1408</td>\n",
       "      <td>0</td>\n",
       "      <td>0.000000</td>\n",
       "      <td>0</td>\n",
       "      <td>False</td>\n",
       "      <td>Cleared: Incident on #I87NYSThruway NB at Afte...</td>\n",
       "      <td>34</td>\n",
       "      <td>0</td>\n",
       "      <td>0</td>\n",
       "      <td>0</td>\n",
       "      <td>0</td>\n",
       "      <td>16</td>\n",
       "      <td>False</td>\n",
       "      <td>1</td>\n",
       "      <td>['Rashford', '#ManchesterDerby', '#MUNMCI', 'G...</td>\n",
       "      <td>False</td>\n",
       "      <td>https://www.twitter.com/511NYMidHudson/status/...</td>\n",
       "    </tr>\n",
       "    <tr>\n",
       "      <th>1310</th>\n",
       "      <td>511NYMidHudson</td>\n",
       "      <td>Harrison</td>\n",
       "      <td>United States</td>\n",
       "      <td>16.1</td>\n",
       "      <td>995657</td>\n",
       "      <td>1408</td>\n",
       "      <td>0</td>\n",
       "      <td>0.000000</td>\n",
       "      <td>0</td>\n",
       "      <td>False</td>\n",
       "      <td>Cleared: Construction on #I287CrossWestchester...</td>\n",
       "      <td>39</td>\n",
       "      <td>0</td>\n",
       "      <td>0</td>\n",
       "      <td>0</td>\n",
       "      <td>0</td>\n",
       "      <td>20</td>\n",
       "      <td>False</td>\n",
       "      <td>1</td>\n",
       "      <td>['Rashford', '#ManchesterDerby', '#MUNMCI', 'G...</td>\n",
       "      <td>False</td>\n",
       "      <td>https://www.twitter.com/511NYMidHudson/status/...</td>\n",
       "    </tr>\n",
       "  </tbody>\n",
       "</table>\n",
       "<p>2420 rows × 22 columns</p>\n",
       "</div>"
      ],
      "text/plain": [
       "                 name       city        country  acount age  total tweets  \\\n",
       "497   CTDOT_District1    Meriden  United States        14.8        269088   \n",
       "928   511nyLongIsland   Freeport  United States        16.1        389799   \n",
       "1270           511NYC   New York  United States        16.5       1696853   \n",
       "1272            511NY  Manhattan  United States        16.1       6020386   \n",
       "1274           511NYC     Queens  United States        16.5       1696853   \n",
       "...               ...        ...            ...         ...           ...   \n",
       "503   jamesmichael_13      Plano  United States        13.5         33925   \n",
       "586        jaiye_baba       Bear  United States        14.3        107999   \n",
       "1034           511NYC  Manhattan  United States        16.5       1697245   \n",
       "1308   511NYMidHudson   New York  United States        16.1        995657   \n",
       "1310   511NYMidHudson   Harrison  United States        16.1        995657   \n",
       "\n",
       "      followers  following  respectability  is respactable?  verified  \\\n",
       "497         967          0        0.000000                0     False   \n",
       "928        2398          0        0.000000                0     False   \n",
       "1270       2404          3        0.001248                0     False   \n",
       "1272       4234         15        0.003543                0     False   \n",
       "1274       2404          3        0.001248                0     False   \n",
       "...         ...        ...             ...              ...       ...   \n",
       "503         957        892        0.932079                1     False   \n",
       "586        3361       3809        1.133294                1     False   \n",
       "1034       2405          3        0.001247                0     False   \n",
       "1308       1408          0        0.000000                0     False   \n",
       "1310       1408          0        0.000000                0     False   \n",
       "\n",
       "                                                   text  views  likes  \\\n",
       "497   Delays - MERIDEN #I91 North 0.72 miles before ...     13      0   \n",
       "928   Cleared: Construction on #NY27 EB from Guy Lom...     28      0   \n",
       "1270  Cleared: Construction on #ThrogsNeckBridge SB ...     10      0   \n",
       "1272  Cleared: Incident on #RFKTriboroughBridge SB a...      6      0   \n",
       "1274  Cleared: Construction on #ThrogsNeckBridge NB ...      8      0   \n",
       "...                                                 ...    ...    ...   \n",
       "503                                   MANCHESTER IS RED     89      0   \n",
       "586                                   MANCHESTER IS RED    158      1   \n",
       "1034  Cleared: Incident on #NY9A NB at George Washin...     11      0   \n",
       "1308  Cleared: Incident on #I87NYSThruway NB at Afte...     34      0   \n",
       "1310  Cleared: Construction on #I287CrossWestchester...     39      0   \n",
       "\n",
       "      retweets  quote retweets  comments  word count  is quote  hashtag count  \\\n",
       "497          0               0         0          19     False              2   \n",
       "928          0               0         0          13     False              1   \n",
       "1270         0               0         0          11     False              1   \n",
       "1272         0               0         0           8     False              1   \n",
       "1274         0               0         0          11     False              1   \n",
       "...        ...             ...       ...         ...       ...            ...   \n",
       "503          0               0         0           3     False              0   \n",
       "586          1               0         0           3     False              0   \n",
       "1034         0               0         0          11     False              1   \n",
       "1308         0               0         0          16     False              1   \n",
       "1310         0               0         0          20     False              1   \n",
       "\n",
       "                                               trending  using trends?  \\\n",
       "497   ['Friday the 13th', 'Staley', 'Lori Harvey', '...          False   \n",
       "928   ['Friday the 13th', 'Staley', 'Lori Harvey', '...          False   \n",
       "1270  ['#OpenDnD', 'Friday the 13th', 'Staley', 'Lor...          False   \n",
       "1272  ['Friday the 13th', 'Staley', 'Lori Harvey', '...          False   \n",
       "1274  ['Friday the 13th', 'Staley', 'Lori Harvey', '...          False   \n",
       "...                                                 ...            ...   \n",
       "503   ['Rashford', '#ManchesterDerby', '#MUNMCI', 'G...          False   \n",
       "586   ['Rashford', '#ManchesterDerby', '#MUNMCI', 'G...          False   \n",
       "1034  ['Rashford', '#ManchesterDerby', '#MUNMCI', 'G...          False   \n",
       "1308  ['Rashford', '#ManchesterDerby', '#MUNMCI', 'G...          False   \n",
       "1310  ['Rashford', '#ManchesterDerby', '#MUNMCI', 'G...          False   \n",
       "\n",
       "                                          link to tweet  \n",
       "497   https://www.twitter.com/CTDOT_District1/status...  \n",
       "928   https://www.twitter.com/511nyLongIsland/status...  \n",
       "1270  https://www.twitter.com/511NYC/status/16139865...  \n",
       "1272  https://www.twitter.com/511NY/status/161398650...  \n",
       "1274  https://www.twitter.com/511NYC/status/16139864...  \n",
       "...                                                 ...  \n",
       "503   https://www.twitter.com/jamesmichael_13/status...  \n",
       "586   https://www.twitter.com/jaiye_baba/status/1614...  \n",
       "1034  https://www.twitter.com/511NYC/status/16142664...  \n",
       "1308  https://www.twitter.com/511NYMidHudson/status/...  \n",
       "1310  https://www.twitter.com/511NYMidHudson/status/...  \n",
       "\n",
       "[2420 rows x 22 columns]"
      ]
     },
     "execution_count": 18,
     "metadata": {},
     "output_type": "execute_result"
    }
   ],
   "source": [
    "df[df['text'].duplicated()]"
   ]
  },
  {
   "cell_type": "code",
   "execution_count": 19,
   "id": "5298f336",
   "metadata": {},
   "outputs": [],
   "source": [
    "df=df.drop_duplicates(subset='text',keep=False)"
   ]
  },
  {
   "cell_type": "code",
   "execution_count": 20,
   "id": "ccdd1ec7",
   "metadata": {},
   "outputs": [
    {
     "name": "stdout",
     "output_type": "stream",
     "text": [
      "<class 'pandas.core.frame.DataFrame'>\n",
      "Int64Index: 15714 entries, 0 to 1414\n",
      "Data columns (total 22 columns):\n",
      " #   Column           Non-Null Count  Dtype  \n",
      "---  ------           --------------  -----  \n",
      " 0   name             15714 non-null  object \n",
      " 1   city             15714 non-null  object \n",
      " 2   country          15714 non-null  object \n",
      " 3   acount age       15714 non-null  float64\n",
      " 4   total tweets     15714 non-null  int64  \n",
      " 5   followers        15714 non-null  int64  \n",
      " 6   following        15714 non-null  int64  \n",
      " 7   respectability   15714 non-null  float64\n",
      " 8   is respactable?  15714 non-null  int64  \n",
      " 9   verified         15714 non-null  bool   \n",
      " 10  text             15714 non-null  object \n",
      " 11  views            15714 non-null  int64  \n",
      " 12  likes            15714 non-null  int64  \n",
      " 13  retweets         15714 non-null  int64  \n",
      " 14  quote retweets   15714 non-null  int64  \n",
      " 15  comments         15714 non-null  int64  \n",
      " 16  word count       15714 non-null  int64  \n",
      " 17  is quote         15714 non-null  bool   \n",
      " 18  hashtag count    15714 non-null  int64  \n",
      " 19  trending         15714 non-null  object \n",
      " 20  using trends?    15714 non-null  bool   \n",
      " 21  link to tweet    15714 non-null  object \n",
      "dtypes: bool(3), float64(2), int64(11), object(6)\n",
      "memory usage: 2.4+ MB\n"
     ]
    }
   ],
   "source": [
    "df.info()"
   ]
  },
  {
   "cell_type": "code",
   "execution_count": 21,
   "id": "75963fb3",
   "metadata": {},
   "outputs": [
    {
     "data": {
      "text/plain": [
       "United States     0.324806\n",
       "United Kingdom    0.244432\n",
       "Canada            0.242650\n",
       "Australia         0.152730\n",
       "New Zealand       0.035382\n",
       "Name: country, dtype: float64"
      ]
     },
     "execution_count": 21,
     "metadata": {},
     "output_type": "execute_result"
    }
   ],
   "source": [
    "df['country'].value_counts(normalize=True)"
   ]
  },
  {
   "cell_type": "code",
   "execution_count": 22,
   "id": "2b84f968",
   "metadata": {},
   "outputs": [
    {
     "data": {
      "text/plain": [
       "<AxesSubplot:ylabel='country'>"
      ]
     },
     "execution_count": 22,
     "metadata": {},
     "output_type": "execute_result"
    },
    {
     "data": {
      "image/png": "[encoded data removed]",
      "text/plain": [
       "<Figure size 640x480 with 1 Axes>"
      ]
     },
     "metadata": {},
     "output_type": "display_data"
    }
   ],
   "source": [
    "df['country'].value_counts().plot(kind='pie')"
   ]
  },
  {
   "cell_type": "code",
   "execution_count": 23,
   "id": "c6fd1b73",
   "metadata": {},
   "outputs": [
    {
     "data": {
      "text/plain": [
       "False    0.969454\n",
       "True     0.030546\n",
       "Name: verified, dtype: float64"
      ]
     },
     "execution_count": 23,
     "metadata": {},
     "output_type": "execute_result"
    }
   ],
   "source": [
    "df['verified'].value_counts(normalize=True)"
   ]
  },
  {
   "cell_type": "code",
   "execution_count": 24,
   "id": "7bdd41ef",
   "metadata": {},
   "outputs": [
    {
     "data": {
      "image/png": "[encoded data removed]",
      "text/plain": [
       "<Figure size 640x480 with 1 Axes>"
      ]
     },
     "metadata": {},
     "output_type": "display_data"
    }
   ],
   "source": [
    "sns.barplot(x='verified', y='followers', data=df)\n",
    "plt.show()"
   ]
  },
  {
   "cell_type": "code",
   "execution_count": 25,
   "id": "a3ec011a",
   "metadata": {},
   "outputs": [
    {
     "data": {
      "text/plain": [
       "9     877\n",
       "8     819\n",
       "7     718\n",
       "2     712\n",
       "10    690\n",
       "     ... \n",
       "60      1\n",
       "63      1\n",
       "85      1\n",
       "64      1\n",
       "69      1\n",
       "Name: word count, Length: 67, dtype: int64"
      ]
     },
     "execution_count": 25,
     "metadata": {},
     "output_type": "execute_result"
    }
   ],
   "source": [
    "df['word count'].value_counts()"
   ]
  },
  {
   "cell_type": "code",
   "execution_count": 26,
   "id": "97b32394",
   "metadata": {},
   "outputs": [
    {
     "data": {
      "text/plain": [
       "False    11419\n",
       "True      4295\n",
       "Name: is quote, dtype: int64"
      ]
     },
     "execution_count": 26,
     "metadata": {},
     "output_type": "execute_result"
    }
   ],
   "source": [
    "df['is quote'].value_counts()"
   ]
  },
  {
   "cell_type": "code",
   "execution_count": 27,
   "id": "baebcdd1",
   "metadata": {},
   "outputs": [
    {
     "data": {
      "text/plain": [
       "<matplotlib.collections.PathCollection at 0x2a013849d60>"
      ]
     },
     "execution_count": 27,
     "metadata": {},
     "output_type": "execute_result"
    },
    {
     "data": {
      "image/png": "[encoded data removed]",
      "text/plain": [
       "<Figure size 640x480 with 1 Axes>"
      ]
     },
     "metadata": {},
     "output_type": "display_data"
    }
   ],
   "source": [
    "plt.scatter(df['total tweets'],df['word count'])"
   ]
  },
  {
   "cell_type": "code",
   "execution_count": 28,
   "id": "11adee92",
   "metadata": {},
   "outputs": [
    {
     "data": {
      "text/plain": [
       "<matplotlib.collections.PathCollection at 0x2a013ca6c70>"
      ]
     },
     "execution_count": 28,
     "metadata": {},
     "output_type": "execute_result"
    },
    {
     "data": {
      "image/png": "[encoded data removed]",
      "text/plain": [
       "<Figure size 640x480 with 1 Axes>"
      ]
     },
     "metadata": {},
     "output_type": "display_data"
    }
   ],
   "source": [
    "plt.scatter(df['total tweets'],df['following'])"
   ]
  },
  {
   "cell_type": "code",
   "execution_count": 29,
   "id": "e58009d6",
   "metadata": {},
   "outputs": [
    {
     "data": {
      "text/plain": [
       "<matplotlib.collections.PathCollection at 0x2a01267f220>"
      ]
     },
     "execution_count": 29,
     "metadata": {},
     "output_type": "execute_result"
    },
    {
     "data": {
      "image/png": "[encoded data removed]",
      "text/plain": [
       "<Figure size 640x480 with 1 Axes>"
      ]
     },
     "metadata": {},
     "output_type": "display_data"
    }
   ],
   "source": [
    "plt.scatter(df['total tweets'],df['followers'])"
   ]
  },
  {
   "cell_type": "code",
   "execution_count": 30,
   "id": "8d034a0b",
   "metadata": {},
   "outputs": [
    {
     "data": {
      "image/png": "[encoded data removed]",
      "text/plain": [
       "<Figure size 640x480 with 1 Axes>"
      ]
     },
     "metadata": {},
     "output_type": "display_data"
    }
   ],
   "source": [
    "sns.barplot(x='verified', y='total tweets', data=df)\n",
    "plt.show()"
   ]
  },
  {
   "cell_type": "code",
   "execution_count": 31,
   "id": "cc27c10a",
   "metadata": {},
   "outputs": [
    {
     "data": {
      "text/plain": [
       "1    0.662467\n",
       "0    0.337533\n",
       "Name: is respactable?, dtype: float64"
      ]
     },
     "execution_count": 31,
     "metadata": {},
     "output_type": "execute_result"
    }
   ],
   "source": [
    "df['is respactable?'].value_counts(normalize=True)"
   ]
  },
  {
   "cell_type": "code",
   "execution_count": 32,
   "id": "6d22dc5e",
   "metadata": {},
   "outputs": [
    {
     "data": {
      "image/png": "[encoded data removed]",
      "text/plain": [
       "<Figure size 640x480 with 1 Axes>"
      ]
     },
     "metadata": {},
     "output_type": "display_data"
    }
   ],
   "source": [
    "sns.barplot(x='is respactable?', y='likes', data=df)\n",
    "plt.show()"
   ]
  },
  {
   "cell_type": "code",
   "execution_count": 33,
   "id": "5459787d",
   "metadata": {},
   "outputs": [
    {
     "data": {
      "text/plain": [
       "0      12509\n",
       "1       1584\n",
       "2        518\n",
       "3        275\n",
       "4        150\n",
       "       ...  \n",
       "190        1\n",
       "111        1\n",
       "175        1\n",
       "59         1\n",
       "798        1\n",
       "Name: retweets, Length: 104, dtype: int64"
      ]
     },
     "execution_count": 33,
     "metadata": {},
     "output_type": "execute_result"
    }
   ],
   "source": [
    "df['retweets'].value_counts()"
   ]
  },
  {
   "cell_type": "code",
   "execution_count": 34,
   "id": "7afd3e7d",
   "metadata": {},
   "outputs": [
    {
     "data": {
      "text/plain": [
       "(-4.826, 965.2]     15711\n",
       "(965.2, 1930.4]         1\n",
       "(1930.4, 2895.6]        1\n",
       "(3860.8, 4826.0]        1\n",
       "(2895.6, 3860.8]        0\n",
       "Name: retweets, dtype: int64"
      ]
     },
     "execution_count": 34,
     "metadata": {},
     "output_type": "execute_result"
    }
   ],
   "source": [
    "pd.cut(df['retweets'],bins=5).value_counts()"
   ]
  },
  {
   "cell_type": "code",
   "execution_count": 35,
   "id": "f9641dc3",
   "metadata": {},
   "outputs": [
    {
     "data": {
      "text/plain": [
       "(array([1.5711e+04, 1.0000e+00, 1.0000e+00, 0.0000e+00, 1.0000e+00]),\n",
       " array([   0. ,  965.2, 1930.4, 2895.6, 3860.8, 4826. ]),\n",
       " <BarContainer object of 5 artists>)"
      ]
     },
     "execution_count": 35,
     "metadata": {},
     "output_type": "execute_result"
    },
    {
     "data": {
      "image/png": "[encoded data removed]",
      "text/plain": [
       "<Figure size 640x480 with 1 Axes>"
      ]
     },
     "metadata": {},
     "output_type": "display_data"
    }
   ],
   "source": [
    "plt.hist(df['retweets'],bins=5)"
   ]
  },
  {
   "cell_type": "code",
   "execution_count": 36,
   "id": "72972670",
   "metadata": {},
   "outputs": [
    {
     "data": {
      "text/html": [
       "<div>\n",
       "<style scoped>\n",
       "    .dataframe tbody tr th:only-of-type {\n",
       "        vertical-align: middle;\n",
       "    }\n",
       "\n",
       "    .dataframe tbody tr th {\n",
       "        vertical-align: top;\n",
       "    }\n",
       "\n",
       "    .dataframe thead th {\n",
       "        text-align: right;\n",
       "    }\n",
       "</style>\n",
       "<table border=\"1\" class=\"dataframe\">\n",
       "  <thead>\n",
       "    <tr style=\"text-align: right;\">\n",
       "      <th></th>\n",
       "      <th>name</th>\n",
       "      <th>city</th>\n",
       "      <th>country</th>\n",
       "      <th>acount age</th>\n",
       "      <th>total tweets</th>\n",
       "      <th>followers</th>\n",
       "      <th>following</th>\n",
       "      <th>respectability</th>\n",
       "      <th>is respactable?</th>\n",
       "      <th>verified</th>\n",
       "      <th>text</th>\n",
       "      <th>views</th>\n",
       "      <th>likes</th>\n",
       "      <th>retweets</th>\n",
       "      <th>quote retweets</th>\n",
       "      <th>comments</th>\n",
       "      <th>word count</th>\n",
       "      <th>is quote</th>\n",
       "      <th>hashtag count</th>\n",
       "      <th>trending</th>\n",
       "      <th>using trends?</th>\n",
       "      <th>link to tweet</th>\n",
       "    </tr>\n",
       "  </thead>\n",
       "  <tbody>\n",
       "    <tr>\n",
       "      <th>0</th>\n",
       "      <td>CamuyArenas_AA</td>\n",
       "      <td>Puente</td>\n",
       "      <td>United States</td>\n",
       "      <td>3.2</td>\n",
       "      <td>228</td>\n",
       "      <td>50</td>\n",
       "      <td>22</td>\n",
       "      <td>0.440000</td>\n",
       "      <td>0</td>\n",
       "      <td>False</td>\n",
       "      <td>Just posted a photo @ Estadio Juan F.Cheo Lópe...</td>\n",
       "      <td>13</td>\n",
       "      <td>0</td>\n",
       "      <td>0</td>\n",
       "      <td>0</td>\n",
       "      <td>0</td>\n",
       "      <td>11</td>\n",
       "      <td>False</td>\n",
       "      <td>0</td>\n",
       "      <td>['Friday the 13th', 'Staley', 'Lori Harvey', '...</td>\n",
       "      <td>False</td>\n",
       "      <td>https://www.twitter.com/CamuyArenas_AA/status/...</td>\n",
       "    </tr>\n",
       "    <tr>\n",
       "      <th>1</th>\n",
       "      <td>16p11dot2ds</td>\n",
       "      <td>Georgia</td>\n",
       "      <td>United States</td>\n",
       "      <td>4.9</td>\n",
       "      <td>32312</td>\n",
       "      <td>33</td>\n",
       "      <td>481</td>\n",
       "      <td>14.575758</td>\n",
       "      <td>1</td>\n",
       "      <td>False</td>\n",
       "      <td>This is a prep free zone. https://t.co/2qqlLxy...</td>\n",
       "      <td>336</td>\n",
       "      <td>1</td>\n",
       "      <td>0</td>\n",
       "      <td>0</td>\n",
       "      <td>1</td>\n",
       "      <td>8</td>\n",
       "      <td>True</td>\n",
       "      <td>0</td>\n",
       "      <td>['Friday the 13th', 'Staley', 'Lori Harvey', '...</td>\n",
       "      <td>False</td>\n",
       "      <td>https://www.twitter.com/16p11dot2ds/status/161...</td>\n",
       "    </tr>\n",
       "    <tr>\n",
       "      <th>2</th>\n",
       "      <td>PoopScoopSF</td>\n",
       "      <td>Downtown</td>\n",
       "      <td>United States</td>\n",
       "      <td>4.7</td>\n",
       "      <td>163626</td>\n",
       "      <td>415</td>\n",
       "      <td>125</td>\n",
       "      <td>0.301205</td>\n",
       "      <td>0</td>\n",
       "      <td>False</td>\n",
       "      <td>\"Big poop front of our door.\" (Downtown, D3) h...</td>\n",
       "      <td>9</td>\n",
       "      <td>0</td>\n",
       "      <td>0</td>\n",
       "      <td>0</td>\n",
       "      <td>1</td>\n",
       "      <td>10</td>\n",
       "      <td>False</td>\n",
       "      <td>0</td>\n",
       "      <td>['Friday the 13th', 'Staley', 'Lori Harvey', '...</td>\n",
       "      <td>False</td>\n",
       "      <td>https://www.twitter.com/PoopScoopSF/status/161...</td>\n",
       "    </tr>\n",
       "    <tr>\n",
       "      <th>3</th>\n",
       "      <td>wchazz</td>\n",
       "      <td>Wesley Chapel</td>\n",
       "      <td>United States</td>\n",
       "      <td>15.4</td>\n",
       "      <td>48876</td>\n",
       "      <td>377</td>\n",
       "      <td>951</td>\n",
       "      <td>2.522546</td>\n",
       "      <td>1</td>\n",
       "      <td>False</td>\n",
       "      <td>2nd cardio, target calories 1k @ Wesley Chapel...</td>\n",
       "      <td>4</td>\n",
       "      <td>0</td>\n",
       "      <td>0</td>\n",
       "      <td>0</td>\n",
       "      <td>0</td>\n",
       "      <td>10</td>\n",
       "      <td>False</td>\n",
       "      <td>0</td>\n",
       "      <td>['Friday the 13th', 'Staley', 'Lori Harvey', '...</td>\n",
       "      <td>False</td>\n",
       "      <td>https://www.twitter.com/wchazz/status/16139885...</td>\n",
       "    </tr>\n",
       "    <tr>\n",
       "      <th>4</th>\n",
       "      <td>wyatthebson</td>\n",
       "      <td>Pier 17</td>\n",
       "      <td>United States</td>\n",
       "      <td>16.8</td>\n",
       "      <td>24061</td>\n",
       "      <td>1366</td>\n",
       "      <td>4999</td>\n",
       "      <td>3.659590</td>\n",
       "      <td>1</td>\n",
       "      <td>False</td>\n",
       "      <td>Listen to PODCAST #6 SGUZR by Core Beats on Tn...</td>\n",
       "      <td>13</td>\n",
       "      <td>0</td>\n",
       "      <td>0</td>\n",
       "      <td>0</td>\n",
       "      <td>0</td>\n",
       "      <td>11</td>\n",
       "      <td>False</td>\n",
       "      <td>0</td>\n",
       "      <td>['Friday the 13th', 'Staley', 'Lori Harvey', '...</td>\n",
       "      <td>False</td>\n",
       "      <td>https://www.twitter.com/wyatthebson/status/161...</td>\n",
       "    </tr>\n",
       "  </tbody>\n",
       "</table>\n",
       "</div>"
      ],
      "text/plain": [
       "             name           city        country  acount age  total tweets  \\\n",
       "0  CamuyArenas_AA         Puente  United States         3.2           228   \n",
       "1     16p11dot2ds        Georgia  United States         4.9         32312   \n",
       "2     PoopScoopSF       Downtown  United States         4.7        163626   \n",
       "3          wchazz  Wesley Chapel  United States        15.4         48876   \n",
       "4     wyatthebson        Pier 17  United States        16.8         24061   \n",
       "\n",
       "   followers  following  respectability  is respactable?  verified  \\\n",
       "0         50         22        0.440000                0     False   \n",
       "1         33        481       14.575758                1     False   \n",
       "2        415        125        0.301205                0     False   \n",
       "3        377        951        2.522546                1     False   \n",
       "4       1366       4999        3.659590                1     False   \n",
       "\n",
       "                                                text  views  likes  retweets  \\\n",
       "0  Just posted a photo @ Estadio Juan F.Cheo Lópe...     13      0         0   \n",
       "1  This is a prep free zone. https://t.co/2qqlLxy...    336      1         0   \n",
       "2  \"Big poop front of our door.\" (Downtown, D3) h...      9      0         0   \n",
       "3  2nd cardio, target calories 1k @ Wesley Chapel...      4      0         0   \n",
       "4  Listen to PODCAST #6 SGUZR by Core Beats on Tn...     13      0         0   \n",
       "\n",
       "   quote retweets  comments  word count  is quote  hashtag count  \\\n",
       "0               0         0          11     False              0   \n",
       "1               0         1           8      True              0   \n",
       "2               0         1          10     False              0   \n",
       "3               0         0          10     False              0   \n",
       "4               0         0          11     False              0   \n",
       "\n",
       "                                            trending  using trends?  \\\n",
       "0  ['Friday the 13th', 'Staley', 'Lori Harvey', '...          False   \n",
       "1  ['Friday the 13th', 'Staley', 'Lori Harvey', '...          False   \n",
       "2  ['Friday the 13th', 'Staley', 'Lori Harvey', '...          False   \n",
       "3  ['Friday the 13th', 'Staley', 'Lori Harvey', '...          False   \n",
       "4  ['Friday the 13th', 'Staley', 'Lori Harvey', '...          False   \n",
       "\n",
       "                                       link to tweet  \n",
       "0  https://www.twitter.com/CamuyArenas_AA/status/...  \n",
       "1  https://www.twitter.com/16p11dot2ds/status/161...  \n",
       "2  https://www.twitter.com/PoopScoopSF/status/161...  \n",
       "3  https://www.twitter.com/wchazz/status/16139885...  \n",
       "4  https://www.twitter.com/wyatthebson/status/161...  "
      ]
     },
     "execution_count": 36,
     "metadata": {},
     "output_type": "execute_result"
    }
   ],
   "source": [
    "df.head()"
   ]
  },
  {
   "cell_type": "code",
   "execution_count": 37,
   "id": "fb63f187",
   "metadata": {},
   "outputs": [
    {
     "name": "stderr",
     "output_type": "stream",
     "text": [
      "C:\\ProgramData\\Anaconda3\\lib\\site-packages\\IPython\\core\\pylabtools.py:151: UserWarning: Glyph 30343 (\\N{CJK UNIFIED IDEOGRAPH-7687}) missing from current font.\n",
      "  fig.canvas.print_figure(bytes_io, **kw)\n",
      "C:\\ProgramData\\Anaconda3\\lib\\site-packages\\IPython\\core\\pylabtools.py:151: UserWarning: Glyph 23478 (\\N{CJK UNIFIED IDEOGRAPH-5BB6}) missing from current font.\n",
      "  fig.canvas.print_figure(bytes_io, **kw)\n",
      "C:\\ProgramData\\Anaconda3\\lib\\site-packages\\IPython\\core\\pylabtools.py:151: UserWarning: Glyph 24481 (\\N{CJK UNIFIED IDEOGRAPH-5FA1}) missing from current font.\n",
      "  fig.canvas.print_figure(bytes_io, **kw)\n",
      "C:\\ProgramData\\Anaconda3\\lib\\site-packages\\IPython\\core\\pylabtools.py:151: UserWarning: Glyph 23476 (\\N{CJK UNIFIED IDEOGRAPH-5BB4}) missing from current font.\n",
      "  fig.canvas.print_figure(bytes_io, **kw)\n",
      "C:\\ProgramData\\Anaconda3\\lib\\site-packages\\IPython\\core\\pylabtools.py:151: UserWarning: Glyph 19968 (\\N{CJK UNIFIED IDEOGRAPH-4E00}) missing from current font.\n",
      "  fig.canvas.print_figure(bytes_io, **kw)\n",
      "C:\\ProgramData\\Anaconda3\\lib\\site-packages\\IPython\\core\\pylabtools.py:151: UserWarning: Glyph 40635 (\\N{CJK UNIFIED IDEOGRAPH-9EBB}) missing from current font.\n",
      "  fig.canvas.print_figure(bytes_io, **kw)\n",
      "C:\\ProgramData\\Anaconda3\\lib\\site-packages\\IPython\\core\\pylabtools.py:151: UserWarning: Glyph 36771 (\\N{CJK UNIFIED IDEOGRAPH-8FA3}) missing from current font.\n",
      "  fig.canvas.print_figure(bytes_io, **kw)\n",
      "C:\\ProgramData\\Anaconda3\\lib\\site-packages\\IPython\\core\\pylabtools.py:151: UserWarning: Glyph 24029 (\\N{CJK UNIFIED IDEOGRAPH-5DDD}) missing from current font.\n",
      "  fig.canvas.print_figure(bytes_io, **kw)\n",
      "C:\\ProgramData\\Anaconda3\\lib\\site-packages\\IPython\\core\\pylabtools.py:151: UserWarning: Glyph 29579 (\\N{CJK UNIFIED IDEOGRAPH-738B}) missing from current font.\n",
      "  fig.canvas.print_figure(bytes_io, **kw)\n",
      "C:\\ProgramData\\Anaconda3\\lib\\site-packages\\IPython\\core\\pylabtools.py:151: UserWarning: Glyph 24220 (\\N{CJK UNIFIED IDEOGRAPH-5E9C}) missing from current font.\n",
      "  fig.canvas.print_figure(bytes_io, **kw)\n",
      "C:\\ProgramData\\Anaconda3\\lib\\site-packages\\IPython\\core\\pylabtools.py:151: UserWarning: Glyph 22823 (\\N{CJK UNIFIED IDEOGRAPH-5927}) missing from current font.\n",
      "  fig.canvas.print_figure(bytes_io, **kw)\n",
      "C:\\ProgramData\\Anaconda3\\lib\\site-packages\\IPython\\core\\pylabtools.py:151: UserWarning: Glyph 32113 (\\N{CJK UNIFIED IDEOGRAPH-7D71}) missing from current font.\n",
      "  fig.canvas.print_figure(bytes_io, **kw)\n",
      "C:\\ProgramData\\Anaconda3\\lib\\site-packages\\IPython\\core\\pylabtools.py:151: UserWarning: Glyph 33775 (\\N{CJK UNIFIED IDEOGRAPH-83EF}) missing from current font.\n",
      "  fig.canvas.print_figure(bytes_io, **kw)\n",
      "C:\\ProgramData\\Anaconda3\\lib\\site-packages\\IPython\\core\\pylabtools.py:151: UserWarning: Glyph 36229 (\\N{CJK UNIFIED IDEOGRAPH-8D85}) missing from current font.\n",
      "  fig.canvas.print_figure(bytes_io, **kw)\n",
      "C:\\ProgramData\\Anaconda3\\lib\\site-packages\\IPython\\core\\pylabtools.py:151: UserWarning: Glyph 32026 (\\N{CJK UNIFIED IDEOGRAPH-7D1A}) missing from current font.\n",
      "  fig.canvas.print_figure(bytes_io, **kw)\n",
      "C:\\ProgramData\\Anaconda3\\lib\\site-packages\\IPython\\core\\pylabtools.py:151: UserWarning: Glyph 24066 (\\N{CJK UNIFIED IDEOGRAPH-5E02}) missing from current font.\n",
      "  fig.canvas.print_figure(bytes_io, **kw)\n",
      "C:\\ProgramData\\Anaconda3\\lib\\site-packages\\IPython\\core\\pylabtools.py:151: UserWarning: Glyph 22580 (\\N{CJK UNIFIED IDEOGRAPH-5834}) missing from current font.\n",
      "  fig.canvas.print_figure(bytes_io, **kw)\n"
     ]
    },
    {
     "data": {
      "image/png": "[encoded data removed]",
      "text/plain": [
       "<Figure size 640x480 with 1 Axes>"
      ]
     },
     "metadata": {},
     "output_type": "display_data"
    }
   ],
   "source": [
    "sns.barplot(x='city', y='retweets', data=df)\n",
    "plt.show()"
   ]
  },
  {
   "cell_type": "code",
   "execution_count": 38,
   "id": "da21a9d4",
   "metadata": {},
   "outputs": [
    {
     "data": {
      "image/png": "[encoded data removed]",
      "text/plain": [
       "<Figure size 640x480 with 1 Axes>"
      ]
     },
     "metadata": {},
     "output_type": "display_data"
    }
   ],
   "source": [
    "sns.barplot(x='country', y='retweets', data=df)\n",
    "plt.show()\n"
   ]
  },
  {
   "cell_type": "code",
   "execution_count": 39,
   "id": "b197814c",
   "metadata": {},
   "outputs": [
    {
     "data": {
      "image/png": "[encoded data removed]",
      "text/plain": [
       "<Figure size 640x480 with 1 Axes>"
      ]
     },
     "metadata": {},
     "output_type": "display_data"
    }
   ],
   "source": [
    "sns.barplot(x='verified', y='retweets', data=df)\n",
    "plt.show()"
   ]
  },
  {
   "cell_type": "code",
   "execution_count": 40,
   "id": "52b0d61f",
   "metadata": {},
   "outputs": [
    {
     "data": {
      "text/plain": [
       "<matplotlib.collections.PathCollection at 0x2a01f411f10>"
      ]
     },
     "execution_count": 40,
     "metadata": {},
     "output_type": "execute_result"
    },
    {
     "data": {
      "image/png": "[encoded data removed]",
      "text/plain": [
       "<Figure size 640x480 with 1 Axes>"
      ]
     },
     "metadata": {},
     "output_type": "display_data"
    }
   ],
   "source": [
    "plt.scatter(df['acount age'],df['retweets'])"
   ]
  },
  {
   "cell_type": "code",
   "execution_count": 41,
   "id": "db22cc86",
   "metadata": {},
   "outputs": [
    {
     "data": {
      "text/plain": [
       "<matplotlib.collections.PathCollection at 0x2a01f2116d0>"
      ]
     },
     "execution_count": 41,
     "metadata": {},
     "output_type": "execute_result"
    },
    {
     "data": {
      "image/png": "[encoded data removed]",
      "text/plain": [
       "<Figure size 640x480 with 1 Axes>"
      ]
     },
     "metadata": {},
     "output_type": "display_data"
    }
   ],
   "source": [
    "plt.scatter(df['total tweets'],df['retweets'])"
   ]
  },
  {
   "cell_type": "code",
   "execution_count": 42,
   "id": "4a982191",
   "metadata": {},
   "outputs": [
    {
     "data": {
      "text/plain": [
       "<matplotlib.collections.PathCollection at 0x2a01f2030d0>"
      ]
     },
     "execution_count": 42,
     "metadata": {},
     "output_type": "execute_result"
    },
    {
     "data": {
      "image/png": "[encoded data removed]",
      "text/plain": [
       "<Figure size 640x480 with 1 Axes>"
      ]
     },
     "metadata": {},
     "output_type": "display_data"
    }
   ],
   "source": [
    "plt.scatter(df['followers'],df['retweets'])"
   ]
  },
  {
   "cell_type": "code",
   "execution_count": 43,
   "id": "fc8b34ca",
   "metadata": {},
   "outputs": [
    {
     "data": {
      "text/plain": [
       "<matplotlib.collections.PathCollection at 0x2a01f4d8190>"
      ]
     },
     "execution_count": 43,
     "metadata": {},
     "output_type": "execute_result"
    },
    {
     "data": {
      "image/png": "[encoded data removed]",
      "text/plain": [
       "<Figure size 640x480 with 1 Axes>"
      ]
     },
     "metadata": {},
     "output_type": "display_data"
    }
   ],
   "source": [
    "plt.scatter(df['following'],df['retweets'])"
   ]
  },
  {
   "cell_type": "code",
   "execution_count": 44,
   "id": "0fa1d27f",
   "metadata": {},
   "outputs": [
    {
     "data": {
      "text/plain": [
       "<matplotlib.collections.PathCollection at 0x2a01f188430>"
      ]
     },
     "execution_count": 44,
     "metadata": {},
     "output_type": "execute_result"
    },
    {
     "data": {
      "image/png": "[encoded data removed]",
      "text/plain": [
       "<Figure size 640x480 with 1 Axes>"
      ]
     },
     "metadata": {},
     "output_type": "display_data"
    }
   ],
   "source": [
    "plt.scatter(df['word count'],df['retweets'])"
   ]
  },
  {
   "cell_type": "code",
   "execution_count": 45,
   "id": "abc9e6bd",
   "metadata": {},
   "outputs": [
    {
     "data": {
      "text/plain": [
       "1"
      ]
     },
     "execution_count": 45,
     "metadata": {},
     "output_type": "execute_result"
    }
   ],
   "source": [
    "dups = df[df['name'].duplicated(keep = False)]['name'].value_counts()\n",
    "\n",
    "for n in dups.keys():\n",
    "    if dups[n] > 2:\n",
    "        df.drop(df[df['name'] == n].index,inplace = True)\n",
    "        \n",
    "df[df['name'].duplicated()]['name'].value_counts().max()"
   ]
  },
  {
   "cell_type": "markdown",
   "id": "b97300fd",
   "metadata": {},
   "source": [
    "מוריד את הרובוטים המסריחים הללו"
   ]
  },
  {
   "cell_type": "code",
   "execution_count": 46,
   "id": "ed80b48b",
   "metadata": {},
   "outputs": [
    {
     "data": {
      "image/png": "[encoded data removed]",
      "text/plain": [
       "<Figure size 640x480 with 1 Axes>"
      ]
     },
     "metadata": {},
     "output_type": "display_data"
    }
   ],
   "source": [
    "sns.barplot(x='is respactable?', y='retweets', data=df)\n",
    "plt.show()"
   ]
  },
  {
   "cell_type": "code",
   "execution_count": 47,
   "id": "fd089c79",
   "metadata": {},
   "outputs": [
    {
     "data": {
      "image/png": "[encoded data removed]",
      "text/plain": [
       "<Figure size 640x480 with 1 Axes>"
      ]
     },
     "metadata": {},
     "output_type": "display_data"
    }
   ],
   "source": [
    "sns.barplot(x='using trends?', y='retweets', data=df)\n",
    "plt.show()"
   ]
  },
  {
   "cell_type": "code",
   "execution_count": 48,
   "id": "aef88879",
   "metadata": {},
   "outputs": [
    {
     "data": {
      "text/plain": [
       "1915"
      ]
     },
     "execution_count": 48,
     "metadata": {},
     "output_type": "execute_result"
    }
   ],
   "source": [
    "df.retweets[df.retweets>0].count()"
   ]
  },
  {
   "cell_type": "code",
   "execution_count": 49,
   "id": "10eb561a",
   "metadata": {},
   "outputs": [
    {
     "data": {
      "text/plain": [
       "0.21188315999114848"
      ]
     },
     "execution_count": 49,
     "metadata": {},
     "output_type": "execute_result"
    }
   ],
   "source": [
    "df.retweets[df.retweets>0].count()/df.retweets.count()"
   ]
  },
  {
   "cell_type": "code",
   "execution_count": 50,
   "id": "26689fca",
   "metadata": {},
   "outputs": [
    {
     "data": {
      "text/html": [
       "<div>\n",
       "<style scoped>\n",
       "    .dataframe tbody tr th:only-of-type {\n",
       "        vertical-align: middle;\n",
       "    }\n",
       "\n",
       "    .dataframe tbody tr th {\n",
       "        vertical-align: top;\n",
       "    }\n",
       "\n",
       "    .dataframe thead th {\n",
       "        text-align: right;\n",
       "    }\n",
       "</style>\n",
       "<table border=\"1\" class=\"dataframe\">\n",
       "  <thead>\n",
       "    <tr style=\"text-align: right;\">\n",
       "      <th></th>\n",
       "      <th>name</th>\n",
       "      <th>city</th>\n",
       "      <th>country</th>\n",
       "      <th>acount age</th>\n",
       "      <th>total tweets</th>\n",
       "      <th>followers</th>\n",
       "      <th>following</th>\n",
       "      <th>respectability</th>\n",
       "      <th>is respactable?</th>\n",
       "      <th>verified</th>\n",
       "      <th>text</th>\n",
       "      <th>views</th>\n",
       "      <th>likes</th>\n",
       "      <th>retweets</th>\n",
       "      <th>quote retweets</th>\n",
       "      <th>comments</th>\n",
       "      <th>word count</th>\n",
       "      <th>is quote</th>\n",
       "      <th>hashtag count</th>\n",
       "      <th>trending</th>\n",
       "      <th>using trends?</th>\n",
       "      <th>link to tweet</th>\n",
       "    </tr>\n",
       "  </thead>\n",
       "  <tbody>\n",
       "    <tr>\n",
       "      <th>count</th>\n",
       "      <td>9038</td>\n",
       "      <td>9038</td>\n",
       "      <td>9038</td>\n",
       "      <td>9038.000000</td>\n",
       "      <td>9.038000e+03</td>\n",
       "      <td>9.038000e+03</td>\n",
       "      <td>9038.000000</td>\n",
       "      <td>9038.000000</td>\n",
       "      <td>9038.000000</td>\n",
       "      <td>9038</td>\n",
       "      <td>9038</td>\n",
       "      <td>9038.000000</td>\n",
       "      <td>9038.000000</td>\n",
       "      <td>9038.000000</td>\n",
       "      <td>9038.000000</td>\n",
       "      <td>9038.000000</td>\n",
       "      <td>9038.000000</td>\n",
       "      <td>9038</td>\n",
       "      <td>9038.000000</td>\n",
       "      <td>9038</td>\n",
       "      <td>9038</td>\n",
       "      <td>9038</td>\n",
       "    </tr>\n",
       "    <tr>\n",
       "      <th>unique</th>\n",
       "      <td>8311</td>\n",
       "      <td>2613</td>\n",
       "      <td>5</td>\n",
       "      <td>NaN</td>\n",
       "      <td>NaN</td>\n",
       "      <td>NaN</td>\n",
       "      <td>NaN</td>\n",
       "      <td>NaN</td>\n",
       "      <td>NaN</td>\n",
       "      <td>2</td>\n",
       "      <td>9038</td>\n",
       "      <td>NaN</td>\n",
       "      <td>NaN</td>\n",
       "      <td>NaN</td>\n",
       "      <td>NaN</td>\n",
       "      <td>NaN</td>\n",
       "      <td>NaN</td>\n",
       "      <td>2</td>\n",
       "      <td>NaN</td>\n",
       "      <td>236</td>\n",
       "      <td>2</td>\n",
       "      <td>9038</td>\n",
       "    </tr>\n",
       "    <tr>\n",
       "      <th>top</th>\n",
       "      <td>A_ashishKumar</td>\n",
       "      <td>Toronto</td>\n",
       "      <td>United States</td>\n",
       "      <td>NaN</td>\n",
       "      <td>NaN</td>\n",
       "      <td>NaN</td>\n",
       "      <td>NaN</td>\n",
       "      <td>NaN</td>\n",
       "      <td>NaN</td>\n",
       "      <td>False</td>\n",
       "      <td>Just posted a photo @ Estadio Juan F.Cheo Lópe...</td>\n",
       "      <td>NaN</td>\n",
       "      <td>NaN</td>\n",
       "      <td>NaN</td>\n",
       "      <td>NaN</td>\n",
       "      <td>NaN</td>\n",
       "      <td>NaN</td>\n",
       "      <td>False</td>\n",
       "      <td>NaN</td>\n",
       "      <td>['#lufc', 'Gnonto', '#avfc', 'Leeds', '#AVLLEE...</td>\n",
       "      <td>False</td>\n",
       "      <td>https://www.twitter.com/CamuyArenas_AA/status/...</td>\n",
       "    </tr>\n",
       "    <tr>\n",
       "      <th>freq</th>\n",
       "      <td>2</td>\n",
       "      <td>323</td>\n",
       "      <td>3382</td>\n",
       "      <td>NaN</td>\n",
       "      <td>NaN</td>\n",
       "      <td>NaN</td>\n",
       "      <td>NaN</td>\n",
       "      <td>NaN</td>\n",
       "      <td>NaN</td>\n",
       "      <td>8730</td>\n",
       "      <td>1</td>\n",
       "      <td>NaN</td>\n",
       "      <td>NaN</td>\n",
       "      <td>NaN</td>\n",
       "      <td>NaN</td>\n",
       "      <td>NaN</td>\n",
       "      <td>NaN</td>\n",
       "      <td>6610</td>\n",
       "      <td>NaN</td>\n",
       "      <td>987</td>\n",
       "      <td>8718</td>\n",
       "      <td>1</td>\n",
       "    </tr>\n",
       "    <tr>\n",
       "      <th>mean</th>\n",
       "      <td>NaN</td>\n",
       "      <td>NaN</td>\n",
       "      <td>NaN</td>\n",
       "      <td>10.624751</td>\n",
       "      <td>2.503423e+04</td>\n",
       "      <td>4.829506e+03</td>\n",
       "      <td>1446.317659</td>\n",
       "      <td>1.894251</td>\n",
       "      <td>0.666962</td>\n",
       "      <td>NaN</td>\n",
       "      <td>NaN</td>\n",
       "      <td>1087.755477</td>\n",
       "      <td>12.323191</td>\n",
       "      <td>1.994468</td>\n",
       "      <td>0.159106</td>\n",
       "      <td>1.066608</td>\n",
       "      <td>16.654348</td>\n",
       "      <td>NaN</td>\n",
       "      <td>0.649259</td>\n",
       "      <td>NaN</td>\n",
       "      <td>NaN</td>\n",
       "      <td>NaN</td>\n",
       "    </tr>\n",
       "    <tr>\n",
       "      <th>std</th>\n",
       "      <td>NaN</td>\n",
       "      <td>NaN</td>\n",
       "      <td>NaN</td>\n",
       "      <td>4.477449</td>\n",
       "      <td>5.417727e+04</td>\n",
       "      <td>8.344993e+04</td>\n",
       "      <td>6019.725423</td>\n",
       "      <td>8.226239</td>\n",
       "      <td>0.471326</td>\n",
       "      <td>NaN</td>\n",
       "      <td>NaN</td>\n",
       "      <td>7957.449771</td>\n",
       "      <td>141.750203</td>\n",
       "      <td>53.737343</td>\n",
       "      <td>3.097887</td>\n",
       "      <td>10.514568</td>\n",
       "      <td>12.689812</td>\n",
       "      <td>NaN</td>\n",
       "      <td>1.749821</td>\n",
       "      <td>NaN</td>\n",
       "      <td>NaN</td>\n",
       "      <td>NaN</td>\n",
       "    </tr>\n",
       "    <tr>\n",
       "      <th>min</th>\n",
       "      <td>NaN</td>\n",
       "      <td>NaN</td>\n",
       "      <td>NaN</td>\n",
       "      <td>0.100000</td>\n",
       "      <td>1.000000e+00</td>\n",
       "      <td>0.000000e+00</td>\n",
       "      <td>0.000000</td>\n",
       "      <td>0.000000</td>\n",
       "      <td>0.000000</td>\n",
       "      <td>NaN</td>\n",
       "      <td>NaN</td>\n",
       "      <td>0.000000</td>\n",
       "      <td>0.000000</td>\n",
       "      <td>0.000000</td>\n",
       "      <td>0.000000</td>\n",
       "      <td>0.000000</td>\n",
       "      <td>1.000000</td>\n",
       "      <td>NaN</td>\n",
       "      <td>0.000000</td>\n",
       "      <td>NaN</td>\n",
       "      <td>NaN</td>\n",
       "      <td>NaN</td>\n",
       "    </tr>\n",
       "    <tr>\n",
       "      <th>25%</th>\n",
       "      <td>NaN</td>\n",
       "      <td>NaN</td>\n",
       "      <td>NaN</td>\n",
       "      <td>6.900000</td>\n",
       "      <td>2.274250e+03</td>\n",
       "      <td>2.350000e+02</td>\n",
       "      <td>286.000000</td>\n",
       "      <td>0.563787</td>\n",
       "      <td>0.000000</td>\n",
       "      <td>NaN</td>\n",
       "      <td>NaN</td>\n",
       "      <td>44.000000</td>\n",
       "      <td>0.000000</td>\n",
       "      <td>0.000000</td>\n",
       "      <td>0.000000</td>\n",
       "      <td>0.000000</td>\n",
       "      <td>7.000000</td>\n",
       "      <td>NaN</td>\n",
       "      <td>0.000000</td>\n",
       "      <td>NaN</td>\n",
       "      <td>NaN</td>\n",
       "      <td>NaN</td>\n",
       "    </tr>\n",
       "    <tr>\n",
       "      <th>50%</th>\n",
       "      <td>NaN</td>\n",
       "      <td>NaN</td>\n",
       "      <td>NaN</td>\n",
       "      <td>11.900000</td>\n",
       "      <td>8.783000e+03</td>\n",
       "      <td>6.410000e+02</td>\n",
       "      <td>682.000000</td>\n",
       "      <td>1.089680</td>\n",
       "      <td>1.000000</td>\n",
       "      <td>NaN</td>\n",
       "      <td>NaN</td>\n",
       "      <td>130.000000</td>\n",
       "      <td>1.000000</td>\n",
       "      <td>0.000000</td>\n",
       "      <td>0.000000</td>\n",
       "      <td>0.000000</td>\n",
       "      <td>13.000000</td>\n",
       "      <td>NaN</td>\n",
       "      <td>0.000000</td>\n",
       "      <td>NaN</td>\n",
       "      <td>NaN</td>\n",
       "      <td>NaN</td>\n",
       "    </tr>\n",
       "    <tr>\n",
       "      <th>75%</th>\n",
       "      <td>NaN</td>\n",
       "      <td>NaN</td>\n",
       "      <td>NaN</td>\n",
       "      <td>14.300000</td>\n",
       "      <td>2.674625e+04</td>\n",
       "      <td>1.743000e+03</td>\n",
       "      <td>1523.750000</td>\n",
       "      <td>2.082840</td>\n",
       "      <td>1.000000</td>\n",
       "      <td>NaN</td>\n",
       "      <td>NaN</td>\n",
       "      <td>437.000000</td>\n",
       "      <td>4.000000</td>\n",
       "      <td>0.000000</td>\n",
       "      <td>0.000000</td>\n",
       "      <td>1.000000</td>\n",
       "      <td>24.000000</td>\n",
       "      <td>NaN</td>\n",
       "      <td>0.000000</td>\n",
       "      <td>NaN</td>\n",
       "      <td>NaN</td>\n",
       "      <td>NaN</td>\n",
       "    </tr>\n",
       "    <tr>\n",
       "      <th>max</th>\n",
       "      <td>NaN</td>\n",
       "      <td>NaN</td>\n",
       "      <td>NaN</td>\n",
       "      <td>19.200000</td>\n",
       "      <td>1.574466e+06</td>\n",
       "      <td>6.752268e+06</td>\n",
       "      <td>435333.000000</td>\n",
       "      <td>740.000000</td>\n",
       "      <td>1.000000</td>\n",
       "      <td>NaN</td>\n",
       "      <td>NaN</td>\n",
       "      <td>414784.000000</td>\n",
       "      <td>10007.000000</td>\n",
       "      <td>4826.000000</td>\n",
       "      <td>261.000000</td>\n",
       "      <td>538.000000</td>\n",
       "      <td>64.000000</td>\n",
       "      <td>NaN</td>\n",
       "      <td>22.000000</td>\n",
       "      <td>NaN</td>\n",
       "      <td>NaN</td>\n",
       "      <td>NaN</td>\n",
       "    </tr>\n",
       "  </tbody>\n",
       "</table>\n",
       "</div>"
      ],
      "text/plain": [
       "                 name     city        country   acount age  total tweets  \\\n",
       "count            9038     9038           9038  9038.000000  9.038000e+03   \n",
       "unique           8311     2613              5          NaN           NaN   \n",
       "top     A_ashishKumar  Toronto  United States          NaN           NaN   \n",
       "freq                2      323           3382          NaN           NaN   \n",
       "mean              NaN      NaN            NaN    10.624751  2.503423e+04   \n",
       "std               NaN      NaN            NaN     4.477449  5.417727e+04   \n",
       "min               NaN      NaN            NaN     0.100000  1.000000e+00   \n",
       "25%               NaN      NaN            NaN     6.900000  2.274250e+03   \n",
       "50%               NaN      NaN            NaN    11.900000  8.783000e+03   \n",
       "75%               NaN      NaN            NaN    14.300000  2.674625e+04   \n",
       "max               NaN      NaN            NaN    19.200000  1.574466e+06   \n",
       "\n",
       "           followers      following  respectability  is respactable? verified  \\\n",
       "count   9.038000e+03    9038.000000     9038.000000      9038.000000     9038   \n",
       "unique           NaN            NaN             NaN              NaN        2   \n",
       "top              NaN            NaN             NaN              NaN    False   \n",
       "freq             NaN            NaN             NaN              NaN     8730   \n",
       "mean    4.829506e+03    1446.317659        1.894251         0.666962      NaN   \n",
       "std     8.344993e+04    6019.725423        8.226239         0.471326      NaN   \n",
       "min     0.000000e+00       0.000000        0.000000         0.000000      NaN   \n",
       "25%     2.350000e+02     286.000000        0.563787         0.000000      NaN   \n",
       "50%     6.410000e+02     682.000000        1.089680         1.000000      NaN   \n",
       "75%     1.743000e+03    1523.750000        2.082840         1.000000      NaN   \n",
       "max     6.752268e+06  435333.000000      740.000000         1.000000      NaN   \n",
       "\n",
       "                                                     text          views  \\\n",
       "count                                                9038    9038.000000   \n",
       "unique                                               9038            NaN   \n",
       "top     Just posted a photo @ Estadio Juan F.Cheo Lópe...            NaN   \n",
       "freq                                                    1            NaN   \n",
       "mean                                                  NaN    1087.755477   \n",
       "std                                                   NaN    7957.449771   \n",
       "min                                                   NaN       0.000000   \n",
       "25%                                                   NaN      44.000000   \n",
       "50%                                                   NaN     130.000000   \n",
       "75%                                                   NaN     437.000000   \n",
       "max                                                   NaN  414784.000000   \n",
       "\n",
       "               likes     retweets  quote retweets     comments   word count  \\\n",
       "count    9038.000000  9038.000000     9038.000000  9038.000000  9038.000000   \n",
       "unique           NaN          NaN             NaN          NaN          NaN   \n",
       "top              NaN          NaN             NaN          NaN          NaN   \n",
       "freq             NaN          NaN             NaN          NaN          NaN   \n",
       "mean       12.323191     1.994468        0.159106     1.066608    16.654348   \n",
       "std       141.750203    53.737343        3.097887    10.514568    12.689812   \n",
       "min         0.000000     0.000000        0.000000     0.000000     1.000000   \n",
       "25%         0.000000     0.000000        0.000000     0.000000     7.000000   \n",
       "50%         1.000000     0.000000        0.000000     0.000000    13.000000   \n",
       "75%         4.000000     0.000000        0.000000     1.000000    24.000000   \n",
       "max     10007.000000  4826.000000      261.000000   538.000000    64.000000   \n",
       "\n",
       "       is quote  hashtag count  \\\n",
       "count      9038    9038.000000   \n",
       "unique        2            NaN   \n",
       "top       False            NaN   \n",
       "freq       6610            NaN   \n",
       "mean        NaN       0.649259   \n",
       "std         NaN       1.749821   \n",
       "min         NaN       0.000000   \n",
       "25%         NaN       0.000000   \n",
       "50%         NaN       0.000000   \n",
       "75%         NaN       0.000000   \n",
       "max         NaN      22.000000   \n",
       "\n",
       "                                                 trending using trends?  \\\n",
       "count                                                9038          9038   \n",
       "unique                                                236             2   \n",
       "top     ['#lufc', 'Gnonto', '#avfc', 'Leeds', '#AVLLEE...         False   \n",
       "freq                                                  987          8718   \n",
       "mean                                                  NaN           NaN   \n",
       "std                                                   NaN           NaN   \n",
       "min                                                   NaN           NaN   \n",
       "25%                                                   NaN           NaN   \n",
       "50%                                                   NaN           NaN   \n",
       "75%                                                   NaN           NaN   \n",
       "max                                                   NaN           NaN   \n",
       "\n",
       "                                            link to tweet  \n",
       "count                                                9038  \n",
       "unique                                               9038  \n",
       "top     https://www.twitter.com/CamuyArenas_AA/status/...  \n",
       "freq                                                    1  \n",
       "mean                                                  NaN  \n",
       "std                                                   NaN  \n",
       "min                                                   NaN  \n",
       "25%                                                   NaN  \n",
       "50%                                                   NaN  \n",
       "75%                                                   NaN  \n",
       "max                                                   NaN  "
      ]
     },
     "execution_count": 50,
     "metadata": {},
     "output_type": "execute_result"
    }
   ],
   "source": [
    "df.describe(include='all')"
   ]
  },
  {
   "cell_type": "code",
   "execution_count": 51,
   "id": "b8d4bf99",
   "metadata": {},
   "outputs": [
    {
     "data": {
      "text/plain": [
       "1"
      ]
     },
     "execution_count": 51,
     "metadata": {},
     "output_type": "execute_result"
    }
   ],
   "source": [
    "df.retweets[df.retweets>1500].count()"
   ]
  },
  {
   "cell_type": "code",
   "execution_count": 52,
   "id": "4117996f",
   "metadata": {},
   "outputs": [
    {
     "data": {
      "text/plain": [
       "<matplotlib.collections.PathCollection at 0x2a01ea09880>"
      ]
     },
     "execution_count": 52,
     "metadata": {},
     "output_type": "execute_result"
    },
    {
     "data": {
      "image/png": "[encoded data removed]",
      "text/plain": [
       "<Figure size 640x480 with 1 Axes>"
      ]
     },
     "metadata": {},
     "output_type": "display_data"
    }
   ],
   "source": [
    "plt.scatter(df['word count'],df['likes'])"
   ]
  },
  {
   "cell_type": "code",
   "execution_count": 53,
   "id": "a6341e76",
   "metadata": {},
   "outputs": [
    {
     "data": {
      "text/plain": [
       "<matplotlib.collections.PathCollection at 0x2a01ea87dc0>"
      ]
     },
     "execution_count": 53,
     "metadata": {},
     "output_type": "execute_result"
    },
    {
     "data": {
      "image/png": "[encoded data removed]",
      "text/plain": [
       "<Figure size 640x480 with 1 Axes>"
      ]
     },
     "metadata": {},
     "output_type": "display_data"
    }
   ],
   "source": [
    "plt.scatter(df['word count'],df['retweets'])"
   ]
  },
  {
   "cell_type": "code",
   "execution_count": 54,
   "id": "d12aea4b",
   "metadata": {},
   "outputs": [
    {
     "data": {
      "text/plain": [
       "(array([9.037e+03, 1.000e+00]),\n",
       " array([   0., 2413., 4826.]),\n",
       " <BarContainer object of 2 artists>)"
      ]
     },
     "execution_count": 54,
     "metadata": {},
     "output_type": "execute_result"
    },
    {
     "data": {
      "image/png": "[encoded data removed]",
      "text/plain": [
       "<Figure size 640x480 with 1 Axes>"
      ]
     },
     "metadata": {},
     "output_type": "display_data"
    }
   ],
   "source": [
    "plt.hist(df['retweets'],bins=2)"
   ]
  },
  {
   "cell_type": "code",
   "execution_count": 55,
   "id": "1eb687d3",
   "metadata": {},
   "outputs": [
    {
     "data": {
      "text/plain": [
       "0      7123\n",
       "1       943\n",
       "2       294\n",
       "3       173\n",
       "4        86\n",
       "       ... \n",
       "111       1\n",
       "31        1\n",
       "59        1\n",
       "84        1\n",
       "798       1\n",
       "Name: retweets, Length: 76, dtype: int64"
      ]
     },
     "execution_count": 55,
     "metadata": {},
     "output_type": "execute_result"
    }
   ],
   "source": [
    "df['retweets'].value_counts()"
   ]
  },
  {
   "cell_type": "code",
   "execution_count": 56,
   "id": "e281c62d",
   "metadata": {},
   "outputs": [
    {
     "data": {
      "text/html": [
       "<div>\n",
       "<style scoped>\n",
       "    .dataframe tbody tr th:only-of-type {\n",
       "        vertical-align: middle;\n",
       "    }\n",
       "\n",
       "    .dataframe tbody tr th {\n",
       "        vertical-align: top;\n",
       "    }\n",
       "\n",
       "    .dataframe thead th {\n",
       "        text-align: right;\n",
       "    }\n",
       "</style>\n",
       "<table border=\"1\" class=\"dataframe\">\n",
       "  <thead>\n",
       "    <tr style=\"text-align: right;\">\n",
       "      <th>is respactable?</th>\n",
       "      <th>0</th>\n",
       "      <th>1</th>\n",
       "    </tr>\n",
       "    <tr>\n",
       "      <th>likes</th>\n",
       "      <th></th>\n",
       "      <th></th>\n",
       "    </tr>\n",
       "  </thead>\n",
       "  <tbody>\n",
       "    <tr>\n",
       "      <th>0</th>\n",
       "      <td>0.256832</td>\n",
       "      <td>0.743168</td>\n",
       "    </tr>\n",
       "    <tr>\n",
       "      <th>1</th>\n",
       "      <td>0.274733</td>\n",
       "      <td>0.725267</td>\n",
       "    </tr>\n",
       "    <tr>\n",
       "      <th>2</th>\n",
       "      <td>0.314110</td>\n",
       "      <td>0.685890</td>\n",
       "    </tr>\n",
       "    <tr>\n",
       "      <th>3</th>\n",
       "      <td>0.336842</td>\n",
       "      <td>0.663158</td>\n",
       "    </tr>\n",
       "    <tr>\n",
       "      <th>4</th>\n",
       "      <td>0.337423</td>\n",
       "      <td>0.662577</td>\n",
       "    </tr>\n",
       "    <tr>\n",
       "      <th>...</th>\n",
       "      <td>...</td>\n",
       "      <td>...</td>\n",
       "    </tr>\n",
       "    <tr>\n",
       "      <th>2789</th>\n",
       "      <td>1.000000</td>\n",
       "      <td>0.000000</td>\n",
       "    </tr>\n",
       "    <tr>\n",
       "      <th>2958</th>\n",
       "      <td>1.000000</td>\n",
       "      <td>0.000000</td>\n",
       "    </tr>\n",
       "    <tr>\n",
       "      <th>3042</th>\n",
       "      <td>0.000000</td>\n",
       "      <td>1.000000</td>\n",
       "    </tr>\n",
       "    <tr>\n",
       "      <th>4255</th>\n",
       "      <td>0.000000</td>\n",
       "      <td>1.000000</td>\n",
       "    </tr>\n",
       "    <tr>\n",
       "      <th>10007</th>\n",
       "      <td>1.000000</td>\n",
       "      <td>0.000000</td>\n",
       "    </tr>\n",
       "  </tbody>\n",
       "</table>\n",
       "<p>214 rows × 2 columns</p>\n",
       "</div>"
      ],
      "text/plain": [
       "is respactable?         0         1\n",
       "likes                              \n",
       "0                0.256832  0.743168\n",
       "1                0.274733  0.725267\n",
       "2                0.314110  0.685890\n",
       "3                0.336842  0.663158\n",
       "4                0.337423  0.662577\n",
       "...                   ...       ...\n",
       "2789             1.000000  0.000000\n",
       "2958             1.000000  0.000000\n",
       "3042             0.000000  1.000000\n",
       "4255             0.000000  1.000000\n",
       "10007            1.000000  0.000000\n",
       "\n",
       "[214 rows x 2 columns]"
      ]
     },
     "execution_count": 56,
     "metadata": {},
     "output_type": "execute_result"
    }
   ],
   "source": [
    "ct1=pd.crosstab(df['likes'],df['is respactable?'],normalize='index')\n",
    "ct1"
   ]
  },
  {
   "cell_type": "code",
   "execution_count": 57,
   "id": "415c9149",
   "metadata": {},
   "outputs": [
    {
     "data": {
      "text/plain": [
       "<AxesSubplot:xlabel='likes'>"
      ]
     },
     "execution_count": 57,
     "metadata": {},
     "output_type": "execute_result"
    },
    {
     "data": {
      "image/png": "[encoded data removed]",
      "text/plain": [
       "<Figure size 640x480 with 1 Axes>"
      ]
     },
     "metadata": {},
     "output_type": "display_data"
    }
   ],
   "source": [
    "ct1.plot(kind='bar')"
   ]
  },
  {
   "cell_type": "code",
   "execution_count": 58,
   "id": "0f2ae4e8",
   "metadata": {},
   "outputs": [
    {
     "data": {
      "text/html": [
       "<div>\n",
       "<style scoped>\n",
       "    .dataframe tbody tr th:only-of-type {\n",
       "        vertical-align: middle;\n",
       "    }\n",
       "\n",
       "    .dataframe tbody tr th {\n",
       "        vertical-align: top;\n",
       "    }\n",
       "\n",
       "    .dataframe thead th {\n",
       "        text-align: right;\n",
       "    }\n",
       "</style>\n",
       "<table border=\"1\" class=\"dataframe\">\n",
       "  <thead>\n",
       "    <tr style=\"text-align: right;\">\n",
       "      <th>is respactable?</th>\n",
       "      <th>0</th>\n",
       "      <th>1</th>\n",
       "    </tr>\n",
       "    <tr>\n",
       "      <th>verified</th>\n",
       "      <th></th>\n",
       "      <th></th>\n",
       "    </tr>\n",
       "  </thead>\n",
       "  <tbody>\n",
       "    <tr>\n",
       "      <th>False</th>\n",
       "      <td>0.313975</td>\n",
       "      <td>0.686025</td>\n",
       "    </tr>\n",
       "    <tr>\n",
       "      <th>True</th>\n",
       "      <td>0.873377</td>\n",
       "      <td>0.126623</td>\n",
       "    </tr>\n",
       "  </tbody>\n",
       "</table>\n",
       "</div>"
      ],
      "text/plain": [
       "is respactable?         0         1\n",
       "verified                           \n",
       "False            0.313975  0.686025\n",
       "True             0.873377  0.126623"
      ]
     },
     "execution_count": 58,
     "metadata": {},
     "output_type": "execute_result"
    }
   ],
   "source": [
    "ct2=pd.crosstab(df['verified'],df['is respactable?'],normalize='index')\n",
    "ct2"
   ]
  },
  {
   "cell_type": "code",
   "execution_count": 59,
   "id": "e488cf8d",
   "metadata": {},
   "outputs": [
    {
     "data": {
      "text/plain": [
       "<AxesSubplot:xlabel='verified'>"
      ]
     },
     "execution_count": 59,
     "metadata": {},
     "output_type": "execute_result"
    },
    {
     "data": {
      "image/png": "[encoded data removed]",
      "text/plain": [
       "<Figure size 640x480 with 1 Axes>"
      ]
     },
     "metadata": {},
     "output_type": "display_data"
    }
   ],
   "source": [
    "ct2.plot(kind='bar')"
   ]
  },
  {
   "cell_type": "code",
   "execution_count": 60,
   "id": "33f919bd",
   "metadata": {},
   "outputs": [
    {
     "data": {
      "text/html": [
       "<div>\n",
       "<style scoped>\n",
       "    .dataframe tbody tr th:only-of-type {\n",
       "        vertical-align: middle;\n",
       "    }\n",
       "\n",
       "    .dataframe tbody tr th {\n",
       "        vertical-align: top;\n",
       "    }\n",
       "\n",
       "    .dataframe thead th {\n",
       "        text-align: right;\n",
       "    }\n",
       "</style>\n",
       "<table border=\"1\" class=\"dataframe\">\n",
       "  <thead>\n",
       "    <tr style=\"text-align: right;\">\n",
       "      <th>is respactable?</th>\n",
       "      <th>0</th>\n",
       "      <th>1</th>\n",
       "    </tr>\n",
       "    <tr>\n",
       "      <th>country</th>\n",
       "      <th></th>\n",
       "      <th></th>\n",
       "    </tr>\n",
       "  </thead>\n",
       "  <tbody>\n",
       "    <tr>\n",
       "      <th>Australia</th>\n",
       "      <td>0.320189</td>\n",
       "      <td>0.679811</td>\n",
       "    </tr>\n",
       "    <tr>\n",
       "      <th>Canada</th>\n",
       "      <td>0.355085</td>\n",
       "      <td>0.644915</td>\n",
       "    </tr>\n",
       "    <tr>\n",
       "      <th>New Zealand</th>\n",
       "      <td>0.351020</td>\n",
       "      <td>0.648980</td>\n",
       "    </tr>\n",
       "    <tr>\n",
       "      <th>United Kingdom</th>\n",
       "      <td>0.262899</td>\n",
       "      <td>0.737101</td>\n",
       "    </tr>\n",
       "    <tr>\n",
       "      <th>United States</th>\n",
       "      <td>0.376109</td>\n",
       "      <td>0.623891</td>\n",
       "    </tr>\n",
       "  </tbody>\n",
       "</table>\n",
       "</div>"
      ],
      "text/plain": [
       "is respactable?         0         1\n",
       "country                            \n",
       "Australia        0.320189  0.679811\n",
       "Canada           0.355085  0.644915\n",
       "New Zealand      0.351020  0.648980\n",
       "United Kingdom   0.262899  0.737101\n",
       "United States    0.376109  0.623891"
      ]
     },
     "execution_count": 60,
     "metadata": {},
     "output_type": "execute_result"
    }
   ],
   "source": [
    "ct3=pd.crosstab(df['country'],df['is respactable?'],normalize='index')\n",
    "ct3"
   ]
  },
  {
   "cell_type": "code",
   "execution_count": 61,
   "id": "55584151",
   "metadata": {},
   "outputs": [
    {
     "data": {
      "text/plain": [
       "<AxesSubplot:xlabel='country'>"
      ]
     },
     "execution_count": 61,
     "metadata": {},
     "output_type": "execute_result"
    },
    {
     "data": {
      "image/png": "[encoded data removed]",
      "text/plain": [
       "<Figure size 640x480 with 1 Axes>"
      ]
     },
     "metadata": {},
     "output_type": "display_data"
    }
   ],
   "source": [
    "ct3.plot(kind='bar')"
   ]
  },
  {
   "cell_type": "code",
   "execution_count": 62,
   "id": "d89e14e6",
   "metadata": {},
   "outputs": [
    {
     "data": {
      "text/plain": [
       "(115.33931469474054,\n",
       " 0.9999999943674331,\n",
       " 213,\n",
       " array([[0.75372897, 0.24627103],\n",
       "        [0.75372897, 0.24627103],\n",
       "        [0.75372897, 0.24627103],\n",
       "        [0.75372897, 0.24627103],\n",
       "        [0.75372897, 0.24627103],\n",
       "        [0.75372897, 0.24627103],\n",
       "        [0.75372897, 0.24627103],\n",
       "        [0.75372897, 0.24627103],\n",
       "        [0.75372897, 0.24627103],\n",
       "        [0.75372897, 0.24627103],\n",
       "        [0.75372897, 0.24627103],\n",
       "        [0.75372897, 0.24627103],\n",
       "        [0.75372897, 0.24627103],\n",
       "        [0.75372897, 0.24627103],\n",
       "        [0.75372897, 0.24627103],\n",
       "        [0.75372897, 0.24627103],\n",
       "        [0.75372897, 0.24627103],\n",
       "        [0.75372897, 0.24627103],\n",
       "        [0.75372897, 0.24627103],\n",
       "        [0.75372897, 0.24627103],\n",
       "        [0.75372897, 0.24627103],\n",
       "        [0.75372897, 0.24627103],\n",
       "        [0.75372897, 0.24627103],\n",
       "        [0.75372897, 0.24627103],\n",
       "        [0.75372897, 0.24627103],\n",
       "        [0.75372897, 0.24627103],\n",
       "        [0.75372897, 0.24627103],\n",
       "        [0.75372897, 0.24627103],\n",
       "        [0.75372897, 0.24627103],\n",
       "        [0.75372897, 0.24627103],\n",
       "        [0.75372897, 0.24627103],\n",
       "        [0.75372897, 0.24627103],\n",
       "        [0.75372897, 0.24627103],\n",
       "        [0.75372897, 0.24627103],\n",
       "        [0.75372897, 0.24627103],\n",
       "        [0.75372897, 0.24627103],\n",
       "        [0.75372897, 0.24627103],\n",
       "        [0.75372897, 0.24627103],\n",
       "        [0.75372897, 0.24627103],\n",
       "        [0.75372897, 0.24627103],\n",
       "        [0.75372897, 0.24627103],\n",
       "        [0.75372897, 0.24627103],\n",
       "        [0.75372897, 0.24627103],\n",
       "        [0.75372897, 0.24627103],\n",
       "        [0.75372897, 0.24627103],\n",
       "        [0.75372897, 0.24627103],\n",
       "        [0.75372897, 0.24627103],\n",
       "        [0.75372897, 0.24627103],\n",
       "        [0.75372897, 0.24627103],\n",
       "        [0.75372897, 0.24627103],\n",
       "        [0.75372897, 0.24627103],\n",
       "        [0.75372897, 0.24627103],\n",
       "        [0.75372897, 0.24627103],\n",
       "        [0.75372897, 0.24627103],\n",
       "        [0.75372897, 0.24627103],\n",
       "        [0.75372897, 0.24627103],\n",
       "        [0.75372897, 0.24627103],\n",
       "        [0.75372897, 0.24627103],\n",
       "        [0.75372897, 0.24627103],\n",
       "        [0.75372897, 0.24627103],\n",
       "        [0.75372897, 0.24627103],\n",
       "        [0.75372897, 0.24627103],\n",
       "        [0.75372897, 0.24627103],\n",
       "        [0.75372897, 0.24627103],\n",
       "        [0.75372897, 0.24627103],\n",
       "        [0.75372897, 0.24627103],\n",
       "        [0.75372897, 0.24627103],\n",
       "        [0.75372897, 0.24627103],\n",
       "        [0.75372897, 0.24627103],\n",
       "        [0.75372897, 0.24627103],\n",
       "        [0.75372897, 0.24627103],\n",
       "        [0.75372897, 0.24627103],\n",
       "        [0.75372897, 0.24627103],\n",
       "        [0.75372897, 0.24627103],\n",
       "        [0.75372897, 0.24627103],\n",
       "        [0.75372897, 0.24627103],\n",
       "        [0.75372897, 0.24627103],\n",
       "        [0.75372897, 0.24627103],\n",
       "        [0.75372897, 0.24627103],\n",
       "        [0.75372897, 0.24627103],\n",
       "        [0.75372897, 0.24627103],\n",
       "        [0.75372897, 0.24627103],\n",
       "        [0.75372897, 0.24627103],\n",
       "        [0.75372897, 0.24627103],\n",
       "        [0.75372897, 0.24627103],\n",
       "        [0.75372897, 0.24627103],\n",
       "        [0.75372897, 0.24627103],\n",
       "        [0.75372897, 0.24627103],\n",
       "        [0.75372897, 0.24627103],\n",
       "        [0.75372897, 0.24627103],\n",
       "        [0.75372897, 0.24627103],\n",
       "        [0.75372897, 0.24627103],\n",
       "        [0.75372897, 0.24627103],\n",
       "        [0.75372897, 0.24627103],\n",
       "        [0.75372897, 0.24627103],\n",
       "        [0.75372897, 0.24627103],\n",
       "        [0.75372897, 0.24627103],\n",
       "        [0.75372897, 0.24627103],\n",
       "        [0.75372897, 0.24627103],\n",
       "        [0.75372897, 0.24627103],\n",
       "        [0.75372897, 0.24627103],\n",
       "        [0.75372897, 0.24627103],\n",
       "        [0.75372897, 0.24627103],\n",
       "        [0.75372897, 0.24627103],\n",
       "        [0.75372897, 0.24627103],\n",
       "        [0.75372897, 0.24627103],\n",
       "        [0.75372897, 0.24627103],\n",
       "        [0.75372897, 0.24627103],\n",
       "        [0.75372897, 0.24627103],\n",
       "        [0.75372897, 0.24627103],\n",
       "        [0.75372897, 0.24627103],\n",
       "        [0.75372897, 0.24627103],\n",
       "        [0.75372897, 0.24627103],\n",
       "        [0.75372897, 0.24627103],\n",
       "        [0.75372897, 0.24627103],\n",
       "        [0.75372897, 0.24627103],\n",
       "        [0.75372897, 0.24627103],\n",
       "        [0.75372897, 0.24627103],\n",
       "        [0.75372897, 0.24627103],\n",
       "        [0.75372897, 0.24627103],\n",
       "        [0.75372897, 0.24627103],\n",
       "        [0.75372897, 0.24627103],\n",
       "        [0.75372897, 0.24627103],\n",
       "        [0.75372897, 0.24627103],\n",
       "        [0.75372897, 0.24627103],\n",
       "        [0.75372897, 0.24627103],\n",
       "        [0.75372897, 0.24627103],\n",
       "        [0.75372897, 0.24627103],\n",
       "        [0.75372897, 0.24627103],\n",
       "        [0.75372897, 0.24627103],\n",
       "        [0.75372897, 0.24627103],\n",
       "        [0.75372897, 0.24627103],\n",
       "        [0.75372897, 0.24627103],\n",
       "        [0.75372897, 0.24627103],\n",
       "        [0.75372897, 0.24627103],\n",
       "        [0.75372897, 0.24627103],\n",
       "        [0.75372897, 0.24627103],\n",
       "        [0.75372897, 0.24627103],\n",
       "        [0.75372897, 0.24627103],\n",
       "        [0.75372897, 0.24627103],\n",
       "        [0.75372897, 0.24627103],\n",
       "        [0.75372897, 0.24627103],\n",
       "        [0.75372897, 0.24627103],\n",
       "        [0.75372897, 0.24627103],\n",
       "        [0.75372897, 0.24627103],\n",
       "        [0.75372897, 0.24627103],\n",
       "        [0.75372897, 0.24627103],\n",
       "        [0.75372897, 0.24627103],\n",
       "        [0.75372897, 0.24627103],\n",
       "        [0.75372897, 0.24627103],\n",
       "        [0.75372897, 0.24627103],\n",
       "        [0.75372897, 0.24627103],\n",
       "        [0.75372897, 0.24627103],\n",
       "        [0.75372897, 0.24627103],\n",
       "        [0.75372897, 0.24627103],\n",
       "        [0.75372897, 0.24627103],\n",
       "        [0.75372897, 0.24627103],\n",
       "        [0.75372897, 0.24627103],\n",
       "        [0.75372897, 0.24627103],\n",
       "        [0.75372897, 0.24627103],\n",
       "        [0.75372897, 0.24627103],\n",
       "        [0.75372897, 0.24627103],\n",
       "        [0.75372897, 0.24627103],\n",
       "        [0.75372897, 0.24627103],\n",
       "        [0.75372897, 0.24627103],\n",
       "        [0.75372897, 0.24627103],\n",
       "        [0.75372897, 0.24627103],\n",
       "        [0.75372897, 0.24627103],\n",
       "        [0.75372897, 0.24627103],\n",
       "        [0.75372897, 0.24627103],\n",
       "        [0.75372897, 0.24627103],\n",
       "        [0.75372897, 0.24627103],\n",
       "        [0.75372897, 0.24627103],\n",
       "        [0.75372897, 0.24627103],\n",
       "        [0.75372897, 0.24627103],\n",
       "        [0.75372897, 0.24627103],\n",
       "        [0.75372897, 0.24627103],\n",
       "        [0.75372897, 0.24627103],\n",
       "        [0.75372897, 0.24627103],\n",
       "        [0.75372897, 0.24627103],\n",
       "        [0.75372897, 0.24627103],\n",
       "        [0.75372897, 0.24627103],\n",
       "        [0.75372897, 0.24627103],\n",
       "        [0.75372897, 0.24627103],\n",
       "        [0.75372897, 0.24627103],\n",
       "        [0.75372897, 0.24627103],\n",
       "        [0.75372897, 0.24627103],\n",
       "        [0.75372897, 0.24627103],\n",
       "        [0.75372897, 0.24627103],\n",
       "        [0.75372897, 0.24627103],\n",
       "        [0.75372897, 0.24627103],\n",
       "        [0.75372897, 0.24627103],\n",
       "        [0.75372897, 0.24627103],\n",
       "        [0.75372897, 0.24627103],\n",
       "        [0.75372897, 0.24627103],\n",
       "        [0.75372897, 0.24627103],\n",
       "        [0.75372897, 0.24627103],\n",
       "        [0.75372897, 0.24627103],\n",
       "        [0.75372897, 0.24627103],\n",
       "        [0.75372897, 0.24627103],\n",
       "        [0.75372897, 0.24627103],\n",
       "        [0.75372897, 0.24627103],\n",
       "        [0.75372897, 0.24627103],\n",
       "        [0.75372897, 0.24627103],\n",
       "        [0.75372897, 0.24627103],\n",
       "        [0.75372897, 0.24627103],\n",
       "        [0.75372897, 0.24627103],\n",
       "        [0.75372897, 0.24627103],\n",
       "        [0.75372897, 0.24627103],\n",
       "        [0.75372897, 0.24627103],\n",
       "        [0.75372897, 0.24627103],\n",
       "        [0.75372897, 0.24627103],\n",
       "        [0.75372897, 0.24627103],\n",
       "        [0.75372897, 0.24627103]]))"
      ]
     },
     "execution_count": 62,
     "metadata": {},
     "output_type": "execute_result"
    }
   ],
   "source": [
    "chi2_contingency(ct1)#לייקים ליחס עוקבים"
   ]
  },
  {
   "cell_type": "code",
   "execution_count": 63,
   "id": "fa6fcc5c",
   "metadata": {},
   "outputs": [
    {
     "data": {
      "text/plain": [
       "(0.0,\n",
       " 1.0,\n",
       " 1,\n",
       " array([[0.59367571, 0.40632429],\n",
       "        [0.59367571, 0.40632429]]))"
      ]
     },
     "execution_count": 63,
     "metadata": {},
     "output_type": "execute_result"
    }
   ],
   "source": [
    "chi2_contingency(ct2)#מאומת ויחס עוקבים"
   ]
  },
  {
   "cell_type": "code",
   "execution_count": 64,
   "id": "7e072d6f",
   "metadata": {},
   "outputs": [
    {
     "data": {
      "text/plain": [
       "(0.034885108954866566,\n",
       " 0.9998496360531497,\n",
       " 4,\n",
       " array([[0.3330606, 0.6669394],\n",
       "        [0.3330606, 0.6669394],\n",
       "        [0.3330606, 0.6669394],\n",
       "        [0.3330606, 0.6669394],\n",
       "        [0.3330606, 0.6669394]]))"
      ]
     },
     "execution_count": 64,
     "metadata": {},
     "output_type": "execute_result"
    }
   ],
   "source": [
    "chi2_contingency(ct3)#אין קשר בין מדינה לאם יחס העוקבים שלך טוב או לא "
   ]
  },
  {
   "cell_type": "code",
   "execution_count": 65,
   "id": "a5db6411",
   "metadata": {},
   "outputs": [
    {
     "data": {
      "text/plain": [
       "(338.1355113216557,\n",
       " 0.06396101755668873,\n",
       " 300,\n",
       " array([[9.99332153e+02, 1.32299624e+02, 4.12471786e+01, 2.42712990e+01,\n",
       "         1.20655012e+01, 1.10834255e+01, 7.01482629e+00, 5.75215756e+00,\n",
       "         6.03275061e+00, 3.08652357e+00, 1.96415136e+00, 2.80593052e+00,\n",
       "         1.82385484e+00, 8.41779155e-01, 1.40296526e+00, 1.40296526e+00,\n",
       "         9.82075680e-01, 2.80593052e-01, 8.41779155e-01, 1.12237221e+00,\n",
       "         7.01482629e-01, 7.01482629e-01, 8.41779155e-01, 2.80593052e-01,\n",
       "         1.40296526e-01, 1.40296526e-01, 4.20889577e-01, 4.20889577e-01,\n",
       "         1.40296526e-01, 2.80593052e-01, 2.80593052e-01, 2.80593052e-01,\n",
       "         1.40296526e-01, 5.61186103e-01, 2.80593052e-01, 2.80593052e-01,\n",
       "         1.40296526e-01, 2.80593052e-01, 1.40296526e-01, 1.40296526e-01,\n",
       "         4.20889577e-01, 2.80593052e-01, 1.40296526e-01, 1.40296526e-01,\n",
       "         1.40296526e-01, 1.40296526e-01, 1.40296526e-01, 1.40296526e-01,\n",
       "         1.40296526e-01, 1.40296526e-01, 2.80593052e-01, 1.40296526e-01,\n",
       "         1.40296526e-01, 1.40296526e-01, 1.40296526e-01, 2.80593052e-01,\n",
       "         1.40296526e-01, 1.40296526e-01, 1.40296526e-01, 1.40296526e-01,\n",
       "         1.40296526e-01, 1.40296526e-01, 1.40296526e-01, 1.40296526e-01,\n",
       "         1.40296526e-01, 1.40296526e-01, 1.40296526e-01, 1.40296526e-01,\n",
       "         1.40296526e-01, 1.40296526e-01, 1.40296526e-01, 1.40296526e-01,\n",
       "         1.40296526e-01, 1.40296526e-01, 1.40296526e-01, 1.40296526e-01],\n",
       "        [1.34058674e+03, 1.77477650e+02, 5.53323744e+01, 3.25595264e+01,\n",
       "         1.61856605e+01, 1.48682231e+01, 9.41026776e+00, 7.71641956e+00,\n",
       "         8.09283027e+00, 4.14051781e+00, 2.63487497e+00, 3.76410710e+00,\n",
       "         2.44666962e+00, 1.12923213e+00, 1.88205355e+00, 1.88205355e+00,\n",
       "         1.31743749e+00, 3.76410710e-01, 1.12923213e+00, 1.50564284e+00,\n",
       "         9.41026776e-01, 9.41026776e-01, 1.12923213e+00, 3.76410710e-01,\n",
       "         1.88205355e-01, 1.88205355e-01, 5.64616066e-01, 5.64616066e-01,\n",
       "         1.88205355e-01, 3.76410710e-01, 3.76410710e-01, 3.76410710e-01,\n",
       "         1.88205355e-01, 7.52821421e-01, 3.76410710e-01, 3.76410710e-01,\n",
       "         1.88205355e-01, 3.76410710e-01, 1.88205355e-01, 1.88205355e-01,\n",
       "         5.64616066e-01, 3.76410710e-01, 1.88205355e-01, 1.88205355e-01,\n",
       "         1.88205355e-01, 1.88205355e-01, 1.88205355e-01, 1.88205355e-01,\n",
       "         1.88205355e-01, 1.88205355e-01, 3.76410710e-01, 1.88205355e-01,\n",
       "         1.88205355e-01, 1.88205355e-01, 1.88205355e-01, 3.76410710e-01,\n",
       "         1.88205355e-01, 1.88205355e-01, 1.88205355e-01, 1.88205355e-01,\n",
       "         1.88205355e-01, 1.88205355e-01, 1.88205355e-01, 1.88205355e-01,\n",
       "         1.88205355e-01, 1.88205355e-01, 1.88205355e-01, 1.88205355e-01,\n",
       "         1.88205355e-01, 1.88205355e-01, 1.88205355e-01, 1.88205355e-01,\n",
       "         1.88205355e-01, 1.88205355e-01, 1.88205355e-01, 1.88205355e-01],\n",
       "        [1.93088626e+02, 2.55626245e+01, 7.96968356e+00, 4.68964373e+00,\n",
       "         2.33126798e+00, 2.14151361e+00, 1.35538836e+00, 1.11141846e+00,\n",
       "         1.16563399e+00, 5.96370879e-01, 3.79508741e-01, 5.42155344e-01,\n",
       "         3.52400974e-01, 1.62646603e-01, 2.71077672e-01, 2.71077672e-01,\n",
       "         1.89754370e-01, 5.42155344e-02, 1.62646603e-01, 2.16862138e-01,\n",
       "         1.35538836e-01, 1.35538836e-01, 1.62646603e-01, 5.42155344e-02,\n",
       "         2.71077672e-02, 2.71077672e-02, 8.13233016e-02, 8.13233016e-02,\n",
       "         2.71077672e-02, 5.42155344e-02, 5.42155344e-02, 5.42155344e-02,\n",
       "         2.71077672e-02, 1.08431069e-01, 5.42155344e-02, 5.42155344e-02,\n",
       "         2.71077672e-02, 5.42155344e-02, 2.71077672e-02, 2.71077672e-02,\n",
       "         8.13233016e-02, 5.42155344e-02, 2.71077672e-02, 2.71077672e-02,\n",
       "         2.71077672e-02, 2.71077672e-02, 2.71077672e-02, 2.71077672e-02,\n",
       "         2.71077672e-02, 2.71077672e-02, 5.42155344e-02, 2.71077672e-02,\n",
       "         2.71077672e-02, 2.71077672e-02, 2.71077672e-02, 5.42155344e-02,\n",
       "         2.71077672e-02, 2.71077672e-02, 2.71077672e-02, 2.71077672e-02,\n",
       "         2.71077672e-02, 2.71077672e-02, 2.71077672e-02, 2.71077672e-02,\n",
       "         2.71077672e-02, 2.71077672e-02, 2.71077672e-02, 2.71077672e-02,\n",
       "         2.71077672e-02, 2.71077672e-02, 2.71077672e-02, 2.71077672e-02,\n",
       "         2.71077672e-02, 2.71077672e-02, 2.71077672e-02, 2.71077672e-02],\n",
       "        [1.92458132e+03, 2.54791547e+02, 7.94366010e+01, 4.67433060e+01,\n",
       "         2.32365568e+01, 2.13452091e+01, 1.35096260e+01, 1.10778933e+01,\n",
       "         1.16182784e+01, 5.94423545e+00, 3.78269529e+00, 5.40385041e+00,\n",
       "         3.51250277e+00, 1.62115512e+00, 2.70192520e+00, 2.70192520e+00,\n",
       "         1.89134764e+00, 5.40385041e-01, 1.62115512e+00, 2.16154016e+00,\n",
       "         1.35096260e+00, 1.35096260e+00, 1.62115512e+00, 5.40385041e-01,\n",
       "         2.70192520e-01, 2.70192520e-01, 8.10577561e-01, 8.10577561e-01,\n",
       "         2.70192520e-01, 5.40385041e-01, 5.40385041e-01, 5.40385041e-01,\n",
       "         2.70192520e-01, 1.08077008e+00, 5.40385041e-01, 5.40385041e-01,\n",
       "         2.70192520e-01, 5.40385041e-01, 2.70192520e-01, 2.70192520e-01,\n",
       "         8.10577561e-01, 5.40385041e-01, 2.70192520e-01, 2.70192520e-01,\n",
       "         2.70192520e-01, 2.70192520e-01, 2.70192520e-01, 2.70192520e-01,\n",
       "         2.70192520e-01, 2.70192520e-01, 5.40385041e-01, 2.70192520e-01,\n",
       "         2.70192520e-01, 2.70192520e-01, 2.70192520e-01, 5.40385041e-01,\n",
       "         2.70192520e-01, 2.70192520e-01, 2.70192520e-01, 2.70192520e-01,\n",
       "         2.70192520e-01, 2.70192520e-01, 2.70192520e-01, 2.70192520e-01,\n",
       "         2.70192520e-01, 2.70192520e-01, 2.70192520e-01, 2.70192520e-01,\n",
       "         2.70192520e-01, 2.70192520e-01, 2.70192520e-01, 2.70192520e-01,\n",
       "         2.70192520e-01, 2.70192520e-01, 2.70192520e-01, 2.70192520e-01],\n",
       "        [2.66541115e+03, 3.52868555e+02, 1.10014162e+02, 6.47362248e+01,\n",
       "         3.21810135e+01, 2.95616287e+01, 1.87098916e+01, 1.53421111e+01,\n",
       "         1.60905067e+01, 8.23235229e+00, 5.23876964e+00, 7.48395663e+00,\n",
       "         4.86457181e+00, 2.24518699e+00, 3.74197831e+00, 3.74197831e+00,\n",
       "         2.61938482e+00, 7.48395663e-01, 2.24518699e+00, 2.99358265e+00,\n",
       "         1.87098916e+00, 1.87098916e+00, 2.24518699e+00, 7.48395663e-01,\n",
       "         3.74197831e-01, 3.74197831e-01, 1.12259349e+00, 1.12259349e+00,\n",
       "         3.74197831e-01, 7.48395663e-01, 7.48395663e-01, 7.48395663e-01,\n",
       "         3.74197831e-01, 1.49679133e+00, 7.48395663e-01, 7.48395663e-01,\n",
       "         3.74197831e-01, 7.48395663e-01, 3.74197831e-01, 3.74197831e-01,\n",
       "         1.12259349e+00, 7.48395663e-01, 3.74197831e-01, 3.74197831e-01,\n",
       "         3.74197831e-01, 3.74197831e-01, 3.74197831e-01, 3.74197831e-01,\n",
       "         3.74197831e-01, 3.74197831e-01, 7.48395663e-01, 3.74197831e-01,\n",
       "         3.74197831e-01, 3.74197831e-01, 3.74197831e-01, 7.48395663e-01,\n",
       "         3.74197831e-01, 3.74197831e-01, 3.74197831e-01, 3.74197831e-01,\n",
       "         3.74197831e-01, 3.74197831e-01, 3.74197831e-01, 3.74197831e-01,\n",
       "         3.74197831e-01, 3.74197831e-01, 3.74197831e-01, 3.74197831e-01,\n",
       "         3.74197831e-01, 3.74197831e-01, 3.74197831e-01, 3.74197831e-01,\n",
       "         3.74197831e-01, 3.74197831e-01, 3.74197831e-01, 3.74197831e-01]]))"
      ]
     },
     "execution_count": 65,
     "metadata": {},
     "output_type": "execute_result"
    }
   ],
   "source": [
    "countryvsre=pd.crosstab(df['country'],df['retweets'])\n",
    "chi2_contingency(countryvsre)\n"
   ]
  },
  {
   "cell_type": "code",
   "execution_count": 66,
   "id": "42b6cdab",
   "metadata": {},
   "outputs": [
    {
     "data": {
      "text/plain": [
       "(6508.148116034979,\n",
       " 3.943883990146986e-84,\n",
       " 4425,\n",
       " array([[1.82054990e+02, 2.41019031e+01, 7.51427307e+00, ...,\n",
       "         2.55587519e-02, 2.55587519e-02, 2.55587519e-02],\n",
       "        [3.08153684e+02, 4.07958619e+01, 1.27189644e+01, ...,\n",
       "         4.32617836e-02, 4.32617836e-02, 4.32617836e-02],\n",
       "        [2.18308365e+02, 2.89014162e+01, 9.01062182e+00, ...,\n",
       "         3.06483735e-02, 3.06483735e-02, 3.06483735e-02],\n",
       "        ...,\n",
       "        [2.36435052e+00, 3.13011728e-01, 9.75879619e-02, ...,\n",
       "         3.31931843e-04, 3.31931843e-04, 3.31931843e-04],\n",
       "        [2.36435052e+00, 3.13011728e-01, 9.75879619e-02, ...,\n",
       "         3.31931843e-04, 3.31931843e-04, 3.31931843e-04],\n",
       "        [7.88116840e-01, 1.04337243e-01, 3.25293206e-02, ...,\n",
       "         1.10643948e-04, 1.10643948e-04, 1.10643948e-04]]))"
      ]
     },
     "execution_count": 66,
     "metadata": {},
     "output_type": "execute_result"
    }
   ],
   "source": [
    "wordcountvsre=pd.crosstab(df['word count'],df['retweets'])\n",
    "chi2_contingency(wordcountvsre)"
   ]
  },
  {
   "cell_type": "code",
   "execution_count": 67,
   "id": "a893b8f6",
   "metadata": {},
   "outputs": [
    {
     "data": {
      "text/plain": [
       "<matplotlib.collections.PathCollection at 0x2a014032760>"
      ]
     },
     "execution_count": 67,
     "metadata": {},
     "output_type": "execute_result"
    },
    {
     "data": {
      "image/png": "[encoded data removed]",
      "text/plain": [
       "<Figure size 640x480 with 1 Axes>"
      ]
     },
     "metadata": {},
     "output_type": "display_data"
    }
   ],
   "source": [
    "plt.scatter(df['respectability'],df['retweets'])"
   ]
  },
  {
   "cell_type": "code",
   "execution_count": 68,
   "id": "3cc14ac8",
   "metadata": {},
   "outputs": [
    {
     "data": {
      "text/plain": [
       "(632981.5585137086,\n",
       " 5.647789962041319e-153,\n",
       " 603600,\n",
       " array([[4.57107767e+01, 6.05156008e+00, 1.88670060e+00, ...,\n",
       "         6.41734897e-03, 6.41734897e-03, 6.41734897e-03],\n",
       "        [1.57623368e+00, 2.08674486e-01, 6.50586413e-02, ...,\n",
       "         2.21287896e-04, 2.21287896e-04, 2.21287896e-04],\n",
       "        [7.88116840e-01, 1.04337243e-01, 3.25293206e-02, ...,\n",
       "         1.10643948e-04, 1.10643948e-04, 1.10643948e-04],\n",
       "        ...,\n",
       "        [7.88116840e-01, 1.04337243e-01, 3.25293206e-02, ...,\n",
       "         1.10643948e-04, 1.10643948e-04, 1.10643948e-04],\n",
       "        [7.88116840e-01, 1.04337243e-01, 3.25293206e-02, ...,\n",
       "         1.10643948e-04, 1.10643948e-04, 1.10643948e-04],\n",
       "        [7.88116840e-01, 1.04337243e-01, 3.25293206e-02, ...,\n",
       "         1.10643948e-04, 1.10643948e-04, 1.10643948e-04]]))"
      ]
     },
     "execution_count": 68,
     "metadata": {},
     "output_type": "execute_result"
    }
   ],
   "source": [
    "resvsre=pd.crosstab(df['respectability'],df['retweets'])\n",
    "chi2_contingency(resvsre)"
   ]
  },
  {
   "cell_type": "code",
   "execution_count": 69,
   "id": "a8e07d77",
   "metadata": {},
   "outputs": [
    {
     "data": {
      "text/plain": [
       "(681.3235259470166,\n",
       " 1.5071612910352743e-98,\n",
       " 75,\n",
       " array([[6.88026001e+03, 9.10864129e+02, 2.83980969e+02, 1.67104448e+02,\n",
       "         8.30692631e+01, 7.63078115e+01, 4.82960832e+01, 3.96027882e+01,\n",
       "         4.15346316e+01, 2.12502766e+01, 1.35229033e+01, 1.93184333e+01,\n",
       "         1.25569816e+01, 5.79552998e+00, 9.65921664e+00, 9.65921664e+00,\n",
       "         6.76145165e+00, 1.93184333e+00, 5.79552998e+00, 7.72737331e+00,\n",
       "         4.82960832e+00, 4.82960832e+00, 5.79552998e+00, 1.93184333e+00,\n",
       "         9.65921664e-01, 9.65921664e-01, 2.89776499e+00, 2.89776499e+00,\n",
       "         9.65921664e-01, 1.93184333e+00, 1.93184333e+00, 1.93184333e+00,\n",
       "         9.65921664e-01, 3.86368666e+00, 1.93184333e+00, 1.93184333e+00,\n",
       "         9.65921664e-01, 1.93184333e+00, 9.65921664e-01, 9.65921664e-01,\n",
       "         2.89776499e+00, 1.93184333e+00, 9.65921664e-01, 9.65921664e-01,\n",
       "         9.65921664e-01, 9.65921664e-01, 9.65921664e-01, 9.65921664e-01,\n",
       "         9.65921664e-01, 9.65921664e-01, 1.93184333e+00, 9.65921664e-01,\n",
       "         9.65921664e-01, 9.65921664e-01, 9.65921664e-01, 1.93184333e+00,\n",
       "         9.65921664e-01, 9.65921664e-01, 9.65921664e-01, 9.65921664e-01,\n",
       "         9.65921664e-01, 9.65921664e-01, 9.65921664e-01, 9.65921664e-01,\n",
       "         9.65921664e-01, 9.65921664e-01, 9.65921664e-01, 9.65921664e-01,\n",
       "         9.65921664e-01, 9.65921664e-01, 9.65921664e-01, 9.65921664e-01,\n",
       "         9.65921664e-01, 9.65921664e-01, 9.65921664e-01, 9.65921664e-01],\n",
       "        [2.42739987e+02, 3.21358708e+01, 1.00190308e+01, 5.89555211e+00,\n",
       "         2.93073689e+00, 2.69218854e+00, 1.70391680e+00, 1.39721177e+00,\n",
       "         1.46536844e+00, 7.49723390e-01, 4.77096703e-01, 6.81566718e-01,\n",
       "         4.43018367e-01, 2.04470015e-01, 3.40783359e-01, 3.40783359e-01,\n",
       "         2.38548351e-01, 6.81566718e-02, 2.04470015e-01, 2.72626687e-01,\n",
       "         1.70391680e-01, 1.70391680e-01, 2.04470015e-01, 6.81566718e-02,\n",
       "         3.40783359e-02, 3.40783359e-02, 1.02235008e-01, 1.02235008e-01,\n",
       "         3.40783359e-02, 6.81566718e-02, 6.81566718e-02, 6.81566718e-02,\n",
       "         3.40783359e-02, 1.36313344e-01, 6.81566718e-02, 6.81566718e-02,\n",
       "         3.40783359e-02, 6.81566718e-02, 3.40783359e-02, 3.40783359e-02,\n",
       "         1.02235008e-01, 6.81566718e-02, 3.40783359e-02, 3.40783359e-02,\n",
       "         3.40783359e-02, 3.40783359e-02, 3.40783359e-02, 3.40783359e-02,\n",
       "         3.40783359e-02, 3.40783359e-02, 6.81566718e-02, 3.40783359e-02,\n",
       "         3.40783359e-02, 3.40783359e-02, 3.40783359e-02, 6.81566718e-02,\n",
       "         3.40783359e-02, 3.40783359e-02, 3.40783359e-02, 3.40783359e-02,\n",
       "         3.40783359e-02, 3.40783359e-02, 3.40783359e-02, 3.40783359e-02,\n",
       "         3.40783359e-02, 3.40783359e-02, 3.40783359e-02, 3.40783359e-02,\n",
       "         3.40783359e-02, 3.40783359e-02, 3.40783359e-02, 3.40783359e-02,\n",
       "         3.40783359e-02, 3.40783359e-02, 3.40783359e-02, 3.40783359e-02]]))"
      ]
     },
     "execution_count": 69,
     "metadata": {},
     "output_type": "execute_result"
    }
   ],
   "source": [
    "verifiedvsre=pd.crosstab(df['verified'],df['retweets'])\n",
    "chi2_contingency(verifiedvsre)"
   ]
  },
  {
   "cell_type": "code",
   "execution_count": 70,
   "id": "85611fec",
   "metadata": {},
   "outputs": [
    {
     "data": {
      "text/plain": [
       "(196157.04168865125,\n",
       " 0.0,\n",
       " 4425,\n",
       " array([[5.30323822e+03, 7.02085306e+02, 2.18889799e+02, ...,\n",
       "         7.44523125e-01, 7.44523125e-01, 7.44523125e-01],\n",
       "        [1.02612813e+03, 1.35847090e+02, 4.23531755e+01, ...,\n",
       "         1.44058420e-01, 1.44058420e-01, 1.44058420e-01],\n",
       "        [3.18399203e+02, 4.21522461e+01, 1.31418455e+01, ...,\n",
       "         4.47001549e-02, 4.47001549e-02, 4.47001549e-02],\n",
       "        ...,\n",
       "        [7.88116840e-01, 1.04337243e-01, 3.25293206e-02, ...,\n",
       "         1.10643948e-04, 1.10643948e-04, 1.10643948e-04],\n",
       "        [7.88116840e-01, 1.04337243e-01, 3.25293206e-02, ...,\n",
       "         1.10643948e-04, 1.10643948e-04, 1.10643948e-04],\n",
       "        [7.88116840e-01, 1.04337243e-01, 3.25293206e-02, ...,\n",
       "         1.10643948e-04, 1.10643948e-04, 1.10643948e-04]]))"
      ]
     },
     "execution_count": 70,
     "metadata": {},
     "output_type": "execute_result"
    }
   ],
   "source": [
    "comvsre=pd.crosstab(df['comments'],df['retweets'])\n",
    "chi2_contingency(comvsre)"
   ]
  },
  {
   "cell_type": "code",
   "execution_count": 71,
   "id": "729cee2c",
   "metadata": {},
   "outputs": [
    {
     "data": {
      "text/plain": [
       "(73.06265910494591,\n",
       " 0.5418044643762265,\n",
       " 75,\n",
       " array([[5.20945231e+03, 6.89669175e+02, 2.15018809e+02, 1.26524674e+02,\n",
       "         6.28966586e+01, 5.77771631e+01, 3.65678247e+01, 2.99856163e+01,\n",
       "         3.14483293e+01, 1.60898429e+01, 1.02389909e+01, 1.46271299e+01,\n",
       "         9.50763443e+00, 4.38813897e+00, 7.31356495e+00, 7.31356495e+00,\n",
       "         5.11949546e+00, 1.46271299e+00, 4.38813897e+00, 5.85085196e+00,\n",
       "         3.65678247e+00, 3.65678247e+00, 4.38813897e+00, 1.46271299e+00,\n",
       "         7.31356495e-01, 7.31356495e-01, 2.19406948e+00, 2.19406948e+00,\n",
       "         7.31356495e-01, 1.46271299e+00, 1.46271299e+00, 1.46271299e+00,\n",
       "         7.31356495e-01, 2.92542598e+00, 1.46271299e+00, 1.46271299e+00,\n",
       "         7.31356495e-01, 1.46271299e+00, 7.31356495e-01, 7.31356495e-01,\n",
       "         2.19406948e+00, 1.46271299e+00, 7.31356495e-01, 7.31356495e-01,\n",
       "         7.31356495e-01, 7.31356495e-01, 7.31356495e-01, 7.31356495e-01,\n",
       "         7.31356495e-01, 7.31356495e-01, 1.46271299e+00, 7.31356495e-01,\n",
       "         7.31356495e-01, 7.31356495e-01, 7.31356495e-01, 1.46271299e+00,\n",
       "         7.31356495e-01, 7.31356495e-01, 7.31356495e-01, 7.31356495e-01,\n",
       "         7.31356495e-01, 7.31356495e-01, 7.31356495e-01, 7.31356495e-01,\n",
       "         7.31356495e-01, 7.31356495e-01, 7.31356495e-01, 7.31356495e-01,\n",
       "         7.31356495e-01, 7.31356495e-01, 7.31356495e-01, 7.31356495e-01,\n",
       "         7.31356495e-01, 7.31356495e-01, 7.31356495e-01, 7.31356495e-01],\n",
       "        [1.91354769e+03, 2.53330825e+02, 7.89811905e+01, 4.64753264e+01,\n",
       "         2.31033414e+01, 2.12228369e+01, 1.34321753e+01, 1.10143837e+01,\n",
       "         1.15516707e+01, 5.91015711e+00, 3.76100907e+00, 5.37287010e+00,\n",
       "         3.49236557e+00, 1.61186103e+00, 2.68643505e+00, 2.68643505e+00,\n",
       "         1.88050454e+00, 5.37287010e-01, 1.61186103e+00, 2.14914804e+00,\n",
       "         1.34321753e+00, 1.34321753e+00, 1.61186103e+00, 5.37287010e-01,\n",
       "         2.68643505e-01, 2.68643505e-01, 8.05930516e-01, 8.05930516e-01,\n",
       "         2.68643505e-01, 5.37287010e-01, 5.37287010e-01, 5.37287010e-01,\n",
       "         2.68643505e-01, 1.07457402e+00, 5.37287010e-01, 5.37287010e-01,\n",
       "         2.68643505e-01, 5.37287010e-01, 2.68643505e-01, 2.68643505e-01,\n",
       "         8.05930516e-01, 5.37287010e-01, 2.68643505e-01, 2.68643505e-01,\n",
       "         2.68643505e-01, 2.68643505e-01, 2.68643505e-01, 2.68643505e-01,\n",
       "         2.68643505e-01, 2.68643505e-01, 5.37287010e-01, 2.68643505e-01,\n",
       "         2.68643505e-01, 2.68643505e-01, 2.68643505e-01, 5.37287010e-01,\n",
       "         2.68643505e-01, 2.68643505e-01, 2.68643505e-01, 2.68643505e-01,\n",
       "         2.68643505e-01, 2.68643505e-01, 2.68643505e-01, 2.68643505e-01,\n",
       "         2.68643505e-01, 2.68643505e-01, 2.68643505e-01, 2.68643505e-01,\n",
       "         2.68643505e-01, 2.68643505e-01, 2.68643505e-01, 2.68643505e-01,\n",
       "         2.68643505e-01, 2.68643505e-01, 2.68643505e-01, 2.68643505e-01]]))"
      ]
     },
     "execution_count": 71,
     "metadata": {},
     "output_type": "execute_result"
    }
   ],
   "source": [
    "quovsre=pd.crosstab(df['is quote'],df['retweets'])\n",
    "chi2_contingency(quovsre)"
   ]
  },
  {
   "cell_type": "code",
   "execution_count": 72,
   "id": "51489f10",
   "metadata": {},
   "outputs": [
    {
     "data": {
      "text/plain": [
       "(1430.4492249406778,\n",
       " 0.45444934945141635,\n",
       " 1425,\n",
       " array([[5.37022815e+03, 7.10953972e+02, 2.21654791e+02, ...,\n",
       "         7.53927860e-01, 7.53927860e-01, 7.53927860e-01],\n",
       "        [8.03879177e+02, 1.06423988e+02, 3.31799071e+01, ...,\n",
       "         1.12856827e-01, 1.12856827e-01, 1.12856827e-01],\n",
       "        [4.03515822e+02, 5.34206683e+01, 1.66550122e+01, ...,\n",
       "         5.66497013e-02, 5.66497013e-02, 5.66497013e-02],\n",
       "        ...,\n",
       "        [3.15246736e+00, 4.17348971e-01, 1.30117283e-01, ...,\n",
       "         4.42575791e-04, 4.42575791e-04, 4.42575791e-04],\n",
       "        [1.57623368e+00, 2.08674486e-01, 6.50586413e-02, ...,\n",
       "         2.21287896e-04, 2.21287896e-04, 2.21287896e-04],\n",
       "        [7.88116840e-01, 1.04337243e-01, 3.25293206e-02, ...,\n",
       "         1.10643948e-04, 1.10643948e-04, 1.10643948e-04]]))"
      ]
     },
     "execution_count": 72,
     "metadata": {},
     "output_type": "execute_result"
    }
   ],
   "source": [
    "hashvsre=pd.crosstab(df['hashtag count'],df['retweets'])\n",
    "chi2_contingency(hashvsre)"
   ]
  },
  {
   "cell_type": "code",
   "execution_count": 73,
   "id": "3a07020f",
   "metadata": {},
   "outputs": [
    {
     "data": {
      "text/plain": [
       "(114.60290937117115,\n",
       " 0.0022138441327639977,\n",
       " 75,\n",
       " array([[6.87080261e+03, 9.09612082e+02, 2.83590617e+02, 1.66874751e+02,\n",
       "         8.29550786e+01, 7.62029210e+01, 4.82296968e+01, 3.95483514e+01,\n",
       "         4.14775393e+01, 2.12210666e+01, 1.35043151e+01, 1.92918787e+01,\n",
       "         1.25397212e+01, 5.78756362e+00, 9.64593937e+00, 9.64593937e+00,\n",
       "         6.75215756e+00, 1.92918787e+00, 5.78756362e+00, 7.71675149e+00,\n",
       "         4.82296968e+00, 4.82296968e+00, 5.78756362e+00, 1.92918787e+00,\n",
       "         9.64593937e-01, 9.64593937e-01, 2.89378181e+00, 2.89378181e+00,\n",
       "         9.64593937e-01, 1.92918787e+00, 1.92918787e+00, 1.92918787e+00,\n",
       "         9.64593937e-01, 3.85837575e+00, 1.92918787e+00, 1.92918787e+00,\n",
       "         9.64593937e-01, 1.92918787e+00, 9.64593937e-01, 9.64593937e-01,\n",
       "         2.89378181e+00, 1.92918787e+00, 9.64593937e-01, 9.64593937e-01,\n",
       "         9.64593937e-01, 9.64593937e-01, 9.64593937e-01, 9.64593937e-01,\n",
       "         9.64593937e-01, 9.64593937e-01, 1.92918787e+00, 9.64593937e-01,\n",
       "         9.64593937e-01, 9.64593937e-01, 9.64593937e-01, 1.92918787e+00,\n",
       "         9.64593937e-01, 9.64593937e-01, 9.64593937e-01, 9.64593937e-01,\n",
       "         9.64593937e-01, 9.64593937e-01, 9.64593937e-01, 9.64593937e-01,\n",
       "         9.64593937e-01, 9.64593937e-01, 9.64593937e-01, 9.64593937e-01,\n",
       "         9.64593937e-01, 9.64593937e-01, 9.64593937e-01, 9.64593937e-01,\n",
       "         9.64593937e-01, 9.64593937e-01, 9.64593937e-01, 9.64593937e-01],\n",
       "        [2.52197389e+02, 3.33879177e+01, 1.04093826e+01, 6.12524895e+00,\n",
       "         3.04492144e+00, 2.79707900e+00, 1.77030316e+00, 1.45164859e+00,\n",
       "         1.52246072e+00, 7.78933392e-01, 4.95684886e-01, 7.08121266e-01,\n",
       "         4.60278823e-01, 2.12436380e-01, 3.54060633e-01, 3.54060633e-01,\n",
       "         2.47842443e-01, 7.08121266e-02, 2.12436380e-01, 2.83248506e-01,\n",
       "         1.77030316e-01, 1.77030316e-01, 2.12436380e-01, 7.08121266e-02,\n",
       "         3.54060633e-02, 3.54060633e-02, 1.06218190e-01, 1.06218190e-01,\n",
       "         3.54060633e-02, 7.08121266e-02, 7.08121266e-02, 7.08121266e-02,\n",
       "         3.54060633e-02, 1.41624253e-01, 7.08121266e-02, 7.08121266e-02,\n",
       "         3.54060633e-02, 7.08121266e-02, 3.54060633e-02, 3.54060633e-02,\n",
       "         1.06218190e-01, 7.08121266e-02, 3.54060633e-02, 3.54060633e-02,\n",
       "         3.54060633e-02, 3.54060633e-02, 3.54060633e-02, 3.54060633e-02,\n",
       "         3.54060633e-02, 3.54060633e-02, 7.08121266e-02, 3.54060633e-02,\n",
       "         3.54060633e-02, 3.54060633e-02, 3.54060633e-02, 7.08121266e-02,\n",
       "         3.54060633e-02, 3.54060633e-02, 3.54060633e-02, 3.54060633e-02,\n",
       "         3.54060633e-02, 3.54060633e-02, 3.54060633e-02, 3.54060633e-02,\n",
       "         3.54060633e-02, 3.54060633e-02, 3.54060633e-02, 3.54060633e-02,\n",
       "         3.54060633e-02, 3.54060633e-02, 3.54060633e-02, 3.54060633e-02,\n",
       "         3.54060633e-02, 3.54060633e-02, 3.54060633e-02, 3.54060633e-02]]))"
      ]
     },
     "execution_count": 73,
     "metadata": {},
     "output_type": "execute_result"
    }
   ],
   "source": [
    "trendvsre=pd.crosstab(df['using trends?'],df['retweets'])\n",
    "chi2_contingency(trendvsre)"
   ]
  },
  {
   "cell_type": "code",
   "execution_count": 74,
   "id": "83c508b5",
   "metadata": {},
   "outputs": [
    {
     "data": {
      "text/plain": [
       "(155245.29999465222,\n",
       " 1.0,\n",
       " 195900,\n",
       " array([[7.88116840e-01, 1.04337243e-01, 3.25293206e-02, ...,\n",
       "         1.10643948e-04, 1.10643948e-04, 1.10643948e-04],\n",
       "        [2.36435052e+00, 3.13011728e-01, 9.75879619e-02, ...,\n",
       "         3.31931843e-04, 3.31931843e-04, 3.31931843e-04],\n",
       "        [7.88116840e-01, 1.04337243e-01, 3.25293206e-02, ...,\n",
       "         1.10643948e-04, 1.10643948e-04, 1.10643948e-04],\n",
       "        ...,\n",
       "        [7.88116840e-01, 1.04337243e-01, 3.25293206e-02, ...,\n",
       "         1.10643948e-04, 1.10643948e-04, 1.10643948e-04],\n",
       "        [7.88116840e-01, 1.04337243e-01, 3.25293206e-02, ...,\n",
       "         1.10643948e-04, 1.10643948e-04, 1.10643948e-04],\n",
       "        [7.88116840e-01, 1.04337243e-01, 3.25293206e-02, ...,\n",
       "         1.10643948e-04, 1.10643948e-04, 1.10643948e-04]]))"
      ]
     },
     "execution_count": 74,
     "metadata": {},
     "output_type": "execute_result"
    }
   ],
   "source": [
    "ctvsre=pd.crosstab(df['city'],df['retweets'])\n",
    "chi2_contingency(ctvsre)"
   ]
  },
  {
   "cell_type": "code",
   "execution_count": 75,
   "id": "2b0d5100",
   "metadata": {},
   "outputs": [
    {
     "data": {
      "text/plain": [
       "(543507.658180839,\n",
       " 4.1629259359767465e-12,\n",
       " 536400,\n",
       " array([[4.72870104e+00, 6.26023457e-01, 1.95175924e-01, ...,\n",
       "         6.63863687e-04, 6.63863687e-04, 6.63863687e-04],\n",
       "        [7.09305156e+00, 9.39035185e-01, 2.92763886e-01, ...,\n",
       "         9.95795530e-04, 9.95795530e-04, 9.95795530e-04],\n",
       "        [1.57623368e+00, 2.08674486e-01, 6.50586413e-02, ...,\n",
       "         2.21287896e-04, 2.21287896e-04, 2.21287896e-04],\n",
       "        ...,\n",
       "        [7.88116840e-01, 1.04337243e-01, 3.25293206e-02, ...,\n",
       "         1.10643948e-04, 1.10643948e-04, 1.10643948e-04],\n",
       "        [1.57623368e+00, 2.08674486e-01, 6.50586413e-02, ...,\n",
       "         2.21287896e-04, 2.21287896e-04, 2.21287896e-04],\n",
       "        [7.88116840e-01, 1.04337243e-01, 3.25293206e-02, ...,\n",
       "         1.10643948e-04, 1.10643948e-04, 1.10643948e-04]]))"
      ]
     },
     "execution_count": 75,
     "metadata": {},
     "output_type": "execute_result"
    }
   ],
   "source": [
    "totalvsre=pd.crosstab(df['total tweets'],df['retweets'])\n",
    "chi2_contingency(totalvsre)"
   ]
  },
  {
   "cell_type": "code",
   "execution_count": 76,
   "id": "bd3ff458",
   "metadata": {},
   "outputs": [
    {
     "data": {
      "text/plain": [
       "(622830.5156776512,\n",
       " 0.0,\n",
       " 145650,\n",
       " array([[3.07365568e+01, 4.06915247e+00, 1.26864351e+00, ...,\n",
       "         4.31511396e-03, 4.31511396e-03, 4.31511396e-03],\n",
       "        [4.88632441e+01, 6.46890905e+00, 2.01681788e+00, ...,\n",
       "         6.85992476e-03, 6.85992476e-03, 6.85992476e-03],\n",
       "        [5.04394778e+01, 6.67758354e+00, 2.08187652e+00, ...,\n",
       "         7.08121266e-03, 7.08121266e-03, 7.08121266e-03],\n",
       "        ...,\n",
       "        [7.88116840e-01, 1.04337243e-01, 3.25293206e-02, ...,\n",
       "         1.10643948e-04, 1.10643948e-04, 1.10643948e-04],\n",
       "        [7.88116840e-01, 1.04337243e-01, 3.25293206e-02, ...,\n",
       "         1.10643948e-04, 1.10643948e-04, 1.10643948e-04],\n",
       "        [7.88116840e-01, 1.04337243e-01, 3.25293206e-02, ...,\n",
       "         1.10643948e-04, 1.10643948e-04, 1.10643948e-04]]))"
      ]
     },
     "execution_count": 76,
     "metadata": {},
     "output_type": "execute_result"
    }
   ],
   "source": [
    "viewsvsre=pd.crosstab(df['views'],df['retweets'])\n",
    "chi2_contingency(viewsvsre)"
   ]
  },
  {
   "cell_type": "code",
   "execution_count": 77,
   "id": "0e8179b5",
   "metadata": {},
   "outputs": [
    {
     "data": {
      "text/plain": [
       "(463622.3335886216,\n",
       " 0.0,\n",
       " 15975,\n",
       " array([[2.97041237e+03, 1.17902279e+03, 6.42315225e+02, ...,\n",
       "         7.88116840e-01, 7.88116840e-01, 7.88116840e-01],\n",
       "        [3.93247068e+02, 1.56088515e+02, 8.50348528e+01, ...,\n",
       "         1.04337243e-01, 1.04337243e-01, 1.04337243e-01],\n",
       "        [1.22603010e+02, 4.86638637e+01, 2.65113963e+01, ...,\n",
       "         3.25293206e-02, 3.25293206e-02, 3.25293206e-02],\n",
       "        ...,\n",
       "        [4.17017039e-01, 1.65523346e-01, 9.01748174e-02, ...,\n",
       "         1.10643948e-04, 1.10643948e-04, 1.10643948e-04],\n",
       "        [4.17017039e-01, 1.65523346e-01, 9.01748174e-02, ...,\n",
       "         1.10643948e-04, 1.10643948e-04, 1.10643948e-04],\n",
       "        [4.17017039e-01, 1.65523346e-01, 9.01748174e-02, ...,\n",
       "         1.10643948e-04, 1.10643948e-04, 1.10643948e-04]]))"
      ]
     },
     "execution_count": 77,
     "metadata": {},
     "output_type": "execute_result"
    }
   ],
   "source": [
    "likesvsre=pd.crosstab(df['retweets'],df['likes'])\n",
    "chi2_contingency(likesvsre)\n"
   ]
  },
  {
   "cell_type": "code",
   "execution_count": 78,
   "id": "5d27e7d0",
   "metadata": {},
   "outputs": [
    {
     "data": {
      "text/plain": [
       "(138832.4687049571,\n",
       " 0.0,\n",
       " 1650,\n",
       " array([[6.72106041e+03, 8.89788006e+02, 2.77410046e+02, ...,\n",
       "         9.43571587e-01, 9.43571587e-01, 9.43571587e-01],\n",
       "        [2.93179464e+02, 3.88134543e+01, 1.21009073e+01, ...,\n",
       "         4.11595486e-02, 4.11595486e-02, 4.11595486e-02],\n",
       "        [4.57107767e+01, 6.05156008e+00, 1.88670060e+00, ...,\n",
       "         6.41734897e-03, 6.41734897e-03, 6.41734897e-03],\n",
       "        ...,\n",
       "        [7.88116840e-01, 1.04337243e-01, 3.25293206e-02, ...,\n",
       "         1.10643948e-04, 1.10643948e-04, 1.10643948e-04],\n",
       "        [7.88116840e-01, 1.04337243e-01, 3.25293206e-02, ...,\n",
       "         1.10643948e-04, 1.10643948e-04, 1.10643948e-04],\n",
       "        [7.88116840e-01, 1.04337243e-01, 3.25293206e-02, ...,\n",
       "         1.10643948e-04, 1.10643948e-04, 1.10643948e-04]]))"
      ]
     },
     "execution_count": 78,
     "metadata": {},
     "output_type": "execute_result"
    }
   ],
   "source": [
    "quotretevsre=pd.crosstab(df['quote retweets'],df['retweets'])\n",
    "chi2_contingency(quotretevsre)"
   ]
  },
  {
   "cell_type": "code",
   "execution_count": 79,
   "id": "8f2b6255",
   "metadata": {},
   "outputs": [],
   "source": [
    "df=df.drop([\"link to tweet\"], axis=1)"
   ]
  },
  {
   "cell_type": "code",
   "execution_count": 80,
   "id": "07690ea8",
   "metadata": {},
   "outputs": [],
   "source": [
    "column_to_move = df.pop(\"retweets\")"
   ]
  },
  {
   "cell_type": "code",
   "execution_count": 81,
   "id": "c9425dfb",
   "metadata": {
    "scrolled": true
   },
   "outputs": [],
   "source": [
    "df.insert(df.shape[1], \"retweets\", column_to_move)"
   ]
  },
  {
   "cell_type": "code",
   "execution_count": 82,
   "id": "90695e2e",
   "metadata": {},
   "outputs": [
    {
     "data": {
      "image/png": "[encoded data removed]",
      "text/plain": [
       "<Figure size 640x480 with 1 Axes>"
      ]
     },
     "metadata": {},
     "output_type": "display_data"
    }
   ],
   "source": [
    "plt.scatter(y = df['word count'],    x = df['retweets'],c = 'mediumslateblue',label = 'word count');\n",
    "plt.scatter(y = df['respectability'],x = df['retweets'],c = 'mediumturquoise',label = 'respectability');\n",
    "plt.scatter(y = df['verified'],      x = df['retweets'],c = 'black',label = 'verified');\n",
    "plt.scatter(y = df['comments'],      x = df['retweets'],c = 'dimgray',label = 'comments');\n",
    "plt.scatter(y = df['hashtag count'], x = df['retweets'],c = 'firebrick',label = 'hashtag count');\n",
    "plt.scatter(y = df['using trends?'], x = df['retweets'],c = 'fuchsia',label = 'using trends?');\n",
    "plt.scatter(y = df['views'],         x = df['retweets'],c = 'gold',label = 'views');\n",
    "plt.scatter(y = df['likes'],         x = df['retweets'],c = 'yellow',label = 'likes');\n",
    "plt.scatter(y = df['total tweets'],  x = df['retweets'],c = 'red',label = 'total tweets');\n",
    "plt.scatter(y = df['quote retweets'],x = df['retweets'],c = 'lightseagreen',label = 'quote retweets');\n",
    "\n",
    "plt.legend(numpoints = 10, loc = 0)\n",
    "plt.xlabel('retweets')\n",
    "\n",
    "plt.show()"
   ]
  },
  {
   "cell_type": "code",
   "execution_count": 83,
   "id": "3f3a66fd",
   "metadata": {},
   "outputs": [
    {
     "data": {
      "text/plain": [
       "total tweets  ret\n",
       "15            0      10\n",
       "19            0       8\n",
       "2             0       7\n",
       "16            0       6\n",
       "467           0       6\n",
       "                     ..\n",
       "6340          0       1\n",
       "6337          0       1\n",
       "6336          1       1\n",
       "6333          0       1\n",
       "1574466       0       1\n",
       "Length: 7730, dtype: int64"
      ]
     },
     "execution_count": 83,
     "metadata": {},
     "output_type": "execute_result"
    }
   ],
   "source": [
    "pd.DataFrame({'total tweets':df['total tweets'], 'ret':df['retweets']}).value_counts()"
   ]
  },
  {
   "cell_type": "code",
   "execution_count": 84,
   "id": "aca9abc8",
   "metadata": {},
   "outputs": [
    {
     "data": {
      "text/html": [
       "<div>\n",
       "<style scoped>\n",
       "    .dataframe tbody tr th:only-of-type {\n",
       "        vertical-align: middle;\n",
       "    }\n",
       "\n",
       "    .dataframe tbody tr th {\n",
       "        vertical-align: top;\n",
       "    }\n",
       "\n",
       "    .dataframe thead th {\n",
       "        text-align: right;\n",
       "    }\n",
       "</style>\n",
       "<table border=\"1\" class=\"dataframe\">\n",
       "  <thead>\n",
       "    <tr style=\"text-align: right;\">\n",
       "      <th></th>\n",
       "      <th>acount age</th>\n",
       "      <th>total tweets</th>\n",
       "      <th>followers</th>\n",
       "      <th>following</th>\n",
       "      <th>respectability</th>\n",
       "      <th>is respactable?</th>\n",
       "      <th>views</th>\n",
       "      <th>likes</th>\n",
       "      <th>quote retweets</th>\n",
       "      <th>comments</th>\n",
       "      <th>word count</th>\n",
       "      <th>hashtag count</th>\n",
       "      <th>retweets</th>\n",
       "    </tr>\n",
       "  </thead>\n",
       "  <tbody>\n",
       "    <tr>\n",
       "      <th>count</th>\n",
       "      <td>9038.000000</td>\n",
       "      <td>9.038000e+03</td>\n",
       "      <td>9.038000e+03</td>\n",
       "      <td>9038.000000</td>\n",
       "      <td>9038.000000</td>\n",
       "      <td>9038.000000</td>\n",
       "      <td>9038.000000</td>\n",
       "      <td>9038.000000</td>\n",
       "      <td>9038.000000</td>\n",
       "      <td>9038.000000</td>\n",
       "      <td>9038.000000</td>\n",
       "      <td>9038.000000</td>\n",
       "      <td>9038.000000</td>\n",
       "    </tr>\n",
       "    <tr>\n",
       "      <th>mean</th>\n",
       "      <td>10.624751</td>\n",
       "      <td>2.503423e+04</td>\n",
       "      <td>4.829506e+03</td>\n",
       "      <td>1446.317659</td>\n",
       "      <td>1.894251</td>\n",
       "      <td>0.666962</td>\n",
       "      <td>1087.755477</td>\n",
       "      <td>12.323191</td>\n",
       "      <td>0.159106</td>\n",
       "      <td>1.066608</td>\n",
       "      <td>16.654348</td>\n",
       "      <td>0.649259</td>\n",
       "      <td>1.994468</td>\n",
       "    </tr>\n",
       "    <tr>\n",
       "      <th>std</th>\n",
       "      <td>4.477449</td>\n",
       "      <td>5.417727e+04</td>\n",
       "      <td>8.344993e+04</td>\n",
       "      <td>6019.725423</td>\n",
       "      <td>8.226239</td>\n",
       "      <td>0.471326</td>\n",
       "      <td>7957.449771</td>\n",
       "      <td>141.750203</td>\n",
       "      <td>3.097887</td>\n",
       "      <td>10.514568</td>\n",
       "      <td>12.689812</td>\n",
       "      <td>1.749821</td>\n",
       "      <td>53.737343</td>\n",
       "    </tr>\n",
       "    <tr>\n",
       "      <th>min</th>\n",
       "      <td>0.100000</td>\n",
       "      <td>1.000000e+00</td>\n",
       "      <td>0.000000e+00</td>\n",
       "      <td>0.000000</td>\n",
       "      <td>0.000000</td>\n",
       "      <td>0.000000</td>\n",
       "      <td>0.000000</td>\n",
       "      <td>0.000000</td>\n",
       "      <td>0.000000</td>\n",
       "      <td>0.000000</td>\n",
       "      <td>1.000000</td>\n",
       "      <td>0.000000</td>\n",
       "      <td>0.000000</td>\n",
       "    </tr>\n",
       "    <tr>\n",
       "      <th>25%</th>\n",
       "      <td>6.900000</td>\n",
       "      <td>2.274250e+03</td>\n",
       "      <td>2.350000e+02</td>\n",
       "      <td>286.000000</td>\n",
       "      <td>0.563787</td>\n",
       "      <td>0.000000</td>\n",
       "      <td>44.000000</td>\n",
       "      <td>0.000000</td>\n",
       "      <td>0.000000</td>\n",
       "      <td>0.000000</td>\n",
       "      <td>7.000000</td>\n",
       "      <td>0.000000</td>\n",
       "      <td>0.000000</td>\n",
       "    </tr>\n",
       "    <tr>\n",
       "      <th>50%</th>\n",
       "      <td>11.900000</td>\n",
       "      <td>8.783000e+03</td>\n",
       "      <td>6.410000e+02</td>\n",
       "      <td>682.000000</td>\n",
       "      <td>1.089680</td>\n",
       "      <td>1.000000</td>\n",
       "      <td>130.000000</td>\n",
       "      <td>1.000000</td>\n",
       "      <td>0.000000</td>\n",
       "      <td>0.000000</td>\n",
       "      <td>13.000000</td>\n",
       "      <td>0.000000</td>\n",
       "      <td>0.000000</td>\n",
       "    </tr>\n",
       "    <tr>\n",
       "      <th>75%</th>\n",
       "      <td>14.300000</td>\n",
       "      <td>2.674625e+04</td>\n",
       "      <td>1.743000e+03</td>\n",
       "      <td>1523.750000</td>\n",
       "      <td>2.082840</td>\n",
       "      <td>1.000000</td>\n",
       "      <td>437.000000</td>\n",
       "      <td>4.000000</td>\n",
       "      <td>0.000000</td>\n",
       "      <td>1.000000</td>\n",
       "      <td>24.000000</td>\n",
       "      <td>0.000000</td>\n",
       "      <td>0.000000</td>\n",
       "    </tr>\n",
       "    <tr>\n",
       "      <th>max</th>\n",
       "      <td>19.200000</td>\n",
       "      <td>1.574466e+06</td>\n",
       "      <td>6.752268e+06</td>\n",
       "      <td>435333.000000</td>\n",
       "      <td>740.000000</td>\n",
       "      <td>1.000000</td>\n",
       "      <td>414784.000000</td>\n",
       "      <td>10007.000000</td>\n",
       "      <td>261.000000</td>\n",
       "      <td>538.000000</td>\n",
       "      <td>64.000000</td>\n",
       "      <td>22.000000</td>\n",
       "      <td>4826.000000</td>\n",
       "    </tr>\n",
       "  </tbody>\n",
       "</table>\n",
       "</div>"
      ],
      "text/plain": [
       "        acount age  total tweets     followers      following  respectability  \\\n",
       "count  9038.000000  9.038000e+03  9.038000e+03    9038.000000     9038.000000   \n",
       "mean     10.624751  2.503423e+04  4.829506e+03    1446.317659        1.894251   \n",
       "std       4.477449  5.417727e+04  8.344993e+04    6019.725423        8.226239   \n",
       "min       0.100000  1.000000e+00  0.000000e+00       0.000000        0.000000   \n",
       "25%       6.900000  2.274250e+03  2.350000e+02     286.000000        0.563787   \n",
       "50%      11.900000  8.783000e+03  6.410000e+02     682.000000        1.089680   \n",
       "75%      14.300000  2.674625e+04  1.743000e+03    1523.750000        2.082840   \n",
       "max      19.200000  1.574466e+06  6.752268e+06  435333.000000      740.000000   \n",
       "\n",
       "       is respactable?          views         likes  quote retweets  \\\n",
       "count      9038.000000    9038.000000   9038.000000     9038.000000   \n",
       "mean          0.666962    1087.755477     12.323191        0.159106   \n",
       "std           0.471326    7957.449771    141.750203        3.097887   \n",
       "min           0.000000       0.000000      0.000000        0.000000   \n",
       "25%           0.000000      44.000000      0.000000        0.000000   \n",
       "50%           1.000000     130.000000      1.000000        0.000000   \n",
       "75%           1.000000     437.000000      4.000000        0.000000   \n",
       "max           1.000000  414784.000000  10007.000000      261.000000   \n",
       "\n",
       "          comments   word count  hashtag count     retweets  \n",
       "count  9038.000000  9038.000000    9038.000000  9038.000000  \n",
       "mean      1.066608    16.654348       0.649259     1.994468  \n",
       "std      10.514568    12.689812       1.749821    53.737343  \n",
       "min       0.000000     1.000000       0.000000     0.000000  \n",
       "25%       0.000000     7.000000       0.000000     0.000000  \n",
       "50%       0.000000    13.000000       0.000000     0.000000  \n",
       "75%       1.000000    24.000000       0.000000     0.000000  \n",
       "max     538.000000    64.000000      22.000000  4826.000000  "
      ]
     },
     "execution_count": 84,
     "metadata": {},
     "output_type": "execute_result"
    }
   ],
   "source": [
    "df.describe()"
   ]
  },
  {
   "cell_type": "code",
   "execution_count": null,
   "id": "d4ae9664",
   "metadata": {},
   "outputs": [],
   "source": []
  },
  {
   "cell_type": "code",
   "execution_count": 115,
   "id": "cecf899b-b185-45e5-86db-15bc960ff30b",
   "metadata": {},
   "outputs": [],
   "source": [
    "from sklearn import linear_model\n",
    "from mpl_toolkits.mplot3d import Axes3D\n",
    "from matplotlib import cm"
   ]
  },
  {
   "cell_type": "code",
   "execution_count": 116,
   "id": "50357e74-54dd-4a52-9668-ab1b542a7385",
   "metadata": {},
   "outputs": [
    {
     "data": {
      "text/html": [
       "<div>\n",
       "<style scoped>\n",
       "    .dataframe tbody tr th:only-of-type {\n",
       "        vertical-align: middle;\n",
       "    }\n",
       "\n",
       "    .dataframe tbody tr th {\n",
       "        vertical-align: top;\n",
       "    }\n",
       "\n",
       "    .dataframe thead th {\n",
       "        text-align: right;\n",
       "    }\n",
       "</style>\n",
       "<table border=\"1\" class=\"dataframe\">\n",
       "  <thead>\n",
       "    <tr style=\"text-align: right;\">\n",
       "      <th></th>\n",
       "      <th>name</th>\n",
       "      <th>city</th>\n",
       "      <th>country</th>\n",
       "      <th>acount age</th>\n",
       "      <th>total tweets</th>\n",
       "      <th>followers</th>\n",
       "      <th>following</th>\n",
       "      <th>respectability</th>\n",
       "      <th>is respactable?</th>\n",
       "      <th>verified</th>\n",
       "      <th>text</th>\n",
       "      <th>views</th>\n",
       "      <th>likes</th>\n",
       "      <th>quote retweets</th>\n",
       "      <th>comments</th>\n",
       "      <th>word count</th>\n",
       "      <th>is quote</th>\n",
       "      <th>hashtag count</th>\n",
       "      <th>trending</th>\n",
       "      <th>using trends?</th>\n",
       "      <th>retweets</th>\n",
       "    </tr>\n",
       "  </thead>\n",
       "  <tbody>\n",
       "    <tr>\n",
       "      <th>0</th>\n",
       "      <td>CamuyArenas_AA</td>\n",
       "      <td>Puente</td>\n",
       "      <td>United States</td>\n",
       "      <td>3.2</td>\n",
       "      <td>228</td>\n",
       "      <td>50</td>\n",
       "      <td>22</td>\n",
       "      <td>0.440000</td>\n",
       "      <td>0</td>\n",
       "      <td>False</td>\n",
       "      <td>Just posted a photo @ Estadio Juan F.Cheo Lópe...</td>\n",
       "      <td>13</td>\n",
       "      <td>0</td>\n",
       "      <td>0</td>\n",
       "      <td>0</td>\n",
       "      <td>11</td>\n",
       "      <td>False</td>\n",
       "      <td>0</td>\n",
       "      <td>['Friday the 13th', 'Staley', 'Lori Harvey', '...</td>\n",
       "      <td>False</td>\n",
       "      <td>0</td>\n",
       "    </tr>\n",
       "    <tr>\n",
       "      <th>1</th>\n",
       "      <td>PoopScoopSF</td>\n",
       "      <td>Downtown</td>\n",
       "      <td>United States</td>\n",
       "      <td>4.7</td>\n",
       "      <td>163626</td>\n",
       "      <td>415</td>\n",
       "      <td>125</td>\n",
       "      <td>0.301205</td>\n",
       "      <td>0</td>\n",
       "      <td>False</td>\n",
       "      <td>\"Big poop front of our door.\" (Downtown, D3) h...</td>\n",
       "      <td>9</td>\n",
       "      <td>0</td>\n",
       "      <td>0</td>\n",
       "      <td>1</td>\n",
       "      <td>10</td>\n",
       "      <td>False</td>\n",
       "      <td>0</td>\n",
       "      <td>['Friday the 13th', 'Staley', 'Lori Harvey', '...</td>\n",
       "      <td>False</td>\n",
       "      <td>0</td>\n",
       "    </tr>\n",
       "    <tr>\n",
       "      <th>2</th>\n",
       "      <td>wchazz</td>\n",
       "      <td>Wesley Chapel</td>\n",
       "      <td>United States</td>\n",
       "      <td>15.4</td>\n",
       "      <td>48876</td>\n",
       "      <td>377</td>\n",
       "      <td>951</td>\n",
       "      <td>2.522546</td>\n",
       "      <td>1</td>\n",
       "      <td>False</td>\n",
       "      <td>2nd cardio, target calories 1k @ Wesley Chapel...</td>\n",
       "      <td>4</td>\n",
       "      <td>0</td>\n",
       "      <td>0</td>\n",
       "      <td>0</td>\n",
       "      <td>10</td>\n",
       "      <td>False</td>\n",
       "      <td>0</td>\n",
       "      <td>['Friday the 13th', 'Staley', 'Lori Harvey', '...</td>\n",
       "      <td>False</td>\n",
       "      <td>0</td>\n",
       "    </tr>\n",
       "    <tr>\n",
       "      <th>3</th>\n",
       "      <td>CentralNY911</td>\n",
       "      <td>Syracuse</td>\n",
       "      <td>United States</td>\n",
       "      <td>7.7</td>\n",
       "      <td>34240</td>\n",
       "      <td>772</td>\n",
       "      <td>41</td>\n",
       "      <td>0.053109</td>\n",
       "      <td>0</td>\n",
       "      <td>False</td>\n",
       "      <td>01/13/2023 - 2:51 PM\\nSyracuse Police dispatch...</td>\n",
       "      <td>50</td>\n",
       "      <td>0</td>\n",
       "      <td>0</td>\n",
       "      <td>0</td>\n",
       "      <td>24</td>\n",
       "      <td>False</td>\n",
       "      <td>0</td>\n",
       "      <td>['Friday the 13th', 'Staley', 'Lori Harvey', '...</td>\n",
       "      <td>False</td>\n",
       "      <td>0</td>\n",
       "    </tr>\n",
       "    <tr>\n",
       "      <th>4</th>\n",
       "      <td>meredithhurston</td>\n",
       "      <td>Baltimore</td>\n",
       "      <td>United States</td>\n",
       "      <td>14.5</td>\n",
       "      <td>4599</td>\n",
       "      <td>1966</td>\n",
       "      <td>2436</td>\n",
       "      <td>1.239064</td>\n",
       "      <td>1</td>\n",
       "      <td>False</td>\n",
       "      <td>Happy Friday! January is cervical cancer aware...</td>\n",
       "      <td>28</td>\n",
       "      <td>1</td>\n",
       "      <td>0</td>\n",
       "      <td>0</td>\n",
       "      <td>34</td>\n",
       "      <td>False</td>\n",
       "      <td>0</td>\n",
       "      <td>['Friday the 13th', 'Staley', 'Phineas', 'Lori...</td>\n",
       "      <td>False</td>\n",
       "      <td>0</td>\n",
       "    </tr>\n",
       "  </tbody>\n",
       "</table>\n",
       "</div>"
      ],
      "text/plain": [
       "              name           city        country  acount age  total tweets  \\\n",
       "0   CamuyArenas_AA         Puente  United States         3.2           228   \n",
       "1      PoopScoopSF       Downtown  United States         4.7        163626   \n",
       "2           wchazz  Wesley Chapel  United States        15.4         48876   \n",
       "3     CentralNY911       Syracuse  United States         7.7         34240   \n",
       "4  meredithhurston      Baltimore  United States        14.5          4599   \n",
       "\n",
       "   followers  following  respectability  is respactable?  verified  \\\n",
       "0         50         22        0.440000                0     False   \n",
       "1        415        125        0.301205                0     False   \n",
       "2        377        951        2.522546                1     False   \n",
       "3        772         41        0.053109                0     False   \n",
       "4       1966       2436        1.239064                1     False   \n",
       "\n",
       "                                                text  views  likes  \\\n",
       "0  Just posted a photo @ Estadio Juan F.Cheo Lópe...     13      0   \n",
       "1  \"Big poop front of our door.\" (Downtown, D3) h...      9      0   \n",
       "2  2nd cardio, target calories 1k @ Wesley Chapel...      4      0   \n",
       "3  01/13/2023 - 2:51 PM\\nSyracuse Police dispatch...     50      0   \n",
       "4  Happy Friday! January is cervical cancer aware...     28      1   \n",
       "\n",
       "   quote retweets  comments  word count  is quote  hashtag count  \\\n",
       "0               0         0          11     False              0   \n",
       "1               0         1          10     False              0   \n",
       "2               0         0          10     False              0   \n",
       "3               0         0          24     False              0   \n",
       "4               0         0          34     False              0   \n",
       "\n",
       "                                            trending  using trends?  retweets  \n",
       "0  ['Friday the 13th', 'Staley', 'Lori Harvey', '...          False         0  \n",
       "1  ['Friday the 13th', 'Staley', 'Lori Harvey', '...          False         0  \n",
       "2  ['Friday the 13th', 'Staley', 'Lori Harvey', '...          False         0  \n",
       "3  ['Friday the 13th', 'Staley', 'Lori Harvey', '...          False         0  \n",
       "4  ['Friday the 13th', 'Staley', 'Phineas', 'Lori...          False         0  "
      ]
     },
     "execution_count": 116,
     "metadata": {},
     "output_type": "execute_result"
    }
   ],
   "source": [
    "df.reset_index(drop = True, inplace = True)\n",
    "df.head()"
   ]
  },
  {
   "cell_type": "code",
   "execution_count": 117,
   "id": "cca44335-e39e-4db7-b75c-ef93f07d9aef",
   "metadata": {},
   "outputs": [
    {
     "data": {
      "text/plain": [
       "[<matplotlib.lines.Line2D at 0x2a01ec12ca0>]"
      ]
     },
     "execution_count": 117,
     "metadata": {},
     "output_type": "execute_result"
    },
    {
     "data": {
      "image/png": "[encoded data removed]",
      "text/plain": [
       "<Figure size 640x480 with 1 Axes>"
      ]
     },
     "metadata": {},
     "output_type": "display_data"
    }
   ],
   "source": [
    "nm = 'word count'\n",
    "m1=linear_model.LinearRegression().fit(df[nm].reset_index(),df['retweets'])\n",
    "\n",
    "plt.scatter(x = df[nm], y = df['retweets'],label = nm)\n",
    "plt.plot(df[nm],m1.predict(df[nm].reset_index()))"
   ]
  },
  {
   "cell_type": "code",
   "execution_count": 118,
   "id": "79b1d303-ed4f-4e6d-bfa1-687e6e528140",
   "metadata": {},
   "outputs": [
    {
     "data": {
      "text/plain": [
       "[<matplotlib.lines.Line2D at 0x2a01b87fe50>]"
      ]
     },
     "execution_count": 118,
     "metadata": {},
     "output_type": "execute_result"
    },
    {
     "data": {
      "image/png": "[encoded data removed]",
      "text/plain": [
       "<Figure size 640x480 with 1 Axes>"
      ]
     },
     "metadata": {},
     "output_type": "display_data"
    }
   ],
   "source": [
    "nm = 'respectability'\n",
    "m2=linear_model.LinearRegression().fit(df[nm].reset_index(),df['retweets'])\n",
    "\n",
    "plt.scatter(x = df[nm], y = df['retweets'],label = nm)\n",
    "plt.plot(df[nm],m2.predict(df[nm].reset_index()))"
   ]
  },
  {
   "cell_type": "code",
   "execution_count": 119,
   "id": "7f6c6672-daf5-491f-8fe4-fde2f097273c",
   "metadata": {},
   "outputs": [
    {
     "data": {
      "text/plain": [
       "[<matplotlib.lines.Line2D at 0x2a0159ece80>]"
      ]
     },
     "execution_count": 119,
     "metadata": {},
     "output_type": "execute_result"
    },
    {
     "data": {
      "image/png": "[encoded data removed]",
      "text/plain": [
       "<Figure size 640x480 with 1 Axes>"
      ]
     },
     "metadata": {},
     "output_type": "display_data"
    }
   ],
   "source": [
    "nm = 'verified'\n",
    "m3=linear_model.LinearRegression().fit(df[nm].reset_index(),df['retweets'])\n",
    "\n",
    "plt.scatter(x = df[nm], y = df['retweets'],label = nm)\n",
    "plt.plot(df[nm],m3.predict(df[nm].reset_index()))"
   ]
  },
  {
   "cell_type": "code",
   "execution_count": 120,
   "id": "0f628806-4b9e-4d92-82f3-160a19cd0ada",
   "metadata": {},
   "outputs": [
    {
     "data": {
      "text/plain": [
       "[<matplotlib.lines.Line2D at 0x2a01d7c5730>]"
      ]
     },
     "execution_count": 120,
     "metadata": {},
     "output_type": "execute_result"
    },
    {
     "data": {
      "image/png": "[encoded data removed]",
      "text/plain": [
       "<Figure size 640x480 with 1 Axes>"
      ]
     },
     "metadata": {},
     "output_type": "display_data"
    }
   ],
   "source": [
    "nm = 'comments'\n",
    "m4=linear_model.LinearRegression().fit(df[nm].reset_index(),df['retweets'])\n",
    "\n",
    "plt.scatter(x = df[nm], y = df['retweets'],label = nm)\n",
    "plt.plot(df[nm],m4.predict(df[nm].reset_index()))"
   ]
  },
  {
   "cell_type": "code",
   "execution_count": 121,
   "id": "3d9b36ee-48c0-4058-9213-52bd9bff5390",
   "metadata": {},
   "outputs": [
    {
     "data": {
      "text/plain": [
       "[<matplotlib.lines.Line2D at 0x2a01f3288b0>]"
      ]
     },
     "execution_count": 121,
     "metadata": {},
     "output_type": "execute_result"
    },
    {
     "data": {
      "image/png": "[encoded data removed]",
      "text/plain": [
       "<Figure size 640x480 with 1 Axes>"
      ]
     },
     "metadata": {},
     "output_type": "display_data"
    }
   ],
   "source": [
    "nm = 'hashtag count'\n",
    "m5=linear_model.LinearRegression().fit(df[nm].reset_index(),df['retweets'])\n",
    "\n",
    "plt.scatter(x = df[nm], y = df['retweets'],label = nm)\n",
    "plt.plot(df[nm],m5.predict(df[nm].reset_index()))"
   ]
  },
  {
   "cell_type": "code",
   "execution_count": 122,
   "id": "3fc13d1e-1a92-4908-a3a7-ccc9b46f356b",
   "metadata": {},
   "outputs": [
    {
     "data": {
      "text/plain": [
       "[<matplotlib.lines.Line2D at 0x2a01bd49eb0>]"
      ]
     },
     "execution_count": 122,
     "metadata": {},
     "output_type": "execute_result"
    },
    {
     "data": {
      "image/png": "[encoded data removed]",
      "text/plain": [
       "<Figure size 640x480 with 1 Axes>"
      ]
     },
     "metadata": {},
     "output_type": "display_data"
    }
   ],
   "source": [
    "nm = 'using trends?'\n",
    "m6=linear_model.LinearRegression().fit(df[nm].reset_index(),df['retweets'])\n",
    "\n",
    "plt.scatter(x = df[nm], y = df['retweets'],label = nm)\n",
    "plt.plot(df[nm],m6.predict(df[nm].reset_index()))"
   ]
  },
  {
   "cell_type": "code",
   "execution_count": 123,
   "id": "ffac433e-70e2-40b5-b3d1-31935036faa1",
   "metadata": {},
   "outputs": [
    {
     "data": {
      "text/plain": [
       "[<matplotlib.lines.Line2D at 0x2a01d1f22e0>]"
      ]
     },
     "execution_count": 123,
     "metadata": {},
     "output_type": "execute_result"
    },
    {
     "data": {
      "image/png": "[encoded data removed]",
      "text/plain": [
       "<Figure size 640x480 with 1 Axes>"
      ]
     },
     "metadata": {},
     "output_type": "display_data"
    }
   ],
   "source": [
    "nm = 'views'\n",
    "m7=linear_model.LinearRegression().fit(df[nm].reset_index(),df['retweets'])\n",
    "\n",
    "plt.scatter(x = df[nm], y = df['retweets'],label = nm)\n",
    "plt.plot(df[nm],m7.predict(df[nm].reset_index()))"
   ]
  },
  {
   "cell_type": "code",
   "execution_count": 124,
   "id": "d66e1478-2e2a-4d7b-8c90-559af5879520",
   "metadata": {},
   "outputs": [
    {
     "data": {
      "text/plain": [
       "[<matplotlib.lines.Line2D at 0x2a01d148790>]"
      ]
     },
     "execution_count": 124,
     "metadata": {},
     "output_type": "execute_result"
    },
    {
     "data": {
      "image/png": "[encoded data removed]",
      "text/plain": [
       "<Figure size 640x480 with 1 Axes>"
      ]
     },
     "metadata": {},
     "output_type": "display_data"
    }
   ],
   "source": [
    "nm = 'likes'\n",
    "m8=linear_model.LinearRegression().fit(df[nm].reset_index(),df['retweets'])\n",
    "\n",
    "plt.scatter(x = df[nm], y = df['retweets'],label = nm)\n",
    "plt.plot(df[nm],m8.predict(df[nm].reset_index()))"
   ]
  },
  {
   "cell_type": "code",
   "execution_count": 125,
   "id": "4ce11359-1666-4143-9b8e-df866606a7b4",
   "metadata": {},
   "outputs": [
    {
     "data": {
      "text/plain": [
       "[<matplotlib.lines.Line2D at 0x2a01ebb22e0>]"
      ]
     },
     "execution_count": 125,
     "metadata": {},
     "output_type": "execute_result"
    },
    {
     "data": {
      "image/png": "[encoded data removed]",
      "text/plain": [
       "<Figure size 640x480 with 1 Axes>"
      ]
     },
     "metadata": {},
     "output_type": "display_data"
    }
   ],
   "source": [
    "nm = 'total tweets'\n",
    "m9=linear_model.LinearRegression().fit(df[nm].reset_index(),df['retweets'])\n",
    "\n",
    "plt.scatter(x = df[nm], y = df['retweets'],label = nm)\n",
    "plt.plot(df[nm],m9.predict(df[nm].reset_index()))"
   ]
  },
  {
   "cell_type": "code",
   "execution_count": 126,
   "id": "65f2b676-eb23-4542-8a0b-cb6274f5f720",
   "metadata": {},
   "outputs": [
    {
     "data": {
      "text/plain": [
       "[<matplotlib.lines.Line2D at 0x2a01d381910>]"
      ]
     },
     "execution_count": 126,
     "metadata": {},
     "output_type": "execute_result"
    },
    {
     "data": {
      "image/png": "[encoded data removed]",
      "text/plain": [
       "<Figure size 640x480 with 1 Axes>"
      ]
     },
     "metadata": {},
     "output_type": "display_data"
    }
   ],
   "source": [
    "nm = 'quote retweets'\n",
    "m10=linear_model.LinearRegression().fit(df[nm].reset_index(),df['retweets'])\n",
    "\n",
    "plt.scatter(x = df[nm], y = df['retweets'],label = nm)\n",
    "plt.plot(df[nm],m10.predict(df[nm].reset_index()))"
   ]
  }
 ],
 "metadata": {
  "kernelspec": {
   "display_name": "Python 3 (ipykernel)",
   "language": "python",
   "name": "python3"
  },
  "language_info": {
   "codemirror_mode": {
    "name": "ipython",
    "version": 3
   },
   "file_extension": ".py",
   "mimetype": "text/x-python",
   "name": "python",
   "nbconvert_exporter": "python",
   "pygments_lexer": "ipython3",
   "version": "3.9.13"
  }
 },
 "nbformat": 4,
 "nbformat_minor": 5
}
