{
 "cells": [
  {
   "cell_type": "code",
   "execution_count": 50,
   "id": "d376a9be",
   "metadata": {},
   "outputs": [],
   "source": [
    "#!pip install selenium\n",
    "#!pip install geonamescache\n",
    "from helper import *\n",
    "import selenium\n",
    "import tweepy\n",
    "import numpy as np\n",
    "import pandas as pd\n",
    "import json\n",
    "from bs4 import BeautifulSoup\n",
    "from IPython.display import clear_output #clears output\n",
    "import datetime\n",
    "import time\n",
    "\n",
    "API_Key ='irXxqVrXin1KsDRM9g6HdF8p8'\n",
    "API_Key_Secret = 'sLQvb8voyrTDz5S93vlt5jE5RlMi8xBuOQtSq2pgERe2QVawIC'\n",
    "\n",
    "Bearer_Token = 'AAAAAAAAAAAAAAAAAAAAACsVlAEAAAAADib49u9Asa6Hbts8UwBEdtc0dsk%3D1d8lVaySeRg1CpJQ6HDLSwK6Mj9wJiptj49PAdwMuvW95zJoar'\n",
    "\n",
    "Access_Token = '1122492746210660352-COptyz3RtF1AVokHw3027iOdbsZZl1'\n",
    "Access_Token_Secret = 'slfBz8pcgCrUmewZgSgVKsmIFhfCcFuinAx16q5eh1Vvr'"
   ]
  },
  {
   "cell_type": "code",
   "execution_count": 51,
   "id": "8984b42d",
   "metadata": {},
   "outputs": [],
   "source": [
    "# authorization of consumer key and consumer secret\n",
    "auth = tweepy.OAuthHandler(API_Key, API_Key_Secret)\n",
    "# set access to user's access key and access secret\n",
    "auth.set_access_token(Access_Token, Access_Token_Secret)\n",
    "# calling the api\n",
    "api = tweepy.API(auth)\n",
    "\n",
    "Client = tweepy.Client(bearer_token=Bearer_Token) \n"
   ]
  },
  {
   "cell_type": "code",
   "execution_count": 3,
   "id": "142cf495",
   "metadata": {},
   "outputs": [],
   "source": [
    "t = getAllTrends()"
   ]
  },
  {
   "cell_type": "code",
   "execution_count": 22,
   "id": "89d24722",
   "metadata": {},
   "outputs": [],
   "source": [
    "def getTrendsByLoc(city,country,trends):#returns an array of a trend in the loc\n",
    "    for t in trends:\n",
    "        if city == t.title():\n",
    "            return trends[city]\n",
    "    \n",
    "    return trends[country]"
   ]
  },
  {
   "cell_type": "code",
   "execution_count": 23,
   "id": "f49424a5",
   "metadata": {},
   "outputs": [
    {
     "data": {
      "text/plain": [
       "['Luka',\n",
       " 'WotC',\n",
       " 'Taeyang',\n",
       " 'Arkansas',\n",
       " 'Friday the 13th',\n",
       " 'Lori Harvey',\n",
       " 'Cutch',\n",
       " '#fridaymorning',\n",
       " 'Founders Day',\n",
       " 'Pirates',\n",
       " '#FridayFeeling',\n",
       " 'Trump Organization',\n",
       " 'Damson',\n",
       " '#FursuitFriday',\n",
       " '#FlashbackFriday',\n",
       " '#FridayVibes',\n",
       " 'Good Friday',\n",
       " 'Dead End',\n",
       " 'Martin Luther King Jr. Day',\n",
       " 'MICHAEL REEVES',\n",
       " 'Paul Ryan',\n",
       " 'Minneapolis Miracle',\n",
       " 'Happy Friyay',\n",
       " 'Keith Davis Jr.',\n",
       " 'Kyle Korver',\n",
       " 'Viernes 13',\n",
       " 'Guam',\n",
       " 'Redz',\n",
       " 'M&Ms',\n",
       " 'Enes',\n",
       " 'Twix',\n",
       " 'ON SALE NOW',\n",
       " 'Alpha Male',\n",
       " 'Money Trees',\n",
       " 'Michael B Jordan',\n",
       " 'MEET DAY',\n",
       " 'jongin',\n",
       " 'Larry Fink',\n",
       " 'The Embrace',\n",
       " 'PNC Park',\n",
       " 'Daily Quordle 354',\n",
       " 'Happy Friday Everyone',\n",
       " 'Finally Friday',\n",
       " 'Reynolds',\n",
       " 'Dashy',\n",
       " 'Another Friday',\n",
       " 'Nick Adams',\n",
       " 'Dr. King',\n",
       " 'Nutting',\n",
       " 'Burgh']"
      ]
     },
     "execution_count": 23,
     "metadata": {},
     "output_type": "execute_result"
    }
   ],
   "source": [
    "t['San Francisco']"
   ]
  },
  {
   "cell_type": "code",
   "execution_count": 24,
   "id": "cd1b9554",
   "metadata": {},
   "outputs": [],
   "source": [
    "dic = {'fuck':'this'}"
   ]
  },
  {
   "cell_type": "code",
   "execution_count": 25,
   "id": "a7e7db10",
   "metadata": {},
   "outputs": [
    {
     "name": "stdout",
     "output_type": "stream",
     "text": [
      "Fuck\n"
     ]
    }
   ],
   "source": [
    "for x in dic:\n",
    "    print(x.title())"
   ]
  },
  {
   "cell_type": "code",
   "execution_count": 26,
   "id": "f6a2216b",
   "metadata": {},
   "outputs": [
    {
     "name": "stdout",
     "output_type": "stream",
     "text": [
      "['Luka', 'WotC', 'Taeyang', 'Arkansas', 'Friday the 13th', 'Lori Harvey', 'Cutch', '#fridaymorning', 'Founders Day', 'Pirates', '#FridayFeeling', 'Trump Organization', 'Damson', '#FursuitFriday', '#FlashbackFriday', '#FridayVibes', 'Good Friday', 'Dead End', 'Martin Luther King Jr. Day', 'MICHAEL REEVES', 'Paul Ryan', 'Minneapolis Miracle', 'Happy Friyay', 'Keith Davis Jr.', 'Kyle Korver', 'Viernes 13', 'Guam', 'Redz', 'M&Ms', 'Enes', 'Twix', 'ON SALE NOW', 'Alpha Male', 'Money Trees', 'Michael B Jordan', 'MEET DAY', 'jongin', 'Larry Fink', 'The Embrace', 'PNC Park', 'Daily Quordle 354', 'Happy Friday Everyone', 'Finally Friday', 'Reynolds', 'Dashy', 'Another Friday', 'Nick Adams', 'Dr. King', 'Nutting', 'Burgh']\n"
     ]
    }
   ],
   "source": [
    "print(getTrendsByLoc('San Francisco','United States',t))"
   ]
  },
  {
   "cell_type": "code",
   "execution_count": 27,
   "id": "589d5966",
   "metadata": {},
   "outputs": [],
   "source": [
    "f = 1.234"
   ]
  },
  {
   "cell_type": "code",
   "execution_count": 28,
   "id": "f5a3a0cc",
   "metadata": {},
   "outputs": [
    {
     "data": {
      "text/plain": [
       "1.2"
      ]
     },
     "execution_count": 28,
     "metadata": {},
     "output_type": "execute_result"
    }
   ],
   "source": [
    "round(f,1)"
   ]
  },
  {
   "cell_type": "code",
   "execution_count": 29,
   "id": "60f2344e",
   "metadata": {},
   "outputs": [],
   "source": [
    "def areTrendUsed(text,trends):\n",
    "    text = text.lower()\n",
    "    \n",
    "    for t in trends:\n",
    "        if t.lower() in text:\n",
    "            return True\n",
    "        \n",
    "    return False"
   ]
  },
  {
   "cell_type": "code",
   "execution_count": 42,
   "id": "38d67d99",
   "metadata": {},
   "outputs": [
    {
     "data": {
      "text/plain": [
       "\"Its Friday the 13th.....Tell that Black cat to go fuck it self....You're walking in with a big dick and a Voodoo eye!\""
      ]
     },
     "execution_count": 42,
     "metadata": {},
     "output_type": "execute_result"
    }
   ],
   "source": [
    "tweet = api.get_status(1613896836737302531)\n",
    "tweet.text"
   ]
  },
  {
   "cell_type": "code",
   "execution_count": 43,
   "id": "5ad00789",
   "metadata": {},
   "outputs": [
    {
     "data": {
      "text/plain": [
       "True"
      ]
     },
     "execution_count": 43,
     "metadata": {},
     "output_type": "execute_result"
    }
   ],
   "source": [
    "areTrendUsed(tweet.text,getTrendsByLoc('San Francisco','United States',t))"
   ]
  },
  {
   "cell_type": "code",
   "execution_count": 49,
   "id": "f8d835c6",
   "metadata": {},
   "outputs": [
    {
     "data": {
      "text/plain": [
       "{'created_at': 'Fri Jan 13 13:52:45 +0000 2023',\n",
       " 'id': 1613896836737302531,\n",
       " 'id_str': '1613896836737302531',\n",
       " 'text': \"Its Friday the 13th.....Tell that Black cat to go fuck it self....You're walking in with a big dick and a Voodoo eye!\",\n",
       " 'truncated': False,\n",
       " 'entities': {'hashtags': [], 'symbols': [], 'user_mentions': [], 'urls': []},\n",
       " 'source': '<a href=\"https://mobile.twitter.com\" rel=\"nofollow\">Twitter Web App</a>',\n",
       " 'in_reply_to_status_id': None,\n",
       " 'in_reply_to_status_id_str': None,\n",
       " 'in_reply_to_user_id': None,\n",
       " 'in_reply_to_user_id_str': None,\n",
       " 'in_reply_to_screen_name': None,\n",
       " 'user': {'id': 29226377,\n",
       "  'id_str': '29226377',\n",
       "  'name': 'Joey CoCo Diaz',\n",
       "  'screen_name': 'madflavor',\n",
       "  'location': 'New Jersey, USA',\n",
       "  'description': 'Father, Husband, Comedian, Uncle Joey’s Joint, Badmotherfucker from North Bergen NJ! https://t.co/n01ix5X6vR',\n",
       "  'url': 'https://t.co/A98z5f0ndW',\n",
       "  'entities': {'url': {'urls': [{'url': 'https://t.co/A98z5f0ndW',\n",
       "      'expanded_url': 'http://joeycocodiaz.net',\n",
       "      'display_url': 'joeycocodiaz.net',\n",
       "      'indices': [0, 23]}]},\n",
       "   'description': {'urls': [{'url': 'https://t.co/n01ix5X6vR',\n",
       "      'expanded_url': 'https://pro.imdb.com/name/nm0224995?ref_=hm_nv_usr_prof',\n",
       "      'display_url': 'pro.imdb.com/name/nm0224995…',\n",
       "      'indices': [85, 108]}]}},\n",
       "  'protected': False,\n",
       "  'followers_count': 782942,\n",
       "  'friends_count': 547,\n",
       "  'listed_count': 2174,\n",
       "  'created_at': 'Mon Apr 06 15:49:20 +0000 2009',\n",
       "  'favourites_count': 102,\n",
       "  'utc_offset': None,\n",
       "  'time_zone': None,\n",
       "  'geo_enabled': True,\n",
       "  'verified': True,\n",
       "  'statuses_count': 72515,\n",
       "  'lang': None,\n",
       "  'contributors_enabled': False,\n",
       "  'is_translator': False,\n",
       "  'is_translation_enabled': False,\n",
       "  'profile_background_color': 'C0DEED',\n",
       "  'profile_background_image_url': 'http://abs.twimg.com/images/themes/theme1/bg.png',\n",
       "  'profile_background_image_url_https': 'https://abs.twimg.com/images/themes/theme1/bg.png',\n",
       "  'profile_background_tile': False,\n",
       "  'profile_image_url': 'http://pbs.twimg.com/profile_images/1255740731504750595/Xk2mxod4_normal.jpg',\n",
       "  'profile_image_url_https': 'https://pbs.twimg.com/profile_images/1255740731504750595/Xk2mxod4_normal.jpg',\n",
       "  'profile_banner_url': 'https://pbs.twimg.com/profile_banners/29226377/1588226639',\n",
       "  'profile_link_color': '1DA1F2',\n",
       "  'profile_sidebar_border_color': 'C0DEED',\n",
       "  'profile_sidebar_fill_color': 'DDEEF6',\n",
       "  'profile_text_color': '333333',\n",
       "  'profile_use_background_image': True,\n",
       "  'has_extended_profile': False,\n",
       "  'default_profile': True,\n",
       "  'default_profile_image': False,\n",
       "  'following': False,\n",
       "  'follow_request_sent': False,\n",
       "  'notifications': False,\n",
       "  'translator_type': 'none',\n",
       "  'withheld_in_countries': []},\n",
       " 'geo': None,\n",
       " 'coordinates': None,\n",
       " 'place': None,\n",
       " 'contributors': None,\n",
       " 'is_quote_status': False,\n",
       " 'retweet_count': 953,\n",
       " 'favorite_count': 3289,\n",
       " 'favorited': False,\n",
       " 'retweeted': False,\n",
       " 'lang': 'en'}"
      ]
     },
     "execution_count": 49,
     "metadata": {},
     "output_type": "execute_result"
    }
   ],
   "source": []
  },
  {
   "cell_type": "code",
   "execution_count": null,
   "id": "5c1fc298",
   "metadata": {},
   "outputs": [],
   "source": []
  }
 ],
 "metadata": {
  "kernelspec": {
   "display_name": "Python 3 (ipykernel)",
   "language": "python",
   "name": "python3"
  },
  "language_info": {
   "codemirror_mode": {
    "name": "ipython",
    "version": 3
   },
   "file_extension": ".py",
   "mimetype": "text/x-python",
   "name": "python",
   "nbconvert_exporter": "python",
   "pygments_lexer": "ipython3",
   "version": "3.9.13"
  }
 },
 "nbformat": 4,
 "nbformat_minor": 5
}
