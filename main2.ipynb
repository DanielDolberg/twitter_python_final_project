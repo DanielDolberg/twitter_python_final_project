{
 "cells": [
  {
   "cell_type": "code",
   "execution_count": 1,
   "id": "d376a9be",
   "metadata": {},
   "outputs": [],
   "source": [
    "#!pip install selenium\n",
    "#!pip install geonamescache\n",
    "from helper import *\n",
    "import selenium\n",
    "import tweepy\n",
    "import numpy as np\n",
    "import pandas as pd\n",
    "import json\n",
    "from bs4 import BeautifulSoup\n",
    "from IPython.display import clear_output #clears output\n",
    "import datetime\n",
    "import time\n",
    "\n",
    "API_Key ='irXxqVrXin1KsDRM9g6HdF8p8'\n",
    "API_Key_Secret = 'sLQvb8voyrTDz5S93vlt5jE5RlMi8xBuOQtSq2pgERe2QVawIC'\n",
    "\n",
    "Bearer_Token = 'AAAAAAAAAAAAAAAAAAAAACsVlAEAAAAADib49u9Asa6Hbts8UwBEdtc0dsk%3D1d8lVaySeRg1CpJQ6HDLSwK6Mj9wJiptj49PAdwMuvW95zJoar'\n",
    "\n",
    "Access_Token = '1122492746210660352-COptyz3RtF1AVokHw3027iOdbsZZl1'\n",
    "Access_Token_Secret = 'slfBz8pcgCrUmewZgSgVKsmIFhfCcFuinAx16q5eh1Vvr'"
   ]
  },
  {
   "cell_type": "code",
   "execution_count": 2,
   "id": "8984b42d",
   "metadata": {},
   "outputs": [],
   "source": [
    "# authorization of consumer key and consumer secret\n",
    "auth = tweepy.OAuthHandler(API_Key, API_Key_Secret)\n",
    "# set access to user's access key and access secret\n",
    "auth.set_access_token(Access_Token, Access_Token_Secret)\n",
    "# calling the api\n",
    "api = tweepy.API(auth)\n",
    "\n",
    "Client = tweepy.Client(bearer_token=Bearer_Token) \n"
   ]
  },
  {
   "cell_type": "code",
   "execution_count": 3,
   "id": "142cf495",
   "metadata": {},
   "outputs": [],
   "source": [
    "t = getAllTrends()"
   ]
  },
  {
   "cell_type": "code",
   "execution_count": 8,
   "id": "89d24722",
   "metadata": {},
   "outputs": [],
   "source": [
    "def getTrendsByLoc(city,country,trends):\n",
    "    for t in trends:\n",
    "        if city == t.title():\n",
    "            return trends[city]\n",
    "    \n",
    "    return trends[country]"
   ]
  },
  {
   "cell_type": "code",
   "execution_count": 14,
   "id": "f49424a5",
   "metadata": {},
   "outputs": [
    {
     "data": {
      "text/plain": [
       "['Luka',\n",
       " 'WotC',\n",
       " 'Taeyang',\n",
       " 'Arkansas',\n",
       " 'Friday the 13th',\n",
       " 'Lori Harvey',\n",
       " 'Cutch',\n",
       " '#fridaymorning',\n",
       " 'Founders Day',\n",
       " 'Pirates',\n",
       " '#FridayFeeling',\n",
       " 'Trump Organization',\n",
       " 'Damson',\n",
       " '#FursuitFriday',\n",
       " '#FlashbackFriday',\n",
       " '#FridayVibes',\n",
       " 'Good Friday',\n",
       " 'Dead End',\n",
       " 'Martin Luther King Jr. Day',\n",
       " 'MICHAEL REEVES',\n",
       " 'Paul Ryan',\n",
       " 'Minneapolis Miracle',\n",
       " 'Happy Friyay',\n",
       " 'Keith Davis Jr.',\n",
       " 'Kyle Korver',\n",
       " 'Viernes 13',\n",
       " 'Guam',\n",
       " 'Redz',\n",
       " 'M&Ms',\n",
       " 'Enes',\n",
       " 'Twix',\n",
       " 'ON SALE NOW',\n",
       " 'Alpha Male',\n",
       " 'Money Trees',\n",
       " 'Michael B Jordan',\n",
       " 'MEET DAY',\n",
       " 'jongin',\n",
       " 'Larry Fink',\n",
       " 'The Embrace',\n",
       " 'PNC Park',\n",
       " 'Daily Quordle 354',\n",
       " 'Happy Friday Everyone',\n",
       " 'Finally Friday',\n",
       " 'Reynolds',\n",
       " 'Dashy',\n",
       " 'Another Friday',\n",
       " 'Nick Adams',\n",
       " 'Dr. King',\n",
       " 'Nutting',\n",
       " 'Burgh']"
      ]
     },
     "execution_count": 14,
     "metadata": {},
     "output_type": "execute_result"
    }
   ],
   "source": [
    "t['San Francisco']"
   ]
  },
  {
   "cell_type": "code",
   "execution_count": 5,
   "id": "cd1b9554",
   "metadata": {},
   "outputs": [],
   "source": [
    "dic = {'fuck':'this'}"
   ]
  },
  {
   "cell_type": "code",
   "execution_count": 6,
   "id": "a7e7db10",
   "metadata": {},
   "outputs": [
    {
     "name": "stdout",
     "output_type": "stream",
     "text": [
      "Fuck\n"
     ]
    }
   ],
   "source": [
    "for x in dic:\n",
    "    print(x.title())"
   ]
  },
  {
   "cell_type": "code",
   "execution_count": 15,
   "id": "f6a2216b",
   "metadata": {},
   "outputs": [
    {
     "name": "stdout",
     "output_type": "stream",
     "text": [
      "worth\n",
      "['Luka', 'WotC', 'Taeyang', 'Arkansas', 'Friday the 13th', 'Lori Harvey', 'Cutch', '#fridaymorning', 'Founders Day', 'Pirates', '#FridayFeeling', 'Trump Organization', 'Damson', '#FursuitFriday', '#FlashbackFriday', '#FridayVibes', 'Good Friday', 'Dead End', 'Martin Luther King Jr. Day', 'MICHAEL REEVES', 'Paul Ryan', 'Minneapolis Miracle', 'Happy Friyay', 'Keith Davis Jr.', 'Kyle Korver', 'Viernes 13', 'Guam', 'Redz', 'M&Ms', 'Enes', 'Twix', 'ON SALE NOW', 'Alpha Male', 'Money Trees', 'Michael B Jordan', 'MEET DAY', 'jongin', 'Larry Fink', 'The Embrace', 'PNC Park', 'Daily Quordle 354', 'Happy Friday Everyone', 'Finally Friday', 'Reynolds', 'Dashy', 'Another Friday', 'Nick Adams', 'Dr. King', 'Nutting', 'Burgh']\n"
     ]
    }
   ],
   "source": [
    "print(getTrendsByLoc('San Francisco','United States',t))"
   ]
  },
  {
   "cell_type": "code",
   "execution_count": null,
   "id": "589d5966",
   "metadata": {},
   "outputs": [],
   "source": []
  }
 ],
 "metadata": {
  "kernelspec": {
   "display_name": "Python 3 (ipykernel)",
   "language": "python",
   "name": "python3"
  },
  "language_info": {
   "codemirror_mode": {
    "name": "ipython",
    "version": 3
   },
   "file_extension": ".py",
   "mimetype": "text/x-python",
   "name": "python",
   "nbconvert_exporter": "python",
   "pygments_lexer": "ipython3",
   "version": "3.9.13"
  }
 },
 "nbformat": 4,
 "nbformat_minor": 5
}
