{
 "cells": [
  {
   "cell_type": "code",
   "execution_count": 50,
   "id": "d376a9be",
   "metadata": {},
   "outputs": [],
   "source": [
    "#!pip install selenium\n",
    "#!pip install geonamescache\n",
    "from helper import *\n",
    "import selenium\n",
    "import tweepy\n",
    "import numpy as np\n",
    "import pandas as pd\n",
    "import json\n",
    "from bs4 import BeautifulSoup\n",
    "from IPython.display import clear_output #clears output\n",
    "import datetime\n",
    "import time\n",
    "\n",
    "API_Key ='irXxqVrXin1KsDRM9g6HdF8p8'\n",
    "API_Key_Secret = 'sLQvb8voyrTDz5S93vlt5jE5RlMi8xBuOQtSq2pgERe2QVawIC'\n",
    "\n",
    "Bearer_Token = 'AAAAAAAAAAAAAAAAAAAAACsVlAEAAAAADib49u9Asa6Hbts8UwBEdtc0dsk%3D1d8lVaySeRg1CpJQ6HDLSwK6Mj9wJiptj49PAdwMuvW95zJoar'\n",
    "\n",
    "Access_Token = '1122492746210660352-COptyz3RtF1AVokHw3027iOdbsZZl1'\n",
    "Access_Token_Secret = 'slfBz8pcgCrUmewZgSgVKsmIFhfCcFuinAx16q5eh1Vvr'"
   ]
  },
  {
   "cell_type": "code",
   "execution_count": 51,
   "id": "8984b42d",
   "metadata": {},
   "outputs": [],
   "source": [
    "# authorization of consumer key and consumer secret\n",
    "auth = tweepy.OAuthHandler(API_Key, API_Key_Secret)\n",
    "# set access to user's access key and access secret\n",
    "auth.set_access_token(Access_Token, Access_Token_Secret)\n",
    "# calling the api\n",
    "api = tweepy.API(auth)\n",
    "\n",
    "Client = tweepy.Client(bearer_token=Bearer_Token) \n"
   ]
  },
  {
   "cell_type": "code",
   "execution_count": 53,
   "id": "656ef290",
   "metadata": {},
   "outputs": [],
   "source": [
    "df = pd.read_csv('data.csv')"
   ]
  },
  {
   "cell_type": "code",
   "execution_count": 56,
   "id": "3aea10b1",
   "metadata": {},
   "outputs": [],
   "source": [
    "del df['Unnamed: 0']"
   ]
  },
  {
   "cell_type": "code",
   "execution_count": 58,
   "id": "8a978ca2",
   "metadata": {},
   "outputs": [],
   "source": [
    "ids = df['tweet id']"
   ]
  },
  {
   "cell_type": "code",
   "execution_count": 59,
   "id": "b04b336f",
   "metadata": {},
   "outputs": [
    {
     "data": {
      "text/plain": [
       "0       1613988536075665408\n",
       "1       1613988535329071105\n",
       "2       1613988533936721921\n",
       "3       1613988533345128476\n",
       "4       1613988532523257857\n",
       "               ...         \n",
       "9995    1613066614832009218\n",
       "9996    1613066514567168006\n",
       "9997    1613066423261085696\n",
       "9998    1613065923048656896\n",
       "9999    1613065746619465729\n",
       "Name: tweet id, Length: 10000, dtype: int64"
      ]
     },
     "execution_count": 59,
     "metadata": {},
     "output_type": "execute_result"
    }
   ],
   "source": [
    "tweets = []\n",
    "for i in ids:\n",
    "    tweets.append(api.get_status(i))"
   ]
  },
  {
   "cell_type": "code",
   "execution_count": null,
   "id": "31e04fb4",
   "metadata": {},
   "outputs": [],
   "source": [
    "tweets"
   ]
  }
 ],
 "metadata": {
  "kernelspec": {
   "display_name": "Python 3 (ipykernel)",
   "language": "python",
   "name": "python3"
  },
  "language_info": {
   "codemirror_mode": {
    "name": "ipython",
    "version": 3
   },
   "file_extension": ".py",
   "mimetype": "text/x-python",
   "name": "python",
   "nbconvert_exporter": "python",
   "pygments_lexer": "ipython3",
   "version": "3.9.13"
  }
 },
 "nbformat": 4,
 "nbformat_minor": 5
}
