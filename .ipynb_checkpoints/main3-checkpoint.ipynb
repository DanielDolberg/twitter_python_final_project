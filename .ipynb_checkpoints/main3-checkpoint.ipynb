{
 "cells": [
  {
   "cell_type": "code",
   "execution_count": 1,
   "id": "7c42974a",
   "metadata": {
    "jupyter": {
     "source_hidden": true
    },
    "scrolled": true,
    "tags": []
   },
   "outputs": [],
   "source": [
    "#!pip install geonamescache\n",
    "import tweepy\n",
    "import numpy\n",
    "import pandas as pd\n",
    "import requests\n",
    "from bs4 import BeautifulSoup\n",
    "import importlib\n",
    "import json\n",
    "from helper import *\n",
    "from selenium import webdriver\n",
    "import os\n",
    "import matplotlib.pyplot as plt\n",
    "import seaborn as sns\n",
    "from scipy.stats import chi2_contingency\n",
    "from sklearn import linear_model\n"
   ]
  },
  {
   "cell_type": "code",
   "execution_count": 2,
   "id": "6c14b4fd",
   "metadata": {
    "jupyter": {
     "source_hidden": true
    },
    "tags": []
   },
   "outputs": [],
   "source": [
    "pd.options.display.max_columns = 200"
   ]
  },
  {
   "cell_type": "markdown",
   "id": "e1f43726-4b6c-49c1-acf0-fc2183ac0742",
   "metadata": {
    "tags": []
   },
   "source": [
    "## First Impressions"
   ]
  },
  {
   "cell_type": "code",
   "execution_count": 3,
   "id": "9377739e",
   "metadata": {
    "scrolled": true
   },
   "outputs": [
    {
     "data": {
      "text/html": [
       "<div>\n",
       "<style scoped>\n",
       "    .dataframe tbody tr th:only-of-type {\n",
       "        vertical-align: middle;\n",
       "    }\n",
       "\n",
       "    .dataframe tbody tr th {\n",
       "        vertical-align: top;\n",
       "    }\n",
       "\n",
       "    .dataframe thead th {\n",
       "        text-align: right;\n",
       "    }\n",
       "</style>\n",
       "<table border=\"1\" class=\"dataframe\">\n",
       "  <thead>\n",
       "    <tr style=\"text-align: right;\">\n",
       "      <th></th>\n",
       "      <th>Unnamed: 0</th>\n",
       "      <th>name</th>\n",
       "      <th>age</th>\n",
       "      <th>city</th>\n",
       "      <th>country</th>\n",
       "      <th>gender</th>\n",
       "      <th>acount age</th>\n",
       "      <th>total tweets</th>\n",
       "      <th>followers</th>\n",
       "      <th>following</th>\n",
       "      <th>respectability</th>\n",
       "      <th>verified</th>\n",
       "      <th>text</th>\n",
       "      <th>views</th>\n",
       "      <th>likes</th>\n",
       "      <th>retweets</th>\n",
       "      <th>quote retweets</th>\n",
       "      <th>comments</th>\n",
       "      <th>word count</th>\n",
       "      <th>is quote</th>\n",
       "      <th>hashtags</th>\n",
       "      <th>hashtag count</th>\n",
       "      <th>trending</th>\n",
       "      <th>using trends?</th>\n",
       "      <th>link to tweet</th>\n",
       "    </tr>\n",
       "  </thead>\n",
       "  <tbody>\n",
       "    <tr>\n",
       "      <th>0</th>\n",
       "      <td>0</td>\n",
       "      <td>CamuyArenas_AA</td>\n",
       "      <td>NaN</td>\n",
       "      <td>Puente</td>\n",
       "      <td>United States</td>\n",
       "      <td>NaN</td>\n",
       "      <td>3.2</td>\n",
       "      <td>228</td>\n",
       "      <td>50</td>\n",
       "      <td>22</td>\n",
       "      <td>0.440000</td>\n",
       "      <td>False</td>\n",
       "      <td>Just posted a photo @ Estadio Juan F.Cheo Lópe...</td>\n",
       "      <td>13</td>\n",
       "      <td>0</td>\n",
       "      <td>0</td>\n",
       "      <td>0</td>\n",
       "      <td>0</td>\n",
       "      <td>11</td>\n",
       "      <td>False</td>\n",
       "      <td>NaN</td>\n",
       "      <td>0</td>\n",
       "      <td>['Friday the 13th', 'Staley', 'Lori Harvey', '...</td>\n",
       "      <td>False</td>\n",
       "      <td>https://www.twitter.com/CamuyArenas_AA/status/...</td>\n",
       "    </tr>\n",
       "    <tr>\n",
       "      <th>1</th>\n",
       "      <td>1</td>\n",
       "      <td>16p11dot2ds</td>\n",
       "      <td>NaN</td>\n",
       "      <td>Georgia</td>\n",
       "      <td>United States</td>\n",
       "      <td>NaN</td>\n",
       "      <td>4.9</td>\n",
       "      <td>32312</td>\n",
       "      <td>33</td>\n",
       "      <td>481</td>\n",
       "      <td>14.575758</td>\n",
       "      <td>False</td>\n",
       "      <td>This is a prep free zone. https://t.co/2qqlLxy...</td>\n",
       "      <td>336</td>\n",
       "      <td>1</td>\n",
       "      <td>0</td>\n",
       "      <td>0</td>\n",
       "      <td>1</td>\n",
       "      <td>8</td>\n",
       "      <td>True</td>\n",
       "      <td>NaN</td>\n",
       "      <td>0</td>\n",
       "      <td>['Friday the 13th', 'Staley', 'Lori Harvey', '...</td>\n",
       "      <td>False</td>\n",
       "      <td>https://www.twitter.com/16p11dot2ds/status/161...</td>\n",
       "    </tr>\n",
       "    <tr>\n",
       "      <th>2</th>\n",
       "      <td>2</td>\n",
       "      <td>PoopScoopSF</td>\n",
       "      <td>NaN</td>\n",
       "      <td>Downtown</td>\n",
       "      <td>United States</td>\n",
       "      <td>NaN</td>\n",
       "      <td>4.7</td>\n",
       "      <td>163626</td>\n",
       "      <td>415</td>\n",
       "      <td>125</td>\n",
       "      <td>0.301205</td>\n",
       "      <td>False</td>\n",
       "      <td>\"Big poop front of our door.\" (Downtown, D3) h...</td>\n",
       "      <td>9</td>\n",
       "      <td>0</td>\n",
       "      <td>0</td>\n",
       "      <td>0</td>\n",
       "      <td>1</td>\n",
       "      <td>10</td>\n",
       "      <td>False</td>\n",
       "      <td>NaN</td>\n",
       "      <td>0</td>\n",
       "      <td>['Friday the 13th', 'Staley', 'Lori Harvey', '...</td>\n",
       "      <td>False</td>\n",
       "      <td>https://www.twitter.com/PoopScoopSF/status/161...</td>\n",
       "    </tr>\n",
       "    <tr>\n",
       "      <th>3</th>\n",
       "      <td>3</td>\n",
       "      <td>wchazz</td>\n",
       "      <td>NaN</td>\n",
       "      <td>Wesley Chapel</td>\n",
       "      <td>United States</td>\n",
       "      <td>NaN</td>\n",
       "      <td>15.4</td>\n",
       "      <td>48876</td>\n",
       "      <td>377</td>\n",
       "      <td>951</td>\n",
       "      <td>2.522546</td>\n",
       "      <td>False</td>\n",
       "      <td>2nd cardio, target calories 1k @ Wesley Chapel...</td>\n",
       "      <td>4</td>\n",
       "      <td>0</td>\n",
       "      <td>0</td>\n",
       "      <td>0</td>\n",
       "      <td>0</td>\n",
       "      <td>10</td>\n",
       "      <td>False</td>\n",
       "      <td>NaN</td>\n",
       "      <td>0</td>\n",
       "      <td>['Friday the 13th', 'Staley', 'Lori Harvey', '...</td>\n",
       "      <td>False</td>\n",
       "      <td>https://www.twitter.com/wchazz/status/16139885...</td>\n",
       "    </tr>\n",
       "    <tr>\n",
       "      <th>4</th>\n",
       "      <td>4</td>\n",
       "      <td>wyatthebson</td>\n",
       "      <td>NaN</td>\n",
       "      <td>Pier 17</td>\n",
       "      <td>United States</td>\n",
       "      <td>NaN</td>\n",
       "      <td>16.8</td>\n",
       "      <td>24061</td>\n",
       "      <td>1366</td>\n",
       "      <td>4999</td>\n",
       "      <td>3.659590</td>\n",
       "      <td>False</td>\n",
       "      <td>Listen to PODCAST #6 SGUZR by Core Beats on Tn...</td>\n",
       "      <td>13</td>\n",
       "      <td>0</td>\n",
       "      <td>0</td>\n",
       "      <td>0</td>\n",
       "      <td>0</td>\n",
       "      <td>11</td>\n",
       "      <td>False</td>\n",
       "      <td>NaN</td>\n",
       "      <td>0</td>\n",
       "      <td>['Friday the 13th', 'Staley', 'Lori Harvey', '...</td>\n",
       "      <td>False</td>\n",
       "      <td>https://www.twitter.com/wyatthebson/status/161...</td>\n",
       "    </tr>\n",
       "    <tr>\n",
       "      <th>...</th>\n",
       "      <td>...</td>\n",
       "      <td>...</td>\n",
       "      <td>...</td>\n",
       "      <td>...</td>\n",
       "      <td>...</td>\n",
       "      <td>...</td>\n",
       "      <td>...</td>\n",
       "      <td>...</td>\n",
       "      <td>...</td>\n",
       "      <td>...</td>\n",
       "      <td>...</td>\n",
       "      <td>...</td>\n",
       "      <td>...</td>\n",
       "      <td>...</td>\n",
       "      <td>...</td>\n",
       "      <td>...</td>\n",
       "      <td>...</td>\n",
       "      <td>...</td>\n",
       "      <td>...</td>\n",
       "      <td>...</td>\n",
       "      <td>...</td>\n",
       "      <td>...</td>\n",
       "      <td>...</td>\n",
       "      <td>...</td>\n",
       "      <td>...</td>\n",
       "    </tr>\n",
       "    <tr>\n",
       "      <th>9348</th>\n",
       "      <td>9348</td>\n",
       "      <td>arshadzackeriya</td>\n",
       "      <td>NaN</td>\n",
       "      <td>Wellington City</td>\n",
       "      <td>New Zealand</td>\n",
       "      <td>NaN</td>\n",
       "      <td>14.0</td>\n",
       "      <td>1022</td>\n",
       "      <td>289</td>\n",
       "      <td>482</td>\n",
       "      <td>1.667820</td>\n",
       "      <td>False</td>\n",
       "      <td>Stay tuned; the first podcast of 2023 will lau...</td>\n",
       "      <td>138</td>\n",
       "      <td>7</td>\n",
       "      <td>0</td>\n",
       "      <td>0</td>\n",
       "      <td>0</td>\n",
       "      <td>26</td>\n",
       "      <td>False</td>\n",
       "      <td>['DevOps', 'DevOpswithZack']</td>\n",
       "      <td>2</td>\n",
       "      <td>['Paula', 'Chargers', 'Paul Henry', '#UFCVegas...</td>\n",
       "      <td>False</td>\n",
       "      <td>https://www.twitter.com/arshadzackeriya/status...</td>\n",
       "    </tr>\n",
       "    <tr>\n",
       "      <th>9349</th>\n",
       "      <td>9349</td>\n",
       "      <td>Ncookie98</td>\n",
       "      <td>NaN</td>\n",
       "      <td>Auckland</td>\n",
       "      <td>New Zealand</td>\n",
       "      <td>NaN</td>\n",
       "      <td>11.3</td>\n",
       "      <td>133568</td>\n",
       "      <td>121</td>\n",
       "      <td>516</td>\n",
       "      <td>4.264463</td>\n",
       "      <td>False</td>\n",
       "      <td>ถ้าปัดทินเดอร์ไปก็คงไม่เจอน้องหรอก เพราะน่าจะอ...</td>\n",
       "      <td>5</td>\n",
       "      <td>0</td>\n",
       "      <td>0</td>\n",
       "      <td>0</td>\n",
       "      <td>0</td>\n",
       "      <td>2</td>\n",
       "      <td>False</td>\n",
       "      <td>NaN</td>\n",
       "      <td>0</td>\n",
       "      <td>['Paula', 'Chargers', 'Paul Henry', 'Perth', '...</td>\n",
       "      <td>False</td>\n",
       "      <td>https://www.twitter.com/Ncookie98/status/16138...</td>\n",
       "    </tr>\n",
       "    <tr>\n",
       "      <th>9350</th>\n",
       "      <td>9350</td>\n",
       "      <td>erimedi</td>\n",
       "      <td>NaN</td>\n",
       "      <td>Christchurch City</td>\n",
       "      <td>New Zealand</td>\n",
       "      <td>NaN</td>\n",
       "      <td>8.0</td>\n",
       "      <td>10015</td>\n",
       "      <td>190</td>\n",
       "      <td>376</td>\n",
       "      <td>1.978947</td>\n",
       "      <td>False</td>\n",
       "      <td>Irish pub in New Zealand and they’re playing c...</td>\n",
       "      <td>65</td>\n",
       "      <td>2</td>\n",
       "      <td>0</td>\n",
       "      <td>0</td>\n",
       "      <td>0</td>\n",
       "      <td>11</td>\n",
       "      <td>False</td>\n",
       "      <td>NaN</td>\n",
       "      <td>0</td>\n",
       "      <td>['Paula', 'Chargers', 'Paul Henry', '#UFCVegas...</td>\n",
       "      <td>True</td>\n",
       "      <td>https://www.twitter.com/erimedi/status/1613849...</td>\n",
       "    </tr>\n",
       "    <tr>\n",
       "      <th>9351</th>\n",
       "      <td>9351</td>\n",
       "      <td>auralorgasm</td>\n",
       "      <td>NaN</td>\n",
       "      <td>Kapiti Coast District</td>\n",
       "      <td>New Zealand</td>\n",
       "      <td>NaN</td>\n",
       "      <td>9.8</td>\n",
       "      <td>56050</td>\n",
       "      <td>490</td>\n",
       "      <td>412</td>\n",
       "      <td>0.840816</td>\n",
       "      <td>False</td>\n",
       "      <td>Absolute parody account https://t.co/NzZ2gjb3JU</td>\n",
       "      <td>39</td>\n",
       "      <td>1</td>\n",
       "      <td>0</td>\n",
       "      <td>0</td>\n",
       "      <td>0</td>\n",
       "      <td>4</td>\n",
       "      <td>True</td>\n",
       "      <td>NaN</td>\n",
       "      <td>0</td>\n",
       "      <td>['Paula', 'Chargers', 'Paul Henry', '#UFCVegas...</td>\n",
       "      <td>False</td>\n",
       "      <td>https://www.twitter.com/auralorgasm/status/161...</td>\n",
       "    </tr>\n",
       "    <tr>\n",
       "      <th>9352</th>\n",
       "      <td>9352</td>\n",
       "      <td>Wiki_Pita</td>\n",
       "      <td>NaN</td>\n",
       "      <td>Auckland</td>\n",
       "      <td>New Zealand</td>\n",
       "      <td>NaN</td>\n",
       "      <td>9.3</td>\n",
       "      <td>21218</td>\n",
       "      <td>1970</td>\n",
       "      <td>3482</td>\n",
       "      <td>1.767513</td>\n",
       "      <td>False</td>\n",
       "      <td>Pmo it's only available on Xbox live and not P...</td>\n",
       "      <td>819</td>\n",
       "      <td>8</td>\n",
       "      <td>0</td>\n",
       "      <td>0</td>\n",
       "      <td>0</td>\n",
       "      <td>11</td>\n",
       "      <td>True</td>\n",
       "      <td>NaN</td>\n",
       "      <td>0</td>\n",
       "      <td>['Paula', 'Chargers', 'Paul Henry', 'Perth', '...</td>\n",
       "      <td>False</td>\n",
       "      <td>https://www.twitter.com/Wiki_Pita/status/16138...</td>\n",
       "    </tr>\n",
       "  </tbody>\n",
       "</table>\n",
       "<p>48770 rows × 25 columns</p>\n",
       "</div>"
      ],
      "text/plain": [
       "      Unnamed: 0             name  age                   city        country  \\\n",
       "0              0   CamuyArenas_AA  NaN                 Puente  United States   \n",
       "1              1      16p11dot2ds  NaN                Georgia  United States   \n",
       "2              2      PoopScoopSF  NaN               Downtown  United States   \n",
       "3              3           wchazz  NaN          Wesley Chapel  United States   \n",
       "4              4      wyatthebson  NaN                Pier 17  United States   \n",
       "...          ...              ...  ...                    ...            ...   \n",
       "9348        9348  arshadzackeriya  NaN        Wellington City    New Zealand   \n",
       "9349        9349        Ncookie98  NaN               Auckland    New Zealand   \n",
       "9350        9350          erimedi  NaN      Christchurch City    New Zealand   \n",
       "9351        9351      auralorgasm  NaN  Kapiti Coast District    New Zealand   \n",
       "9352        9352        Wiki_Pita  NaN               Auckland    New Zealand   \n",
       "\n",
       "      gender  acount age  total tweets  followers  following  respectability  \\\n",
       "0        NaN         3.2           228         50         22        0.440000   \n",
       "1        NaN         4.9         32312         33        481       14.575758   \n",
       "2        NaN         4.7        163626        415        125        0.301205   \n",
       "3        NaN        15.4         48876        377        951        2.522546   \n",
       "4        NaN        16.8         24061       1366       4999        3.659590   \n",
       "...      ...         ...           ...        ...        ...             ...   \n",
       "9348     NaN        14.0          1022        289        482        1.667820   \n",
       "9349     NaN        11.3        133568        121        516        4.264463   \n",
       "9350     NaN         8.0         10015        190        376        1.978947   \n",
       "9351     NaN         9.8         56050        490        412        0.840816   \n",
       "9352     NaN         9.3         21218       1970       3482        1.767513   \n",
       "\n",
       "      verified                                               text  views  \\\n",
       "0        False  Just posted a photo @ Estadio Juan F.Cheo Lópe...     13   \n",
       "1        False  This is a prep free zone. https://t.co/2qqlLxy...    336   \n",
       "2        False  \"Big poop front of our door.\" (Downtown, D3) h...      9   \n",
       "3        False  2nd cardio, target calories 1k @ Wesley Chapel...      4   \n",
       "4        False  Listen to PODCAST #6 SGUZR by Core Beats on Tn...     13   \n",
       "...        ...                                                ...    ...   \n",
       "9348     False  Stay tuned; the first podcast of 2023 will lau...    138   \n",
       "9349     False  ถ้าปัดทินเดอร์ไปก็คงไม่เจอน้องหรอก เพราะน่าจะอ...      5   \n",
       "9350     False  Irish pub in New Zealand and they’re playing c...     65   \n",
       "9351     False    Absolute parody account https://t.co/NzZ2gjb3JU     39   \n",
       "9352     False  Pmo it's only available on Xbox live and not P...    819   \n",
       "\n",
       "      likes  retweets  quote retweets  comments  word count  is quote  \\\n",
       "0         0         0               0         0          11     False   \n",
       "1         1         0               0         1           8      True   \n",
       "2         0         0               0         1          10     False   \n",
       "3         0         0               0         0          10     False   \n",
       "4         0         0               0         0          11     False   \n",
       "...     ...       ...             ...       ...         ...       ...   \n",
       "9348      7         0               0         0          26     False   \n",
       "9349      0         0               0         0           2     False   \n",
       "9350      2         0               0         0          11     False   \n",
       "9351      1         0               0         0           4      True   \n",
       "9352      8         0               0         0          11      True   \n",
       "\n",
       "                          hashtags  hashtag count  \\\n",
       "0                              NaN              0   \n",
       "1                              NaN              0   \n",
       "2                              NaN              0   \n",
       "3                              NaN              0   \n",
       "4                              NaN              0   \n",
       "...                            ...            ...   \n",
       "9348  ['DevOps', 'DevOpswithZack']              2   \n",
       "9349                           NaN              0   \n",
       "9350                           NaN              0   \n",
       "9351                           NaN              0   \n",
       "9352                           NaN              0   \n",
       "\n",
       "                                               trending  using trends?  \\\n",
       "0     ['Friday the 13th', 'Staley', 'Lori Harvey', '...          False   \n",
       "1     ['Friday the 13th', 'Staley', 'Lori Harvey', '...          False   \n",
       "2     ['Friday the 13th', 'Staley', 'Lori Harvey', '...          False   \n",
       "3     ['Friday the 13th', 'Staley', 'Lori Harvey', '...          False   \n",
       "4     ['Friday the 13th', 'Staley', 'Lori Harvey', '...          False   \n",
       "...                                                 ...            ...   \n",
       "9348  ['Paula', 'Chargers', 'Paul Henry', '#UFCVegas...          False   \n",
       "9349  ['Paula', 'Chargers', 'Paul Henry', 'Perth', '...          False   \n",
       "9350  ['Paula', 'Chargers', 'Paul Henry', '#UFCVegas...           True   \n",
       "9351  ['Paula', 'Chargers', 'Paul Henry', '#UFCVegas...          False   \n",
       "9352  ['Paula', 'Chargers', 'Paul Henry', 'Perth', '...          False   \n",
       "\n",
       "                                          link to tweet  \n",
       "0     https://www.twitter.com/CamuyArenas_AA/status/...  \n",
       "1     https://www.twitter.com/16p11dot2ds/status/161...  \n",
       "2     https://www.twitter.com/PoopScoopSF/status/161...  \n",
       "3     https://www.twitter.com/wchazz/status/16139885...  \n",
       "4     https://www.twitter.com/wyatthebson/status/161...  \n",
       "...                                                 ...  \n",
       "9348  https://www.twitter.com/arshadzackeriya/status...  \n",
       "9349  https://www.twitter.com/Ncookie98/status/16138...  \n",
       "9350  https://www.twitter.com/erimedi/status/1613849...  \n",
       "9351  https://www.twitter.com/auralorgasm/status/161...  \n",
       "9352  https://www.twitter.com/Wiki_Pita/status/16138...  \n",
       "\n",
       "[48770 rows x 25 columns]"
      ]
     },
     "execution_count": 3,
     "metadata": {},
     "output_type": "execute_result"
    }
   ],
   "source": [
    "df=pd.read_csv(\"out.csv\")\n",
    "df=pd.concat([df,pd.read_csv(\"out2.csv\"),pd.read_csv(\"out3.csv\"),pd.read_csv(\"out4.csv\"),pd.read_csv(\"out5.csv\"),pd.read_csv(\"out6.csv\")])\n",
    "df"
   ]
  },
  {
   "cell_type": "code",
   "execution_count": 4,
   "id": "b17e6d9f",
   "metadata": {},
   "outputs": [
    {
     "name": "stdout",
     "output_type": "stream",
     "text": [
      "<class 'pandas.core.frame.DataFrame'>\n",
      "Int64Index: 48770 entries, 0 to 9352\n",
      "Data columns (total 25 columns):\n",
      " #   Column          Non-Null Count  Dtype  \n",
      "---  ------          --------------  -----  \n",
      " 0   Unnamed: 0      48770 non-null  int64  \n",
      " 1   name            48770 non-null  object \n",
      " 2   age             624 non-null    float64\n",
      " 3   city            48770 non-null  object \n",
      " 4   country         48770 non-null  object \n",
      " 5   gender          0 non-null      float64\n",
      " 6   acount age      48770 non-null  float64\n",
      " 7   total tweets    48770 non-null  int64  \n",
      " 8   followers       48770 non-null  int64  \n",
      " 9   following       48770 non-null  int64  \n",
      " 10  respectability  48770 non-null  float64\n",
      " 11  verified        48770 non-null  bool   \n",
      " 12  text            48770 non-null  object \n",
      " 13  views           48770 non-null  int64  \n",
      " 14  likes           48770 non-null  int64  \n",
      " 15  retweets        48770 non-null  int64  \n",
      " 16  quote retweets  48770 non-null  int64  \n",
      " 17  comments        48770 non-null  int64  \n",
      " 18  word count      48770 non-null  int64  \n",
      " 19  is quote        48770 non-null  bool   \n",
      " 20  hashtags        11594 non-null  object \n",
      " 21  hashtag count   48770 non-null  int64  \n",
      " 22  trending        48770 non-null  object \n",
      " 23  using trends?   48770 non-null  bool   \n",
      " 24  link to tweet   48770 non-null  object \n",
      "dtypes: bool(3), float64(4), int64(11), object(7)\n",
      "memory usage: 8.7+ MB\n"
     ]
    }
   ],
   "source": [
    "df.info()"
   ]
  },
  {
   "cell_type": "markdown",
   "id": "9f7b9792-a40f-463e-b4bd-695d91f53bfd",
   "metadata": {},
   "source": [
    "as we can see, age and gender are almost completely comprised NaN"
   ]
  },
  {
   "cell_type": "code",
   "execution_count": 5,
   "id": "b149cec9",
   "metadata": {},
   "outputs": [],
   "source": [
    "df=df.drop([\"age\", \"gender\",'Unnamed: 0'], axis=1)"
   ]
  },
  {
   "cell_type": "code",
   "execution_count": 6,
   "id": "9c8e7e2e",
   "metadata": {},
   "outputs": [
    {
     "name": "stdout",
     "output_type": "stream",
     "text": [
      "<class 'pandas.core.frame.DataFrame'>\n",
      "Int64Index: 48770 entries, 0 to 9352\n",
      "Data columns (total 22 columns):\n",
      " #   Column          Non-Null Count  Dtype  \n",
      "---  ------          --------------  -----  \n",
      " 0   name            48770 non-null  object \n",
      " 1   city            48770 non-null  object \n",
      " 2   country         48770 non-null  object \n",
      " 3   acount age      48770 non-null  float64\n",
      " 4   total tweets    48770 non-null  int64  \n",
      " 5   followers       48770 non-null  int64  \n",
      " 6   following       48770 non-null  int64  \n",
      " 7   respectability  48770 non-null  float64\n",
      " 8   verified        48770 non-null  bool   \n",
      " 9   text            48770 non-null  object \n",
      " 10  views           48770 non-null  int64  \n",
      " 11  likes           48770 non-null  int64  \n",
      " 12  retweets        48770 non-null  int64  \n",
      " 13  quote retweets  48770 non-null  int64  \n",
      " 14  comments        48770 non-null  int64  \n",
      " 15  word count      48770 non-null  int64  \n",
      " 16  is quote        48770 non-null  bool   \n",
      " 17  hashtags        11594 non-null  object \n",
      " 18  hashtag count   48770 non-null  int64  \n",
      " 19  trending        48770 non-null  object \n",
      " 20  using trends?   48770 non-null  bool   \n",
      " 21  link to tweet   48770 non-null  object \n",
      "dtypes: bool(3), float64(2), int64(10), object(7)\n",
      "memory usage: 7.6+ MB\n"
     ]
    }
   ],
   "source": [
    "df.info()"
   ]
  },
  {
   "cell_type": "code",
   "execution_count": 7,
   "id": "880ac192",
   "metadata": {},
   "outputs": [
    {
     "data": {
      "text/html": [
       "<div>\n",
       "<style scoped>\n",
       "    .dataframe tbody tr th:only-of-type {\n",
       "        vertical-align: middle;\n",
       "    }\n",
       "\n",
       "    .dataframe tbody tr th {\n",
       "        vertical-align: top;\n",
       "    }\n",
       "\n",
       "    .dataframe thead th {\n",
       "        text-align: right;\n",
       "    }\n",
       "</style>\n",
       "<table border=\"1\" class=\"dataframe\">\n",
       "  <thead>\n",
       "    <tr style=\"text-align: right;\">\n",
       "      <th></th>\n",
       "      <th>name</th>\n",
       "      <th>city</th>\n",
       "      <th>country</th>\n",
       "      <th>acount age</th>\n",
       "      <th>total tweets</th>\n",
       "      <th>followers</th>\n",
       "      <th>following</th>\n",
       "      <th>respectability</th>\n",
       "      <th>verified</th>\n",
       "      <th>text</th>\n",
       "      <th>views</th>\n",
       "      <th>likes</th>\n",
       "      <th>retweets</th>\n",
       "      <th>quote retweets</th>\n",
       "      <th>comments</th>\n",
       "      <th>word count</th>\n",
       "      <th>is quote</th>\n",
       "      <th>hashtags</th>\n",
       "      <th>hashtag count</th>\n",
       "      <th>trending</th>\n",
       "      <th>using trends?</th>\n",
       "      <th>link to tweet</th>\n",
       "    </tr>\n",
       "  </thead>\n",
       "  <tbody>\n",
       "    <tr>\n",
       "      <th>count</th>\n",
       "      <td>48770</td>\n",
       "      <td>48770</td>\n",
       "      <td>48770</td>\n",
       "      <td>48770.000000</td>\n",
       "      <td>4.877000e+04</td>\n",
       "      <td>4.877000e+04</td>\n",
       "      <td>48770.000000</td>\n",
       "      <td>48770.000000</td>\n",
       "      <td>48770</td>\n",
       "      <td>48770</td>\n",
       "      <td>4.877000e+04</td>\n",
       "      <td>48770.000000</td>\n",
       "      <td>48770.000000</td>\n",
       "      <td>48770.000000</td>\n",
       "      <td>48770.000000</td>\n",
       "      <td>48770.000000</td>\n",
       "      <td>48770</td>\n",
       "      <td>11594</td>\n",
       "      <td>48770.000000</td>\n",
       "      <td>48770</td>\n",
       "      <td>48770</td>\n",
       "      <td>48770</td>\n",
       "    </tr>\n",
       "    <tr>\n",
       "      <th>unique</th>\n",
       "      <td>23825</td>\n",
       "      <td>5721</td>\n",
       "      <td>5</td>\n",
       "      <td>NaN</td>\n",
       "      <td>NaN</td>\n",
       "      <td>NaN</td>\n",
       "      <td>NaN</td>\n",
       "      <td>NaN</td>\n",
       "      <td>2</td>\n",
       "      <td>40335</td>\n",
       "      <td>NaN</td>\n",
       "      <td>NaN</td>\n",
       "      <td>NaN</td>\n",
       "      <td>NaN</td>\n",
       "      <td>NaN</td>\n",
       "      <td>NaN</td>\n",
       "      <td>2</td>\n",
       "      <td>7453</td>\n",
       "      <td>NaN</td>\n",
       "      <td>500</td>\n",
       "      <td>2</td>\n",
       "      <td>40431</td>\n",
       "    </tr>\n",
       "    <tr>\n",
       "      <th>top</th>\n",
       "      <td>KaimoanaVaitoh6</td>\n",
       "      <td>Auckland</td>\n",
       "      <td>United States</td>\n",
       "      <td>NaN</td>\n",
       "      <td>NaN</td>\n",
       "      <td>NaN</td>\n",
       "      <td>NaN</td>\n",
       "      <td>NaN</td>\n",
       "      <td>False</td>\n",
       "      <td>Streaming https://t.co/XvJo1bLBSq</td>\n",
       "      <td>NaN</td>\n",
       "      <td>NaN</td>\n",
       "      <td>NaN</td>\n",
       "      <td>NaN</td>\n",
       "      <td>NaN</td>\n",
       "      <td>NaN</td>\n",
       "      <td>False</td>\n",
       "      <td>['TOTP']</td>\n",
       "      <td>NaN</td>\n",
       "      <td>['#BBCLauraK', '#sundayvibes', '#INDvSL', '#Su...</td>\n",
       "      <td>False</td>\n",
       "      <td>https://www.twitter.com/KaimoanaVaitoh6/status...</td>\n",
       "    </tr>\n",
       "    <tr>\n",
       "      <th>freq</th>\n",
       "      <td>409</td>\n",
       "      <td>3632</td>\n",
       "      <td>10597</td>\n",
       "      <td>NaN</td>\n",
       "      <td>NaN</td>\n",
       "      <td>NaN</td>\n",
       "      <td>NaN</td>\n",
       "      <td>NaN</td>\n",
       "      <td>47445</td>\n",
       "      <td>7</td>\n",
       "      <td>NaN</td>\n",
       "      <td>NaN</td>\n",
       "      <td>NaN</td>\n",
       "      <td>NaN</td>\n",
       "      <td>NaN</td>\n",
       "      <td>NaN</td>\n",
       "      <td>36773</td>\n",
       "      <td>101</td>\n",
       "      <td>NaN</td>\n",
       "      <td>1597</td>\n",
       "      <td>46039</td>\n",
       "      <td>5</td>\n",
       "    </tr>\n",
       "    <tr>\n",
       "      <th>mean</th>\n",
       "      <td>NaN</td>\n",
       "      <td>NaN</td>\n",
       "      <td>NaN</td>\n",
       "      <td>10.321605</td>\n",
       "      <td>6.539100e+04</td>\n",
       "      <td>5.864259e+03</td>\n",
       "      <td>1561.339532</td>\n",
       "      <td>2.046765</td>\n",
       "      <td>NaN</td>\n",
       "      <td>NaN</td>\n",
       "      <td>1.201250e+03</td>\n",
       "      <td>14.522186</td>\n",
       "      <td>1.912385</td>\n",
       "      <td>0.165019</td>\n",
       "      <td>1.147058</td>\n",
       "      <td>15.703363</td>\n",
       "      <td>NaN</td>\n",
       "      <td>NaN</td>\n",
       "      <td>0.581320</td>\n",
       "      <td>NaN</td>\n",
       "      <td>NaN</td>\n",
       "      <td>NaN</td>\n",
       "    </tr>\n",
       "    <tr>\n",
       "      <th>std</th>\n",
       "      <td>NaN</td>\n",
       "      <td>NaN</td>\n",
       "      <td>NaN</td>\n",
       "      <td>4.690969</td>\n",
       "      <td>7.337450e+05</td>\n",
       "      <td>1.150472e+05</td>\n",
       "      <td>7158.727971</td>\n",
       "      <td>4.932596</td>\n",
       "      <td>NaN</td>\n",
       "      <td>NaN</td>\n",
       "      <td>1.372774e+04</td>\n",
       "      <td>230.981068</td>\n",
       "      <td>35.538538</td>\n",
       "      <td>3.096637</td>\n",
       "      <td>19.475611</td>\n",
       "      <td>12.490529</td>\n",
       "      <td>NaN</td>\n",
       "      <td>NaN</td>\n",
       "      <td>1.610394</td>\n",
       "      <td>NaN</td>\n",
       "      <td>NaN</td>\n",
       "      <td>NaN</td>\n",
       "    </tr>\n",
       "    <tr>\n",
       "      <th>min</th>\n",
       "      <td>NaN</td>\n",
       "      <td>NaN</td>\n",
       "      <td>NaN</td>\n",
       "      <td>0.100000</td>\n",
       "      <td>1.000000e+00</td>\n",
       "      <td>0.000000e+00</td>\n",
       "      <td>0.000000</td>\n",
       "      <td>0.000000</td>\n",
       "      <td>NaN</td>\n",
       "      <td>NaN</td>\n",
       "      <td>0.000000e+00</td>\n",
       "      <td>0.000000</td>\n",
       "      <td>0.000000</td>\n",
       "      <td>0.000000</td>\n",
       "      <td>0.000000</td>\n",
       "      <td>1.000000</td>\n",
       "      <td>NaN</td>\n",
       "      <td>NaN</td>\n",
       "      <td>0.000000</td>\n",
       "      <td>NaN</td>\n",
       "      <td>NaN</td>\n",
       "      <td>NaN</td>\n",
       "    </tr>\n",
       "    <tr>\n",
       "      <th>25%</th>\n",
       "      <td>NaN</td>\n",
       "      <td>NaN</td>\n",
       "      <td>NaN</td>\n",
       "      <td>5.800000</td>\n",
       "      <td>2.894000e+03</td>\n",
       "      <td>2.330000e+02</td>\n",
       "      <td>256.000000</td>\n",
       "      <td>0.547652</td>\n",
       "      <td>NaN</td>\n",
       "      <td>NaN</td>\n",
       "      <td>3.700000e+01</td>\n",
       "      <td>0.000000</td>\n",
       "      <td>0.000000</td>\n",
       "      <td>0.000000</td>\n",
       "      <td>0.000000</td>\n",
       "      <td>7.000000</td>\n",
       "      <td>NaN</td>\n",
       "      <td>NaN</td>\n",
       "      <td>0.000000</td>\n",
       "      <td>NaN</td>\n",
       "      <td>NaN</td>\n",
       "      <td>NaN</td>\n",
       "    </tr>\n",
       "    <tr>\n",
       "      <th>50%</th>\n",
       "      <td>NaN</td>\n",
       "      <td>NaN</td>\n",
       "      <td>NaN</td>\n",
       "      <td>11.600000</td>\n",
       "      <td>1.211900e+04</td>\n",
       "      <td>6.530000e+02</td>\n",
       "      <td>655.000000</td>\n",
       "      <td>1.097918</td>\n",
       "      <td>NaN</td>\n",
       "      <td>NaN</td>\n",
       "      <td>1.150000e+02</td>\n",
       "      <td>1.000000</td>\n",
       "      <td>0.000000</td>\n",
       "      <td>0.000000</td>\n",
       "      <td>0.000000</td>\n",
       "      <td>12.000000</td>\n",
       "      <td>NaN</td>\n",
       "      <td>NaN</td>\n",
       "      <td>0.000000</td>\n",
       "      <td>NaN</td>\n",
       "      <td>NaN</td>\n",
       "      <td>NaN</td>\n",
       "    </tr>\n",
       "    <tr>\n",
       "      <th>75%</th>\n",
       "      <td>NaN</td>\n",
       "      <td>NaN</td>\n",
       "      <td>NaN</td>\n",
       "      <td>14.300000</td>\n",
       "      <td>3.725100e+04</td>\n",
       "      <td>1.847000e+03</td>\n",
       "      <td>1553.000000</td>\n",
       "      <td>2.149742</td>\n",
       "      <td>NaN</td>\n",
       "      <td>NaN</td>\n",
       "      <td>3.870000e+02</td>\n",
       "      <td>4.000000</td>\n",
       "      <td>0.000000</td>\n",
       "      <td>0.000000</td>\n",
       "      <td>0.000000</td>\n",
       "      <td>21.000000</td>\n",
       "      <td>NaN</td>\n",
       "      <td>NaN</td>\n",
       "      <td>0.000000</td>\n",
       "      <td>NaN</td>\n",
       "      <td>NaN</td>\n",
       "      <td>NaN</td>\n",
       "    </tr>\n",
       "    <tr>\n",
       "      <th>max</th>\n",
       "      <td>NaN</td>\n",
       "      <td>NaN</td>\n",
       "      <td>NaN</td>\n",
       "      <td>19.500000</td>\n",
       "      <td>5.204750e+07</td>\n",
       "      <td>6.752480e+06</td>\n",
       "      <td>687850.000000</td>\n",
       "      <td>740.000000</td>\n",
       "      <td>NaN</td>\n",
       "      <td>NaN</td>\n",
       "      <td>1.072037e+06</td>\n",
       "      <td>24304.000000</td>\n",
       "      <td>4826.000000</td>\n",
       "      <td>261.000000</td>\n",
       "      <td>3007.000000</td>\n",
       "      <td>220.000000</td>\n",
       "      <td>NaN</td>\n",
       "      <td>NaN</td>\n",
       "      <td>26.000000</td>\n",
       "      <td>NaN</td>\n",
       "      <td>NaN</td>\n",
       "      <td>NaN</td>\n",
       "    </tr>\n",
       "  </tbody>\n",
       "</table>\n",
       "</div>"
      ],
      "text/plain": [
       "                   name      city        country    acount age  total tweets  \\\n",
       "count             48770     48770          48770  48770.000000  4.877000e+04   \n",
       "unique            23825      5721              5           NaN           NaN   \n",
       "top     KaimoanaVaitoh6  Auckland  United States           NaN           NaN   \n",
       "freq                409      3632          10597           NaN           NaN   \n",
       "mean                NaN       NaN            NaN     10.321605  6.539100e+04   \n",
       "std                 NaN       NaN            NaN      4.690969  7.337450e+05   \n",
       "min                 NaN       NaN            NaN      0.100000  1.000000e+00   \n",
       "25%                 NaN       NaN            NaN      5.800000  2.894000e+03   \n",
       "50%                 NaN       NaN            NaN     11.600000  1.211900e+04   \n",
       "75%                 NaN       NaN            NaN     14.300000  3.725100e+04   \n",
       "max                 NaN       NaN            NaN     19.500000  5.204750e+07   \n",
       "\n",
       "           followers      following  respectability verified  \\\n",
       "count   4.877000e+04   48770.000000    48770.000000    48770   \n",
       "unique           NaN            NaN             NaN        2   \n",
       "top              NaN            NaN             NaN    False   \n",
       "freq             NaN            NaN             NaN    47445   \n",
       "mean    5.864259e+03    1561.339532        2.046765      NaN   \n",
       "std     1.150472e+05    7158.727971        4.932596      NaN   \n",
       "min     0.000000e+00       0.000000        0.000000      NaN   \n",
       "25%     2.330000e+02     256.000000        0.547652      NaN   \n",
       "50%     6.530000e+02     655.000000        1.097918      NaN   \n",
       "75%     1.847000e+03    1553.000000        2.149742      NaN   \n",
       "max     6.752480e+06  687850.000000      740.000000      NaN   \n",
       "\n",
       "                                     text         views         likes  \\\n",
       "count                               48770  4.877000e+04  48770.000000   \n",
       "unique                              40335           NaN           NaN   \n",
       "top     Streaming https://t.co/XvJo1bLBSq           NaN           NaN   \n",
       "freq                                    7           NaN           NaN   \n",
       "mean                                  NaN  1.201250e+03     14.522186   \n",
       "std                                   NaN  1.372774e+04    230.981068   \n",
       "min                                   NaN  0.000000e+00      0.000000   \n",
       "25%                                   NaN  3.700000e+01      0.000000   \n",
       "50%                                   NaN  1.150000e+02      1.000000   \n",
       "75%                                   NaN  3.870000e+02      4.000000   \n",
       "max                                   NaN  1.072037e+06  24304.000000   \n",
       "\n",
       "            retweets  quote retweets      comments    word count is quote  \\\n",
       "count   48770.000000    48770.000000  48770.000000  48770.000000    48770   \n",
       "unique           NaN             NaN           NaN           NaN        2   \n",
       "top              NaN             NaN           NaN           NaN    False   \n",
       "freq             NaN             NaN           NaN           NaN    36773   \n",
       "mean        1.912385        0.165019      1.147058     15.703363      NaN   \n",
       "std        35.538538        3.096637     19.475611     12.490529      NaN   \n",
       "min         0.000000        0.000000      0.000000      1.000000      NaN   \n",
       "25%         0.000000        0.000000      0.000000      7.000000      NaN   \n",
       "50%         0.000000        0.000000      0.000000     12.000000      NaN   \n",
       "75%         0.000000        0.000000      0.000000     21.000000      NaN   \n",
       "max      4826.000000      261.000000   3007.000000    220.000000      NaN   \n",
       "\n",
       "        hashtags  hashtag count  \\\n",
       "count      11594   48770.000000   \n",
       "unique      7453            NaN   \n",
       "top     ['TOTP']            NaN   \n",
       "freq         101            NaN   \n",
       "mean         NaN       0.581320   \n",
       "std          NaN       1.610394   \n",
       "min          NaN       0.000000   \n",
       "25%          NaN       0.000000   \n",
       "50%          NaN       0.000000   \n",
       "75%          NaN       0.000000   \n",
       "max          NaN      26.000000   \n",
       "\n",
       "                                                 trending using trends?  \\\n",
       "count                                               48770         48770   \n",
       "unique                                                500             2   \n",
       "top     ['#BBCLauraK', '#sundayvibes', '#INDvSL', '#Su...         False   \n",
       "freq                                                 1597         46039   \n",
       "mean                                                  NaN           NaN   \n",
       "std                                                   NaN           NaN   \n",
       "min                                                   NaN           NaN   \n",
       "25%                                                   NaN           NaN   \n",
       "50%                                                   NaN           NaN   \n",
       "75%                                                   NaN           NaN   \n",
       "max                                                   NaN           NaN   \n",
       "\n",
       "                                            link to tweet  \n",
       "count                                               48770  \n",
       "unique                                              40431  \n",
       "top     https://www.twitter.com/KaimoanaVaitoh6/status...  \n",
       "freq                                                    5  \n",
       "mean                                                  NaN  \n",
       "std                                                   NaN  \n",
       "min                                                   NaN  \n",
       "25%                                                   NaN  \n",
       "50%                                                   NaN  \n",
       "75%                                                   NaN  \n",
       "max                                                   NaN  "
      ]
     },
     "execution_count": 7,
     "metadata": {},
     "output_type": "execute_result"
    }
   ],
   "source": [
    "df.describe(include='all')"
   ]
  },
  {
   "cell_type": "code",
   "execution_count": 8,
   "id": "121a6124",
   "metadata": {},
   "outputs": [
    {
     "data": {
      "text/plain": [
       "United States     10597\n",
       "United Kingdom     9587\n",
       "Australia          9585\n",
       "New Zealand        9546\n",
       "Canada             9455\n",
       "Name: country, dtype: int64"
      ]
     },
     "execution_count": 8,
     "metadata": {},
     "output_type": "execute_result"
    }
   ],
   "source": [
    "df['country'].value_counts()"
   ]
  },
  {
   "cell_type": "code",
   "execution_count": 9,
   "id": "434f1b20",
   "metadata": {},
   "outputs": [
    {
     "data": {
      "text/plain": [
       "<AxesSubplot:ylabel='country'>"
      ]
     },
     "execution_count": 9,
     "metadata": {},
     "output_type": "execute_result"
    },
    {
     "data": {
      "image/png": "[encoded data removed]",
      "text/plain": [
       "<Figure size 640x480 with 1 Axes>"
      ]
     },
     "metadata": {},
     "output_type": "display_data"
    }
   ],
   "source": [
    "df['country'].value_counts().plot(kind='pie')"
   ]
  },
  {
   "cell_type": "code",
   "execution_count": 10,
   "id": "cb91aa69",
   "metadata": {},
   "outputs": [
    {
     "data": {
      "text/plain": [
       "United States     0.217285\n",
       "United Kingdom    0.196576\n",
       "Australia         0.196535\n",
       "New Zealand       0.195735\n",
       "Canada            0.193869\n",
       "Name: country, dtype: float64"
      ]
     },
     "execution_count": 10,
     "metadata": {},
     "output_type": "execute_result"
    }
   ],
   "source": [
    "df['country'].value_counts(normalize=True)"
   ]
  },
  {
   "cell_type": "code",
   "execution_count": 11,
   "id": "39c25234",
   "metadata": {},
   "outputs": [
    {
     "data": {
      "text/html": [
       "<div>\n",
       "<style scoped>\n",
       "    .dataframe tbody tr th:only-of-type {\n",
       "        vertical-align: middle;\n",
       "    }\n",
       "\n",
       "    .dataframe tbody tr th {\n",
       "        vertical-align: top;\n",
       "    }\n",
       "\n",
       "    .dataframe thead th {\n",
       "        text-align: right;\n",
       "    }\n",
       "</style>\n",
       "<table border=\"1\" class=\"dataframe\">\n",
       "  <thead>\n",
       "    <tr style=\"text-align: right;\">\n",
       "      <th></th>\n",
       "      <th>name</th>\n",
       "      <th>city</th>\n",
       "      <th>country</th>\n",
       "      <th>acount age</th>\n",
       "      <th>total tweets</th>\n",
       "      <th>followers</th>\n",
       "      <th>following</th>\n",
       "      <th>respectability</th>\n",
       "      <th>verified</th>\n",
       "      <th>text</th>\n",
       "      <th>views</th>\n",
       "      <th>likes</th>\n",
       "      <th>retweets</th>\n",
       "      <th>quote retweets</th>\n",
       "      <th>comments</th>\n",
       "      <th>word count</th>\n",
       "      <th>is quote</th>\n",
       "      <th>hashtags</th>\n",
       "      <th>hashtag count</th>\n",
       "      <th>trending</th>\n",
       "      <th>using trends?</th>\n",
       "      <th>link to tweet</th>\n",
       "    </tr>\n",
       "  </thead>\n",
       "  <tbody>\n",
       "    <tr>\n",
       "      <th>57</th>\n",
       "      <td>findsfromyester</td>\n",
       "      <td>Denton</td>\n",
       "      <td>United States</td>\n",
       "      <td>12.2</td>\n",
       "      <td>1062969</td>\n",
       "      <td>34362</td>\n",
       "      <td>30571</td>\n",
       "      <td>0.889675</td>\n",
       "      <td>False</td>\n",
       "      <td>Check out this item in my Etsy shop https://t....</td>\n",
       "      <td>3</td>\n",
       "      <td>0</td>\n",
       "      <td>0</td>\n",
       "      <td>0</td>\n",
       "      <td>0</td>\n",
       "      <td>9</td>\n",
       "      <td>False</td>\n",
       "      <td>NaN</td>\n",
       "      <td>0</td>\n",
       "      <td>['Friday the 13th', 'Staley', 'Lori Harvey', '...</td>\n",
       "      <td>False</td>\n",
       "      <td>https://www.twitter.com/findsfromyester/status...</td>\n",
       "    </tr>\n",
       "    <tr>\n",
       "      <th>74</th>\n",
       "      <td>findsfromyester</td>\n",
       "      <td>Denton</td>\n",
       "      <td>United States</td>\n",
       "      <td>12.2</td>\n",
       "      <td>1062969</td>\n",
       "      <td>34362</td>\n",
       "      <td>30571</td>\n",
       "      <td>0.889675</td>\n",
       "      <td>False</td>\n",
       "      <td>Check out this item in my Etsy shop https://t....</td>\n",
       "      <td>2</td>\n",
       "      <td>0</td>\n",
       "      <td>0</td>\n",
       "      <td>0</td>\n",
       "      <td>0</td>\n",
       "      <td>9</td>\n",
       "      <td>False</td>\n",
       "      <td>NaN</td>\n",
       "      <td>0</td>\n",
       "      <td>['Friday the 13th', 'Staley', 'Lori Harvey', '...</td>\n",
       "      <td>False</td>\n",
       "      <td>https://www.twitter.com/findsfromyester/status...</td>\n",
       "    </tr>\n",
       "    <tr>\n",
       "      <th>91</th>\n",
       "      <td>findsfromyester</td>\n",
       "      <td>Denton</td>\n",
       "      <td>United States</td>\n",
       "      <td>12.2</td>\n",
       "      <td>1062969</td>\n",
       "      <td>34362</td>\n",
       "      <td>30571</td>\n",
       "      <td>0.889675</td>\n",
       "      <td>False</td>\n",
       "      <td>Check out this item in my Etsy shop https://t....</td>\n",
       "      <td>3</td>\n",
       "      <td>0</td>\n",
       "      <td>0</td>\n",
       "      <td>0</td>\n",
       "      <td>0</td>\n",
       "      <td>9</td>\n",
       "      <td>False</td>\n",
       "      <td>NaN</td>\n",
       "      <td>0</td>\n",
       "      <td>['Friday the 13th', 'Staley', 'Lori Harvey', '...</td>\n",
       "      <td>False</td>\n",
       "      <td>https://www.twitter.com/findsfromyester/status...</td>\n",
       "    </tr>\n",
       "    <tr>\n",
       "      <th>107</th>\n",
       "      <td>findsfromyester</td>\n",
       "      <td>Denton</td>\n",
       "      <td>United States</td>\n",
       "      <td>12.2</td>\n",
       "      <td>1062969</td>\n",
       "      <td>34362</td>\n",
       "      <td>30571</td>\n",
       "      <td>0.889675</td>\n",
       "      <td>False</td>\n",
       "      <td>Check out this item in my Etsy shop https://t....</td>\n",
       "      <td>2</td>\n",
       "      <td>0</td>\n",
       "      <td>0</td>\n",
       "      <td>0</td>\n",
       "      <td>0</td>\n",
       "      <td>9</td>\n",
       "      <td>False</td>\n",
       "      <td>NaN</td>\n",
       "      <td>0</td>\n",
       "      <td>['Friday the 13th', 'Staley', 'Lori Harvey', '...</td>\n",
       "      <td>False</td>\n",
       "      <td>https://www.twitter.com/findsfromyester/status...</td>\n",
       "    </tr>\n",
       "    <tr>\n",
       "      <th>123</th>\n",
       "      <td>ApartmentCareer</td>\n",
       "      <td>Nashville</td>\n",
       "      <td>United States</td>\n",
       "      <td>15.0</td>\n",
       "      <td>111303</td>\n",
       "      <td>4117</td>\n",
       "      <td>3962</td>\n",
       "      <td>0.962351</td>\n",
       "      <td>False</td>\n",
       "      <td>Now Hiring: Apartment Maintenance Supervisor -...</td>\n",
       "      <td>8</td>\n",
       "      <td>0</td>\n",
       "      <td>0</td>\n",
       "      <td>0</td>\n",
       "      <td>0</td>\n",
       "      <td>18</td>\n",
       "      <td>False</td>\n",
       "      <td>['jobs']</td>\n",
       "      <td>1</td>\n",
       "      <td>['Friday the 13th', 'Staley', 'Lori Harvey', '...</td>\n",
       "      <td>False</td>\n",
       "      <td>https://www.twitter.com/ApartmentCareer/status...</td>\n",
       "    </tr>\n",
       "    <tr>\n",
       "      <th>...</th>\n",
       "      <td>...</td>\n",
       "      <td>...</td>\n",
       "      <td>...</td>\n",
       "      <td>...</td>\n",
       "      <td>...</td>\n",
       "      <td>...</td>\n",
       "      <td>...</td>\n",
       "      <td>...</td>\n",
       "      <td>...</td>\n",
       "      <td>...</td>\n",
       "      <td>...</td>\n",
       "      <td>...</td>\n",
       "      <td>...</td>\n",
       "      <td>...</td>\n",
       "      <td>...</td>\n",
       "      <td>...</td>\n",
       "      <td>...</td>\n",
       "      <td>...</td>\n",
       "      <td>...</td>\n",
       "      <td>...</td>\n",
       "      <td>...</td>\n",
       "      <td>...</td>\n",
       "    </tr>\n",
       "    <tr>\n",
       "      <th>9348</th>\n",
       "      <td>arshadzackeriya</td>\n",
       "      <td>Wellington City</td>\n",
       "      <td>New Zealand</td>\n",
       "      <td>14.0</td>\n",
       "      <td>1022</td>\n",
       "      <td>289</td>\n",
       "      <td>482</td>\n",
       "      <td>1.667820</td>\n",
       "      <td>False</td>\n",
       "      <td>Stay tuned; the first podcast of 2023 will lau...</td>\n",
       "      <td>138</td>\n",
       "      <td>7</td>\n",
       "      <td>0</td>\n",
       "      <td>0</td>\n",
       "      <td>0</td>\n",
       "      <td>26</td>\n",
       "      <td>False</td>\n",
       "      <td>['DevOps', 'DevOpswithZack']</td>\n",
       "      <td>2</td>\n",
       "      <td>['Paula', 'Chargers', 'Paul Henry', '#UFCVegas...</td>\n",
       "      <td>False</td>\n",
       "      <td>https://www.twitter.com/arshadzackeriya/status...</td>\n",
       "    </tr>\n",
       "    <tr>\n",
       "      <th>9349</th>\n",
       "      <td>Ncookie98</td>\n",
       "      <td>Auckland</td>\n",
       "      <td>New Zealand</td>\n",
       "      <td>11.3</td>\n",
       "      <td>133568</td>\n",
       "      <td>121</td>\n",
       "      <td>516</td>\n",
       "      <td>4.264463</td>\n",
       "      <td>False</td>\n",
       "      <td>ถ้าปัดทินเดอร์ไปก็คงไม่เจอน้องหรอก เพราะน่าจะอ...</td>\n",
       "      <td>5</td>\n",
       "      <td>0</td>\n",
       "      <td>0</td>\n",
       "      <td>0</td>\n",
       "      <td>0</td>\n",
       "      <td>2</td>\n",
       "      <td>False</td>\n",
       "      <td>NaN</td>\n",
       "      <td>0</td>\n",
       "      <td>['Paula', 'Chargers', 'Paul Henry', 'Perth', '...</td>\n",
       "      <td>False</td>\n",
       "      <td>https://www.twitter.com/Ncookie98/status/16138...</td>\n",
       "    </tr>\n",
       "    <tr>\n",
       "      <th>9350</th>\n",
       "      <td>erimedi</td>\n",
       "      <td>Christchurch City</td>\n",
       "      <td>New Zealand</td>\n",
       "      <td>8.0</td>\n",
       "      <td>10015</td>\n",
       "      <td>190</td>\n",
       "      <td>376</td>\n",
       "      <td>1.978947</td>\n",
       "      <td>False</td>\n",
       "      <td>Irish pub in New Zealand and they’re playing c...</td>\n",
       "      <td>65</td>\n",
       "      <td>2</td>\n",
       "      <td>0</td>\n",
       "      <td>0</td>\n",
       "      <td>0</td>\n",
       "      <td>11</td>\n",
       "      <td>False</td>\n",
       "      <td>NaN</td>\n",
       "      <td>0</td>\n",
       "      <td>['Paula', 'Chargers', 'Paul Henry', '#UFCVegas...</td>\n",
       "      <td>True</td>\n",
       "      <td>https://www.twitter.com/erimedi/status/1613849...</td>\n",
       "    </tr>\n",
       "    <tr>\n",
       "      <th>9351</th>\n",
       "      <td>auralorgasm</td>\n",
       "      <td>Kapiti Coast District</td>\n",
       "      <td>New Zealand</td>\n",
       "      <td>9.8</td>\n",
       "      <td>56050</td>\n",
       "      <td>490</td>\n",
       "      <td>412</td>\n",
       "      <td>0.840816</td>\n",
       "      <td>False</td>\n",
       "      <td>Absolute parody account https://t.co/NzZ2gjb3JU</td>\n",
       "      <td>39</td>\n",
       "      <td>1</td>\n",
       "      <td>0</td>\n",
       "      <td>0</td>\n",
       "      <td>0</td>\n",
       "      <td>4</td>\n",
       "      <td>True</td>\n",
       "      <td>NaN</td>\n",
       "      <td>0</td>\n",
       "      <td>['Paula', 'Chargers', 'Paul Henry', '#UFCVegas...</td>\n",
       "      <td>False</td>\n",
       "      <td>https://www.twitter.com/auralorgasm/status/161...</td>\n",
       "    </tr>\n",
       "    <tr>\n",
       "      <th>9352</th>\n",
       "      <td>Wiki_Pita</td>\n",
       "      <td>Auckland</td>\n",
       "      <td>New Zealand</td>\n",
       "      <td>9.3</td>\n",
       "      <td>21218</td>\n",
       "      <td>1970</td>\n",
       "      <td>3482</td>\n",
       "      <td>1.767513</td>\n",
       "      <td>False</td>\n",
       "      <td>Pmo it's only available on Xbox live and not P...</td>\n",
       "      <td>819</td>\n",
       "      <td>8</td>\n",
       "      <td>0</td>\n",
       "      <td>0</td>\n",
       "      <td>0</td>\n",
       "      <td>11</td>\n",
       "      <td>True</td>\n",
       "      <td>NaN</td>\n",
       "      <td>0</td>\n",
       "      <td>['Paula', 'Chargers', 'Paul Henry', 'Perth', '...</td>\n",
       "      <td>False</td>\n",
       "      <td>https://www.twitter.com/Wiki_Pita/status/16138...</td>\n",
       "    </tr>\n",
       "  </tbody>\n",
       "</table>\n",
       "<p>24945 rows × 22 columns</p>\n",
       "</div>"
      ],
      "text/plain": [
       "                 name                   city        country  acount age  \\\n",
       "57    findsfromyester                 Denton  United States        12.2   \n",
       "74    findsfromyester                 Denton  United States        12.2   \n",
       "91    findsfromyester                 Denton  United States        12.2   \n",
       "107   findsfromyester                 Denton  United States        12.2   \n",
       "123   ApartmentCareer              Nashville  United States        15.0   \n",
       "...               ...                    ...            ...         ...   \n",
       "9348  arshadzackeriya        Wellington City    New Zealand        14.0   \n",
       "9349        Ncookie98               Auckland    New Zealand        11.3   \n",
       "9350          erimedi      Christchurch City    New Zealand         8.0   \n",
       "9351      auralorgasm  Kapiti Coast District    New Zealand         9.8   \n",
       "9352        Wiki_Pita               Auckland    New Zealand         9.3   \n",
       "\n",
       "      total tweets  followers  following  respectability  verified  \\\n",
       "57         1062969      34362      30571        0.889675     False   \n",
       "74         1062969      34362      30571        0.889675     False   \n",
       "91         1062969      34362      30571        0.889675     False   \n",
       "107        1062969      34362      30571        0.889675     False   \n",
       "123         111303       4117       3962        0.962351     False   \n",
       "...            ...        ...        ...             ...       ...   \n",
       "9348          1022        289        482        1.667820     False   \n",
       "9349        133568        121        516        4.264463     False   \n",
       "9350         10015        190        376        1.978947     False   \n",
       "9351         56050        490        412        0.840816     False   \n",
       "9352         21218       1970       3482        1.767513     False   \n",
       "\n",
       "                                                   text  views  likes  \\\n",
       "57    Check out this item in my Etsy shop https://t....      3      0   \n",
       "74    Check out this item in my Etsy shop https://t....      2      0   \n",
       "91    Check out this item in my Etsy shop https://t....      3      0   \n",
       "107   Check out this item in my Etsy shop https://t....      2      0   \n",
       "123   Now Hiring: Apartment Maintenance Supervisor -...      8      0   \n",
       "...                                                 ...    ...    ...   \n",
       "9348  Stay tuned; the first podcast of 2023 will lau...    138      7   \n",
       "9349  ถ้าปัดทินเดอร์ไปก็คงไม่เจอน้องหรอก เพราะน่าจะอ...      5      0   \n",
       "9350  Irish pub in New Zealand and they’re playing c...     65      2   \n",
       "9351    Absolute parody account https://t.co/NzZ2gjb3JU     39      1   \n",
       "9352  Pmo it's only available on Xbox live and not P...    819      8   \n",
       "\n",
       "      retweets  quote retweets  comments  word count  is quote  \\\n",
       "57           0               0         0           9     False   \n",
       "74           0               0         0           9     False   \n",
       "91           0               0         0           9     False   \n",
       "107          0               0         0           9     False   \n",
       "123          0               0         0          18     False   \n",
       "...        ...             ...       ...         ...       ...   \n",
       "9348         0               0         0          26     False   \n",
       "9349         0               0         0           2     False   \n",
       "9350         0               0         0          11     False   \n",
       "9351         0               0         0           4      True   \n",
       "9352         0               0         0          11      True   \n",
       "\n",
       "                          hashtags  hashtag count  \\\n",
       "57                             NaN              0   \n",
       "74                             NaN              0   \n",
       "91                             NaN              0   \n",
       "107                            NaN              0   \n",
       "123                       ['jobs']              1   \n",
       "...                            ...            ...   \n",
       "9348  ['DevOps', 'DevOpswithZack']              2   \n",
       "9349                           NaN              0   \n",
       "9350                           NaN              0   \n",
       "9351                           NaN              0   \n",
       "9352                           NaN              0   \n",
       "\n",
       "                                               trending  using trends?  \\\n",
       "57    ['Friday the 13th', 'Staley', 'Lori Harvey', '...          False   \n",
       "74    ['Friday the 13th', 'Staley', 'Lori Harvey', '...          False   \n",
       "91    ['Friday the 13th', 'Staley', 'Lori Harvey', '...          False   \n",
       "107   ['Friday the 13th', 'Staley', 'Lori Harvey', '...          False   \n",
       "123   ['Friday the 13th', 'Staley', 'Lori Harvey', '...          False   \n",
       "...                                                 ...            ...   \n",
       "9348  ['Paula', 'Chargers', 'Paul Henry', '#UFCVegas...          False   \n",
       "9349  ['Paula', 'Chargers', 'Paul Henry', 'Perth', '...          False   \n",
       "9350  ['Paula', 'Chargers', 'Paul Henry', '#UFCVegas...           True   \n",
       "9351  ['Paula', 'Chargers', 'Paul Henry', '#UFCVegas...          False   \n",
       "9352  ['Paula', 'Chargers', 'Paul Henry', 'Perth', '...          False   \n",
       "\n",
       "                                          link to tweet  \n",
       "57    https://www.twitter.com/findsfromyester/status...  \n",
       "74    https://www.twitter.com/findsfromyester/status...  \n",
       "91    https://www.twitter.com/findsfromyester/status...  \n",
       "107   https://www.twitter.com/findsfromyester/status...  \n",
       "123   https://www.twitter.com/ApartmentCareer/status...  \n",
       "...                                                 ...  \n",
       "9348  https://www.twitter.com/arshadzackeriya/status...  \n",
       "9349  https://www.twitter.com/Ncookie98/status/16138...  \n",
       "9350  https://www.twitter.com/erimedi/status/1613849...  \n",
       "9351  https://www.twitter.com/auralorgasm/status/161...  \n",
       "9352  https://www.twitter.com/Wiki_Pita/status/16138...  \n",
       "\n",
       "[24945 rows x 22 columns]"
      ]
     },
     "execution_count": 11,
     "metadata": {},
     "output_type": "execute_result"
    }
   ],
   "source": [
    "df[df['name'].duplicated()]"
   ]
  },
  {
   "cell_type": "markdown",
   "id": "1629afae-d8b4-45ad-bd4a-5eaec2183255",
   "metadata": {},
   "source": [
    "### delete dups\n",
    "as we know, bots are very common on social medias, and twitter is no different.\n",
    "when we extracted the tweets, we asked the twitter api to retrieve us all the tweeets that were tweeted in the last 2-5 minutes(back when we extracted them)\n",
    "so that means that if we see a duplicate name, that means that it's either a person that tweeted more than once in the span of 5 minutes which isn't that common. so when we catch a duplicate name, we will assume it's a bot"
   ]
  },
  {
   "cell_type": "code",
   "execution_count": 12,
   "id": "5298f336",
   "metadata": {},
   "outputs": [
    {
     "data": {
      "text/plain": [
       "4368"
      ]
     },
     "execution_count": 12,
     "metadata": {},
     "output_type": "execute_result"
    }
   ],
   "source": [
    "df = pd.read_csv(\"out.csv\")\n",
    "dfl = [df,pd.read_csv(\"out2.csv\"),pd.read_csv(\"out3.csv\"),pd.read_csv(\"out4.csv\"),pd.read_csv(\"out5.csv\"),pd.read_csv(\"out6.csv\")]\n",
    "\n",
    "for i in range(0,6):\n",
    "    dfl[i].drop([\"age\", \"gender\",'Unnamed: 0'], axis=1,inplace=True)\n",
    "    dfl[i].drop_duplicates(subset= 'name' ,keep = False, inplace=True)\n",
    "\n",
    "dfn = pd.concat(dfl,ignore_index=True)\n",
    "\n",
    "dfn[dfn.duplicated('name')].shape[0]"
   ]
  },
  {
   "cell_type": "markdown",
   "id": "f5ee2781-51e1-4b5d-b3f3-a2cee19a3f6c",
   "metadata": {},
   "source": [
    "almost half of the data frame was removed, but 25,000 rows is still enough for us, so we will continue "
   ]
  },
  {
   "cell_type": "markdown",
   "id": "9ef54603-528e-49e9-ba91-fb4e4689dace",
   "metadata": {},
   "source": [
    "now that our data is far more reliable let's\n",
    "# Analyze the data\n",
    "we want to see what variables are affecting the amount of retweets\n",
    "### but first let's remove everything we don't need for the analysis"
   ]
  },
  {
   "cell_type": "code",
   "execution_count": 39,
   "id": "5a2ea9e3-7d08-4545-be47-727729ef8ca9",
   "metadata": {},
   "outputs": [],
   "source": [
    "df = dfn.drop(['text','respectability','trending', 'using trends?', 'link to tweet','hashtags'], axis = 1)\n",
    "df\n",
    "\n",
    "column_to_move = df.pop(\"retweets\")\n",
    "df.insert(df.shape[1], \"retweets\", column_to_move)\n",
    "df.reset_index(drop = True, inplace = True)"
   ]
  },
  {
   "cell_type": "code",
   "execution_count": 40,
   "id": "daadf973-fef5-44f1-8f88-ad2285cf6697",
   "metadata": {},
   "outputs": [
    {
     "name": "stdout",
     "output_type": "stream",
     "text": [
      "<class 'pandas.core.frame.DataFrame'>\n",
      "RangeIndex: 25420 entries, 0 to 25419\n",
      "Data columns (total 16 columns):\n",
      " #   Column          Non-Null Count  Dtype  \n",
      "---  ------          --------------  -----  \n",
      " 0   name            25420 non-null  object \n",
      " 1   city            25420 non-null  object \n",
      " 2   country         25420 non-null  object \n",
      " 3   acount age      25420 non-null  float64\n",
      " 4   total tweets    25420 non-null  int64  \n",
      " 5   followers       25420 non-null  int64  \n",
      " 6   following       25420 non-null  int64  \n",
      " 7   verified        25420 non-null  bool   \n",
      " 8   views           25420 non-null  int64  \n",
      " 9   likes           25420 non-null  int64  \n",
      " 10  quote retweets  25420 non-null  int64  \n",
      " 11  comments        25420 non-null  int64  \n",
      " 12  word count      25420 non-null  int64  \n",
      " 13  is quote        25420 non-null  bool   \n",
      " 14  hashtag count   25420 non-null  int64  \n",
      " 15  retweets        25420 non-null  int64  \n",
      "dtypes: bool(2), float64(1), int64(10), object(3)\n",
      "memory usage: 2.8+ MB\n"
     ]
    }
   ],
   "source": [
    "df.info()"
   ]
  },
  {
   "cell_type": "code",
   "execution_count": 41,
   "id": "cc1e0e5d-28a0-42bd-870a-7d9a79f163d6",
   "metadata": {},
   "outputs": [
    {
     "data": {
      "text/html": [
       "<div>\n",
       "<style scoped>\n",
       "    .dataframe tbody tr th:only-of-type {\n",
       "        vertical-align: middle;\n",
       "    }\n",
       "\n",
       "    .dataframe tbody tr th {\n",
       "        vertical-align: top;\n",
       "    }\n",
       "\n",
       "    .dataframe thead th {\n",
       "        text-align: right;\n",
       "    }\n",
       "</style>\n",
       "<table border=\"1\" class=\"dataframe\">\n",
       "  <thead>\n",
       "    <tr style=\"text-align: right;\">\n",
       "      <th></th>\n",
       "      <th>name</th>\n",
       "      <th>city</th>\n",
       "      <th>country</th>\n",
       "      <th>acount age</th>\n",
       "      <th>total tweets</th>\n",
       "      <th>followers</th>\n",
       "      <th>following</th>\n",
       "      <th>verified</th>\n",
       "      <th>views</th>\n",
       "      <th>likes</th>\n",
       "      <th>quote retweets</th>\n",
       "      <th>comments</th>\n",
       "      <th>word count</th>\n",
       "      <th>is quote</th>\n",
       "      <th>hashtag count</th>\n",
       "      <th>retweets</th>\n",
       "    </tr>\n",
       "  </thead>\n",
       "  <tbody>\n",
       "    <tr>\n",
       "      <th>count</th>\n",
       "      <td>25420</td>\n",
       "      <td>25420</td>\n",
       "      <td>25420</td>\n",
       "      <td>25420.000000</td>\n",
       "      <td>2.542000e+04</td>\n",
       "      <td>2.542000e+04</td>\n",
       "      <td>25420.000000</td>\n",
       "      <td>25420</td>\n",
       "      <td>2.542000e+04</td>\n",
       "      <td>25420.000000</td>\n",
       "      <td>25420.000000</td>\n",
       "      <td>25420.000000</td>\n",
       "      <td>25420.000000</td>\n",
       "      <td>25420</td>\n",
       "      <td>25420.000000</td>\n",
       "      <td>25420.000000</td>\n",
       "    </tr>\n",
       "    <tr>\n",
       "      <th>unique</th>\n",
       "      <td>21052</td>\n",
       "      <td>5120</td>\n",
       "      <td>5</td>\n",
       "      <td>NaN</td>\n",
       "      <td>NaN</td>\n",
       "      <td>NaN</td>\n",
       "      <td>NaN</td>\n",
       "      <td>2</td>\n",
       "      <td>NaN</td>\n",
       "      <td>NaN</td>\n",
       "      <td>NaN</td>\n",
       "      <td>NaN</td>\n",
       "      <td>NaN</td>\n",
       "      <td>2</td>\n",
       "      <td>NaN</td>\n",
       "      <td>NaN</td>\n",
       "    </tr>\n",
       "    <tr>\n",
       "      <th>top</th>\n",
       "      <td>shanredstall</td>\n",
       "      <td>Melbourne</td>\n",
       "      <td>United States</td>\n",
       "      <td>NaN</td>\n",
       "      <td>NaN</td>\n",
       "      <td>NaN</td>\n",
       "      <td>NaN</td>\n",
       "      <td>False</td>\n",
       "      <td>NaN</td>\n",
       "      <td>NaN</td>\n",
       "      <td>NaN</td>\n",
       "      <td>NaN</td>\n",
       "      <td>NaN</td>\n",
       "      <td>False</td>\n",
       "      <td>NaN</td>\n",
       "      <td>NaN</td>\n",
       "    </tr>\n",
       "    <tr>\n",
       "      <th>freq</th>\n",
       "      <td>5</td>\n",
       "      <td>997</td>\n",
       "      <td>7707</td>\n",
       "      <td>NaN</td>\n",
       "      <td>NaN</td>\n",
       "      <td>NaN</td>\n",
       "      <td>NaN</td>\n",
       "      <td>24615</td>\n",
       "      <td>NaN</td>\n",
       "      <td>NaN</td>\n",
       "      <td>NaN</td>\n",
       "      <td>NaN</td>\n",
       "      <td>NaN</td>\n",
       "      <td>19344</td>\n",
       "      <td>NaN</td>\n",
       "      <td>NaN</td>\n",
       "    </tr>\n",
       "    <tr>\n",
       "      <th>mean</th>\n",
       "      <td>NaN</td>\n",
       "      <td>NaN</td>\n",
       "      <td>NaN</td>\n",
       "      <td>10.633836</td>\n",
       "      <td>3.304289e+04</td>\n",
       "      <td>4.763564e+03</td>\n",
       "      <td>1385.762825</td>\n",
       "      <td>NaN</td>\n",
       "      <td>1.419548e+03</td>\n",
       "      <td>16.359127</td>\n",
       "      <td>0.192683</td>\n",
       "      <td>1.275059</td>\n",
       "      <td>16.396341</td>\n",
       "      <td>NaN</td>\n",
       "      <td>0.678245</td>\n",
       "      <td>2.004485</td>\n",
       "    </tr>\n",
       "    <tr>\n",
       "      <th>std</th>\n",
       "      <td>NaN</td>\n",
       "      <td>NaN</td>\n",
       "      <td>NaN</td>\n",
       "      <td>4.466856</td>\n",
       "      <td>7.315972e+05</td>\n",
       "      <td>9.619805e+04</td>\n",
       "      <td>7161.871722</td>\n",
       "      <td>NaN</td>\n",
       "      <td>1.683446e+04</td>\n",
       "      <td>252.815631</td>\n",
       "      <td>3.601038</td>\n",
       "      <td>24.858389</td>\n",
       "      <td>12.724849</td>\n",
       "      <td>NaN</td>\n",
       "      <td>1.828168</td>\n",
       "      <td>40.334819</td>\n",
       "    </tr>\n",
       "    <tr>\n",
       "      <th>min</th>\n",
       "      <td>NaN</td>\n",
       "      <td>NaN</td>\n",
       "      <td>NaN</td>\n",
       "      <td>0.100000</td>\n",
       "      <td>1.000000e+00</td>\n",
       "      <td>0.000000e+00</td>\n",
       "      <td>0.000000</td>\n",
       "      <td>NaN</td>\n",
       "      <td>0.000000e+00</td>\n",
       "      <td>0.000000</td>\n",
       "      <td>0.000000</td>\n",
       "      <td>0.000000</td>\n",
       "      <td>1.000000</td>\n",
       "      <td>NaN</td>\n",
       "      <td>0.000000</td>\n",
       "      <td>0.000000</td>\n",
       "    </tr>\n",
       "    <tr>\n",
       "      <th>25%</th>\n",
       "      <td>NaN</td>\n",
       "      <td>NaN</td>\n",
       "      <td>NaN</td>\n",
       "      <td>6.900000</td>\n",
       "      <td>2.028750e+03</td>\n",
       "      <td>2.120000e+02</td>\n",
       "      <td>272.000000</td>\n",
       "      <td>NaN</td>\n",
       "      <td>4.600000e+01</td>\n",
       "      <td>0.000000</td>\n",
       "      <td>0.000000</td>\n",
       "      <td>0.000000</td>\n",
       "      <td>7.000000</td>\n",
       "      <td>NaN</td>\n",
       "      <td>0.000000</td>\n",
       "      <td>0.000000</td>\n",
       "    </tr>\n",
       "    <tr>\n",
       "      <th>50%</th>\n",
       "      <td>NaN</td>\n",
       "      <td>NaN</td>\n",
       "      <td>NaN</td>\n",
       "      <td>11.900000</td>\n",
       "      <td>7.516500e+03</td>\n",
       "      <td>5.840000e+02</td>\n",
       "      <td>650.000000</td>\n",
       "      <td>NaN</td>\n",
       "      <td>1.410000e+02</td>\n",
       "      <td>1.000000</td>\n",
       "      <td>0.000000</td>\n",
       "      <td>0.000000</td>\n",
       "      <td>12.000000</td>\n",
       "      <td>NaN</td>\n",
       "      <td>0.000000</td>\n",
       "      <td>0.000000</td>\n",
       "    </tr>\n",
       "    <tr>\n",
       "      <th>75%</th>\n",
       "      <td>NaN</td>\n",
       "      <td>NaN</td>\n",
       "      <td>NaN</td>\n",
       "      <td>14.300000</td>\n",
       "      <td>2.277325e+04</td>\n",
       "      <td>1.621250e+03</td>\n",
       "      <td>1454.000000</td>\n",
       "      <td>NaN</td>\n",
       "      <td>4.620000e+02</td>\n",
       "      <td>5.000000</td>\n",
       "      <td>0.000000</td>\n",
       "      <td>1.000000</td>\n",
       "      <td>23.000000</td>\n",
       "      <td>NaN</td>\n",
       "      <td>1.000000</td>\n",
       "      <td>0.000000</td>\n",
       "    </tr>\n",
       "    <tr>\n",
       "      <th>max</th>\n",
       "      <td>NaN</td>\n",
       "      <td>NaN</td>\n",
       "      <td>NaN</td>\n",
       "      <td>19.500000</td>\n",
       "      <td>5.204232e+07</td>\n",
       "      <td>6.752298e+06</td>\n",
       "      <td>687850.000000</td>\n",
       "      <td>NaN</td>\n",
       "      <td>1.072037e+06</td>\n",
       "      <td>24304.000000</td>\n",
       "      <td>261.000000</td>\n",
       "      <td>3007.000000</td>\n",
       "      <td>109.000000</td>\n",
       "      <td>NaN</td>\n",
       "      <td>26.000000</td>\n",
       "      <td>4826.000000</td>\n",
       "    </tr>\n",
       "  </tbody>\n",
       "</table>\n",
       "</div>"
      ],
      "text/plain": [
       "                name       city        country    acount age  total tweets  \\\n",
       "count          25420      25420          25420  25420.000000  2.542000e+04   \n",
       "unique         21052       5120              5           NaN           NaN   \n",
       "top     shanredstall  Melbourne  United States           NaN           NaN   \n",
       "freq               5        997           7707           NaN           NaN   \n",
       "mean             NaN        NaN            NaN     10.633836  3.304289e+04   \n",
       "std              NaN        NaN            NaN      4.466856  7.315972e+05   \n",
       "min              NaN        NaN            NaN      0.100000  1.000000e+00   \n",
       "25%              NaN        NaN            NaN      6.900000  2.028750e+03   \n",
       "50%              NaN        NaN            NaN     11.900000  7.516500e+03   \n",
       "75%              NaN        NaN            NaN     14.300000  2.277325e+04   \n",
       "max              NaN        NaN            NaN     19.500000  5.204232e+07   \n",
       "\n",
       "           followers      following verified         views         likes  \\\n",
       "count   2.542000e+04   25420.000000    25420  2.542000e+04  25420.000000   \n",
       "unique           NaN            NaN        2           NaN           NaN   \n",
       "top              NaN            NaN    False           NaN           NaN   \n",
       "freq             NaN            NaN    24615           NaN           NaN   \n",
       "mean    4.763564e+03    1385.762825      NaN  1.419548e+03     16.359127   \n",
       "std     9.619805e+04    7161.871722      NaN  1.683446e+04    252.815631   \n",
       "min     0.000000e+00       0.000000      NaN  0.000000e+00      0.000000   \n",
       "25%     2.120000e+02     272.000000      NaN  4.600000e+01      0.000000   \n",
       "50%     5.840000e+02     650.000000      NaN  1.410000e+02      1.000000   \n",
       "75%     1.621250e+03    1454.000000      NaN  4.620000e+02      5.000000   \n",
       "max     6.752298e+06  687850.000000      NaN  1.072037e+06  24304.000000   \n",
       "\n",
       "        quote retweets      comments    word count is quote  hashtag count  \\\n",
       "count     25420.000000  25420.000000  25420.000000    25420   25420.000000   \n",
       "unique             NaN           NaN           NaN        2            NaN   \n",
       "top                NaN           NaN           NaN    False            NaN   \n",
       "freq               NaN           NaN           NaN    19344            NaN   \n",
       "mean          0.192683      1.275059     16.396341      NaN       0.678245   \n",
       "std           3.601038     24.858389     12.724849      NaN       1.828168   \n",
       "min           0.000000      0.000000      1.000000      NaN       0.000000   \n",
       "25%           0.000000      0.000000      7.000000      NaN       0.000000   \n",
       "50%           0.000000      0.000000     12.000000      NaN       0.000000   \n",
       "75%           0.000000      1.000000     23.000000      NaN       1.000000   \n",
       "max         261.000000   3007.000000    109.000000      NaN      26.000000   \n",
       "\n",
       "            retweets  \n",
       "count   25420.000000  \n",
       "unique           NaN  \n",
       "top              NaN  \n",
       "freq             NaN  \n",
       "mean        2.004485  \n",
       "std        40.334819  \n",
       "min         0.000000  \n",
       "25%         0.000000  \n",
       "50%         0.000000  \n",
       "75%         0.000000  \n",
       "max      4826.000000  "
      ]
     },
     "execution_count": 41,
     "metadata": {},
     "output_type": "execute_result"
    }
   ],
   "source": [
    "df.describe(include='all')"
   ]
  },
  {
   "cell_type": "code",
   "execution_count": 16,
   "id": "5459787d",
   "metadata": {},
   "outputs": [
    {
     "data": {
      "text/plain": [
       "0       20142\n",
       "1        2582\n",
       "2         889\n",
       "3         457\n",
       "4         268\n",
       "        ...  \n",
       "4826        1\n",
       "55          1\n",
       "80          1\n",
       "420         1\n",
       "77          1\n",
       "Name: retweets, Length: 134, dtype: int64"
      ]
     },
     "execution_count": 16,
     "metadata": {},
     "output_type": "execute_result"
    }
   ],
   "source": [
    "df['retweets'].value_counts()"
   ]
  },
  {
   "cell_type": "code",
   "execution_count": 76,
   "id": "72972670",
   "metadata": {},
   "outputs": [
    {
     "data": {
      "text/plain": [
       "<AxesSubplot:>"
      ]
     },
     "execution_count": 76,
     "metadata": {},
     "output_type": "execute_result"
    },
    {
     "data": {
      "image/png": "[encoded data removed]",
      "text/plain": [
       "<Figure size 640x480 with 1 Axes>"
      ]
     },
     "metadata": {},
     "output_type": "display_data"
    }
   ],
   "source": [
    "df['retweets'].value_counts().hist(bins = 20)"
   ]
  },
  {
   "cell_type": "markdown",
   "id": "e50192cb-c639-4675-8054-cdbf9fb473a3",
   "metadata": {},
   "source": [
    "looks like we have some outliers, let's remove them"
   ]
  },
  {
   "cell_type": "code",
   "execution_count": 77,
   "id": "e9f06caf-8aa1-4c43-9b07-7600b3dac7a1",
   "metadata": {},
   "outputs": [],
   "source": [
    "df= df[df['retweets'] < 17500]"
   ]
  },
  {
   "cell_type": "code",
   "execution_count": 43,
   "id": "f535c8ef-08a0-4891-86b9-080773b205f0",
   "metadata": {},
   "outputs": [
    {
     "name": "stdout",
     "output_type": "stream",
     "text": [
      "United States     7707\n",
      "United Kingdom    6416\n",
      "Canada            4888\n",
      "Australia         4381\n",
      "New Zealand       2028\n",
      "Name: country, dtype: int64\n"
     ]
    },
    {
     "data": {
      "text/plain": [
       "<AxesSubplot:ylabel='country'>"
      ]
     },
     "execution_count": 43,
     "metadata": {},
     "output_type": "execute_result"
    },
    {
     "data": {
      "image/png": "[encoded data removed]",
      "text/plain": [
       "<Figure size 640x480 with 1 Axes>"
      ]
     },
     "metadata": {},
     "output_type": "display_data"
    }
   ],
   "source": [
    "cvc = df.country.value_counts()\n",
    "print(cvc)\n",
    "cvc.plot(kind='pie')"
   ]
  },
  {
   "cell_type": "code",
   "execution_count": 48,
   "id": "da21a9d4",
   "metadata": {},
   "outputs": [
    {
     "data": {
      "image/png": "[encoded data removed]",
      "text/plain": [
       "<Figure size 640x480 with 1 Axes>"
      ]
     },
     "metadata": {},
     "output_type": "display_data"
    }
   ],
   "source": [
    "#sns.barplot(x='country', y='retweets', data=df)\n",
    "plt.bar(df['country'],df['retweets'])\n",
    "plt.show()\n"
   ]
  },
  {
   "cell_type": "markdown",
   "id": "0c717772-bb7f-42d5-b22f-82cfc0720a01",
   "metadata": {},
   "source": [
    "it apears that most of the retweeted tweets are from the UK, followed by Canada and the US. this is interesting since the US has the most tweets. canada has 3000 less the the US and yet it has more retweets.\n",
    "this might be becuase the amount of users in US makes it harder for ones tweet to be seen by the public, while places with less users have more chances to seen.\n",
    "\n",
    "this shows that the country of origin is a valid factor"
   ]
  },
  {
   "cell_type": "code",
   "execution_count": 35,
   "id": "b197814c",
   "metadata": {},
   "outputs": [
    {
     "data": {
      "image/png": "[encoded data removed]",
      "text/plain": [
       "<Figure size 640x480 with 1 Axes>"
      ]
     },
     "metadata": {},
     "output_type": "display_data"
    }
   ],
   "source": [
    "sns.barplot(x='verified', y='retweets', data=df)\n",
    "plt.show()"
   ]
  },
  {
   "cell_type": "markdown",
   "id": "70b1f85b-e272-4ffc-83c1-b0cd7074430c",
   "metadata": {},
   "source": [
    "it's not a secret that on twitter the \"verification bedge\" is a status symbol that is mostly reserved for the famouse and popular, so it's no suprise that the people who are proven to be popular are popular.\n",
    "verification is an important factor"
   ]
  },
  {
   "cell_type": "code",
   "execution_count": 66,
   "id": "52b0d61f",
   "metadata": {},
   "outputs": [
    {
     "data": {
      "text/plain": [
       "<matplotlib.collections.PathCollection at 0x27dd4feb370>"
      ]
     },
     "execution_count": 66,
     "metadata": {},
     "output_type": "execute_result"
    },
    {
     "data": {
      "image/png": "[encoded data removed]",
      "text/plain": [
       "<Figure size 640x480 with 1 Axes>"
      ]
     },
     "metadata": {},
     "output_type": "display_data"
    }
   ],
   "source": [
    "plt.scatter(df['acount age'],df['retweets'])"
   ]
  },
  {
   "cell_type": "code",
   "execution_count": 22,
   "id": "db22cc86",
   "metadata": {},
   "outputs": [
    {
     "data": {
      "text/plain": [
       "<matplotlib.collections.PathCollection at 0x27dc755dd30>"
      ]
     },
     "execution_count": 22,
     "metadata": {},
     "output_type": "execute_result"
    },
    {
     "data": {
      "image/png": "[encoded data removed]",
      "text/plain": [
       "<Figure size 640x480 with 1 Axes>"
      ]
     },
     "metadata": {},
     "output_type": "display_data"
    }
   ],
   "source": [
    "plt.scatter(df['total tweets'],df['retweets'])"
   ]
  },
  {
   "cell_type": "code",
   "execution_count": 23,
   "id": "4a982191",
   "metadata": {},
   "outputs": [
    {
     "data": {
      "text/plain": [
       "<matplotlib.collections.PathCollection at 0x27dc7489c10>"
      ]
     },
     "execution_count": 23,
     "metadata": {},
     "output_type": "execute_result"
    },
    {
     "data": {
      "image/png": "[encoded data removed]",
      "text/plain": [
       "<Figure size 640x480 with 1 Axes>"
      ]
     },
     "metadata": {},
     "output_type": "display_data"
    }
   ],
   "source": [
    "plt.scatter(df['followers'],df['retweets'])"
   ]
  },
  {
   "cell_type": "code",
   "execution_count": 24,
   "id": "fc8b34ca",
   "metadata": {},
   "outputs": [
    {
     "data": {
      "text/plain": [
       "<matplotlib.collections.PathCollection at 0x27dc7aadbb0>"
      ]
     },
     "execution_count": 24,
     "metadata": {},
     "output_type": "execute_result"
    },
    {
     "data": {
      "image/png": "[encoded data removed]",
      "text/plain": [
       "<Figure size 640x480 with 1 Axes>"
      ]
     },
     "metadata": {},
     "output_type": "display_data"
    }
   ],
   "source": [
    "plt.scatter(df['following'],df['retweets'])"
   ]
  },
  {
   "cell_type": "code",
   "execution_count": 25,
   "id": "0fa1d27f",
   "metadata": {},
   "outputs": [
    {
     "data": {
      "text/plain": [
       "<matplotlib.collections.PathCollection at 0x27dc7b46b20>"
      ]
     },
     "execution_count": 25,
     "metadata": {},
     "output_type": "execute_result"
    },
    {
     "data": {
      "image/png": "[encoded data removed]",
      "text/plain": [
       "<Figure size 640x480 with 1 Axes>"
      ]
     },
     "metadata": {},
     "output_type": "display_data"
    }
   ],
   "source": [
    "plt.scatter(df['word count'],df['retweets'])"
   ]
  },
  {
   "cell_type": "code",
   "execution_count": 26,
   "id": "abc9e6bd",
   "metadata": {},
   "outputs": [
    {
     "data": {
      "text/plain": [
       "1"
      ]
     },
     "execution_count": 26,
     "metadata": {},
     "output_type": "execute_result"
    }
   ],
   "source": [
    "dups = df[df['name'].duplicated(keep = False)]['name'].value_counts()\n",
    "\n",
    "for n in dups.keys():\n",
    "    if dups[n] > 2:\n",
    "        df.drop(df[df['name'] == n].index,inplace = True)\n",
    "        \n",
    "df[df['name'].duplicated()]['name'].value_counts().max()"
   ]
  },
  {
   "cell_type": "markdown",
   "id": "b97300fd",
   "metadata": {},
   "source": [
    "מוריד את הרובוטים המסריחים הללו"
   ]
  },
  {
   "cell_type": "code",
   "execution_count": 27,
   "id": "ed80b48b",
   "metadata": {},
   "outputs": [
    {
     "ename": "ValueError",
     "evalue": "Could not interpret input 'is respactable?'",
     "output_type": "error",
     "traceback": [
      "\u001b[1;31m---------------------------------------------------------------------------\u001b[0m",
      "\u001b[1;31mValueError\u001b[0m                                Traceback (most recent call last)",
      "\u001b[1;32m~\\AppData\\Local\\Temp\\ipykernel_9144\\497056607.py\u001b[0m in \u001b[0;36m<module>\u001b[1;34m\u001b[0m\n\u001b[1;32m----> 1\u001b[1;33m \u001b[0msns\u001b[0m\u001b[1;33m.\u001b[0m\u001b[0mbarplot\u001b[0m\u001b[1;33m(\u001b[0m\u001b[0mx\u001b[0m\u001b[1;33m=\u001b[0m\u001b[1;34m'is respactable?'\u001b[0m\u001b[1;33m,\u001b[0m \u001b[0my\u001b[0m\u001b[1;33m=\u001b[0m\u001b[1;34m'retweets'\u001b[0m\u001b[1;33m,\u001b[0m \u001b[0mdata\u001b[0m\u001b[1;33m=\u001b[0m\u001b[0mdf\u001b[0m\u001b[1;33m)\u001b[0m\u001b[1;33m\u001b[0m\u001b[1;33m\u001b[0m\u001b[0m\n\u001b[0m\u001b[0;32m      2\u001b[0m \u001b[0mplt\u001b[0m\u001b[1;33m.\u001b[0m\u001b[0mshow\u001b[0m\u001b[1;33m(\u001b[0m\u001b[1;33m)\u001b[0m\u001b[1;33m\u001b[0m\u001b[1;33m\u001b[0m\u001b[0m\n",
      "\u001b[1;32m~\\anaconda3\\lib\\site-packages\\seaborn\\_decorators.py\u001b[0m in \u001b[0;36minner_f\u001b[1;34m(*args, **kwargs)\u001b[0m\n\u001b[0;32m     44\u001b[0m             )\n\u001b[0;32m     45\u001b[0m         \u001b[0mkwargs\u001b[0m\u001b[1;33m.\u001b[0m\u001b[0mupdate\u001b[0m\u001b[1;33m(\u001b[0m\u001b[1;33m{\u001b[0m\u001b[0mk\u001b[0m\u001b[1;33m:\u001b[0m \u001b[0marg\u001b[0m \u001b[1;32mfor\u001b[0m \u001b[0mk\u001b[0m\u001b[1;33m,\u001b[0m \u001b[0marg\u001b[0m \u001b[1;32min\u001b[0m \u001b[0mzip\u001b[0m\u001b[1;33m(\u001b[0m\u001b[0msig\u001b[0m\u001b[1;33m.\u001b[0m\u001b[0mparameters\u001b[0m\u001b[1;33m,\u001b[0m \u001b[0margs\u001b[0m\u001b[1;33m)\u001b[0m\u001b[1;33m}\u001b[0m\u001b[1;33m)\u001b[0m\u001b[1;33m\u001b[0m\u001b[1;33m\u001b[0m\u001b[0m\n\u001b[1;32m---> 46\u001b[1;33m         \u001b[1;32mreturn\u001b[0m \u001b[0mf\u001b[0m\u001b[1;33m(\u001b[0m\u001b[1;33m**\u001b[0m\u001b[0mkwargs\u001b[0m\u001b[1;33m)\u001b[0m\u001b[1;33m\u001b[0m\u001b[1;33m\u001b[0m\u001b[0m\n\u001b[0m\u001b[0;32m     47\u001b[0m     \u001b[1;32mreturn\u001b[0m \u001b[0minner_f\u001b[0m\u001b[1;33m\u001b[0m\u001b[1;33m\u001b[0m\u001b[0m\n\u001b[0;32m     48\u001b[0m \u001b[1;33m\u001b[0m\u001b[0m\n",
      "\u001b[1;32m~\\anaconda3\\lib\\site-packages\\seaborn\\categorical.py\u001b[0m in \u001b[0;36mbarplot\u001b[1;34m(x, y, hue, data, order, hue_order, estimator, ci, n_boot, units, seed, orient, color, palette, saturation, errcolor, errwidth, capsize, dodge, ax, **kwargs)\u001b[0m\n\u001b[0;32m   3180\u001b[0m ):\n\u001b[0;32m   3181\u001b[0m \u001b[1;33m\u001b[0m\u001b[0m\n\u001b[1;32m-> 3182\u001b[1;33m     plotter = _BarPlotter(x, y, hue, data, order, hue_order,\n\u001b[0m\u001b[0;32m   3183\u001b[0m                           \u001b[0mestimator\u001b[0m\u001b[1;33m,\u001b[0m \u001b[0mci\u001b[0m\u001b[1;33m,\u001b[0m \u001b[0mn_boot\u001b[0m\u001b[1;33m,\u001b[0m \u001b[0munits\u001b[0m\u001b[1;33m,\u001b[0m \u001b[0mseed\u001b[0m\u001b[1;33m,\u001b[0m\u001b[1;33m\u001b[0m\u001b[1;33m\u001b[0m\u001b[0m\n\u001b[0;32m   3184\u001b[0m                           \u001b[0morient\u001b[0m\u001b[1;33m,\u001b[0m \u001b[0mcolor\u001b[0m\u001b[1;33m,\u001b[0m \u001b[0mpalette\u001b[0m\u001b[1;33m,\u001b[0m \u001b[0msaturation\u001b[0m\u001b[1;33m,\u001b[0m\u001b[1;33m\u001b[0m\u001b[1;33m\u001b[0m\u001b[0m\n",
      "\u001b[1;32m~\\anaconda3\\lib\\site-packages\\seaborn\\categorical.py\u001b[0m in \u001b[0;36m__init__\u001b[1;34m(self, x, y, hue, data, order, hue_order, estimator, ci, n_boot, units, seed, orient, color, palette, saturation, errcolor, errwidth, capsize, dodge)\u001b[0m\n\u001b[0;32m   1582\u001b[0m                  errwidth, capsize, dodge):\n\u001b[0;32m   1583\u001b[0m         \u001b[1;34m\"\"\"Initialize the plotter.\"\"\"\u001b[0m\u001b[1;33m\u001b[0m\u001b[1;33m\u001b[0m\u001b[0m\n\u001b[1;32m-> 1584\u001b[1;33m         self.establish_variables(x, y, hue, data, orient,\n\u001b[0m\u001b[0;32m   1585\u001b[0m                                  order, hue_order, units)\n\u001b[0;32m   1586\u001b[0m         \u001b[0mself\u001b[0m\u001b[1;33m.\u001b[0m\u001b[0mestablish_colors\u001b[0m\u001b[1;33m(\u001b[0m\u001b[0mcolor\u001b[0m\u001b[1;33m,\u001b[0m \u001b[0mpalette\u001b[0m\u001b[1;33m,\u001b[0m \u001b[0msaturation\u001b[0m\u001b[1;33m)\u001b[0m\u001b[1;33m\u001b[0m\u001b[1;33m\u001b[0m\u001b[0m\n",
      "\u001b[1;32m~\\anaconda3\\lib\\site-packages\\seaborn\\categorical.py\u001b[0m in \u001b[0;36mestablish_variables\u001b[1;34m(self, x, y, hue, data, orient, order, hue_order, units)\u001b[0m\n\u001b[0;32m    151\u001b[0m                 \u001b[1;32mif\u001b[0m \u001b[0misinstance\u001b[0m\u001b[1;33m(\u001b[0m\u001b[0mvar\u001b[0m\u001b[1;33m,\u001b[0m \u001b[0mstr\u001b[0m\u001b[1;33m)\u001b[0m\u001b[1;33m:\u001b[0m\u001b[1;33m\u001b[0m\u001b[1;33m\u001b[0m\u001b[0m\n\u001b[0;32m    152\u001b[0m                     \u001b[0merr\u001b[0m \u001b[1;33m=\u001b[0m \u001b[1;34m\"Could not interpret input '{}'\"\u001b[0m\u001b[1;33m.\u001b[0m\u001b[0mformat\u001b[0m\u001b[1;33m(\u001b[0m\u001b[0mvar\u001b[0m\u001b[1;33m)\u001b[0m\u001b[1;33m\u001b[0m\u001b[1;33m\u001b[0m\u001b[0m\n\u001b[1;32m--> 153\u001b[1;33m                     \u001b[1;32mraise\u001b[0m \u001b[0mValueError\u001b[0m\u001b[1;33m(\u001b[0m\u001b[0merr\u001b[0m\u001b[1;33m)\u001b[0m\u001b[1;33m\u001b[0m\u001b[1;33m\u001b[0m\u001b[0m\n\u001b[0m\u001b[0;32m    154\u001b[0m \u001b[1;33m\u001b[0m\u001b[0m\n\u001b[0;32m    155\u001b[0m             \u001b[1;31m# Figure out the plotting orientation\u001b[0m\u001b[1;33m\u001b[0m\u001b[1;33m\u001b[0m\u001b[0m\n",
      "\u001b[1;31mValueError\u001b[0m: Could not interpret input 'is respactable?'"
     ]
    }
   ],
   "source": [
    "sns.barplot(x='is respactable?', y='retweets', data=df)\n",
    "plt.show()"
   ]
  },
  {
   "cell_type": "code",
   "execution_count": null,
   "id": "fd089c79",
   "metadata": {},
   "outputs": [],
   "source": [
    "sns.barplot(x='using trends?', y='retweets', data=df)\n",
    "plt.show()"
   ]
  },
  {
   "cell_type": "code",
   "execution_count": null,
   "id": "aef88879",
   "metadata": {},
   "outputs": [],
   "source": [
    "df.retweets[df.retweets>0].count()"
   ]
  },
  {
   "cell_type": "code",
   "execution_count": null,
   "id": "10eb561a",
   "metadata": {},
   "outputs": [],
   "source": [
    "df.retweets[df.retweets>0].count()/df.retweets.count()"
   ]
  },
  {
   "cell_type": "code",
   "execution_count": null,
   "id": "26689fca",
   "metadata": {},
   "outputs": [],
   "source": [
    "df.describe(include='all')"
   ]
  },
  {
   "cell_type": "code",
   "execution_count": null,
   "id": "b8d4bf99",
   "metadata": {},
   "outputs": [],
   "source": [
    "df.retweets[df.retweets>1500].count()"
   ]
  },
  {
   "cell_type": "code",
   "execution_count": null,
   "id": "4117996f",
   "metadata": {},
   "outputs": [],
   "source": [
    "plt.scatter(df['word count'],df['likes'])"
   ]
  },
  {
   "cell_type": "code",
   "execution_count": null,
   "id": "a6341e76",
   "metadata": {},
   "outputs": [],
   "source": [
    "plt.scatter(df['word count'],df['retweets'])"
   ]
  },
  {
   "cell_type": "code",
   "execution_count": null,
   "id": "d12aea4b",
   "metadata": {},
   "outputs": [],
   "source": [
    "plt.hist(df['retweets'],bins=2)"
   ]
  },
  {
   "cell_type": "code",
   "execution_count": null,
   "id": "1eb687d3",
   "metadata": {},
   "outputs": [],
   "source": [
    "df['retweets'].value_counts()"
   ]
  },
  {
   "cell_type": "code",
   "execution_count": null,
   "id": "e281c62d",
   "metadata": {},
   "outputs": [],
   "source": [
    "ct1=pd.crosstab(df['likes'],df['is respactable?'],normalize='index')\n",
    "ct1"
   ]
  },
  {
   "cell_type": "code",
   "execution_count": null,
   "id": "415c9149",
   "metadata": {},
   "outputs": [],
   "source": [
    "ct1.plot(kind='bar')"
   ]
  },
  {
   "cell_type": "code",
   "execution_count": null,
   "id": "0f2ae4e8",
   "metadata": {},
   "outputs": [],
   "source": [
    "ct2=pd.crosstab(df['verified'],df['is respactable?'],normalize='index')\n",
    "ct2"
   ]
  },
  {
   "cell_type": "code",
   "execution_count": null,
   "id": "e488cf8d",
   "metadata": {},
   "outputs": [],
   "source": [
    "ct2.plot(kind='bar')"
   ]
  },
  {
   "cell_type": "code",
   "execution_count": null,
   "id": "33f919bd",
   "metadata": {},
   "outputs": [],
   "source": [
    "ct3=pd.crosstab(df['country'],df['is respactable?'],normalize='index')\n",
    "ct3"
   ]
  },
  {
   "cell_type": "code",
   "execution_count": null,
   "id": "55584151",
   "metadata": {},
   "outputs": [],
   "source": [
    "ct3.plot(kind='bar')"
   ]
  },
  {
   "cell_type": "code",
   "execution_count": null,
   "id": "d89e14e6",
   "metadata": {},
   "outputs": [],
   "source": [
    "chi2_contingency(ct1)#לייקים ליחס עוקבים"
   ]
  },
  {
   "cell_type": "code",
   "execution_count": null,
   "id": "fa6fcc5c",
   "metadata": {},
   "outputs": [],
   "source": [
    "chi2_contingency(ct2)#מאומת ויחס עוקבים"
   ]
  },
  {
   "cell_type": "code",
   "execution_count": null,
   "id": "7e072d6f",
   "metadata": {},
   "outputs": [],
   "source": [
    "chi2_contingency(ct3)#אין קשר בין מדינה לאם יחס העוקבים שלך טוב או לא "
   ]
  },
  {
   "cell_type": "code",
   "execution_count": null,
   "id": "a5db6411",
   "metadata": {},
   "outputs": [],
   "source": [
    "countryvsre=pd.crosstab(df['country'],df['retweets'])\n",
    "chi2_contingency(countryvsre)\n"
   ]
  },
  {
   "cell_type": "code",
   "execution_count": null,
   "id": "42b6cdab",
   "metadata": {},
   "outputs": [],
   "source": [
    "wordcountvsre=pd.crosstab(df['word count'],df['retweets'])\n",
    "chi2_contingency(wordcountvsre)"
   ]
  },
  {
   "cell_type": "code",
   "execution_count": null,
   "id": "a893b8f6",
   "metadata": {},
   "outputs": [],
   "source": [
    "plt.scatter(df['respectability'],df['retweets'])"
   ]
  },
  {
   "cell_type": "code",
   "execution_count": null,
   "id": "3cc14ac8",
   "metadata": {},
   "outputs": [],
   "source": [
    "resvsre=pd.crosstab(df['respectability'],df['retweets'])\n",
    "chi2_contingency(resvsre)"
   ]
  },
  {
   "cell_type": "code",
   "execution_count": null,
   "id": "a8e07d77",
   "metadata": {},
   "outputs": [],
   "source": [
    "verifiedvsre=pd.crosstab(df['verified'],df['retweets'])\n",
    "chi2_contingency(verifiedvsre)"
   ]
  },
  {
   "cell_type": "code",
   "execution_count": null,
   "id": "85611fec",
   "metadata": {},
   "outputs": [],
   "source": [
    "comvsre=pd.crosstab(df['comments'],df['retweets'])\n",
    "chi2_contingency(comvsre)"
   ]
  },
  {
   "cell_type": "code",
   "execution_count": null,
   "id": "729cee2c",
   "metadata": {},
   "outputs": [],
   "source": [
    "quovsre=pd.crosstab(df['is quote'],df['retweets'])\n",
    "chi2_contingency(quovsre)"
   ]
  },
  {
   "cell_type": "code",
   "execution_count": null,
   "id": "51489f10",
   "metadata": {},
   "outputs": [],
   "source": [
    "hashvsre=pd.crosstab(df['hashtag count'],df['retweets'])\n",
    "chi2_contingency(hashvsre)"
   ]
  },
  {
   "cell_type": "code",
   "execution_count": null,
   "id": "3a07020f",
   "metadata": {},
   "outputs": [],
   "source": [
    "trendvsre=pd.crosstab(df['using trends?'],df['retweets'])\n",
    "chi2_contingency(trendvsre)"
   ]
  },
  {
   "cell_type": "code",
   "execution_count": null,
   "id": "83c508b5",
   "metadata": {},
   "outputs": [],
   "source": [
    "ctvsre=pd.crosstab(df['city'],df['retweets'])\n",
    "chi2_contingency(ctvsre)"
   ]
  },
  {
   "cell_type": "code",
   "execution_count": null,
   "id": "2b0d5100",
   "metadata": {},
   "outputs": [],
   "source": [
    "totalvsre=pd.crosstab(df['total tweets'],df['retweets'])\n",
    "chi2_contingency(totalvsre)"
   ]
  },
  {
   "cell_type": "code",
   "execution_count": null,
   "id": "bd3ff458",
   "metadata": {},
   "outputs": [],
   "source": [
    "viewsvsre=pd.crosstab(df['views'],df['retweets'])\n",
    "chi2_contingency(viewsvsre)"
   ]
  },
  {
   "cell_type": "code",
   "execution_count": null,
   "id": "0e8179b5",
   "metadata": {},
   "outputs": [],
   "source": [
    "likesvsre=pd.crosstab(df['retweets'],df['likes'])\n",
    "chi2_contingency(likesvsre)\n"
   ]
  },
  {
   "cell_type": "code",
   "execution_count": null,
   "id": "5d27e7d0",
   "metadata": {},
   "outputs": [],
   "source": [
    "quotretevsre=pd.crosstab(df['quote retweets'],df['retweets'])\n",
    "chi2_contingency(quotretevsre)"
   ]
  },
  {
   "cell_type": "code",
   "execution_count": null,
   "id": "c2c0e443-b233-48d2-92e3-864d31c2c949",
   "metadata": {},
   "outputs": [],
   "source": [
    "\n",
    "acountagevsre=pd.crosstab(df['acount age'],df['retweets'])\n",
    "chi2_contingency(acountagevsre)"
   ]
  },
  {
   "cell_type": "code",
   "execution_count": null,
   "id": "8f2b6255",
   "metadata": {},
   "outputs": [],
   "source": [
    "df=df.drop([\"link to tweet\"], axis=1)"
   ]
  },
  {
   "cell_type": "code",
   "execution_count": null,
   "id": "07690ea8",
   "metadata": {},
   "outputs": [],
   "source": [
    "column_to_move = df.pop(\"retweets\")"
   ]
  },
  {
   "cell_type": "code",
   "execution_count": null,
   "id": "c9425dfb",
   "metadata": {
    "scrolled": true
   },
   "outputs": [],
   "source": [
    "df.insert(df.shape[1], \"retweets\", column_to_move)"
   ]
  },
  {
   "cell_type": "code",
   "execution_count": null,
   "id": "90695e2e",
   "metadata": {},
   "outputs": [],
   "source": [
    "plt.scatter(y = df['word count'],    x = df['retweets'],c = 'mediumslateblue',label = 'word count');\n",
    "plt.scatter(y = df['respectability'],x = df['retweets'],c = 'mediumturquoise',label = 'respectability');\n",
    "plt.scatter(y = df['verified'],      x = df['retweets'],c = 'black',label = 'verified');\n",
    "plt.scatter(y = df['comments'],      x = df['retweets'],c = 'dimgray',label = 'comments');\n",
    "plt.scatter(y = df['hashtag count'], x = df['retweets'],c = 'firebrick',label = 'hashtag count');\n",
    "plt.scatter(y = df['using trends?'], x = df['retweets'],c = 'fuchsia',label = 'using trends?');\n",
    "plt.scatter(y = df['views'],         x = df['retweets'],c = 'gold',label = 'views');\n",
    "plt.scatter(y = df['likes'],         x = df['retweets'],c = 'yellow',label = 'likes');\n",
    "plt.scatter(y = df['total tweets'],  x = df['retweets'],c = 'red',label = 'total tweets');\n",
    "plt.scatter(y = df['quote retweets'],x = df['retweets'],c = 'lightseagreen',label = 'quote retweets');\n",
    "\n",
    "plt.legend(numpoints = 10, loc = 0)\n",
    "plt.xlabel('retweets')\n",
    "\n",
    "plt.show()"
   ]
  },
  {
   "cell_type": "code",
   "execution_count": null,
   "id": "3f3a66fd",
   "metadata": {},
   "outputs": [],
   "source": [
    "pd.DataFrame({'total tweets':df['total tweets'], 'ret':df['retweets']}).value_counts()"
   ]
  },
  {
   "cell_type": "code",
   "execution_count": null,
   "id": "aca9abc8",
   "metadata": {},
   "outputs": [],
   "source": [
    "df.describe()"
   ]
  },
  {
   "cell_type": "code",
   "execution_count": null,
   "id": "d4ae9664",
   "metadata": {},
   "outputs": [],
   "source": []
  },
  {
   "cell_type": "code",
   "execution_count": null,
   "id": "cecf899b-b185-45e5-86db-15bc960ff30b",
   "metadata": {},
   "outputs": [],
   "source": [
    "from sklearn import linear_model\n",
    "from mpl_toolkits.mplot3d import Axes3D\n",
    "from matplotlib import cm"
   ]
  },
  {
   "cell_type": "code",
   "execution_count": null,
   "id": "50357e74-54dd-4a52-9668-ab1b542a7385",
   "metadata": {},
   "outputs": [],
   "source": [
    "df.reset_index(drop = True, inplace = True)\n",
    "df.head()"
   ]
  },
  {
   "cell_type": "code",
   "execution_count": null,
   "id": "cca44335-e39e-4db7-b75c-ef93f07d9aef",
   "metadata": {},
   "outputs": [],
   "source": [
    "nm = 'word count'\n",
    "m1=linear_model.LinearRegression().fit(df[nm].reset_index(),df['retweets'])\n",
    "\n",
    "plt.scatter(x = df[nm], y = df['retweets'],label = nm)\n",
    "plt.plot(df[nm],m1.predict(df[nm].reset_index()))\n",
    "print(\"b1:\",m1.coef_)\n",
    "print(\"b0:\",m1.intercept_)"
   ]
  },
  {
   "cell_type": "code",
   "execution_count": null,
   "id": "79b1d303-ed4f-4e6d-bfa1-687e6e528140",
   "metadata": {},
   "outputs": [],
   "source": [
    "nm = 'respectability'\n",
    "m2=linear_model.LinearRegression().fit(df[nm].reset_index(),df['retweets'])\n",
    "\n",
    "plt.scatter(x = df[nm], y = df['retweets'],label = nm)\n",
    "plt.plot(df[nm],m2.predict(df[nm].reset_index()))\n",
    "print(\"b1:\",m2.coef_)\n",
    "print(\"b0:\",m2.intercept_)"
   ]
  },
  {
   "cell_type": "code",
   "execution_count": null,
   "id": "7f6c6672-daf5-491f-8fe4-fde2f097273c",
   "metadata": {},
   "outputs": [],
   "source": [
    "nm = 'verified'\n",
    "m3=linear_model.LinearRegression().fit(df[nm].reset_index(),df['retweets'])\n",
    "\n",
    "plt.scatter(x = df[nm], y = df['retweets'],label = nm)\n",
    "plt.plot(df[nm],m3.predict(df[nm].reset_index()))\n",
    "print(\"b1:\",m3.coef_)\n",
    "print(\"b0:\",m3.intercept_)"
   ]
  },
  {
   "cell_type": "code",
   "execution_count": null,
   "id": "0f628806-4b9e-4d92-82f3-160a19cd0ada",
   "metadata": {},
   "outputs": [],
   "source": [
    "nm = 'comments'\n",
    "m4=linear_model.LinearRegression().fit(df[nm].reset_index(),df['retweets'])\n",
    "\n",
    "plt.scatter(x = df[nm], y = df['retweets'],label = nm)\n",
    "plt.plot(df[nm],m4.predict(df[nm].reset_index()))\n",
    "print(\"b1:\",m4.coef_)\n",
    "print(\"b0:\",m4.intercept_)"
   ]
  },
  {
   "cell_type": "code",
   "execution_count": null,
   "id": "3d9b36ee-48c0-4058-9213-52bd9bff5390",
   "metadata": {},
   "outputs": [],
   "source": [
    "nm = 'hashtag count'\n",
    "m5=linear_model.LinearRegression().fit(df[nm].reset_index(),df['retweets'])\n",
    "\n",
    "plt.scatter(x = df[nm], y = df['retweets'],label = nm)\n",
    "plt.plot(df[nm],m5.predict(df[nm].reset_index()))\n",
    "print(\"b1:\",m5.coef_)\n",
    "print(\"b0:\",m5.intercept_)"
   ]
  },
  {
   "cell_type": "code",
   "execution_count": null,
   "id": "3fc13d1e-1a92-4908-a3a7-ccc9b46f356b",
   "metadata": {},
   "outputs": [],
   "source": [
    "nm = 'using trends?'\n",
    "m6=linear_model.LinearRegression().fit(df[nm].reset_index(),df['retweets'])\n",
    "\n",
    "plt.scatter(x = df[nm], y = df['retweets'],label = nm)\n",
    "plt.plot(df[nm],m6.predict(df[nm].reset_index()))\n",
    "print(\"b1:\",m6.coef_)\n",
    "print(\"b0:\",m6.intercept_)"
   ]
  },
  {
   "cell_type": "code",
   "execution_count": null,
   "id": "ffac433e-70e2-40b5-b3d1-31935036faa1",
   "metadata": {},
   "outputs": [],
   "source": [
    "nm = 'views'\n",
    "m7=linear_model.LinearRegression().fit(df[nm].reset_index(),df['retweets'])\n",
    "\n",
    "plt.scatter(x = df[nm], y = df['retweets'],label = nm)\n",
    "plt.plot(df[nm],m7.predict(df[nm].reset_index()))\n",
    "print(\"b1:\",m7.coef_)\n",
    "print(\"b0:\",m7.intercept_)"
   ]
  },
  {
   "cell_type": "code",
   "execution_count": null,
   "id": "d66e1478-2e2a-4d7b-8c90-559af5879520",
   "metadata": {},
   "outputs": [],
   "source": [
    "nm = 'likes'\n",
    "m8=linear_model.LinearRegression().fit(df[nm].reset_index(),df['retweets'])\n",
    "\n",
    "plt.scatter(x = df[nm], y = df['retweets'],label = nm)\n",
    "plt.plot(df[nm],m8.predict(df[nm].reset_index()))\n",
    "print(\"b1:\",m8.coef_)\n",
    "print(\"b0:\",m8.intercept_)"
   ]
  },
  {
   "cell_type": "code",
   "execution_count": null,
   "id": "4ce11359-1666-4143-9b8e-df866606a7b4",
   "metadata": {},
   "outputs": [],
   "source": [
    "nm = 'total tweets'\n",
    "m9=linear_model.LinearRegression().fit(df[nm].reset_index(),df['retweets'])\n",
    "\n",
    "plt.scatter(x = df[nm], y = df['retweets'],label = nm)\n",
    "plt.plot(df[nm],m9.predict(df[nm].reset_index()))\n",
    "print(\"b1:\",m9.coef_)\n",
    "print(\"b0:\",m9.intercept_)"
   ]
  },
  {
   "cell_type": "code",
   "execution_count": null,
   "id": "65f2b676-eb23-4542-8a0b-cb6274f5f720",
   "metadata": {},
   "outputs": [],
   "source": [
    "nm = 'quote retweets'\n",
    "m10=linear_model.LinearRegression().fit(df[nm].reset_index(),df['retweets'])\n",
    "\n",
    "plt.scatter(x = df[nm], y = df['retweets'],label = nm)\n",
    "plt.plot(df[nm],m10.predict(df[nm].reset_index()))\n",
    "print(\"b1:\",m10.coef_)\n",
    "print(\"b0:\",m10.intercept_)"
   ]
  },
  {
   "cell_type": "code",
   "execution_count": null,
   "id": "02364725-eac8-4d52-949d-52709ae8aaf1",
   "metadata": {},
   "outputs": [],
   "source": [
    "def see(Y,Y_H):\n",
    "    see=sum([(y-y_h)**2 for y,y_h in zip(Y,Y_H)])\n",
    "    return see\n",
    "\n",
    "SSE1=see(df.retweets.tolist(),m1.predict(df['word count'].reset_index()).flatten())"
   ]
  },
  {
   "cell_type": "code",
   "execution_count": null,
   "id": "3506463a-b77a-4e9e-99ee-ad7214d69265",
   "metadata": {},
   "outputs": [],
   "source": [
    "SSE1"
   ]
  },
  {
   "cell_type": "code",
   "execution_count": null,
   "id": "56a17d40-b34d-4c66-a1db-e5c55b68317d",
   "metadata": {},
   "outputs": [],
   "source": [
    "from sklearn.metrics import r2_score\n",
    "\n",
    "r2_score(df.retweets.tolist(),m1.predict(df['word count'].reset_index()).flatten())"
   ]
  },
  {
   "cell_type": "code",
   "execution_count": null,
   "id": "0b716281-5832-438e-a041-e876bcff2acc",
   "metadata": {},
   "outputs": [],
   "source": [
    "lr = linear_model.LinearRegression() # create a linear regression object\n",
    "x = df[['total tweets',\"respectability\",\"verified\",\"comments\",\"word count\",\"hashtag count\",\"views\",\"quote retweets\",\"likes\",'using trends?']]\n",
    "y = df['retweets']\n",
    "lr.fit(X=x, y=y);\n"
   ]
  },
  {
   "cell_type": "code",
   "execution_count": null,
   "id": "8c11794f-054f-49a2-a2e9-c0ca9a71d99a",
   "metadata": {},
   "outputs": [],
   "source": [
    "print(\"Slope:\",lr.coef_)\n",
    "print(\"Intercept:\",lr.intercept_)\n"
   ]
  },
  {
   "cell_type": "code",
   "execution_count": null,
   "id": "d537b665-af1a-4e8c-b4f6-a2ac377f0f5c",
   "metadata": {},
   "outputs": [],
   "source": [
    "print(\"R2:\",lr.score(x,y))\n",
    "print(\"R2:\",r2_score(y,lr.predict(x.values)))"
   ]
  },
  {
   "cell_type": "code",
   "execution_count": null,
   "id": "defc49c6-1c4e-4c89-8f1b-f29dd49851f4",
   "metadata": {},
   "outputs": [],
   "source": [
    "print(df.corr())\n",
    "pd.plotting.scatter_matrix(df, figsize=(50, 50), diagonal='kde')\n",
    "plt.show()"
   ]
  },
  {
   "cell_type": "code",
   "execution_count": null,
   "id": "6602fa69-fe33-4c2d-a6b3-a2fb0f21c949",
   "metadata": {},
   "outputs": [],
   "source": []
  }
 ],
 "metadata": {
  "kernelspec": {
   "display_name": "Python 3 (ipykernel)",
   "language": "python",
   "name": "python3"
  },
  "language_info": {
   "codemirror_mode": {
    "name": "ipython",
    "version": 3
   },
   "file_extension": ".py",
   "mimetype": "text/x-python",
   "name": "python",
   "nbconvert_exporter": "python",
   "pygments_lexer": "ipython3",
   "version": "3.9.13"
  }
 },
 "nbformat": 4,
 "nbformat_minor": 5
}
