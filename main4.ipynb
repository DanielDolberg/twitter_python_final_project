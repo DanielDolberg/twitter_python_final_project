{
 "cells": [
  {
   "cell_type": "code",
   "execution_count": 1,
   "id": "67980e60-d854-485c-afc4-b748f88f7b29",
   "metadata": {},
   "outputs": [],
   "source": [
    "import tweepy\n",
    "import numpy\n",
    "import pandas as pd\n",
    "import requests\n",
    "from bs4 import BeautifulSoup\n",
    "import importlib\n",
    "import json\n",
    "from helper import *\n",
    "from selenium import webdriver\n",
    "import os\n",
    "import matplotlib.pyplot as plt\n",
    "import seaborn as sns\n",
    "from scipy.stats import chi2_contingency\n",
    "\n",
    "\n",
    "from mpl_toolkits.mplot3d import Axes3D\n",
    "from matplotlib import cm"
   ]
  },
  {
   "cell_type": "code",
   "execution_count": 2,
   "id": "42d221bb-faa8-474c-88af-ccc15a4cd398",
   "metadata": {},
   "outputs": [],
   "source": [
    "pd.options.display.max_columns = 200"
   ]
  },
  {
   "cell_type": "code",
   "execution_count": 3,
   "id": "05682cfb-dbdd-4498-b455-4c19f6adeb99",
   "metadata": {
    "scrolled": true,
    "tags": []
   },
   "outputs": [],
   "source": [
    "df=pd.read_csv(\"out.csv\")\n",
    "df=pd.concat([df,pd.read_csv(\"out2.csv\"),pd.read_csv(\"out3.csv\"),pd.read_csv(\"out4.csv\"),pd.read_csv(\"out5.csv\"),pd.read_csv(\"out6.csv\")][:6])"
   ]
  },
  {
   "cell_type": "code",
   "execution_count": 4,
   "id": "a24c9f41-d6f9-4577-a8b8-a675c28eb934",
   "metadata": {},
   "outputs": [],
   "source": [
    "df = df.drop([\"age\", \"gender\",'hashtags','Unnamed: 0'], axis=1)\n",
    "df = df.drop([\"link to tweet\"], axis=1)\n",
    "\n",
    "df = df.drop_duplicates(subset='name',keep=False)"
   ]
  },
  {
   "cell_type": "code",
   "execution_count": 5,
   "id": "abc9e6bd",
   "metadata": {},
   "outputs": [],
   "source": [
    "#dups = df[df['name'].duplicated(keep = False)]['name'].value_counts()\n",
    "#for n in dups.keys():\n",
    "#    if dups[n] > 2:\n",
    "#        df.drop(df[df['name'] == n].index,inplace = True)"
   ]
  },
  {
   "cell_type": "code",
   "execution_count": 6,
   "id": "6a15ffa3-3a2f-4538-9d45-467521ad35da",
   "metadata": {},
   "outputs": [],
   "source": [
    "column_to_move = df.pop(\"retweets\")\n",
    "df.insert(df.shape[1], \"retweets\", column_to_move)\n",
    "df.reset_index(drop = True, inplace = True)"
   ]
  },
  {
   "cell_type": "code",
   "execution_count": 7,
   "id": "56a17d40-b34d-4c66-a1db-e5c55b68317d",
   "metadata": {},
   "outputs": [],
   "source": [
    "from sklearn.metrics import r2_score"
   ]
  },
  {
   "cell_type": "markdown",
   "id": "11463fd3-d990-4c05-a6e8-4a91e5734f97",
   "metadata": {
    "tags": []
   },
   "source": [
    "### multiple linear regression"
   ]
  },
  {
   "cell_type": "markdown",
   "id": "f85c9c65-a364-4f61-a2af-9f0295f9b6b7",
   "metadata": {},
   "source": [
    "lets convert all the categorical values to numerical"
   ]
  },
  {
   "cell_type": "code",
   "execution_count": 8,
   "id": "268af6b2-fdfc-4ddc-8c11-3c6e36a2031e",
   "metadata": {},
   "outputs": [],
   "source": [
    "for c in ['city','country','verified','is quote','using trends?']:\n",
    "    df[c] = df[c].astype('category')\n",
    "    df[c] = df[c].cat.codes"
   ]
  },
  {
   "cell_type": "markdown",
   "id": "b6f85c78-5fd9-4267-8417-9558520cea13",
   "metadata": {},
   "source": [
    "now we remove all of the stuff we dont need(everything thats simply text)"
   ]
  },
  {
   "cell_type": "code",
   "execution_count": 9,
   "id": "f65fb931-e174-4516-9361-da7a68f64f6c",
   "metadata": {},
   "outputs": [
    {
     "data": {
      "text/html": [
       "<div>\n",
       "<style scoped>\n",
       "    .dataframe tbody tr th:only-of-type {\n",
       "        vertical-align: middle;\n",
       "    }\n",
       "\n",
       "    .dataframe tbody tr th {\n",
       "        vertical-align: top;\n",
       "    }\n",
       "\n",
       "    .dataframe thead th {\n",
       "        text-align: right;\n",
       "    }\n",
       "</style>\n",
       "<table border=\"1\" class=\"dataframe\">\n",
       "  <thead>\n",
       "    <tr style=\"text-align: right;\">\n",
       "      <th></th>\n",
       "      <th>city</th>\n",
       "      <th>country</th>\n",
       "      <th>acount age</th>\n",
       "      <th>total tweets</th>\n",
       "      <th>followers</th>\n",
       "      <th>following</th>\n",
       "      <th>verified</th>\n",
       "      <th>views</th>\n",
       "      <th>likes</th>\n",
       "      <th>quote retweets</th>\n",
       "      <th>comments</th>\n",
       "      <th>word count</th>\n",
       "      <th>is quote</th>\n",
       "      <th>hashtag count</th>\n",
       "      <th>using trends?</th>\n",
       "      <th>retweets</th>\n",
       "    </tr>\n",
       "  </thead>\n",
       "  <tbody>\n",
       "    <tr>\n",
       "      <th>0</th>\n",
       "      <td>3183</td>\n",
       "      <td>4</td>\n",
       "      <td>3.2</td>\n",
       "      <td>228</td>\n",
       "      <td>50</td>\n",
       "      <td>22</td>\n",
       "      <td>0</td>\n",
       "      <td>13</td>\n",
       "      <td>0</td>\n",
       "      <td>0</td>\n",
       "      <td>0</td>\n",
       "      <td>11</td>\n",
       "      <td>0</td>\n",
       "      <td>0</td>\n",
       "      <td>0</td>\n",
       "      <td>0</td>\n",
       "    </tr>\n",
       "    <tr>\n",
       "      <th>1</th>\n",
       "      <td>3851</td>\n",
       "      <td>4</td>\n",
       "      <td>7.7</td>\n",
       "      <td>34240</td>\n",
       "      <td>772</td>\n",
       "      <td>41</td>\n",
       "      <td>0</td>\n",
       "      <td>50</td>\n",
       "      <td>0</td>\n",
       "      <td>0</td>\n",
       "      <td>0</td>\n",
       "      <td>24</td>\n",
       "      <td>0</td>\n",
       "      <td>0</td>\n",
       "      <td>0</td>\n",
       "      <td>0</td>\n",
       "    </tr>\n",
       "    <tr>\n",
       "      <th>2</th>\n",
       "      <td>226</td>\n",
       "      <td>4</td>\n",
       "      <td>14.5</td>\n",
       "      <td>4599</td>\n",
       "      <td>1966</td>\n",
       "      <td>2436</td>\n",
       "      <td>0</td>\n",
       "      <td>28</td>\n",
       "      <td>1</td>\n",
       "      <td>0</td>\n",
       "      <td>0</td>\n",
       "      <td>34</td>\n",
       "      <td>0</td>\n",
       "      <td>0</td>\n",
       "      <td>0</td>\n",
       "      <td>0</td>\n",
       "    </tr>\n",
       "    <tr>\n",
       "      <th>3</th>\n",
       "      <td>174</td>\n",
       "      <td>4</td>\n",
       "      <td>12.5</td>\n",
       "      <td>45282</td>\n",
       "      <td>2103</td>\n",
       "      <td>1333</td>\n",
       "      <td>0</td>\n",
       "      <td>82</td>\n",
       "      <td>1</td>\n",
       "      <td>0</td>\n",
       "      <td>0</td>\n",
       "      <td>7</td>\n",
       "      <td>1</td>\n",
       "      <td>0</td>\n",
       "      <td>0</td>\n",
       "      <td>0</td>\n",
       "    </tr>\n",
       "    <tr>\n",
       "      <th>4</th>\n",
       "      <td>2981</td>\n",
       "      <td>4</td>\n",
       "      <td>10.1</td>\n",
       "      <td>8474</td>\n",
       "      <td>84</td>\n",
       "      <td>179</td>\n",
       "      <td>0</td>\n",
       "      <td>27</td>\n",
       "      <td>1</td>\n",
       "      <td>0</td>\n",
       "      <td>0</td>\n",
       "      <td>4</td>\n",
       "      <td>1</td>\n",
       "      <td>0</td>\n",
       "      <td>0</td>\n",
       "      <td>0</td>\n",
       "    </tr>\n",
       "    <tr>\n",
       "      <th>...</th>\n",
       "      <td>...</td>\n",
       "      <td>...</td>\n",
       "      <td>...</td>\n",
       "      <td>...</td>\n",
       "      <td>...</td>\n",
       "      <td>...</td>\n",
       "      <td>...</td>\n",
       "      <td>...</td>\n",
       "      <td>...</td>\n",
       "      <td>...</td>\n",
       "      <td>...</td>\n",
       "      <td>...</td>\n",
       "      <td>...</td>\n",
       "      <td>...</td>\n",
       "      <td>...</td>\n",
       "      <td>...</td>\n",
       "    </tr>\n",
       "    <tr>\n",
       "      <th>16887</th>\n",
       "      <td>802</td>\n",
       "      <td>2</td>\n",
       "      <td>9.2</td>\n",
       "      <td>1065</td>\n",
       "      <td>404</td>\n",
       "      <td>3001</td>\n",
       "      <td>0</td>\n",
       "      <td>151</td>\n",
       "      <td>5</td>\n",
       "      <td>0</td>\n",
       "      <td>0</td>\n",
       "      <td>24</td>\n",
       "      <td>0</td>\n",
       "      <td>0</td>\n",
       "      <td>0</td>\n",
       "      <td>0</td>\n",
       "    </tr>\n",
       "    <tr>\n",
       "      <th>16888</th>\n",
       "      <td>4188</td>\n",
       "      <td>2</td>\n",
       "      <td>11.6</td>\n",
       "      <td>1301</td>\n",
       "      <td>133</td>\n",
       "      <td>605</td>\n",
       "      <td>0</td>\n",
       "      <td>212</td>\n",
       "      <td>7</td>\n",
       "      <td>0</td>\n",
       "      <td>0</td>\n",
       "      <td>15</td>\n",
       "      <td>0</td>\n",
       "      <td>2</td>\n",
       "      <td>0</td>\n",
       "      <td>0</td>\n",
       "    </tr>\n",
       "    <tr>\n",
       "      <th>16889</th>\n",
       "      <td>1158</td>\n",
       "      <td>2</td>\n",
       "      <td>9.6</td>\n",
       "      <td>13743</td>\n",
       "      <td>99</td>\n",
       "      <td>469</td>\n",
       "      <td>0</td>\n",
       "      <td>162</td>\n",
       "      <td>1</td>\n",
       "      <td>0</td>\n",
       "      <td>0</td>\n",
       "      <td>40</td>\n",
       "      <td>1</td>\n",
       "      <td>0</td>\n",
       "      <td>0</td>\n",
       "      <td>0</td>\n",
       "    </tr>\n",
       "    <tr>\n",
       "      <th>16890</th>\n",
       "      <td>1355</td>\n",
       "      <td>2</td>\n",
       "      <td>13.2</td>\n",
       "      <td>16288</td>\n",
       "      <td>2252</td>\n",
       "      <td>2283</td>\n",
       "      <td>0</td>\n",
       "      <td>36</td>\n",
       "      <td>0</td>\n",
       "      <td>0</td>\n",
       "      <td>0</td>\n",
       "      <td>20</td>\n",
       "      <td>0</td>\n",
       "      <td>12</td>\n",
       "      <td>0</td>\n",
       "      <td>1</td>\n",
       "    </tr>\n",
       "    <tr>\n",
       "      <th>16891</th>\n",
       "      <td>1731</td>\n",
       "      <td>2</td>\n",
       "      <td>16.1</td>\n",
       "      <td>16</td>\n",
       "      <td>57</td>\n",
       "      <td>9</td>\n",
       "      <td>0</td>\n",
       "      <td>11</td>\n",
       "      <td>0</td>\n",
       "      <td>0</td>\n",
       "      <td>0</td>\n",
       "      <td>10</td>\n",
       "      <td>0</td>\n",
       "      <td>0</td>\n",
       "      <td>1</td>\n",
       "      <td>0</td>\n",
       "    </tr>\n",
       "  </tbody>\n",
       "</table>\n",
       "<p>16892 rows × 16 columns</p>\n",
       "</div>"
      ],
      "text/plain": [
       "       city  country  acount age  total tweets  followers  following  \\\n",
       "0      3183        4         3.2           228         50         22   \n",
       "1      3851        4         7.7         34240        772         41   \n",
       "2       226        4        14.5          4599       1966       2436   \n",
       "3       174        4        12.5         45282       2103       1333   \n",
       "4      2981        4        10.1          8474         84        179   \n",
       "...     ...      ...         ...           ...        ...        ...   \n",
       "16887   802        2         9.2          1065        404       3001   \n",
       "16888  4188        2        11.6          1301        133        605   \n",
       "16889  1158        2         9.6         13743         99        469   \n",
       "16890  1355        2        13.2         16288       2252       2283   \n",
       "16891  1731        2        16.1            16         57          9   \n",
       "\n",
       "       verified  views  likes  quote retweets  comments  word count  is quote  \\\n",
       "0             0     13      0               0         0          11         0   \n",
       "1             0     50      0               0         0          24         0   \n",
       "2             0     28      1               0         0          34         0   \n",
       "3             0     82      1               0         0           7         1   \n",
       "4             0     27      1               0         0           4         1   \n",
       "...         ...    ...    ...             ...       ...         ...       ...   \n",
       "16887         0    151      5               0         0          24         0   \n",
       "16888         0    212      7               0         0          15         0   \n",
       "16889         0    162      1               0         0          40         1   \n",
       "16890         0     36      0               0         0          20         0   \n",
       "16891         0     11      0               0         0          10         0   \n",
       "\n",
       "       hashtag count  using trends?  retweets  \n",
       "0                  0              0         0  \n",
       "1                  0              0         0  \n",
       "2                  0              0         0  \n",
       "3                  0              0         0  \n",
       "4                  0              0         0  \n",
       "...              ...            ...       ...  \n",
       "16887              0              0         0  \n",
       "16888              2              0         0  \n",
       "16889              0              0         0  \n",
       "16890             12              0         1  \n",
       "16891              0              1         0  \n",
       "\n",
       "[16892 rows x 16 columns]"
      ]
     },
     "execution_count": 9,
     "metadata": {},
     "output_type": "execute_result"
    }
   ],
   "source": [
    "ndf = df.drop(['respectability','text','trending','name'] , axis = 1)\n",
    "#ndf.drop('retweets',axis = 1,inplace=True)\n",
    "ndf"
   ]
  },
  {
   "cell_type": "code",
   "execution_count": 10,
   "id": "0b716281-5832-438e-a041-e876bcff2acc",
   "metadata": {},
   "outputs": [
    {
     "data": {
      "text/plain": [
       "0.9067706184616595"
      ]
     },
     "execution_count": 10,
     "metadata": {},
     "output_type": "execute_result"
    }
   ],
   "source": [
    "from sklearn import linear_model\n",
    "from sklearn.model_selection import train_test_split\n",
    "\n",
    "x = ndf.drop('retweets',axis = 1)\n",
    "y = ndf['retweets']\n",
    "\n",
    "x_train,x_test,y_train,y_test = train_test_split(x,y,test_size=0.3, random_state = 0)\n",
    "\n",
    "lr = linear_model.LinearRegression() # create a linear regression object\n",
    "lr.fit(x_train, y_train);\n",
    "\n",
    "y_pred_train = lr.predict(x_train)\n",
    "r2_score(y_train,y_pred_train)"
   ]
  },
  {
   "cell_type": "markdown",
   "id": "3b1bb9c7-4f27-495a-8ba6-7ae19eeaab86",
   "metadata": {},
   "source": [
    "after some testing, it apeard that some random states gave us better results, so will se which one gives us the best"
   ]
  },
  {
   "cell_type": "code",
   "execution_count": 11,
   "id": "27ce395a-da43-4141-b4e9-edc61493d512",
   "metadata": {},
   "outputs": [
    {
     "name": "stdout",
     "output_type": "stream",
     "text": [
      "467 0.9524050674205125\n"
     ]
    }
   ],
   "source": [
    "max_i = 0\n",
    "max_r = 0\n",
    "\n",
    "for i in range(0,1000):\n",
    "    x_train,x_test,y_train,y_test = train_test_split(x,y,test_size=0.3,random_state=i)\n",
    "    \n",
    "    lr = linear_model.LinearRegression() # create a linear regression object\n",
    "    lr.fit(x_train, y_train);\n",
    "    \n",
    "    y_pred_train = lr.predict(x_train)\n",
    "    \n",
    "    if r2_score(y_train,y_pred_train) > max_r:\n",
    "        max_i = i\n",
    "        max_r = r2_score(y_train,y_pred_train)\n",
    "\n",
    "print(max_i,max_r)"
   ]
  },
  {
   "cell_type": "code",
   "execution_count": 12,
   "id": "a7408624-1449-4651-b93a-16cb66e4773c",
   "metadata": {
    "tags": []
   },
   "outputs": [
    {
     "data": {
      "text/plain": [
       "0.9524050674205125"
      ]
     },
     "execution_count": 12,
     "metadata": {},
     "output_type": "execute_result"
    }
   ],
   "source": [
    "x_train,x_test,y_train,y_test = train_test_split(x,y,test_size=0.3 , random_state = 467)\n",
    "\n",
    "lr = linear_model.LinearRegression() # create a linear regression object\n",
    "lr.fit(x_train, y_train);\n",
    "\n",
    "y_pred_train = lr.predict(x_train)\n",
    "r2_score(y_train,y_pred_train)"
   ]
  },
  {
   "cell_type": "code",
   "execution_count": 13,
   "id": "cf5d7fe1-2a92-459d-af21-6447c812ffe8",
   "metadata": {},
   "outputs": [
    {
     "data": {
      "text/plain": [
       "<matplotlib.collections.PathCollection at 0x1f9405e3be0>"
      ]
     },
     "execution_count": 13,
     "metadata": {},
     "output_type": "execute_result"
    },
    {
     "data": {
      "image/png": "[encoded data removed]",
      "text/plain": [
       "<Figure size 640x480 with 1 Axes>"
      ]
     },
     "metadata": {},
     "output_type": "display_data"
    }
   ],
   "source": [
    "plt.scatter(y_train,y_pred_train)"
   ]
  }
 ],
 "metadata": {
  "kernelspec": {
   "display_name": "Python 3 (ipykernel)",
   "language": "python",
   "name": "python3"
  },
  "language_info": {
   "codemirror_mode": {
    "name": "ipython",
    "version": 3
   },
   "file_extension": ".py",
   "mimetype": "text/x-python",
   "name": "python",
   "nbconvert_exporter": "python",
   "pygments_lexer": "ipython3",
   "version": "3.9.13"
  }
 },
 "nbformat": 4,
 "nbformat_minor": 5
}
