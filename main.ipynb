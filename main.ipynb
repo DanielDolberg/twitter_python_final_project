{
 "cells": [
  {
   "cell_type": "code",
   "execution_count": 10,
   "id": "7c42974a",
   "metadata": {},
   "outputs": [],
   "source": [
    "#!pip install selenium\n",
    "#!pip install geonamescache\n",
    "from helper import *\n",
    "import selenium\n",
    "import tweepy\n",
    "import numpy as np\n",
    "import pandas as pd\n",
    "import json\n",
    "from bs4 import BeautifulSoup\n",
    "from IPython.display import clear_output #clears output\n",
    "import datetime\n",
    "import time\n",
    "\n",
    "API_Key ='irXxqVrXin1KsDRM9g6HdF8p8'\n",
    "API_Key_Secret = 'sLQvb8voyrTDz5S93vlt5jE5RlMi8xBuOQtSq2pgERe2QVawIC'\n",
    "\n",
    "Bearer_Token = 'AAAAAAAAAAAAAAAAAAAAACsVlAEAAAAADib49u9Asa6Hbts8UwBEdtc0dsk%3D1d8lVaySeRg1CpJQ6HDLSwK6Mj9wJiptj49PAdwMuvW95zJoar'\n",
    "\n",
    "Access_Token = '1122492746210660352-COptyz3RtF1AVokHw3027iOdbsZZl1'\n",
    "Access_Token_Secret = 'slfBz8pcgCrUmewZgSgVKsmIFhfCcFuinAx16q5eh1Vvr'"
   ]
  },
  {
   "cell_type": "code",
   "execution_count": 11,
   "id": "28cf054d",
   "metadata": {},
   "outputs": [],
   "source": [
    "# authorization of consumer key and consumer secret\n",
    "auth = tweepy.OAuthHandler(API_Key, API_Key_Secret)\n",
    "# set access to user's access key and access secret\n",
    "auth.set_access_token(Access_Token, Access_Token_Secret)\n",
    "# calling the api\n",
    "api = tweepy.API(auth)\n",
    "\n",
    "Client = tweepy.Client(bearer_token=Bearer_Token) \n"
   ]
  },
  {
   "cell_type": "code",
   "execution_count": 12,
   "id": "4b5da9fc",
   "metadata": {},
   "outputs": [
    {
     "data": {
      "text/plain": [
       "'\\nfor page in ALL_pages:\\n    tweets_list.extend(page)\\n'"
      ]
     },
     "execution_count": 12,
     "metadata": {},
     "output_type": "execute_result"
    }
   ],
   "source": [
    "#tweets_list = api.search_30_day(label = '30day',query = '#blender', fromDate = FROM_DATE,toDate = TO_DATE,maxResults = 10,tweet_mode = \"extended\")\n",
    "#tweets_list = tweepy.Cursor(api.search_tweets, \"biden\", count=100).items(100)\n",
    "\n",
    "\n",
    "start_date = datetime.datetime.now() - datetime.timedelta(days=14)\n",
    "end_date = start_date + datetime.timedelta(days=7)\n",
    "\n",
    "start_date = datetime.datetime.now()\n",
    "end_date = start_date + datetime.timedelta(days=1)\n",
    "# Search for tweets within the target date range\n",
    "\n",
    "tweets_list = []\n",
    "#ALL_pages = tweepy.Cursor(api.search_tweets, q=\"since:{} until:{}\".format(start_date.strftime(\"%Y-%m-%d\"), end_date.strftime(\"%Y-%m-%d\")), lang=\"en\", tweet_mode=\"extended\", count = 100).pages(50)\n",
    "tweets_list = tweepy.Cursor(api.search_tweets, q=\"-filter:replies AND -filter:retweets\", lang=\"en\", tweet_mode=\"extended\",include_entities=True,count = 10).items(10)\n",
    "\n",
    "#return this if you are using pages again!!!!!\n",
    "'''\n",
    "for page in ALL_pages:\n",
    "    tweets_list.extend(page)\n",
    "'''\n",
    "#tweets_list = [t for t in tweets_list if t.in_reply_to_status_id == None]"
   ]
  },
  {
   "cell_type": "code",
   "execution_count": null,
   "id": "6ed7e0fe",
   "metadata": {},
   "outputs": [
    {
     "name": "stdout",
     "output_type": "stream",
     "text": [
      "6\n"
     ]
    }
   ],
   "source": [
    "#search_tweets(q, *, geocode, lang, locale, result_type, count, until, since_id, max_id, include_entities)\n",
    "\n",
    "#user data\n",
    "\n",
    "DRIVER = webdriver.Chrome()#the chrome\n",
    "\n",
    "user_name = [];\n",
    "location = [];\n",
    "age = [];\n",
    "gender = [];\n",
    "followers = [];\n",
    "following = [];\n",
    "verified = []\n",
    "joined = [] #when they joined\n",
    "tweet_count_user = []\n",
    "\n",
    "#tweet data\n",
    "tweet = [];\n",
    "word_count = [];\n",
    "lang = []\n",
    "likes = []\n",
    "retweet_count = []\n",
    "is_quote_status = []\n",
    "date = []\n",
    "tweet_id = []\n",
    "hashtags = []\n",
    "trending_for_area = []\n",
    "\n",
    "users = [];\n",
    "\n",
    "print(loading users)\n",
    "for t in tweets_list:\n",
    "    tweet.append(t.full_text);\n",
    "    \n",
    "    users.append(t.user);\n",
    "    word_count.append(countWordsInString(t.full_text))\n",
    "    \n",
    "    lang.append(t.lang)\n",
    "    likes.append(t.favorite_count) \n",
    "    retweet_count.append(t.retweet_count)\n",
    "    is_quote_status.append(t.is_quote_status)\n",
    "    date.append(t.created_at.isoformat()[:10])\n",
    "    tweet_id.append(t.id)\n",
    "    hashtags.append(t.entities['hashtags'])\n",
    "    \n",
    "i = 0\n",
    "for x in users:\n",
    "    if i%25 == 0:\n",
    "        print(\"waiting\")\n",
    "        time.sleep(6)\n",
    "    \n",
    "    j = x._json\n",
    "    #opens the page and waits for it to load\n",
    "    screen_name = j['screen_name']\n",
    "    country = check_country_real(j['location'])\n",
    "    \n",
    "    \n",
    "    DRIVER.get('https://twitter.com/' + screen_name) \n",
    "    \n",
    "    #get the easy stuff\n",
    "    user_name.append(screen_name)\n",
    "    following.append(j['friends_count']);\n",
    "    followers.append(j['followers_count']);\n",
    "    location.append(country);\n",
    "    joined.append(x.created_at.isoformat()[:10])\n",
    "    tweet_count_user.append(x.statuses_count)\n",
    "    \n",
    "    trnd = 0\n",
    "    try:\n",
    "        trnd = getTrendingTopics(api,country)\n",
    "    except:\n",
    "        trnd = []\n",
    "    \n",
    "    trending_for_area.append(trnd)\n",
    "    verified.append(x.verified)\n",
    "    \n",
    "    \n",
    "    \n",
    "    tmp = getAge(DRIVER)#gets the age\n",
    "    if(tmp == 2023 - x.created_at.year): #checks if the age is the same as the accounts age\n",
    "        age.append(np.nan)\n",
    "    else:\n",
    "        age.append(tmp)\n",
    "    \n",
    "    \n",
    "    gender.append(getGender(j['description'],j['location'],j['name']));\n",
    "    \n",
    "    ##this part simply displays at the bottom how many profiles were checked\n",
    "    clear_output(wait=True) #clears the output\n",
    "    \n",
    "    i+=1\n",
    "    print(i)\n",
    "\n",
    "print('done')"
   ]
  },
  {
   "cell_type": "code",
   "execution_count": null,
   "id": "801a3498",
   "metadata": {},
   "outputs": [],
   "source": [
    "max = len(users)"
   ]
  },
  {
   "cell_type": "code",
   "execution_count": null,
   "id": "084deef8",
   "metadata": {},
   "outputs": [],
   "source": [
    "dick = {\"name\":user_name[:max],\n",
    "        \"age\":age[:max],\n",
    "        'location':location[:max],\n",
    "        \"gender\":gender[:max],\n",
    "        'join_date':joined[:max],\n",
    "        'total tweets': tweet_count_user[:max],\n",
    "        \"followers\":followers[:max],\n",
    "        \"following\":following[:max],\n",
    "        'verified' : verified[:max],\n",
    "        'tweet':tweet[:max],\n",
    "        'likes':likes[:max],\n",
    "        'retweets':retweet_count[:max],\n",
    "        'date':date[:max],\n",
    "        'word count': word_count[:max],\n",
    "        'launguage': lang[:max],\n",
    "        'is quote':is_quote_status[:max],\n",
    "        'hashtags':hashtags[:max],\n",
    "        'trending': trending_for_area[:max],\n",
    "        'tweet id':tweet_id[:max]\n",
    "       }\n",
    "\n",
    "df = pd.DataFrame(dick)"
   ]
  },
  {
   "cell_type": "code",
   "execution_count": null,
   "id": "3f3e48e3",
   "metadata": {},
   "outputs": [],
   "source": [
    "df"
   ]
  },
  {
   "cell_type": "code",
   "execution_count": null,
   "id": "e75881c9",
   "metadata": {},
   "outputs": [],
   "source": [
    "DRIVER.quit()"
   ]
  },
  {
   "cell_type": "code",
   "execution_count": null,
   "id": "dfb64968",
   "metadata": {},
   "outputs": [],
   "source": [
    "df.to_csv('7k.csv')"
   ]
  },
  {
   "cell_type": "code",
   "execution_count": null,
   "id": "ffe5f8f1",
   "metadata": {},
   "outputs": [],
   "source": []
  }
 ],
 "metadata": {
  "kernelspec": {
   "display_name": "Python 3 (ipykernel)",
   "language": "python",
   "name": "python3"
  },
  "language_info": {
   "codemirror_mode": {
    "name": "ipython",
    "version": 3
   },
   "file_extension": ".py",
   "mimetype": "text/x-python",
   "name": "python",
   "nbconvert_exporter": "python",
   "pygments_lexer": "ipython3",
   "version": "3.9.13"
  }
 },
 "nbformat": 4,
 "nbformat_minor": 5
}
