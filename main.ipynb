{
 "cells": [
  {
   "cell_type": "code",
   "execution_count": 1,
   "id": "7c42974a",
   "metadata": {},
   "outputs": [],
   "source": [
    "#!pip install playwright\n",
    "#!pip install geonamescache\n",
    "import tweepy\n",
    "import numpy as np\n",
    "import pandas as pd\n",
    "import json\n",
    "from bs4 import BeautifulSoup\n",
    "from helper import *\n",
    "from IPython.display import clear_output #clears output\n",
    "\n",
    "DRIVER = webdriver.Chrome()#the chrome\n",
    "\n",
    "API_Key ='irXxqVrXin1KsDRM9g6HdF8p8'\n",
    "API_Key_Secret = 'sLQvb8voyrTDz5S93vlt5jE5RlMi8xBuOQtSq2pgERe2QVawIC'\n",
    "\n",
    "Bearer_Token = 'AAAAAAAAAAAAAAAAAAAAACsVlAEAAAAADib49u9Asa6Hbts8UwBEdtc0dsk%3D1d8lVaySeRg1CpJQ6HDLSwK6Mj9wJiptj49PAdwMuvW95zJoar'\n",
    "\n",
    "Access_Token = '1122492746210660352-COptyz3RtF1AVokHw3027iOdbsZZl1'\n",
    "Access_Token_Secret = 'slfBz8pcgCrUmewZgSgVKsmIFhfCcFuinAx16q5eh1Vvr'"
   ]
  },
  {
   "cell_type": "code",
   "execution_count": 3,
   "id": "28cf054d",
   "metadata": {},
   "outputs": [],
   "source": [
    "# authorization of consumer key and consumer secret\n",
    "auth = tweepy.OAuthHandler(API_Key, API_Key_Secret)\n",
    "# set access to user's access key and access secret\n",
    "auth.set_access_token(Access_Token, Access_Token_Secret)\n",
    "# calling the api\n",
    "api = tweepy.API(auth)\n",
    "\n",
    "Client = tweepy.Client(bearer_token=Bearer_Token) "
   ]
  },
  {
   "cell_type": "code",
   "execution_count": 50,
   "id": "b149cec9",
   "metadata": {
    "scrolled": true
   },
   "outputs": [
    {
     "ename": "NoSuchWindowException",
     "evalue": "Message: no such window: target window already closed\nfrom unknown error: web view not found\n  (Session info: chrome=108.0.5359.125)\nStacktrace:\nBacktrace:\n\t(No symbol) [0x00FDF243]\n\t(No symbol) [0x00F67FD1]\n\t(No symbol) [0x00E5D04D]\n\t(No symbol) [0x00E42D7A]\n\t(No symbol) [0x00EABE7B]\n\t(No symbol) [0x00EBC196]\n\t(No symbol) [0x00EA8386]\n\t(No symbol) [0x00E8163C]\n\t(No symbol) [0x00E8269D]\n\tGetHandleVerifier [0x01279A22+2655074]\n\tGetHandleVerifier [0x0126CA24+2601828]\n\tGetHandleVerifier [0x01088C0A+619850]\n\tGetHandleVerifier [0x01087830+614768]\n\t(No symbol) [0x00F705FC]\n\t(No symbol) [0x00F75968]\n\t(No symbol) [0x00F75A55]\n\t(No symbol) [0x00F8051B]\n\tBaseThreadInitThunk [0x75CE00F9+25]\n\tRtlGetAppContainerNamedObjectPath [0x77BA7BBE+286]\n\tRtlGetAppContainerNamedObjectPath [0x77BA7B8E+238]\n",
     "output_type": "error",
     "traceback": [
      "\u001b[1;31m---------------------------------------------------------------------------\u001b[0m",
      "\u001b[1;31mNoSuchWindowException\u001b[0m                     Traceback (most recent call last)",
      "\u001b[1;32m~\\AppData\\Local\\Temp\\ipykernel_2200\\1392803855.py\u001b[0m in \u001b[0;36m<module>\u001b[1;34m\u001b[0m\n\u001b[0;32m     42\u001b[0m     \u001b[1;31m#opens the page and waits for it to load\u001b[0m\u001b[1;33m\u001b[0m\u001b[1;33m\u001b[0m\u001b[0m\n\u001b[0;32m     43\u001b[0m     \u001b[0mscreen_name\u001b[0m \u001b[1;33m=\u001b[0m \u001b[0mj\u001b[0m\u001b[1;33m[\u001b[0m\u001b[1;34m'screen_name'\u001b[0m\u001b[1;33m]\u001b[0m\u001b[1;33m\u001b[0m\u001b[1;33m\u001b[0m\u001b[0m\n\u001b[1;32m---> 44\u001b[1;33m     \u001b[0mDRIVER\u001b[0m\u001b[1;33m.\u001b[0m\u001b[0mget\u001b[0m\u001b[1;33m(\u001b[0m\u001b[1;34m'https://twitter.com/'\u001b[0m \u001b[1;33m+\u001b[0m \u001b[0mscreen_name\u001b[0m\u001b[1;33m)\u001b[0m\u001b[1;33m\u001b[0m\u001b[1;33m\u001b[0m\u001b[0m\n\u001b[0m\u001b[0;32m     45\u001b[0m \u001b[1;33m\u001b[0m\u001b[0m\n\u001b[0;32m     46\u001b[0m     \u001b[1;31m#get the easy stuff\u001b[0m\u001b[1;33m\u001b[0m\u001b[1;33m\u001b[0m\u001b[0m\n",
      "\u001b[1;32m~\\anaconda3\\lib\\site-packages\\selenium\\webdriver\\remote\\webdriver.py\u001b[0m in \u001b[0;36mget\u001b[1;34m(self, url)\u001b[0m\n\u001b[0;32m    453\u001b[0m         \u001b[0mLoads\u001b[0m \u001b[0ma\u001b[0m \u001b[0mweb\u001b[0m \u001b[0mpage\u001b[0m \u001b[1;32min\u001b[0m \u001b[0mthe\u001b[0m \u001b[0mcurrent\u001b[0m \u001b[0mbrowser\u001b[0m \u001b[0msession\u001b[0m\u001b[1;33m.\u001b[0m\u001b[1;33m\u001b[0m\u001b[1;33m\u001b[0m\u001b[0m\n\u001b[0;32m    454\u001b[0m         \"\"\"\n\u001b[1;32m--> 455\u001b[1;33m         \u001b[0mself\u001b[0m\u001b[1;33m.\u001b[0m\u001b[0mexecute\u001b[0m\u001b[1;33m(\u001b[0m\u001b[0mCommand\u001b[0m\u001b[1;33m.\u001b[0m\u001b[0mGET\u001b[0m\u001b[1;33m,\u001b[0m \u001b[1;33m{\u001b[0m\u001b[1;34m\"url\"\u001b[0m\u001b[1;33m:\u001b[0m \u001b[0murl\u001b[0m\u001b[1;33m}\u001b[0m\u001b[1;33m)\u001b[0m\u001b[1;33m\u001b[0m\u001b[1;33m\u001b[0m\u001b[0m\n\u001b[0m\u001b[0;32m    456\u001b[0m \u001b[1;33m\u001b[0m\u001b[0m\n\u001b[0;32m    457\u001b[0m     \u001b[1;33m@\u001b[0m\u001b[0mproperty\u001b[0m\u001b[1;33m\u001b[0m\u001b[1;33m\u001b[0m\u001b[0m\n",
      "\u001b[1;32m~\\anaconda3\\lib\\site-packages\\selenium\\webdriver\\remote\\webdriver.py\u001b[0m in \u001b[0;36mexecute\u001b[1;34m(self, driver_command, params)\u001b[0m\n\u001b[0;32m    442\u001b[0m         \u001b[0mresponse\u001b[0m \u001b[1;33m=\u001b[0m \u001b[0mself\u001b[0m\u001b[1;33m.\u001b[0m\u001b[0mcommand_executor\u001b[0m\u001b[1;33m.\u001b[0m\u001b[0mexecute\u001b[0m\u001b[1;33m(\u001b[0m\u001b[0mdriver_command\u001b[0m\u001b[1;33m,\u001b[0m \u001b[0mparams\u001b[0m\u001b[1;33m)\u001b[0m\u001b[1;33m\u001b[0m\u001b[1;33m\u001b[0m\u001b[0m\n\u001b[0;32m    443\u001b[0m         \u001b[1;32mif\u001b[0m \u001b[0mresponse\u001b[0m\u001b[1;33m:\u001b[0m\u001b[1;33m\u001b[0m\u001b[1;33m\u001b[0m\u001b[0m\n\u001b[1;32m--> 444\u001b[1;33m             \u001b[0mself\u001b[0m\u001b[1;33m.\u001b[0m\u001b[0merror_handler\u001b[0m\u001b[1;33m.\u001b[0m\u001b[0mcheck_response\u001b[0m\u001b[1;33m(\u001b[0m\u001b[0mresponse\u001b[0m\u001b[1;33m)\u001b[0m\u001b[1;33m\u001b[0m\u001b[1;33m\u001b[0m\u001b[0m\n\u001b[0m\u001b[0;32m    445\u001b[0m             \u001b[0mresponse\u001b[0m\u001b[1;33m[\u001b[0m\u001b[1;34m\"value\"\u001b[0m\u001b[1;33m]\u001b[0m \u001b[1;33m=\u001b[0m \u001b[0mself\u001b[0m\u001b[1;33m.\u001b[0m\u001b[0m_unwrap_value\u001b[0m\u001b[1;33m(\u001b[0m\u001b[0mresponse\u001b[0m\u001b[1;33m.\u001b[0m\u001b[0mget\u001b[0m\u001b[1;33m(\u001b[0m\u001b[1;34m\"value\"\u001b[0m\u001b[1;33m,\u001b[0m \u001b[1;32mNone\u001b[0m\u001b[1;33m)\u001b[0m\u001b[1;33m)\u001b[0m\u001b[1;33m\u001b[0m\u001b[1;33m\u001b[0m\u001b[0m\n\u001b[0;32m    446\u001b[0m             \u001b[1;32mreturn\u001b[0m \u001b[0mresponse\u001b[0m\u001b[1;33m\u001b[0m\u001b[1;33m\u001b[0m\u001b[0m\n",
      "\u001b[1;32m~\\anaconda3\\lib\\site-packages\\selenium\\webdriver\\remote\\errorhandler.py\u001b[0m in \u001b[0;36mcheck_response\u001b[1;34m(self, response)\u001b[0m\n\u001b[0;32m    247\u001b[0m                 \u001b[0malert_text\u001b[0m \u001b[1;33m=\u001b[0m \u001b[0mvalue\u001b[0m\u001b[1;33m[\u001b[0m\u001b[1;34m\"alert\"\u001b[0m\u001b[1;33m]\u001b[0m\u001b[1;33m.\u001b[0m\u001b[0mget\u001b[0m\u001b[1;33m(\u001b[0m\u001b[1;34m\"text\"\u001b[0m\u001b[1;33m)\u001b[0m\u001b[1;33m\u001b[0m\u001b[1;33m\u001b[0m\u001b[0m\n\u001b[0;32m    248\u001b[0m             \u001b[1;32mraise\u001b[0m \u001b[0mexception_class\u001b[0m\u001b[1;33m(\u001b[0m\u001b[0mmessage\u001b[0m\u001b[1;33m,\u001b[0m \u001b[0mscreen\u001b[0m\u001b[1;33m,\u001b[0m \u001b[0mstacktrace\u001b[0m\u001b[1;33m,\u001b[0m \u001b[0malert_text\u001b[0m\u001b[1;33m)\u001b[0m  \u001b[1;31m# type: ignore[call-arg]  # mypy is not smart enough here\u001b[0m\u001b[1;33m\u001b[0m\u001b[1;33m\u001b[0m\u001b[0m\n\u001b[1;32m--> 249\u001b[1;33m         \u001b[1;32mraise\u001b[0m \u001b[0mexception_class\u001b[0m\u001b[1;33m(\u001b[0m\u001b[0mmessage\u001b[0m\u001b[1;33m,\u001b[0m \u001b[0mscreen\u001b[0m\u001b[1;33m,\u001b[0m \u001b[0mstacktrace\u001b[0m\u001b[1;33m)\u001b[0m\u001b[1;33m\u001b[0m\u001b[1;33m\u001b[0m\u001b[0m\n\u001b[0m",
      "\u001b[1;31mNoSuchWindowException\u001b[0m: Message: no such window: target window already closed\nfrom unknown error: web view not found\n  (Session info: chrome=108.0.5359.125)\nStacktrace:\nBacktrace:\n\t(No symbol) [0x00FDF243]\n\t(No symbol) [0x00F67FD1]\n\t(No symbol) [0x00E5D04D]\n\t(No symbol) [0x00E42D7A]\n\t(No symbol) [0x00EABE7B]\n\t(No symbol) [0x00EBC196]\n\t(No symbol) [0x00EA8386]\n\t(No symbol) [0x00E8163C]\n\t(No symbol) [0x00E8269D]\n\tGetHandleVerifier [0x01279A22+2655074]\n\tGetHandleVerifier [0x0126CA24+2601828]\n\tGetHandleVerifier [0x01088C0A+619850]\n\tGetHandleVerifier [0x01087830+614768]\n\t(No symbol) [0x00F705FC]\n\t(No symbol) [0x00F75968]\n\t(No symbol) [0x00F75A55]\n\t(No symbol) [0x00F8051B]\n\tBaseThreadInitThunk [0x75CE00F9+25]\n\tRtlGetAppContainerNamedObjectPath [0x77BA7BBE+286]\n\tRtlGetAppContainerNamedObjectPath [0x77BA7B8E+238]\n"
     ]
    }
   ],
   "source": [
    "#search_tweets(q, *, geocode, lang, locale, result_type, count, until, since_id, max_id, include_entities)\n",
    "\n",
    "\n",
    "\n",
    "#user data\n",
    "user_name = [];\n",
    "location = [];\n",
    "age = [];\n",
    "gender = [];\n",
    "followers = [];\n",
    "following = [];\n",
    "joined = [] #when they joined\n",
    "tweet_count_user = []\n",
    "\n",
    "#tweet data\n",
    "tweet = [];\n",
    "word_count = [];\n",
    "lang = []\n",
    "likes = []\n",
    "retweet_count = []\n",
    "is_quote_status = []\n",
    "\n",
    "users = [];\n",
    "tweets_list = tweepy.Cursor(api.search_tweets, \"#visibleWoman\", count=100).items(10)\n",
    "\n",
    "for x in tweets_list:\n",
    "    \n",
    "    tweet.append(x.text);\n",
    "    users.append(x.user);\n",
    "    word_count.append(countWordsInString(x.text))\n",
    "    \n",
    "    lang.append(x.lang)\n",
    "    likes.append(x.favorite_count) \n",
    "    retweet_count.append(x.retweet_count)\n",
    "    is_quote_status.append(x.is_quote_status)\n",
    "    \n",
    "i = 0\n",
    "for x in users:\n",
    "    j = x._json\n",
    "    #opens the page and waits for it to load\n",
    "    screen_name = j['screen_name']\n",
    "    DRIVER.get('https://twitter.com/' + screen_name) \n",
    "    \n",
    "    #get the easy stuff\n",
    "    user_name.append(screen_name)\n",
    "    following.append(j['friends_count']);\n",
    "    followers.append(j['followers_count']);\n",
    "    location.append(check_country_real(j['location']));\n",
    "    joined.append(x.created_at.isoformat()[:10])\n",
    "    tweet_count_user.append(x.statuses_count)\n",
    "    \n",
    "    \n",
    "    tmp = getAge(DRIVER)#gets the age\n",
    "    if(tmp == 2023 - x.created_at.year): #checks if the age is the same as the accounts age\n",
    "        age.append(np.nan)\n",
    "    else:\n",
    "        age.append(tmp)\n",
    "    \n",
    "    \n",
    "    gender.append(getGender(j['description'],j['location'],j['name']));\n",
    "    \n",
    "    ##this part simply displays at the bottom how many profiles were checked\n",
    "    clear_output(wait=True) #clears the output\n",
    "    \n",
    "    i+=1\n",
    "    print(i)\n",
    "\n",
    "print('done')"
   ]
  },
  {
   "cell_type": "code",
   "execution_count": null,
   "id": "6daed409",
   "metadata": {
    "scrolled": true
   },
   "outputs": [],
   "source": [
    "dick = {\"name\":user_name,\n",
    "        \"age\":age,\n",
    "        'location':location,\n",
    "        \"gender\":gender,\n",
    "        'join_date':joined,\n",
    "        'total tweets': tweet_count_user,\n",
    "        \"followers\":followers,\n",
    "        \"following\":following,\n",
    "        'tweet':tweet,\n",
    "        'likes':likes,\n",
    "        'retweets':retweet_count,\n",
    "        'word count': word_count,\n",
    "        'launguage': lang,\n",
    "        'is quote':is_quote_status\n",
    "       }\n",
    "\n",
    "\n",
    "\n",
    "df = pd.DataFrame(dick)"
   ]
  },
  {
   "cell_type": "code",
   "execution_count": null,
   "id": "5f4174fd",
   "metadata": {},
   "outputs": [],
   "source": [
    "df"
   ]
  },
  {
   "cell_type": "code",
   "execution_count": null,
   "id": "878b07fb",
   "metadata": {},
   "outputs": [],
   "source": [
    "DRIVER.quit()"
   ]
  },
  {
   "cell_type": "code",
   "execution_count": null,
   "id": "5fd11394",
   "metadata": {},
   "outputs": [],
   "source": [
    "#df.to_csv(\"result1.csv\")\n",
    "df[df['age'] > 1 ]"
   ]
  },
  {
   "cell_type": "code",
   "execution_count": null,
   "id": "747ab627",
   "metadata": {},
   "outputs": [],
   "source": []
  },
  {
   "cell_type": "code",
   "execution_count": null,
   "id": "b0cb4979",
   "metadata": {},
   "outputs": [],
   "source": [
    "#print(json.dumps(tmp, indent=4))\n",
    "tmp = api.get_user(screen_name = 'BarackObama')\n",
    "j = tmp._json\n",
    "\n"
   ]
  },
  {
   "cell_type": "code",
   "execution_count": null,
   "id": "90f15c66",
   "metadata": {},
   "outputs": [],
   "source": [
    "tmp.created_at.isoformat()[:10]"
   ]
  },
  {
   "cell_type": "code",
   "execution_count": null,
   "id": "3acc2c67",
   "metadata": {},
   "outputs": [],
   "source": [
    "print(df['tweet'][0])"
   ]
  },
  {
   "cell_type": "code",
   "execution_count": 11,
   "id": "3a64ee54",
   "metadata": {},
   "outputs": [
    {
     "name": "stdout",
     "output_type": "stream",
     "text": [
      "1\n",
      "done\n"
     ]
    }
   ],
   "source": [
    "\n",
    "#user data\n",
    "user_name = [];\n",
    "location = [];\n",
    "age = [];\n",
    "gender = [];\n",
    "followers = [];\n",
    "following = [];\n",
    "joined = [] #when they joined\n",
    "tweet_count_user = []\n",
    "\n",
    "#tweet data\n",
    "tweet = [];\n",
    "word_count = [];\n",
    "lang = []\n",
    "likes = []\n",
    "retweet_count = []\n",
    "is_quote_status = []\n",
    "\n",
    "users = [];\n",
    "\n",
    "tweets_list = [api.get_status(id = 1298244180175720450)]\n",
    "\n",
    "\n",
    "users = []\n",
    "\n",
    "DRIVER = webdriver.Chrome()#the chrome\n",
    "\n",
    "for x in tweets_list:\n",
    "    \n",
    "    tweet.append(x.text);\n",
    "    users.append(x.user);\n",
    "    word_count.append(countWordsInString(x.text))\n",
    "    \n",
    "    lang.append(x.lang)\n",
    "    likes.append(x.favorite_count) \n",
    "    retweet_count.append(x.retweet_count)\n",
    "    is_quote_status.append(x.is_quote_status)\n",
    "    \n",
    "i = 0\n",
    "for x in users:\n",
    "    j = x._json\n",
    "    #opens the page and waits for it to load\n",
    "    screen_name = j['screen_name']\n",
    "    DRIVER.get('https://twitter.com/' + screen_name) \n",
    "    \n",
    "    #get the easy stuff\n",
    "    user_name.append(screen_name)\n",
    "    following.append(j['friends_count']);\n",
    "    followers.append(j['followers_count']);\n",
    "    location.append(check_country_real(j['location']));\n",
    "    joined.append(x.created_at.isoformat()[:10])\n",
    "    tweet_count_user.append(x.statuses_count)\n",
    "    \n",
    "    \n",
    "    tmp = getAge(DRIVER)#gets the age\n",
    "    if(tmp == 2023 - x.created_at.year): #checks if the age is the same as the accounts age\n",
    "        age.append(np.nan)\n",
    "    else:\n",
    "        age.append(tmp)\n",
    "    \n",
    "    \n",
    "    gender.append(getGender(j['description'],j['location'],j['name']));\n",
    "    \n",
    "    ##this part simply displays at the bottom how many profiles were checked\n",
    "    clear_output(wait=True) #clears the output\n",
    "    \n",
    "    i+=1\n",
    "    print(i)\n",
    "\n",
    "DRIVER.quit()\n",
    "\n",
    "print('done')"
   ]
  },
  {
   "cell_type": "code",
   "execution_count": 12,
   "id": "4ac24faf",
   "metadata": {},
   "outputs": [],
   "source": [
    "dick = {\"name\":user_name,\n",
    "        \"age\":age,\n",
    "        'location':location,\n",
    "        \"gender\":gender,\n",
    "        'join_date':joined,\n",
    "        'total tweets': tweet_count_user,\n",
    "        \"followers\":followers,\n",
    "        \"following\":following,\n",
    "        'tweet':tweet,\n",
    "        'likes':likes,\n",
    "        'retweets':retweet_count,\n",
    "        'word count': word_count,\n",
    "        'launguage': lang,\n",
    "        'is quote':is_quote_status\n",
    "       }\n",
    "\n",
    "\n",
    "\n",
    "df = pd.DataFrame(dick)"
   ]
  },
  {
   "cell_type": "code",
   "execution_count": 13,
   "id": "9483a9a7",
   "metadata": {},
   "outputs": [
    {
     "data": {
      "text/html": [
       "<div>\n",
       "<style scoped>\n",
       "    .dataframe tbody tr th:only-of-type {\n",
       "        vertical-align: middle;\n",
       "    }\n",
       "\n",
       "    .dataframe tbody tr th {\n",
       "        vertical-align: top;\n",
       "    }\n",
       "\n",
       "    .dataframe thead th {\n",
       "        text-align: right;\n",
       "    }\n",
       "</style>\n",
       "<table border=\"1\" class=\"dataframe\">\n",
       "  <thead>\n",
       "    <tr style=\"text-align: right;\">\n",
       "      <th></th>\n",
       "      <th>name</th>\n",
       "      <th>age</th>\n",
       "      <th>location</th>\n",
       "      <th>gender</th>\n",
       "      <th>join_date</th>\n",
       "      <th>total tweets</th>\n",
       "      <th>followers</th>\n",
       "      <th>following</th>\n",
       "      <th>tweet</th>\n",
       "      <th>likes</th>\n",
       "      <th>retweets</th>\n",
       "      <th>word count</th>\n",
       "      <th>launguage</th>\n",
       "      <th>is quote</th>\n",
       "    </tr>\n",
       "  </thead>\n",
       "  <tbody>\n",
       "    <tr>\n",
       "      <th>0</th>\n",
       "      <td>Schnumn</td>\n",
       "      <td>NaN</td>\n",
       "      <td>None</td>\n",
       "      <td>F</td>\n",
       "      <td>2015-12-28</td>\n",
       "      <td>15114</td>\n",
       "      <td>47514</td>\n",
       "      <td>2982</td>\n",
       "      <td>Hey #VisibleWoman I'm Bex! I make comics about...</td>\n",
       "      <td>7273</td>\n",
       "      <td>1793</td>\n",
       "      <td>20</td>\n",
       "      <td>en</td>\n",
       "      <td>False</td>\n",
       "    </tr>\n",
       "  </tbody>\n",
       "</table>\n",
       "</div>"
      ],
      "text/plain": [
       "      name  age location gender   join_date  total tweets  followers  \\\n",
       "0  Schnumn  NaN     None      F  2015-12-28         15114      47514   \n",
       "\n",
       "   following                                              tweet  likes  \\\n",
       "0       2982  Hey #VisibleWoman I'm Bex! I make comics about...   7273   \n",
       "\n",
       "   retweets  word count launguage  is quote  \n",
       "0      1793          20        en     False  "
      ]
     },
     "execution_count": 13,
     "metadata": {},
     "output_type": "execute_result"
    }
   ],
   "source": [
    "df"
   ]
  },
  {
   "cell_type": "code",
   "execution_count": null,
   "id": "f23ae2ef",
   "metadata": {},
   "outputs": [],
   "source": []
  }
 ],
 "metadata": {
  "kernelspec": {
   "display_name": "Python 3 (ipykernel)",
   "language": "python",
   "name": "python3"
  },
  "language_info": {
   "codemirror_mode": {
    "name": "ipython",
    "version": 3
   },
   "file_extension": ".py",
   "mimetype": "text/x-python",
   "name": "python",
   "nbconvert_exporter": "python",
   "pygments_lexer": "ipython3",
   "version": "3.9.13"
  }
 },
 "nbformat": 4,
 "nbformat_minor": 5
}
