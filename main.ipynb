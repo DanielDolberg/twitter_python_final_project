{
 "cells": [
  {
   "cell_type": "code",
   "execution_count": 1,
   "id": "7c42974a",
   "metadata": {},
   "outputs": [],
   "source": [
    "#!pip install selenium\n",
    "#!pip install geonamescache\n",
    "from helper import *\n",
    "import selenium\n",
    "import tweepy\n",
    "import numpy as np\n",
    "import pandas as pd\n",
    "import json\n",
    "from bs4 import BeautifulSoup\n",
    "from IPython.display import clear_output #clears output\n",
    "import datetime\n",
    "import time\n",
    "\n",
    "API_Key ='irXxqVrXin1KsDRM9g6HdF8p8'\n",
    "API_Key_Secret = 'sLQvb8voyrTDz5S93vlt5jE5RlMi8xBuOQtSq2pgERe2QVawIC'\n",
    "\n",
    "Bearer_Token = 'AAAAAAAAAAAAAAAAAAAAACsVlAEAAAAADib49u9Asa6Hbts8UwBEdtc0dsk%3D1d8lVaySeRg1CpJQ6HDLSwK6Mj9wJiptj49PAdwMuvW95zJoar'\n",
    "\n",
    "Access_Token = '1122492746210660352-COptyz3RtF1AVokHw3027iOdbsZZl1'\n",
    "Access_Token_Secret = 'slfBz8pcgCrUmewZgSgVKsmIFhfCcFuinAx16q5eh1Vvr'"
   ]
  },
  {
   "cell_type": "code",
   "execution_count": 2,
   "id": "28cf054d",
   "metadata": {},
   "outputs": [],
   "source": [
    "# authorization of consumer key and consumer secret\n",
    "auth = tweepy.OAuthHandler(API_Key, API_Key_Secret)\n",
    "# set access to user's access key and access secret\n",
    "auth.set_access_token(Access_Token, Access_Token_Secret)\n",
    "# calling the api\n",
    "api = tweepy.API(auth)\n",
    "\n",
    "Client = tweepy.Client(bearer_token=Bearer_Token) \n"
   ]
  },
  {
   "cell_type": "code",
   "execution_count": 3,
   "id": "4b5da9fc",
   "metadata": {},
   "outputs": [
    {
     "name": "stdout",
     "output_type": "stream",
     "text": [
      "Us secured\n",
      "canada secured\n",
      "UK secured\n",
      "kengooro land secured\n",
      "kengooroon't land secured\n",
      "done\n"
     ]
    }
   ],
   "source": [
    "'''\n",
    "#tweets_list = api.search_30_day(label = '30day',query = '#blender', fromDate = FROM_DATE,toDate = TO_DATE,maxResults = 10,tweet_mode = \"extended\")\n",
    "#tweets_list = tweepy.Cursor(api.search_tweets, \"biden\", count=100).items(100)\n",
    "\n",
    "\n",
    "start_date = datetime.datetime.now() - datetime.timedelta(days=14)\n",
    "end_date = start_date + datetime.timedelta(days=7)\n",
    "\n",
    "start_date = datetime.datetime.now()\n",
    "end_date = start_date + datetime.timedelta(days=1)\n",
    "'''\n",
    "\n",
    "# Search for tweets within the target countries\n",
    "usa = '96683cc9126741d1'\n",
    "canada = \"3376992a082d67c7\"\n",
    "great_britain = '6416b8512febefc9'\n",
    "Australia = '3f14ce28dc7c4566'\n",
    "new_zealand = \"0b039ce18ddf1cb9\"\n",
    "\n",
    "tweets_list = []\n",
    "#ALL_pages = tweepy.Cursor(api.search_tweets, q=\"since:{} until:{}\".format(start_date.strftime(\"%Y-%m-%d\"), end_date.strftime(\"%Y-%m-%d\")), lang=\"en\", tweet_mode=\"extended\", count = 100).pages(50)\n",
    "max_count_4_each_country = 2000\n",
    "\n",
    "#add usa\n",
    "tweets_list += tweepy.Cursor(api.search_tweets, q=\"place:\"+ usa + ' -filter:replies -filter:retweets', tweet_mode=\"extended\",include_entities=True,count = 100).items(max_count_4_each_country)\n",
    "print('Us secured')\n",
    "time.sleep(10)\n",
    "\n",
    "#add Canada\n",
    "tweets_list += tweepy.Cursor(api.search_tweets, q=\"place:\"+ canada + ' -filter:replies -filter:retweets', tweet_mode=\"extended\",include_entities=True,count = 100).items(max_count_4_each_country)\n",
    "print('canada secured')\n",
    "time.sleep(10)\n",
    "\n",
    "#add \"Great\" Britian\n",
    "tweets_list += tweepy.Cursor(api.search_tweets, q=\"place:\"+ great_britain + ' -filter:replies -filter:retweets', tweet_mode=\"extended\",include_entities=True,count = 100).items(max_count_4_each_country)\n",
    "print('UK secured')\n",
    "time.sleep(10)\n",
    "\n",
    "#add Australia\n",
    "tweets_list += tweepy.Cursor(api.search_tweets, q=\"place:\"+ Australia + ' -filter:replies -filter:retweets', tweet_mode=\"extended\",include_entities=True,count = 100).items(max_count_4_each_country)\n",
    "print('kengooro land secured')\n",
    "time.sleep(10)\n",
    "\n",
    "#add new zealand\n",
    "tweets_list += tweepy.Cursor(api.search_tweets, q=\"place:\"+ new_zealand + ' -filter:replies -filter:retweets', tweet_mode=\"extended\",include_entities=True,count = 100).items(max_count_4_each_country)\n",
    "print(\"kengooroon't land secured\")\n",
    "\n",
    "\n",
    "'''\n",
    "#return this if you are using pages again!!!!!\n",
    "for page in ALL_pages:\n",
    "    tweets_list.extend(page)\n",
    "#tweets_list = [t for t in tweets_list if t.in_reply_to_status_id == None]    \n",
    "'''\n",
    "\n",
    "trends = getAllTrends()#get trends\n",
    "print('done')"
   ]
  },
  {
   "cell_type": "code",
   "execution_count": 4,
   "id": "cc5d9c19",
   "metadata": {},
   "outputs": [
    {
     "data": {
      "text/plain": [
       "10000"
      ]
     },
     "execution_count": 4,
     "metadata": {},
     "output_type": "execute_result"
    }
   ],
   "source": [
    "tweets_list = [t for t in tweets_list]\n",
    "len(tweets_list)"
   ]
  },
  {
   "cell_type": "code",
   "execution_count": 5,
   "id": "6ed7e0fe",
   "metadata": {},
   "outputs": [
    {
     "name": "stdout",
     "output_type": "stream",
     "text": [
      "1554\n"
     ]
    },
    {
     "ename": "TimeoutException",
     "evalue": "Message: timeout: Timed out receiving message from renderer: 0.231\n  (Session info: chrome=109.0.5414.74)\nStacktrace:\nBacktrace:\n\t(No symbol) [0x00F8F243]\n\t(No symbol) [0x00F17FD1]\n\t(No symbol) [0x00E0D04D]\n\t(No symbol) [0x00DFFC24]\n\t(No symbol) [0x00DFFA5C]\n\t(No symbol) [0x00DFE7E8]\n\t(No symbol) [0x00DFEEF7]\n\t(No symbol) [0x00E07F08]\n\t(No symbol) [0x00E13455]\n\t(No symbol) [0x00E16766]\n\t(No symbol) [0x00DFF2A1]\n\t(No symbol) [0x00E1328F]\n\t(No symbol) [0x00E6CDCE]\n\t(No symbol) [0x00E58386]\n\t(No symbol) [0x00E3163C]\n\t(No symbol) [0x00E3269D]\n\tGetHandleVerifier [0x01229A22+2655074]\n\tGetHandleVerifier [0x0121CA24+2601828]\n\tGetHandleVerifier [0x01038C0A+619850]\n\tGetHandleVerifier [0x01037830+614768]\n\t(No symbol) [0x00F205FC]\n\t(No symbol) [0x00F25968]\n\t(No symbol) [0x00F25A55]\n\t(No symbol) [0x00F3051B]\n\tBaseThreadInitThunk [0x757500F9+25]\n\tRtlGetAppContainerNamedObjectPath [0x77317BBE+286]\n\tRtlGetAppContainerNamedObjectPath [0x77317B8E+238]\n",
     "output_type": "error",
     "traceback": [
      "\u001b[1;31m---------------------------------------------------------------------------\u001b[0m",
      "\u001b[1;31mTimeoutException\u001b[0m                          Traceback (most recent call last)",
      "\u001b[1;32m~\\AppData\\Local\\Temp\\ipykernel_1920\\561561110.py\u001b[0m in \u001b[0;36m<module>\u001b[1;34m\u001b[0m\n\u001b[0;32m     88\u001b[0m     \u001b[1;31m#opens the page\u001b[0m\u001b[1;33m\u001b[0m\u001b[1;33m\u001b[0m\u001b[0m\n\u001b[0;32m     89\u001b[0m     \u001b[0mscreen_name\u001b[0m \u001b[1;33m=\u001b[0m \u001b[0mj\u001b[0m\u001b[1;33m[\u001b[0m\u001b[1;34m'screen_name'\u001b[0m\u001b[1;33m]\u001b[0m\u001b[1;33m\u001b[0m\u001b[1;33m\u001b[0m\u001b[0m\n\u001b[1;32m---> 90\u001b[1;33m     \u001b[0mDRIVER\u001b[0m\u001b[1;33m.\u001b[0m\u001b[0mget\u001b[0m\u001b[1;33m(\u001b[0m\u001b[1;34m'https://twitter.com/'\u001b[0m \u001b[1;33m+\u001b[0m \u001b[0mscreen_name\u001b[0m\u001b[1;33m)\u001b[0m\u001b[1;33m\u001b[0m\u001b[1;33m\u001b[0m\u001b[0m\n\u001b[0m\u001b[0;32m     91\u001b[0m \u001b[1;33m\u001b[0m\u001b[0m\n\u001b[0;32m     92\u001b[0m     \u001b[1;31m#get the easy stuff\u001b[0m\u001b[1;33m\u001b[0m\u001b[1;33m\u001b[0m\u001b[0m\n",
      "\u001b[1;32m~\\anaconda3\\lib\\site-packages\\selenium\\webdriver\\remote\\webdriver.py\u001b[0m in \u001b[0;36mget\u001b[1;34m(self, url)\u001b[0m\n\u001b[0;32m    453\u001b[0m         \u001b[0mLoads\u001b[0m \u001b[0ma\u001b[0m \u001b[0mweb\u001b[0m \u001b[0mpage\u001b[0m \u001b[1;32min\u001b[0m \u001b[0mthe\u001b[0m \u001b[0mcurrent\u001b[0m \u001b[0mbrowser\u001b[0m \u001b[0msession\u001b[0m\u001b[1;33m.\u001b[0m\u001b[1;33m\u001b[0m\u001b[1;33m\u001b[0m\u001b[0m\n\u001b[0;32m    454\u001b[0m         \"\"\"\n\u001b[1;32m--> 455\u001b[1;33m         \u001b[0mself\u001b[0m\u001b[1;33m.\u001b[0m\u001b[0mexecute\u001b[0m\u001b[1;33m(\u001b[0m\u001b[0mCommand\u001b[0m\u001b[1;33m.\u001b[0m\u001b[0mGET\u001b[0m\u001b[1;33m,\u001b[0m \u001b[1;33m{\u001b[0m\u001b[1;34m\"url\"\u001b[0m\u001b[1;33m:\u001b[0m \u001b[0murl\u001b[0m\u001b[1;33m}\u001b[0m\u001b[1;33m)\u001b[0m\u001b[1;33m\u001b[0m\u001b[1;33m\u001b[0m\u001b[0m\n\u001b[0m\u001b[0;32m    456\u001b[0m \u001b[1;33m\u001b[0m\u001b[0m\n\u001b[0;32m    457\u001b[0m     \u001b[1;33m@\u001b[0m\u001b[0mproperty\u001b[0m\u001b[1;33m\u001b[0m\u001b[1;33m\u001b[0m\u001b[0m\n",
      "\u001b[1;32m~\\anaconda3\\lib\\site-packages\\selenium\\webdriver\\remote\\webdriver.py\u001b[0m in \u001b[0;36mexecute\u001b[1;34m(self, driver_command, params)\u001b[0m\n\u001b[0;32m    442\u001b[0m         \u001b[0mresponse\u001b[0m \u001b[1;33m=\u001b[0m \u001b[0mself\u001b[0m\u001b[1;33m.\u001b[0m\u001b[0mcommand_executor\u001b[0m\u001b[1;33m.\u001b[0m\u001b[0mexecute\u001b[0m\u001b[1;33m(\u001b[0m\u001b[0mdriver_command\u001b[0m\u001b[1;33m,\u001b[0m \u001b[0mparams\u001b[0m\u001b[1;33m)\u001b[0m\u001b[1;33m\u001b[0m\u001b[1;33m\u001b[0m\u001b[0m\n\u001b[0;32m    443\u001b[0m         \u001b[1;32mif\u001b[0m \u001b[0mresponse\u001b[0m\u001b[1;33m:\u001b[0m\u001b[1;33m\u001b[0m\u001b[1;33m\u001b[0m\u001b[0m\n\u001b[1;32m--> 444\u001b[1;33m             \u001b[0mself\u001b[0m\u001b[1;33m.\u001b[0m\u001b[0merror_handler\u001b[0m\u001b[1;33m.\u001b[0m\u001b[0mcheck_response\u001b[0m\u001b[1;33m(\u001b[0m\u001b[0mresponse\u001b[0m\u001b[1;33m)\u001b[0m\u001b[1;33m\u001b[0m\u001b[1;33m\u001b[0m\u001b[0m\n\u001b[0m\u001b[0;32m    445\u001b[0m             \u001b[0mresponse\u001b[0m\u001b[1;33m[\u001b[0m\u001b[1;34m\"value\"\u001b[0m\u001b[1;33m]\u001b[0m \u001b[1;33m=\u001b[0m \u001b[0mself\u001b[0m\u001b[1;33m.\u001b[0m\u001b[0m_unwrap_value\u001b[0m\u001b[1;33m(\u001b[0m\u001b[0mresponse\u001b[0m\u001b[1;33m.\u001b[0m\u001b[0mget\u001b[0m\u001b[1;33m(\u001b[0m\u001b[1;34m\"value\"\u001b[0m\u001b[1;33m,\u001b[0m \u001b[1;32mNone\u001b[0m\u001b[1;33m)\u001b[0m\u001b[1;33m)\u001b[0m\u001b[1;33m\u001b[0m\u001b[1;33m\u001b[0m\u001b[0m\n\u001b[0;32m    446\u001b[0m             \u001b[1;32mreturn\u001b[0m \u001b[0mresponse\u001b[0m\u001b[1;33m\u001b[0m\u001b[1;33m\u001b[0m\u001b[0m\n",
      "\u001b[1;32m~\\anaconda3\\lib\\site-packages\\selenium\\webdriver\\remote\\errorhandler.py\u001b[0m in \u001b[0;36mcheck_response\u001b[1;34m(self, response)\u001b[0m\n\u001b[0;32m    247\u001b[0m                 \u001b[0malert_text\u001b[0m \u001b[1;33m=\u001b[0m \u001b[0mvalue\u001b[0m\u001b[1;33m[\u001b[0m\u001b[1;34m\"alert\"\u001b[0m\u001b[1;33m]\u001b[0m\u001b[1;33m.\u001b[0m\u001b[0mget\u001b[0m\u001b[1;33m(\u001b[0m\u001b[1;34m\"text\"\u001b[0m\u001b[1;33m)\u001b[0m\u001b[1;33m\u001b[0m\u001b[1;33m\u001b[0m\u001b[0m\n\u001b[0;32m    248\u001b[0m             \u001b[1;32mraise\u001b[0m \u001b[0mexception_class\u001b[0m\u001b[1;33m(\u001b[0m\u001b[0mmessage\u001b[0m\u001b[1;33m,\u001b[0m \u001b[0mscreen\u001b[0m\u001b[1;33m,\u001b[0m \u001b[0mstacktrace\u001b[0m\u001b[1;33m,\u001b[0m \u001b[0malert_text\u001b[0m\u001b[1;33m)\u001b[0m  \u001b[1;31m# type: ignore[call-arg]  # mypy is not smart enough here\u001b[0m\u001b[1;33m\u001b[0m\u001b[1;33m\u001b[0m\u001b[0m\n\u001b[1;32m--> 249\u001b[1;33m         \u001b[1;32mraise\u001b[0m \u001b[0mexception_class\u001b[0m\u001b[1;33m(\u001b[0m\u001b[0mmessage\u001b[0m\u001b[1;33m,\u001b[0m \u001b[0mscreen\u001b[0m\u001b[1;33m,\u001b[0m \u001b[0mstacktrace\u001b[0m\u001b[1;33m)\u001b[0m\u001b[1;33m\u001b[0m\u001b[1;33m\u001b[0m\u001b[0m\n\u001b[0m",
      "\u001b[1;31mTimeoutException\u001b[0m: Message: timeout: Timed out receiving message from renderer: 0.231\n  (Session info: chrome=109.0.5414.74)\nStacktrace:\nBacktrace:\n\t(No symbol) [0x00F8F243]\n\t(No symbol) [0x00F17FD1]\n\t(No symbol) [0x00E0D04D]\n\t(No symbol) [0x00DFFC24]\n\t(No symbol) [0x00DFFA5C]\n\t(No symbol) [0x00DFE7E8]\n\t(No symbol) [0x00DFEEF7]\n\t(No symbol) [0x00E07F08]\n\t(No symbol) [0x00E13455]\n\t(No symbol) [0x00E16766]\n\t(No symbol) [0x00DFF2A1]\n\t(No symbol) [0x00E1328F]\n\t(No symbol) [0x00E6CDCE]\n\t(No symbol) [0x00E58386]\n\t(No symbol) [0x00E3163C]\n\t(No symbol) [0x00E3269D]\n\tGetHandleVerifier [0x01229A22+2655074]\n\tGetHandleVerifier [0x0121CA24+2601828]\n\tGetHandleVerifier [0x01038C0A+619850]\n\tGetHandleVerifier [0x01037830+614768]\n\t(No symbol) [0x00F205FC]\n\t(No symbol) [0x00F25968]\n\t(No symbol) [0x00F25A55]\n\t(No symbol) [0x00F3051B]\n\tBaseThreadInitThunk [0x757500F9+25]\n\tRtlGetAppContainerNamedObjectPath [0x77317BBE+286]\n\tRtlGetAppContainerNamedObjectPath [0x77317B8E+238]\n"
     ]
    }
   ],
   "source": [
    "#search_tweets(q, *, geocode, lang, locale, result_type, count, until, since_id, max_id, include_entities)\n",
    "\n",
    "#user data\n",
    "\n",
    "DRIVER = webdriver.Chrome()#the chrome\n",
    "\n",
    "user_name = [];\n",
    "#location = [];\n",
    "\n",
    "city = [];\n",
    "country = [];\n",
    "age = [];\n",
    "gender = [];\n",
    "followers = [];\n",
    "following = [];\n",
    "verified = []\n",
    "joined = [] #when they joined\n",
    "acc_age = [] \n",
    "respectability = []\n",
    "tweet_count_user = []\n",
    "\n",
    "#tweet data\n",
    "tweet = [];\n",
    "word_count = [];\n",
    "likes = []\n",
    "retweet_count = []\n",
    "is_quote_status = []\n",
    "date = []\n",
    "tweet_id = []\n",
    "hashtags = []\n",
    "hashtags_count = []\n",
    "trending_for_area = []\n",
    "is_using_trend = []\n",
    "users = [];\n",
    "\n",
    "print('loading users')\n",
    "\n",
    "arr = []\n",
    "i = 1\n",
    "\n",
    "for t in tweets_list:\n",
    "    tweet.append(t.full_text);\n",
    "    \n",
    "    users.append(t.user);\n",
    "    \n",
    "    word_count.append(countWordsInString(t.full_text))\n",
    "    \n",
    "    likes.append( t.favorite_count)\n",
    "    \n",
    "    retweet_count.append(t.retweet_count)\n",
    "    \n",
    "    is_quote_status.append(t.is_quote_status)\n",
    "    \n",
    "    date.append(t.created_at.isoformat()[:10])\n",
    "    \n",
    "    tweet_id.append(t.id)\n",
    "    \n",
    "    \n",
    "        \n",
    "    city.append(t.place.name)\n",
    "    country.append( t.place.country)\n",
    "    \n",
    "    loc_trends = getTrendsByLoc(t.place.name,t.place.country,trends)\n",
    "    trending_for_area.append(loc_trends)\n",
    "    is_using_trend.append(areTrendUsed(t.full_text,loc_trends))\n",
    "    \n",
    "    ht = [t['text'] for t in t.entities['hashtags']]\n",
    "    ht_count = len(ht)\n",
    "    \n",
    "    if ht == []:\n",
    "        ht = np.nan\n",
    "        ht_count = 0\n",
    "        \n",
    "    hashtags.append(ht)\n",
    "    hashtags_count.append(ht_count)\n",
    "    \n",
    "    \n",
    "    \n",
    "    \n",
    "    \n",
    "        \n",
    "for x in users:\n",
    "    if i%26 == 0:\n",
    "        print(\"waiting\")\n",
    "        time.sleep(6)\n",
    "    j = x._json\n",
    "    \n",
    "    #opens the page\n",
    "    screen_name = j['screen_name']    \n",
    "    DRIVER.get('https://twitter.com/' + screen_name) \n",
    "    \n",
    "    #get the easy stuff\n",
    "    user_name.append(screen_name)\n",
    "    following.append(j['friends_count'])\n",
    "    followers.append(j['followers_count'])\n",
    "    \n",
    "    if(j['followers_count'] != 0):\n",
    "        respectability.append(float(j['friends_count']) / float(j['followers_count']))\n",
    "    else:\n",
    "        respectability.append(0)\n",
    "        \n",
    "    joined.append(x.created_at.isoformat()[:10])\n",
    "    acc_age.append(2023 - x.created_at.year + float(x.created_at.day)/12)\n",
    "    tweet_count_user.append(x.statuses_count)\n",
    "    verified.append(x.verified)\n",
    "    \n",
    "    \n",
    "    \n",
    "    tmp = getAge(DRIVER)#gets the age\n",
    "    if(tmp == 2023 - x.created_at.year): #checks if the age is the same as the accounts age\n",
    "        age.append(np.nan)\n",
    "    else:\n",
    "        age.append(tmp)\n",
    "    \n",
    "    \n",
    "    gender.append(getGender(j['description'],j['location'],j['name']))\n",
    "    \n",
    "    ##this part simply displays at the bottom how many profiles were checked\n",
    "    clear_output(wait=True) #clears the output\n",
    "    \n",
    "    i+=1\n",
    "    print(i)\n",
    "\n",
    "print('done')"
   ]
  },
  {
   "cell_type": "code",
   "execution_count": 9,
   "id": "801a3498",
   "metadata": {},
   "outputs": [],
   "source": [
    "max = len(gender)-1\n",
    "\n",
    "for i in range(0,max):#rounds the account ages\n",
    "    acc_age[i] = round(acc_age[i],1)"
   ]
  },
  {
   "cell_type": "code",
   "execution_count": 10,
   "id": "084deef8",
   "metadata": {},
   "outputs": [
    {
     "ename": "ValueError",
     "evalue": "All arrays must be of the same length",
     "output_type": "error",
     "traceback": [
      "\u001b[1;31m---------------------------------------------------------------------------\u001b[0m",
      "\u001b[1;31mValueError\u001b[0m                                Traceback (most recent call last)",
      "\u001b[1;32m~\\AppData\\Local\\Temp\\ipykernel_1920\\201617478.py\u001b[0m in \u001b[0;36m<module>\u001b[1;34m\u001b[0m\n\u001b[0;32m     26\u001b[0m        }\n\u001b[0;32m     27\u001b[0m \u001b[1;33m\u001b[0m\u001b[0m\n\u001b[1;32m---> 28\u001b[1;33m \u001b[0mdf\u001b[0m \u001b[1;33m=\u001b[0m \u001b[0mpd\u001b[0m\u001b[1;33m.\u001b[0m\u001b[0mDataFrame\u001b[0m\u001b[1;33m(\u001b[0m\u001b[0mdick\u001b[0m\u001b[1;33m)\u001b[0m\u001b[1;33m\u001b[0m\u001b[1;33m\u001b[0m\u001b[0m\n\u001b[0m",
      "\u001b[1;32m~\\anaconda3\\lib\\site-packages\\pandas\\core\\frame.py\u001b[0m in \u001b[0;36m__init__\u001b[1;34m(self, data, index, columns, dtype, copy)\u001b[0m\n\u001b[0;32m    634\u001b[0m         \u001b[1;32melif\u001b[0m \u001b[0misinstance\u001b[0m\u001b[1;33m(\u001b[0m\u001b[0mdata\u001b[0m\u001b[1;33m,\u001b[0m \u001b[0mdict\u001b[0m\u001b[1;33m)\u001b[0m\u001b[1;33m:\u001b[0m\u001b[1;33m\u001b[0m\u001b[1;33m\u001b[0m\u001b[0m\n\u001b[0;32m    635\u001b[0m             \u001b[1;31m# GH#38939 de facto copy defaults to False only in non-dict cases\u001b[0m\u001b[1;33m\u001b[0m\u001b[1;33m\u001b[0m\u001b[0m\n\u001b[1;32m--> 636\u001b[1;33m             \u001b[0mmgr\u001b[0m \u001b[1;33m=\u001b[0m \u001b[0mdict_to_mgr\u001b[0m\u001b[1;33m(\u001b[0m\u001b[0mdata\u001b[0m\u001b[1;33m,\u001b[0m \u001b[0mindex\u001b[0m\u001b[1;33m,\u001b[0m \u001b[0mcolumns\u001b[0m\u001b[1;33m,\u001b[0m \u001b[0mdtype\u001b[0m\u001b[1;33m=\u001b[0m\u001b[0mdtype\u001b[0m\u001b[1;33m,\u001b[0m \u001b[0mcopy\u001b[0m\u001b[1;33m=\u001b[0m\u001b[0mcopy\u001b[0m\u001b[1;33m,\u001b[0m \u001b[0mtyp\u001b[0m\u001b[1;33m=\u001b[0m\u001b[0mmanager\u001b[0m\u001b[1;33m)\u001b[0m\u001b[1;33m\u001b[0m\u001b[1;33m\u001b[0m\u001b[0m\n\u001b[0m\u001b[0;32m    637\u001b[0m         \u001b[1;32melif\u001b[0m \u001b[0misinstance\u001b[0m\u001b[1;33m(\u001b[0m\u001b[0mdata\u001b[0m\u001b[1;33m,\u001b[0m \u001b[0mma\u001b[0m\u001b[1;33m.\u001b[0m\u001b[0mMaskedArray\u001b[0m\u001b[1;33m)\u001b[0m\u001b[1;33m:\u001b[0m\u001b[1;33m\u001b[0m\u001b[1;33m\u001b[0m\u001b[0m\n\u001b[0;32m    638\u001b[0m             \u001b[1;32mimport\u001b[0m \u001b[0mnumpy\u001b[0m\u001b[1;33m.\u001b[0m\u001b[0mma\u001b[0m\u001b[1;33m.\u001b[0m\u001b[0mmrecords\u001b[0m \u001b[1;32mas\u001b[0m \u001b[0mmrecords\u001b[0m\u001b[1;33m\u001b[0m\u001b[1;33m\u001b[0m\u001b[0m\n",
      "\u001b[1;32m~\\anaconda3\\lib\\site-packages\\pandas\\core\\internals\\construction.py\u001b[0m in \u001b[0;36mdict_to_mgr\u001b[1;34m(data, index, columns, dtype, typ, copy)\u001b[0m\n\u001b[0;32m    500\u001b[0m         \u001b[1;31m# TODO: can we get rid of the dt64tz special case above?\u001b[0m\u001b[1;33m\u001b[0m\u001b[1;33m\u001b[0m\u001b[0m\n\u001b[0;32m    501\u001b[0m \u001b[1;33m\u001b[0m\u001b[0m\n\u001b[1;32m--> 502\u001b[1;33m     \u001b[1;32mreturn\u001b[0m \u001b[0marrays_to_mgr\u001b[0m\u001b[1;33m(\u001b[0m\u001b[0marrays\u001b[0m\u001b[1;33m,\u001b[0m \u001b[0mcolumns\u001b[0m\u001b[1;33m,\u001b[0m \u001b[0mindex\u001b[0m\u001b[1;33m,\u001b[0m \u001b[0mdtype\u001b[0m\u001b[1;33m=\u001b[0m\u001b[0mdtype\u001b[0m\u001b[1;33m,\u001b[0m \u001b[0mtyp\u001b[0m\u001b[1;33m=\u001b[0m\u001b[0mtyp\u001b[0m\u001b[1;33m,\u001b[0m \u001b[0mconsolidate\u001b[0m\u001b[1;33m=\u001b[0m\u001b[0mcopy\u001b[0m\u001b[1;33m)\u001b[0m\u001b[1;33m\u001b[0m\u001b[1;33m\u001b[0m\u001b[0m\n\u001b[0m\u001b[0;32m    503\u001b[0m \u001b[1;33m\u001b[0m\u001b[0m\n\u001b[0;32m    504\u001b[0m \u001b[1;33m\u001b[0m\u001b[0m\n",
      "\u001b[1;32m~\\anaconda3\\lib\\site-packages\\pandas\\core\\internals\\construction.py\u001b[0m in \u001b[0;36marrays_to_mgr\u001b[1;34m(arrays, columns, index, dtype, verify_integrity, typ, consolidate)\u001b[0m\n\u001b[0;32m    118\u001b[0m         \u001b[1;31m# figure out the index, if necessary\u001b[0m\u001b[1;33m\u001b[0m\u001b[1;33m\u001b[0m\u001b[0m\n\u001b[0;32m    119\u001b[0m         \u001b[1;32mif\u001b[0m \u001b[0mindex\u001b[0m \u001b[1;32mis\u001b[0m \u001b[1;32mNone\u001b[0m\u001b[1;33m:\u001b[0m\u001b[1;33m\u001b[0m\u001b[1;33m\u001b[0m\u001b[0m\n\u001b[1;32m--> 120\u001b[1;33m             \u001b[0mindex\u001b[0m \u001b[1;33m=\u001b[0m \u001b[0m_extract_index\u001b[0m\u001b[1;33m(\u001b[0m\u001b[0marrays\u001b[0m\u001b[1;33m)\u001b[0m\u001b[1;33m\u001b[0m\u001b[1;33m\u001b[0m\u001b[0m\n\u001b[0m\u001b[0;32m    121\u001b[0m         \u001b[1;32melse\u001b[0m\u001b[1;33m:\u001b[0m\u001b[1;33m\u001b[0m\u001b[1;33m\u001b[0m\u001b[0m\n\u001b[0;32m    122\u001b[0m             \u001b[0mindex\u001b[0m \u001b[1;33m=\u001b[0m \u001b[0mensure_index\u001b[0m\u001b[1;33m(\u001b[0m\u001b[0mindex\u001b[0m\u001b[1;33m)\u001b[0m\u001b[1;33m\u001b[0m\u001b[1;33m\u001b[0m\u001b[0m\n",
      "\u001b[1;32m~\\anaconda3\\lib\\site-packages\\pandas\\core\\internals\\construction.py\u001b[0m in \u001b[0;36m_extract_index\u001b[1;34m(data)\u001b[0m\n\u001b[0;32m    672\u001b[0m             \u001b[0mlengths\u001b[0m \u001b[1;33m=\u001b[0m \u001b[0mlist\u001b[0m\u001b[1;33m(\u001b[0m\u001b[0mset\u001b[0m\u001b[1;33m(\u001b[0m\u001b[0mraw_lengths\u001b[0m\u001b[1;33m)\u001b[0m\u001b[1;33m)\u001b[0m\u001b[1;33m\u001b[0m\u001b[1;33m\u001b[0m\u001b[0m\n\u001b[0;32m    673\u001b[0m             \u001b[1;32mif\u001b[0m \u001b[0mlen\u001b[0m\u001b[1;33m(\u001b[0m\u001b[0mlengths\u001b[0m\u001b[1;33m)\u001b[0m \u001b[1;33m>\u001b[0m \u001b[1;36m1\u001b[0m\u001b[1;33m:\u001b[0m\u001b[1;33m\u001b[0m\u001b[1;33m\u001b[0m\u001b[0m\n\u001b[1;32m--> 674\u001b[1;33m                 \u001b[1;32mraise\u001b[0m \u001b[0mValueError\u001b[0m\u001b[1;33m(\u001b[0m\u001b[1;34m\"All arrays must be of the same length\"\u001b[0m\u001b[1;33m)\u001b[0m\u001b[1;33m\u001b[0m\u001b[1;33m\u001b[0m\u001b[0m\n\u001b[0m\u001b[0;32m    675\u001b[0m \u001b[1;33m\u001b[0m\u001b[0m\n\u001b[0;32m    676\u001b[0m             \u001b[1;32mif\u001b[0m \u001b[0mhave_dicts\u001b[0m\u001b[1;33m:\u001b[0m\u001b[1;33m\u001b[0m\u001b[1;33m\u001b[0m\u001b[0m\n",
      "\u001b[1;31mValueError\u001b[0m: All arrays must be of the same length"
     ]
    }
   ],
   "source": [
    "metaData=['--------' for i in range(max)]\n",
    "dick = {\"name\":user_name[:max],\n",
    "        \"age\":age[:max],\n",
    "        'city':city[:max],\n",
    "        'country':country[:max],\n",
    "        \"gender\":gender[:max],\n",
    "        'acount age':acc_age,\n",
    "        'total tweets': tweet_count_user[:max],\n",
    "        \"followers\":followers[:max],\n",
    "        \"following\":following[:max],\n",
    "        'respectability':respectability[:max],\n",
    "        'verified' : verified[:max],\n",
    "        'tweet':tweet[:max],\n",
    "        'likes':likes[:max],\n",
    "        'retweets':retweet_count[:max],\n",
    "        'word count': word_count[:max],\n",
    "        'is quote':is_quote_status[:max],\n",
    "        'hashtags':hashtags[:max],\n",
    "        'hashtag count':hashtags_count[:max],\n",
    "        'trending': trending_for_area[:max],\n",
    "        'using trends?':is_using_trend,\n",
    "        'metaData':metaData[:max],\n",
    "        'join_date':joined[:max],\n",
    "        'date':date[:max],\n",
    "        'tweet id':tweet_id[:max]\n",
    "       }\n",
    "\n",
    "df = pd.DataFrame(dick)"
   ]
  },
  {
   "cell_type": "code",
   "execution_count": null,
   "id": "3f3e48e3",
   "metadata": {},
   "outputs": [],
   "source": [
    "df"
   ]
  },
  {
   "cell_type": "code",
   "execution_count": null,
   "id": "e75881c9",
   "metadata": {},
   "outputs": [],
   "source": [
    "DRIVER.quit()"
   ]
  },
  {
   "cell_type": "code",
   "execution_count": null,
   "id": "dfb64968",
   "metadata": {},
   "outputs": [],
   "source": [
    "df.to_csv('data3.csv')"
   ]
  },
  {
   "cell_type": "code",
   "execution_count": null,
   "id": "6683bf82",
   "metadata": {},
   "outputs": [],
   "source": [
    "df['using trends?'].value_counts()"
   ]
  },
  {
   "cell_type": "code",
   "execution_count": null,
   "id": "54266afb",
   "metadata": {},
   "outputs": [],
   "source": []
  }
 ],
 "metadata": {
  "kernelspec": {
   "display_name": "Python 3 (ipykernel)",
   "language": "python",
   "name": "python3"
  },
  "language_info": {
   "codemirror_mode": {
    "name": "ipython",
    "version": 3
   },
   "file_extension": ".py",
   "mimetype": "text/x-python",
   "name": "python",
   "nbconvert_exporter": "python",
   "pygments_lexer": "ipython3",
   "version": "3.9.13"
  }
 },
 "nbformat": 4,
 "nbformat_minor": 5
}
