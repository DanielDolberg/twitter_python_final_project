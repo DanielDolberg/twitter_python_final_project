{
 "cells": [
  {
   "cell_type": "code",
   "execution_count": 1,
   "id": "7c42974a",
   "metadata": {},
   "outputs": [],
   "source": [
    "#!pip install tweepy\n",
    "import tweepy\n",
    "import numpy\n",
    "import pandas as pd\n",
    "import requests\n",
    "from bs4 import BeautifulSoup\n",
    "import importlib\n",
    "import json\n",
    "from good_shit import *\n",
    "\n",
    "API_Key ='irXxqVrXin1KsDRM9g6HdF8p8'\n",
    "API_Key_Secret = 'sLQvb8voyrTDz5S93vlt5jE5RlMi8xBuOQtSq2pgERe2QVawIC'\n",
    "\n",
    "Bearer_Token = 'AAAAAAAAAAAAAAAAAAAAACsVlAEAAAAADib49u9Asa6Hbts8UwBEdtc0dsk%3D1d8lVaySeRg1CpJQ6HDLSwK6Mj9wJiptj49PAdwMuvW95zJoar'\n",
    "\n",
    "Access_Token = '1122492746210660352-COptyz3RtF1AVokHw3027iOdbsZZl1'\n",
    "Access_Token_Secret = 'slfBz8pcgCrUmewZgSgVKsmIFhfCcFuinAx16q5eh1Vvr'"
   ]
  },
  {
   "cell_type": "code",
   "execution_count": 2,
   "id": "3627396b",
   "metadata": {},
   "outputs": [],
   "source": [
    "# authorization of consumer key and consumer secret\n",
    "auth = tweepy.OAuthHandler(API_Key, API_Key_Secret)\n",
    "# set access to user's access key and access secret\n",
    "auth.set_access_token(Access_Token, Access_Token_Secret)\n",
    "# calling the api\n",
    "api = tweepy.API(auth)\n",
    "\n",
    "Client = tweepy.Client(bearer_token=Bearer_Token) "
   ]
  },
  {
   "cell_type": "code",
   "execution_count": 52,
   "id": "c69e84e8",
   "metadata": {},
   "outputs": [],
   "source": [
    "def getAge2(name):\n",
    "    r = requests.get('https://twitter.com/' + name)\n",
    "    soup = BeautifulSoup(r.content , 'html.parser')\n",
    "    html = soup.findAll('div', attrs = {'class': 'css-1dbjc4n r-1adg3ll r-6gpygo'})\n",
    "    html = soup.findAll('div', attrs = {\"class\": \"css-901oao css-16my406 r-14j79pv r-4qtqp9 r-poiln3 r-1b7u577 r-bcqeeo r-qvutc0\"})\n",
    "    \n",
    "    for x in html:\n",
    "        for z in y:\n",
    "                if type(z) != 'NoneType':\n",
    "                    return z.string\n",
    "    \n",
    "    return numpy.nan"
   ]
  },
  {
   "cell_type": "code",
   "execution_count": null,
   "id": "b149cec9",
   "metadata": {},
   "outputs": [],
   "source": [
    "#search_tweets(q, *, geocode, lang, locale, result_type, count, until, since_id, max_id, include_entities)\n",
    "\n",
    "tweet = [];\n",
    "name = [];\n",
    "locations = [];\n",
    "age = [];\n",
    "following = [];\n",
    "follows = [];\n",
    "gender = [];\n",
    "users = [];\n",
    "\n",
    "tweets_list = tweepy.Cursor(api.search_tweets, \"covid -is:retweets\", count=10).items(11)\n",
    "\n",
    "for x in tweets_list:\n",
    "    tweet.append(x.text);\n",
    "    users.append(x.user);\n",
    "\n",
    "users = [api.get_user(screen_name = \"DanielDolberg\")]\n",
    "\n",
    "for x in users:\n",
    "    j = x._json\n",
    "    name.append(j['screen_name']);\n",
    "    locations.append(j['location']);\n",
    "    \n",
    "    age.append(getAge2(j['screen_name']));#gets the age\n",
    "    \n",
    "    following.append(j['following']);\n",
    "    follows.append(j['friends_count']);\n",
    "    #gender.append(j['location']);\n",
    "\n",
    "print('done')"
   ]
  },
  {
   "cell_type": "code",
   "execution_count": 56,
   "id": "6742ccf3",
   "metadata": {},
   "outputs": [
    {
     "name": "stdout",
     "output_type": "stream",
     "text": [
      "DanielDolberg\n"
     ]
    },
    {
     "data": {
      "text/plain": [
       "nan"
      ]
     },
     "execution_count": 56,
     "metadata": {},
     "output_type": "execute_result"
    }
   ],
   "source": [
    "print(name[0])\n",
    "age[0]"
   ]
  },
  {
   "cell_type": "code",
   "execution_count": null,
   "id": "befd4034",
   "metadata": {},
   "outputs": [],
   "source": [
    "dick = {\"name\":name,\"age\":age,\"following\":following,\"follows\":follows,\"gender\":gender};\n",
    "\n",
    "df = pd.DataFrame(dick);"
   ]
  },
  {
   "cell_type": "code",
   "execution_count": null,
   "id": "503b57dd",
   "metadata": {},
   "outputs": [],
   "source": []
  },
  {
   "cell_type": "code",
   "execution_count": null,
   "id": "041029fe",
   "metadata": {},
   "outputs": [],
   "source": []
  }
 ],
 "metadata": {
  "kernelspec": {
   "display_name": "Python 3 (ipykernel)",
   "language": "python",
   "name": "python3"
  },
  "language_info": {
   "codemirror_mode": {
    "name": "ipython",
    "version": 3
   },
   "file_extension": ".py",
   "mimetype": "text/x-python",
   "name": "python",
   "nbconvert_exporter": "python",
   "pygments_lexer": "ipython3",
   "version": "3.9.13"
  }
 },
 "nbformat": 4,
 "nbformat_minor": 5
}
